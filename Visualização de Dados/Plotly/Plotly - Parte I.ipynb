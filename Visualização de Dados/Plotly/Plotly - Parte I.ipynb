{
 "cells": [
  {
   "cell_type": "markdown",
   "metadata": {},
   "source": [
    "## Plotly"
   ]
  },
  {
   "cell_type": "code",
   "execution_count": 1,
   "metadata": {},
   "outputs": [
    {
     "name": "stdout",
     "output_type": "stream",
     "text": [
      "Collecting cufflinks\n",
      "  Downloading cufflinks-0.17.3.tar.gz (81 kB)\n",
      "Requirement already satisfied: numpy>=1.9.2 in c:\\users\\ludim\\anaconda3\\lib\\site-packages (from cufflinks) (1.18.1)\n",
      "Requirement already satisfied: pandas>=0.19.2 in c:\\users\\ludim\\anaconda3\\lib\\site-packages (from cufflinks) (1.2.1)\n",
      "Collecting plotly>=4.1.1\n",
      "  Downloading plotly-4.14.3-py2.py3-none-any.whl (13.2 MB)\n",
      "Requirement already satisfied: six>=1.9.0 in c:\\users\\ludim\\anaconda3\\lib\\site-packages (from cufflinks) (1.14.0)\n",
      "Collecting colorlover>=0.2.1\n",
      "  Downloading colorlover-0.3.0-py3-none-any.whl (8.9 kB)\n",
      "Requirement already satisfied: setuptools>=34.4.1 in c:\\users\\ludim\\anaconda3\\lib\\site-packages (from cufflinks) (45.2.0.post20200210)\n",
      "Requirement already satisfied: ipython>=5.3.0 in c:\\users\\ludim\\anaconda3\\lib\\site-packages (from cufflinks) (7.12.0)\n",
      "Requirement already satisfied: ipywidgets>=7.0.0 in c:\\users\\ludim\\anaconda3\\lib\\site-packages (from cufflinks) (7.5.1)\n",
      "Requirement already satisfied: pytz>=2017.3 in c:\\users\\ludim\\anaconda3\\lib\\site-packages (from pandas>=0.19.2->cufflinks) (2019.3)\n",
      "Requirement already satisfied: python-dateutil>=2.7.3 in c:\\users\\ludim\\anaconda3\\lib\\site-packages (from pandas>=0.19.2->cufflinks) (2.8.1)\n",
      "Collecting retrying>=1.3.3\n",
      "  Downloading retrying-1.3.3.tar.gz (10 kB)\n",
      "Requirement already satisfied: pickleshare in c:\\users\\ludim\\anaconda3\\lib\\site-packages (from ipython>=5.3.0->cufflinks) (0.7.5)\n",
      "Requirement already satisfied: traitlets>=4.2 in c:\\users\\ludim\\anaconda3\\lib\\site-packages (from ipython>=5.3.0->cufflinks) (4.3.3)\n",
      "Requirement already satisfied: backcall in c:\\users\\ludim\\anaconda3\\lib\\site-packages (from ipython>=5.3.0->cufflinks) (0.1.0)\n",
      "Requirement already satisfied: prompt-toolkit!=3.0.0,!=3.0.1,<3.1.0,>=2.0.0 in c:\\users\\ludim\\anaconda3\\lib\\site-packages (from ipython>=5.3.0->cufflinks) (3.0.3)\n",
      "Requirement already satisfied: jedi>=0.10 in c:\\users\\ludim\\anaconda3\\lib\\site-packages (from ipython>=5.3.0->cufflinks) (0.14.1)\n",
      "Requirement already satisfied: pygments in c:\\users\\ludim\\anaconda3\\lib\\site-packages (from ipython>=5.3.0->cufflinks) (2.5.2)\n",
      "Requirement already satisfied: decorator in c:\\users\\ludim\\anaconda3\\lib\\site-packages (from ipython>=5.3.0->cufflinks) (4.4.1)\n",
      "Requirement already satisfied: colorama; sys_platform == \"win32\" in c:\\users\\ludim\\anaconda3\\lib\\site-packages (from ipython>=5.3.0->cufflinks) (0.4.3)\n",
      "Requirement already satisfied: nbformat>=4.2.0 in c:\\users\\ludim\\anaconda3\\lib\\site-packages (from ipywidgets>=7.0.0->cufflinks) (5.0.4)\n",
      "Requirement already satisfied: ipykernel>=4.5.1 in c:\\users\\ludim\\anaconda3\\lib\\site-packages (from ipywidgets>=7.0.0->cufflinks) (5.1.4)\n",
      "Requirement already satisfied: widgetsnbextension~=3.5.0 in c:\\users\\ludim\\anaconda3\\lib\\site-packages (from ipywidgets>=7.0.0->cufflinks) (3.5.1)\n",
      "Requirement already satisfied: ipython-genutils in c:\\users\\ludim\\anaconda3\\lib\\site-packages (from traitlets>=4.2->ipython>=5.3.0->cufflinks) (0.2.0)\n",
      "Requirement already satisfied: wcwidth in c:\\users\\ludim\\anaconda3\\lib\\site-packages (from prompt-toolkit!=3.0.0,!=3.0.1,<3.1.0,>=2.0.0->ipython>=5.3.0->cufflinks) (0.1.8)\n",
      "Requirement already satisfied: parso>=0.5.0 in c:\\users\\ludim\\anaconda3\\lib\\site-packages (from jedi>=0.10->ipython>=5.3.0->cufflinks) (0.5.2)\n",
      "Requirement already satisfied: jupyter-core in c:\\users\\ludim\\anaconda3\\lib\\site-packages (from nbformat>=4.2.0->ipywidgets>=7.0.0->cufflinks) (4.6.1)\n",
      "Requirement already satisfied: jsonschema!=2.5.0,>=2.4 in c:\\users\\ludim\\anaconda3\\lib\\site-packages (from nbformat>=4.2.0->ipywidgets>=7.0.0->cufflinks) (3.2.0)\n",
      "Requirement already satisfied: tornado>=4.2 in c:\\users\\ludim\\anaconda3\\lib\\site-packages (from ipykernel>=4.5.1->ipywidgets>=7.0.0->cufflinks) (6.0.3)\n",
      "Requirement already satisfied: jupyter-client in c:\\users\\ludim\\anaconda3\\lib\\site-packages (from ipykernel>=4.5.1->ipywidgets>=7.0.0->cufflinks) (5.3.4)\n",
      "Requirement already satisfied: notebook>=4.4.1 in c:\\users\\ludim\\anaconda3\\lib\\site-packages (from widgetsnbextension~=3.5.0->ipywidgets>=7.0.0->cufflinks) (6.0.3)\n",
      "Requirement already satisfied: pywin32>=1.0; sys_platform == \"win32\" in c:\\users\\ludim\\anaconda3\\lib\\site-packages (from jupyter-core->nbformat>=4.2.0->ipywidgets>=7.0.0->cufflinks) (227)\n",
      "Requirement already satisfied: attrs>=17.4.0 in c:\\users\\ludim\\anaconda3\\lib\\site-packages (from jsonschema!=2.5.0,>=2.4->nbformat>=4.2.0->ipywidgets>=7.0.0->cufflinks) (19.3.0)\n",
      "Requirement already satisfied: pyrsistent>=0.14.0 in c:\\users\\ludim\\anaconda3\\lib\\site-packages (from jsonschema!=2.5.0,>=2.4->nbformat>=4.2.0->ipywidgets>=7.0.0->cufflinks) (0.15.7)\n",
      "Requirement already satisfied: importlib-metadata; python_version < \"3.8\" in c:\\users\\ludim\\anaconda3\\lib\\site-packages (from jsonschema!=2.5.0,>=2.4->nbformat>=4.2.0->ipywidgets>=7.0.0->cufflinks) (1.5.0)\n",
      "Requirement already satisfied: pyzmq>=13 in c:\\users\\ludim\\anaconda3\\lib\\site-packages (from jupyter-client->ipykernel>=4.5.1->ipywidgets>=7.0.0->cufflinks) (18.1.1)\n",
      "Requirement already satisfied: jinja2 in c:\\users\\ludim\\anaconda3\\lib\\site-packages (from notebook>=4.4.1->widgetsnbextension~=3.5.0->ipywidgets>=7.0.0->cufflinks) (2.11.1)\n",
      "Requirement already satisfied: Send2Trash in c:\\users\\ludim\\anaconda3\\lib\\site-packages (from notebook>=4.4.1->widgetsnbextension~=3.5.0->ipywidgets>=7.0.0->cufflinks) (1.5.0)\n",
      "Requirement already satisfied: nbconvert in c:\\users\\ludim\\anaconda3\\lib\\site-packages (from notebook>=4.4.1->widgetsnbextension~=3.5.0->ipywidgets>=7.0.0->cufflinks) (5.6.1)\n",
      "Requirement already satisfied: terminado>=0.8.1 in c:\\users\\ludim\\anaconda3\\lib\\site-packages (from notebook>=4.4.1->widgetsnbextension~=3.5.0->ipywidgets>=7.0.0->cufflinks) (0.8.3)\n",
      "Requirement already satisfied: prometheus-client in c:\\users\\ludim\\anaconda3\\lib\\site-packages (from notebook>=4.4.1->widgetsnbextension~=3.5.0->ipywidgets>=7.0.0->cufflinks) (0.7.1)\n",
      "Requirement already satisfied: zipp>=0.5 in c:\\users\\ludim\\anaconda3\\lib\\site-packages (from importlib-metadata; python_version < \"3.8\"->jsonschema!=2.5.0,>=2.4->nbformat>=4.2.0->ipywidgets>=7.0.0->cufflinks) (2.2.0)\n",
      "Requirement already satisfied: MarkupSafe>=0.23 in c:\\users\\ludim\\anaconda3\\lib\\site-packages (from jinja2->notebook>=4.4.1->widgetsnbextension~=3.5.0->ipywidgets>=7.0.0->cufflinks) (1.1.1)\n",
      "Requirement already satisfied: pandocfilters>=1.4.1 in c:\\users\\ludim\\anaconda3\\lib\\site-packages (from nbconvert->notebook>=4.4.1->widgetsnbextension~=3.5.0->ipywidgets>=7.0.0->cufflinks) (1.4.2)\n",
      "Requirement already satisfied: bleach in c:\\users\\ludim\\anaconda3\\lib\\site-packages (from nbconvert->notebook>=4.4.1->widgetsnbextension~=3.5.0->ipywidgets>=7.0.0->cufflinks) (3.1.0)\n",
      "Requirement already satisfied: testpath in c:\\users\\ludim\\anaconda3\\lib\\site-packages (from nbconvert->notebook>=4.4.1->widgetsnbextension~=3.5.0->ipywidgets>=7.0.0->cufflinks) (0.4.4)\n",
      "Requirement already satisfied: defusedxml in c:\\users\\ludim\\anaconda3\\lib\\site-packages (from nbconvert->notebook>=4.4.1->widgetsnbextension~=3.5.0->ipywidgets>=7.0.0->cufflinks) (0.6.0)\n",
      "Requirement already satisfied: entrypoints>=0.2.2 in c:\\users\\ludim\\anaconda3\\lib\\site-packages (from nbconvert->notebook>=4.4.1->widgetsnbextension~=3.5.0->ipywidgets>=7.0.0->cufflinks) (0.3)\n",
      "Requirement already satisfied: mistune<2,>=0.8.1 in c:\\users\\ludim\\anaconda3\\lib\\site-packages (from nbconvert->notebook>=4.4.1->widgetsnbextension~=3.5.0->ipywidgets>=7.0.0->cufflinks) (0.8.4)\n",
      "Requirement already satisfied: webencodings in c:\\users\\ludim\\anaconda3\\lib\\site-packages (from bleach->nbconvert->notebook>=4.4.1->widgetsnbextension~=3.5.0->ipywidgets>=7.0.0->cufflinks) (0.5.1)\n",
      "Building wheels for collected packages: cufflinks, retrying\n",
      "  Building wheel for cufflinks (setup.py): started\n",
      "  Building wheel for cufflinks (setup.py): finished with status 'done'\n",
      "  Created wheel for cufflinks: filename=cufflinks-0.17.3-py3-none-any.whl size=68729 sha256=23de76f68695f560bb0c0ed86c8da0bc62993a1b6403eb9bd2348f7f69e4d068\n",
      "  Stored in directory: c:\\users\\ludim\\appdata\\local\\pip\\cache\\wheels\\e1\\27\\13\\3fe67fa7ea7be444b831d117220b3b586b872c9acd4df480d0\n",
      "  Building wheel for retrying (setup.py): started\n",
      "  Building wheel for retrying (setup.py): finished with status 'done'\n",
      "  Created wheel for retrying: filename=retrying-1.3.3-py3-none-any.whl size=11435 sha256=6532f6846285a9a7464f21bc5c8ebc012b46d74e2abb7302ca3320a197da42d7\n",
      "  Stored in directory: c:\\users\\ludim\\appdata\\local\\pip\\cache\\wheels\\f9\\8d\\8d\\f6af3f7f9eea3553bc2fe6d53e4b287dad18b06a861ac56ddf\n",
      "Successfully built cufflinks retrying\n",
      "Installing collected packages: retrying, plotly, colorlover, cufflinks\n",
      "Successfully installed colorlover-0.3.0 cufflinks-0.17.3 plotly-4.14.3 retrying-1.3.3\n",
      "Requirement already satisfied: plotly in c:\\users\\ludim\\anaconda3\\lib\\site-packages (4.14.3)\n",
      "Requirement already satisfied: six in c:\\users\\ludim\\anaconda3\\lib\\site-packages (from plotly) (1.14.0)\n",
      "Requirement already satisfied: retrying>=1.3.3 in c:\\users\\ludim\\anaconda3\\lib\\site-packages (from plotly) (1.3.3)\n"
     ]
    }
   ],
   "source": [
    "## Cufflinks conecta o Pandas ao Plotly.\n",
    "## Instalação do Plotly e Cufflinks:\n",
    "!pip install cufflinks\n",
    "!pip install plotly"
   ]
  },
  {
   "cell_type": "code",
   "execution_count": 2,
   "metadata": {},
   "outputs": [],
   "source": [
    "## Importando o cufflinks e o plotly.\n",
    "import cufflinks as cf\n",
    "from plotly.offline import plot, iplot\n",
    "import pandas as pd\n",
    "import numpy as np"
   ]
  },
  {
   "cell_type": "code",
   "execution_count": 4,
   "metadata": {},
   "outputs": [
    {
     "data": {
      "text/html": [
       "<div>\n",
       "<style scoped>\n",
       "    .dataframe tbody tr th:only-of-type {\n",
       "        vertical-align: middle;\n",
       "    }\n",
       "\n",
       "    .dataframe tbody tr th {\n",
       "        vertical-align: top;\n",
       "    }\n",
       "\n",
       "    .dataframe thead th {\n",
       "        text-align: right;\n",
       "    }\n",
       "</style>\n",
       "<table border=\"1\" class=\"dataframe\">\n",
       "  <thead>\n",
       "    <tr style=\"text-align: right;\">\n",
       "      <th></th>\n",
       "      <th>A</th>\n",
       "      <th>B</th>\n",
       "      <th>C</th>\n",
       "      <th>D</th>\n",
       "    </tr>\n",
       "  </thead>\n",
       "  <tbody>\n",
       "    <tr>\n",
       "      <th>0</th>\n",
       "      <td>-1.461024</td>\n",
       "      <td>0.390790</td>\n",
       "      <td>-1.588518</td>\n",
       "      <td>-0.203086</td>\n",
       "    </tr>\n",
       "    <tr>\n",
       "      <th>1</th>\n",
       "      <td>0.095252</td>\n",
       "      <td>0.694360</td>\n",
       "      <td>-0.255105</td>\n",
       "      <td>0.197625</td>\n",
       "    </tr>\n",
       "    <tr>\n",
       "      <th>2</th>\n",
       "      <td>-0.029204</td>\n",
       "      <td>-0.579598</td>\n",
       "      <td>0.078433</td>\n",
       "      <td>0.670432</td>\n",
       "    </tr>\n",
       "    <tr>\n",
       "      <th>3</th>\n",
       "      <td>-0.014016</td>\n",
       "      <td>0.813526</td>\n",
       "      <td>0.386456</td>\n",
       "      <td>-0.598624</td>\n",
       "    </tr>\n",
       "    <tr>\n",
       "      <th>4</th>\n",
       "      <td>1.306122</td>\n",
       "      <td>0.783993</td>\n",
       "      <td>-1.097441</td>\n",
       "      <td>-0.257591</td>\n",
       "    </tr>\n",
       "  </tbody>\n",
       "</table>\n",
       "</div>"
      ],
      "text/plain": [
       "          A         B         C         D\n",
       "0 -1.461024  0.390790 -1.588518 -0.203086\n",
       "1  0.095252  0.694360 -0.255105  0.197625\n",
       "2 -0.029204 -0.579598  0.078433  0.670432\n",
       "3 -0.014016  0.813526  0.386456 -0.598624\n",
       "4  1.306122  0.783993 -1.097441 -0.257591"
      ]
     },
     "execution_count": 4,
     "metadata": {},
     "output_type": "execute_result"
    }
   ],
   "source": [
    "## Criando dataframe com dados aleatórios divididos em quatro colunas.\n",
    "df = pd.DataFrame(np.random.randn(100, 4), columns = ['A', 'B', 'C', 'D'])\n",
    "df.head()"
   ]
  },
  {
   "cell_type": "code",
   "execution_count": 5,
   "metadata": {},
   "outputs": [
    {
     "ename": "Exception",
     "evalue": "chart_studio is required outside of offline mode: please run pip install chart_studio",
     "output_type": "error",
     "traceback": [
      "\u001b[1;31m---------------------------------------------------------------------------\u001b[0m",
      "\u001b[1;31mModuleNotFoundError\u001b[0m                       Traceback (most recent call last)",
      "\u001b[1;32m~\\anaconda3\\lib\\site-packages\\cufflinks\\plotlytools.py\u001b[0m in \u001b[0;36miplot\u001b[1;34m(figure, validate, sharing, filename, online, asImage, asUrl, asPlot, dimensions, display_image, **kwargs)\u001b[0m\n\u001b[0;32m   1430\u001b[0m                 \u001b[1;32mtry\u001b[0m\u001b[1;33m:\u001b[0m\u001b[1;33m\u001b[0m\u001b[1;33m\u001b[0m\u001b[0m\n\u001b[1;32m-> 1431\u001b[1;33m                         \u001b[1;32mimport\u001b[0m \u001b[0mchart_studio\u001b[0m\u001b[1;33m.\u001b[0m\u001b[0mplotly\u001b[0m \u001b[1;32mas\u001b[0m \u001b[0mpy\u001b[0m\u001b[1;33m\u001b[0m\u001b[1;33m\u001b[0m\u001b[0m\n\u001b[0m\u001b[0;32m   1432\u001b[0m                 \u001b[1;32mexcept\u001b[0m\u001b[1;33m:\u001b[0m\u001b[1;33m\u001b[0m\u001b[1;33m\u001b[0m\u001b[0m\n",
      "\u001b[1;31mModuleNotFoundError\u001b[0m: No module named 'chart_studio'",
      "\nDuring handling of the above exception, another exception occurred:\n",
      "\u001b[1;31mException\u001b[0m                                 Traceback (most recent call last)",
      "\u001b[1;32m<ipython-input-5-69813823c9f3>\u001b[0m in \u001b[0;36m<module>\u001b[1;34m\u001b[0m\n\u001b[1;32m----> 1\u001b[1;33m \u001b[0mdf\u001b[0m\u001b[1;33m.\u001b[0m\u001b[0miplot\u001b[0m\u001b[1;33m(\u001b[0m\u001b[1;33m)\u001b[0m\u001b[1;33m\u001b[0m\u001b[1;33m\u001b[0m\u001b[0m\n\u001b[0m",
      "\u001b[1;32m~\\anaconda3\\lib\\site-packages\\cufflinks\\plotlytools.py\u001b[0m in \u001b[0;36m_iplot\u001b[1;34m(self, kind, data, layout, filename, sharing, title, xTitle, yTitle, zTitle, theme, colors, colorscale, fill, width, dash, mode, interpolation, symbol, size, barmode, sortbars, bargap, bargroupgap, bins, histnorm, histfunc, orientation, boxpoints, annotations, keys, bestfit, bestfit_colors, mean, mean_colors, categories, x, y, z, text, gridcolor, zerolinecolor, margin, labels, values, secondary_y, secondary_y_title, subplots, shape, error_x, error_y, error_type, locations, lon, lat, asFrame, asDates, asFigure, asImage, dimensions, asPlot, asUrl, online, **kwargs)\u001b[0m\n\u001b[0;32m   1216\u001b[0m \t\treturn iplot(figure,validate=validate,sharing=sharing,filename=filename,\n\u001b[0;32m   1217\u001b[0m                          \u001b[0monline\u001b[0m\u001b[1;33m=\u001b[0m\u001b[0monline\u001b[0m\u001b[1;33m,\u001b[0m\u001b[0masImage\u001b[0m\u001b[1;33m=\u001b[0m\u001b[0masImage\u001b[0m\u001b[1;33m,\u001b[0m\u001b[0masUrl\u001b[0m\u001b[1;33m=\u001b[0m\u001b[0masUrl\u001b[0m\u001b[1;33m,\u001b[0m\u001b[0masPlot\u001b[0m\u001b[1;33m=\u001b[0m\u001b[0masPlot\u001b[0m\u001b[1;33m,\u001b[0m\u001b[1;33m\u001b[0m\u001b[1;33m\u001b[0m\u001b[0m\n\u001b[1;32m-> 1218\u001b[1;33m \t\t\t dimensions=dimensions,display_image=kwargs.get('display_image',True))\n\u001b[0m\u001b[0;32m   1219\u001b[0m \u001b[1;33m\u001b[0m\u001b[0m\n\u001b[0;32m   1220\u001b[0m \u001b[1;33m\u001b[0m\u001b[0m\n",
      "\u001b[1;32m~\\anaconda3\\lib\\site-packages\\cufflinks\\plotlytools.py\u001b[0m in \u001b[0;36miplot\u001b[1;34m(figure, validate, sharing, filename, online, asImage, asUrl, asPlot, dimensions, display_image, **kwargs)\u001b[0m\n\u001b[0;32m   1431\u001b[0m                         \u001b[1;32mimport\u001b[0m \u001b[0mchart_studio\u001b[0m\u001b[1;33m.\u001b[0m\u001b[0mplotly\u001b[0m \u001b[1;32mas\u001b[0m \u001b[0mpy\u001b[0m\u001b[1;33m\u001b[0m\u001b[1;33m\u001b[0m\u001b[0m\n\u001b[0;32m   1432\u001b[0m                 \u001b[1;32mexcept\u001b[0m\u001b[1;33m:\u001b[0m\u001b[1;33m\u001b[0m\u001b[1;33m\u001b[0m\u001b[0m\n\u001b[1;32m-> 1433\u001b[1;33m \t\t\traise Exception(\"chart_studio is required outside of offline mode: \" \\\n\u001b[0m\u001b[0;32m   1434\u001b[0m                                         \u001b[1;34m\"please run \"\u001b[0m\u001b[0;31m \u001b[0m\u001b[0;31m\\\u001b[0m\u001b[1;33m\u001b[0m\u001b[1;33m\u001b[0m\u001b[0m\n\u001b[0;32m   1435\u001b[0m \t\t\t\t\t\"pip install chart_studio\" )\n",
      "\u001b[1;31mException\u001b[0m: chart_studio is required outside of offline mode: please run pip install chart_studio"
     ]
    }
   ],
   "source": [
    "## Necessita de uma conta no Plotly.\n",
    "df.iplot()"
   ]
  },
  {
   "cell_type": "code",
   "execution_count": 6,
   "metadata": {},
   "outputs": [
    {
     "data": {
      "text/html": [
       "        <script type=\"text/javascript\">\n",
       "        window.PlotlyConfig = {MathJaxConfig: 'local'};\n",
       "        if (window.MathJax) {MathJax.Hub.Config({SVG: {font: \"STIX-Web\"}});}\n",
       "        if (typeof require !== 'undefined') {\n",
       "        require.undef(\"plotly\");\n",
       "        requirejs.config({\n",
       "            paths: {\n",
       "                'plotly': ['https://cdn.plot.ly/plotly-latest.min']\n",
       "            }\n",
       "        });\n",
       "        require(['plotly'], function(Plotly) {\n",
       "            window._Plotly = Plotly;\n",
       "        });\n",
       "        }\n",
       "        </script>\n",
       "        "
      ]
     },
     "metadata": {},
     "output_type": "display_data"
    }
   ],
   "source": [
    "## Modo offline:\n",
    "cf.go_offline()"
   ]
  },
  {
   "cell_type": "code",
   "execution_count": 7,
   "metadata": {},
   "outputs": [
    {
     "data": {
      "application/vnd.plotly.v1+json": {
       "config": {
        "linkText": "Export to plot.ly",
        "plotlyServerURL": "https://plot.ly",
        "showLink": true
       },
       "data": [
        {
         "line": {
          "color": "rgba(255, 153, 51, 1.0)",
          "dash": "solid",
          "shape": "linear",
          "width": 1.3
         },
         "mode": "lines",
         "name": "A",
         "text": "",
         "type": "scatter",
         "x": [
          0,
          1,
          2,
          3,
          4,
          5,
          6,
          7,
          8,
          9,
          10,
          11,
          12,
          13,
          14,
          15,
          16,
          17,
          18,
          19,
          20,
          21,
          22,
          23,
          24,
          25,
          26,
          27,
          28,
          29,
          30,
          31,
          32,
          33,
          34,
          35,
          36,
          37,
          38,
          39,
          40,
          41,
          42,
          43,
          44,
          45,
          46,
          47,
          48,
          49,
          50,
          51,
          52,
          53,
          54,
          55,
          56,
          57,
          58,
          59,
          60,
          61,
          62,
          63,
          64,
          65,
          66,
          67,
          68,
          69,
          70,
          71,
          72,
          73,
          74,
          75,
          76,
          77,
          78,
          79,
          80,
          81,
          82,
          83,
          84,
          85,
          86,
          87,
          88,
          89,
          90,
          91,
          92,
          93,
          94,
          95,
          96,
          97,
          98,
          99
         ],
         "y": [
          -1.4610241031401339,
          0.09525150167714372,
          -0.029203584395679657,
          -0.014015621374794238,
          1.3061216714143065,
          -0.31702307455461454,
          -1.1289839361958052,
          -0.13699963759455056,
          -0.6639938504440216,
          0.9470923910686199,
          1.553358059937682,
          0.05045164189835665,
          0.05751000634937235,
          2.1315144223408105,
          0.46274757495098084,
          -0.17673927911072126,
          -0.4606921426908111,
          -0.43086281676434296,
          -2.1264803113550594,
          0.001056488752819712,
          -0.3059598987663699,
          0.9662890754859629,
          0.2510262672230263,
          -0.9617278560791738,
          0.048995145654571845,
          -1.0209156821548113,
          -0.5691472839815525,
          0.4996248117695914,
          0.4464570983716666,
          -0.16336359024926198,
          1.262599325533162,
          -0.38117396654870617,
          0.6470503045744972,
          1.98286394042055,
          0.3984834505594768,
          0.7771765568436815,
          0.6232338000739429,
          1.167642598764409,
          -0.6183478391013726,
          1.2230733527522957,
          0.502339193606301,
          -1.1320171943548307,
          -0.7080909329004074,
          1.2718460327483254,
          -1.485782893035162,
          0.4319773772095389,
          0.362675989804671,
          1.4424577308111275,
          0.32319678124815143,
          -1.1700283154363498,
          1.8634674399731277,
          1.3157150735096061,
          -1.0097525209274345,
          -1.8188977326440103,
          0.32593373911336543,
          0.5229234346569209,
          -0.11081787742866657,
          -0.4975140914807007,
          -1.2059467191465185,
          -1.498419024882172,
          2.255904266090674,
          -0.2302591959967517,
          -0.6209322962615502,
          0.49579609306554884,
          -0.16989586521007646,
          0.46588198032360506,
          -0.909141855445599,
          -0.0009026500043386546,
          0.48123916040588277,
          1.118792923213792,
          -0.4420688885202043,
          0.9751416814442033,
          -0.03744211472540877,
          -1.778410999950504,
          -0.6892087536621391,
          -0.2385350486172311,
          0.019730054488734897,
          1.6716799790383337,
          1.3566170705713458,
          0.8873773894586302,
          -2.0888727474034563,
          -0.41046309299992867,
          -0.5549572208662424,
          -1.5861279398806762,
          -0.3540634750924586,
          0.6090614019865381,
          1.2372628555021594,
          -0.3429623623702404,
          -0.1606326504345451,
          1.622631579628323,
          1.0736460288414729,
          -0.7629319166489795,
          -0.5029453305115006,
          0.1671892839193268,
          -1.488441025936215,
          -0.27038751087145,
          0.855741339941454,
          -0.16881176419721813,
          -0.16170217362603542,
          0.9173449807873943
         ]
        },
        {
         "line": {
          "color": "rgba(55, 128, 191, 1.0)",
          "dash": "solid",
          "shape": "linear",
          "width": 1.3
         },
         "mode": "lines",
         "name": "B",
         "text": "",
         "type": "scatter",
         "x": [
          0,
          1,
          2,
          3,
          4,
          5,
          6,
          7,
          8,
          9,
          10,
          11,
          12,
          13,
          14,
          15,
          16,
          17,
          18,
          19,
          20,
          21,
          22,
          23,
          24,
          25,
          26,
          27,
          28,
          29,
          30,
          31,
          32,
          33,
          34,
          35,
          36,
          37,
          38,
          39,
          40,
          41,
          42,
          43,
          44,
          45,
          46,
          47,
          48,
          49,
          50,
          51,
          52,
          53,
          54,
          55,
          56,
          57,
          58,
          59,
          60,
          61,
          62,
          63,
          64,
          65,
          66,
          67,
          68,
          69,
          70,
          71,
          72,
          73,
          74,
          75,
          76,
          77,
          78,
          79,
          80,
          81,
          82,
          83,
          84,
          85,
          86,
          87,
          88,
          89,
          90,
          91,
          92,
          93,
          94,
          95,
          96,
          97,
          98,
          99
         ],
         "y": [
          0.3907902707269141,
          0.6943603904272828,
          -0.5795978735730865,
          0.813526262604139,
          0.7839931065000858,
          -0.46753196417464715,
          1.0359830523535647,
          -0.00108728024401313,
          -0.8081899074223791,
          -1.7047006560220002,
          -1.2500075128534878,
          0.22565379843725744,
          0.8538877104205691,
          -0.010769431923218427,
          -0.16471091416661995,
          1.1532806339771444,
          -0.3057147481342851,
          -0.4072257391625898,
          0.33177364843814655,
          -1.9259607592803352,
          0.6328208279632327,
          0.09822037368245887,
          0.22575815059781187,
          0.3342337338883107,
          0.20918911354792807,
          0.7884841767921292,
          -1.777038244279568,
          -0.8943194078336356,
          0.7836857923081855,
          0.6141031111803202,
          0.5733925432595015,
          -0.049455510335339334,
          0.9530936899389951,
          -1.4516704869032073,
          0.5115887243863995,
          0.6530646533442895,
          -0.23318159386226586,
          -1.319150131657982,
          0.09463672775412493,
          0.23313384209217008,
          -0.2983196316579245,
          -0.5678273244648308,
          0.16437722381798814,
          -0.9296545964289905,
          1.0922975549754237,
          -0.38336998654816523,
          0.9051218108852752,
          0.14618559623315341,
          0.31466443511763487,
          0.3879173171179358,
          -0.13602702775758238,
          -0.20229107248405542,
          0.1312551692725429,
          0.7657452778482757,
          -1.2969540759673137,
          -0.7525532691354485,
          0.3375024417733412,
          -2.152534835068167,
          -1.2672607327528433,
          1.240409131065859,
          1.1770976240664932,
          -1.603010773610958,
          -0.237769129998576,
          -0.897073434357532,
          -0.9488046371465231,
          0.6581283215809342,
          -0.06199463793937336,
          -0.8913999214397087,
          0.4416057732101811,
          0.6416648824250734,
          1.4767731563075561,
          -0.8614378000150077,
          1.0656352143878887,
          -1.145896856232693,
          -0.4880349854953325,
          0.5836904660158005,
          0.7939388605800349,
          1.4499445941855056,
          0.9854561681177022,
          0.34020877181506953,
          0.7235608805617902,
          0.5377245985934934,
          0.3493967640908654,
          1.7702394754577686,
          -0.03111817077616619,
          1.0432325635583046,
          -0.06443575244437817,
          -1.1069474415167795,
          1.7477037930677306,
          1.1762878474972331,
          0.29762924979802713,
          -0.1934011522487943,
          -1.1299835327263392,
          0.25635755789500264,
          -1.401477366719103,
          -1.3245095525725623,
          0.29160187861069464,
          0.6029746174004685,
          -0.308557547221511,
          0.4159428841252249
         ]
        },
        {
         "line": {
          "color": "rgba(50, 171, 96, 1.0)",
          "dash": "solid",
          "shape": "linear",
          "width": 1.3
         },
         "mode": "lines",
         "name": "C",
         "text": "",
         "type": "scatter",
         "x": [
          0,
          1,
          2,
          3,
          4,
          5,
          6,
          7,
          8,
          9,
          10,
          11,
          12,
          13,
          14,
          15,
          16,
          17,
          18,
          19,
          20,
          21,
          22,
          23,
          24,
          25,
          26,
          27,
          28,
          29,
          30,
          31,
          32,
          33,
          34,
          35,
          36,
          37,
          38,
          39,
          40,
          41,
          42,
          43,
          44,
          45,
          46,
          47,
          48,
          49,
          50,
          51,
          52,
          53,
          54,
          55,
          56,
          57,
          58,
          59,
          60,
          61,
          62,
          63,
          64,
          65,
          66,
          67,
          68,
          69,
          70,
          71,
          72,
          73,
          74,
          75,
          76,
          77,
          78,
          79,
          80,
          81,
          82,
          83,
          84,
          85,
          86,
          87,
          88,
          89,
          90,
          91,
          92,
          93,
          94,
          95,
          96,
          97,
          98,
          99
         ],
         "y": [
          -1.588518383084947,
          -0.25510529051838327,
          0.07843303965625309,
          0.3864557819134835,
          -1.09744143252163,
          1.1804110069207534,
          -0.7433800204601851,
          0.5753073643150647,
          -0.46313790316926323,
          0.6543869181485661,
          0.6265824877282654,
          -0.4539417662001653,
          0.6696234450850123,
          0.13069696307258144,
          -0.8867305435232409,
          -0.6250839491644894,
          1.0097934384872906,
          1.9023000035376307,
          1.7009009639164385,
          -1.8411330536034713,
          -0.47464795002036747,
          -0.9982558219884498,
          1.8344684902582309,
          0.8192994654140996,
          -0.8335570745722221,
          -0.23972422219611114,
          0.1689960648817115,
          0.4698304057186679,
          -0.013340480348581244,
          -0.028051963281221937,
          0.38398107818510635,
          0.3937260257823908,
          -0.8123063459709408,
          -0.9993012029697024,
          -0.4152564075921749,
          0.3655373303202848,
          -0.043408441663682476,
          -1.0443853502640081,
          -0.9698020566137836,
          0.12256429336064191,
          0.7356745185567378,
          0.575392072982969,
          -0.33123080036967556,
          -1.185948457910172,
          -0.6111894681016925,
          -0.7945882795982716,
          0.5020861788162949,
          -0.1578308254726711,
          -0.9869183983562312,
          1.746200868438099,
          -0.37595688343323813,
          0.13280117462258295,
          1.2265259236048744,
          0.2244340472116479,
          -1.8036664717250686,
          -0.29766457443473365,
          0.5642521475493323,
          -0.5371447741300974,
          -1.1965527481693412,
          1.1718385463743948,
          -0.3213005093326319,
          2.4843766032829118,
          2.3103908916350133,
          -0.9451710303787467,
          0.6571154746001218,
          1.316173218583312,
          0.8330088624591149,
          1.13092757585928,
          -0.27272341394384453,
          0.4644537032765058,
          0.07189971278123376,
          -0.9570518724398468,
          0.44241242036356343,
          0.005593809973949465,
          -1.0127649251581823,
          0.3006123624304811,
          1.3744735827062333,
          0.038622245321359334,
          -0.9452780090729435,
          2.0136519003518596,
          -0.004495202845143408,
          -0.25759335648309745,
          -1.1260013746246536,
          -0.5944480194050978,
          1.6056735328339102,
          1.19511407121231,
          1.6153785450405376,
          -1.6932136658370074,
          -1.42390606086027,
          -0.4094603926470258,
          1.0082761168261307,
          0.2867048729727579,
          -0.4317049721677748,
          -1.7372064120191864,
          -0.10308707131192661,
          -0.46464036309498136,
          0.8341943684669411,
          -1.9737194064119694,
          -1.99139390644937,
          1.2455026058183056
         ]
        },
        {
         "line": {
          "color": "rgba(128, 0, 128, 1.0)",
          "dash": "solid",
          "shape": "linear",
          "width": 1.3
         },
         "mode": "lines",
         "name": "D",
         "text": "",
         "type": "scatter",
         "x": [
          0,
          1,
          2,
          3,
          4,
          5,
          6,
          7,
          8,
          9,
          10,
          11,
          12,
          13,
          14,
          15,
          16,
          17,
          18,
          19,
          20,
          21,
          22,
          23,
          24,
          25,
          26,
          27,
          28,
          29,
          30,
          31,
          32,
          33,
          34,
          35,
          36,
          37,
          38,
          39,
          40,
          41,
          42,
          43,
          44,
          45,
          46,
          47,
          48,
          49,
          50,
          51,
          52,
          53,
          54,
          55,
          56,
          57,
          58,
          59,
          60,
          61,
          62,
          63,
          64,
          65,
          66,
          67,
          68,
          69,
          70,
          71,
          72,
          73,
          74,
          75,
          76,
          77,
          78,
          79,
          80,
          81,
          82,
          83,
          84,
          85,
          86,
          87,
          88,
          89,
          90,
          91,
          92,
          93,
          94,
          95,
          96,
          97,
          98,
          99
         ],
         "y": [
          -0.20308556376547537,
          0.19762469288020745,
          0.6704321743135898,
          -0.5986241735582623,
          -0.25759095692230527,
          -0.05747054214033602,
          -0.932710350273873,
          -1.0441315195474943,
          0.1128314687479193,
          0.7892422787785415,
          0.0852285295692371,
          0.35126214936583744,
          1.8544165399332506,
          -1.4673580200808247,
          -1.7083706335257736,
          -1.272795966352538,
          0.13657404929718472,
          1.1088686376416257,
          1.0360806444077852,
          -0.07457436081638934,
          -0.8044809295312358,
          -0.04828532842693859,
          0.6593850434257252,
          -0.5658765585099089,
          0.3423078664072504,
          -0.003085031082305999,
          2.018187586743007,
          0.6185980152915729,
          1.7584542986691818,
          -1.5477793170953247,
          0.8468774185788381,
          1.2440610988793863,
          0.7117036625565885,
          1.240570040540003,
          0.45794955761531136,
          1.0647416762047635,
          -1.062620249089035,
          -0.6239492223248511,
          1.6340455586893559,
          -0.46932216668858123,
          0.10982913026295896,
          -2.606475104184327,
          0.661850506062008,
          -0.811975012976815,
          -0.31238136540442235,
          -0.9920729069399843,
          -0.8151321623577781,
          -1.0660483059432084,
          -1.3513103796811499,
          -0.5096993775872938,
          -0.3423963630383938,
          1.0890607235567875,
          1.412582216775854,
          -0.5745153951129882,
          -0.09471548014551695,
          -1.2274900693742057,
          0.9913406461115387,
          1.2857250242618052,
          -1.4220485699165202,
          -0.20751562677718327,
          1.269516515414513,
          1.7630631587377619,
          -0.3405730854733291,
          -0.6243236780693461,
          1.7062622406008303,
          -0.009716789825434882,
          0.18580110459527216,
          0.6066014190421658,
          -0.21684318444156456,
          0.8902856548059778,
          1.0594853835375297,
          -1.3427659913083283,
          -0.9249466420264154,
          -0.4736042418071167,
          0.5978483667104654,
          0.303287016773075,
          -1.5996703832688668,
          -0.4497857200657572,
          -1.8590951581175674,
          0.38249787592501855,
          0.43651573957238776,
          -0.6695674403809402,
          1.032013861089123,
          1.035662317354519,
          -0.016073852149997993,
          -0.564809977687965,
          -0.7205227740745791,
          -0.2209884244788965,
          -0.7201406209581277,
          -0.02057371877325681,
          -1.8582243694386562,
          0.1733246814087179,
          -0.7227674162352797,
          0.2981652039556083,
          -1.921240770994483,
          0.9118896914002779,
          0.6163142733027049,
          0.02393141056674211,
          1.186154597115317,
          0.580847168673218
         ]
        }
       ],
       "layout": {
        "legend": {
         "bgcolor": "#F5F6F9",
         "font": {
          "color": "#4D5663"
         }
        },
        "paper_bgcolor": "#F5F6F9",
        "plot_bgcolor": "#F5F6F9",
        "template": {
         "data": {
          "bar": [
           {
            "error_x": {
             "color": "#2a3f5f"
            },
            "error_y": {
             "color": "#2a3f5f"
            },
            "marker": {
             "line": {
              "color": "#E5ECF6",
              "width": 0.5
             }
            },
            "type": "bar"
           }
          ],
          "barpolar": [
           {
            "marker": {
             "line": {
              "color": "#E5ECF6",
              "width": 0.5
             }
            },
            "type": "barpolar"
           }
          ],
          "carpet": [
           {
            "aaxis": {
             "endlinecolor": "#2a3f5f",
             "gridcolor": "white",
             "linecolor": "white",
             "minorgridcolor": "white",
             "startlinecolor": "#2a3f5f"
            },
            "baxis": {
             "endlinecolor": "#2a3f5f",
             "gridcolor": "white",
             "linecolor": "white",
             "minorgridcolor": "white",
             "startlinecolor": "#2a3f5f"
            },
            "type": "carpet"
           }
          ],
          "choropleth": [
           {
            "colorbar": {
             "outlinewidth": 0,
             "ticks": ""
            },
            "type": "choropleth"
           }
          ],
          "contour": [
           {
            "colorbar": {
             "outlinewidth": 0,
             "ticks": ""
            },
            "colorscale": [
             [
              0,
              "#0d0887"
             ],
             [
              0.1111111111111111,
              "#46039f"
             ],
             [
              0.2222222222222222,
              "#7201a8"
             ],
             [
              0.3333333333333333,
              "#9c179e"
             ],
             [
              0.4444444444444444,
              "#bd3786"
             ],
             [
              0.5555555555555556,
              "#d8576b"
             ],
             [
              0.6666666666666666,
              "#ed7953"
             ],
             [
              0.7777777777777778,
              "#fb9f3a"
             ],
             [
              0.8888888888888888,
              "#fdca26"
             ],
             [
              1,
              "#f0f921"
             ]
            ],
            "type": "contour"
           }
          ],
          "contourcarpet": [
           {
            "colorbar": {
             "outlinewidth": 0,
             "ticks": ""
            },
            "type": "contourcarpet"
           }
          ],
          "heatmap": [
           {
            "colorbar": {
             "outlinewidth": 0,
             "ticks": ""
            },
            "colorscale": [
             [
              0,
              "#0d0887"
             ],
             [
              0.1111111111111111,
              "#46039f"
             ],
             [
              0.2222222222222222,
              "#7201a8"
             ],
             [
              0.3333333333333333,
              "#9c179e"
             ],
             [
              0.4444444444444444,
              "#bd3786"
             ],
             [
              0.5555555555555556,
              "#d8576b"
             ],
             [
              0.6666666666666666,
              "#ed7953"
             ],
             [
              0.7777777777777778,
              "#fb9f3a"
             ],
             [
              0.8888888888888888,
              "#fdca26"
             ],
             [
              1,
              "#f0f921"
             ]
            ],
            "type": "heatmap"
           }
          ],
          "heatmapgl": [
           {
            "colorbar": {
             "outlinewidth": 0,
             "ticks": ""
            },
            "colorscale": [
             [
              0,
              "#0d0887"
             ],
             [
              0.1111111111111111,
              "#46039f"
             ],
             [
              0.2222222222222222,
              "#7201a8"
             ],
             [
              0.3333333333333333,
              "#9c179e"
             ],
             [
              0.4444444444444444,
              "#bd3786"
             ],
             [
              0.5555555555555556,
              "#d8576b"
             ],
             [
              0.6666666666666666,
              "#ed7953"
             ],
             [
              0.7777777777777778,
              "#fb9f3a"
             ],
             [
              0.8888888888888888,
              "#fdca26"
             ],
             [
              1,
              "#f0f921"
             ]
            ],
            "type": "heatmapgl"
           }
          ],
          "histogram": [
           {
            "marker": {
             "colorbar": {
              "outlinewidth": 0,
              "ticks": ""
             }
            },
            "type": "histogram"
           }
          ],
          "histogram2d": [
           {
            "colorbar": {
             "outlinewidth": 0,
             "ticks": ""
            },
            "colorscale": [
             [
              0,
              "#0d0887"
             ],
             [
              0.1111111111111111,
              "#46039f"
             ],
             [
              0.2222222222222222,
              "#7201a8"
             ],
             [
              0.3333333333333333,
              "#9c179e"
             ],
             [
              0.4444444444444444,
              "#bd3786"
             ],
             [
              0.5555555555555556,
              "#d8576b"
             ],
             [
              0.6666666666666666,
              "#ed7953"
             ],
             [
              0.7777777777777778,
              "#fb9f3a"
             ],
             [
              0.8888888888888888,
              "#fdca26"
             ],
             [
              1,
              "#f0f921"
             ]
            ],
            "type": "histogram2d"
           }
          ],
          "histogram2dcontour": [
           {
            "colorbar": {
             "outlinewidth": 0,
             "ticks": ""
            },
            "colorscale": [
             [
              0,
              "#0d0887"
             ],
             [
              0.1111111111111111,
              "#46039f"
             ],
             [
              0.2222222222222222,
              "#7201a8"
             ],
             [
              0.3333333333333333,
              "#9c179e"
             ],
             [
              0.4444444444444444,
              "#bd3786"
             ],
             [
              0.5555555555555556,
              "#d8576b"
             ],
             [
              0.6666666666666666,
              "#ed7953"
             ],
             [
              0.7777777777777778,
              "#fb9f3a"
             ],
             [
              0.8888888888888888,
              "#fdca26"
             ],
             [
              1,
              "#f0f921"
             ]
            ],
            "type": "histogram2dcontour"
           }
          ],
          "mesh3d": [
           {
            "colorbar": {
             "outlinewidth": 0,
             "ticks": ""
            },
            "type": "mesh3d"
           }
          ],
          "parcoords": [
           {
            "line": {
             "colorbar": {
              "outlinewidth": 0,
              "ticks": ""
             }
            },
            "type": "parcoords"
           }
          ],
          "pie": [
           {
            "automargin": true,
            "type": "pie"
           }
          ],
          "scatter": [
           {
            "marker": {
             "colorbar": {
              "outlinewidth": 0,
              "ticks": ""
             }
            },
            "type": "scatter"
           }
          ],
          "scatter3d": [
           {
            "line": {
             "colorbar": {
              "outlinewidth": 0,
              "ticks": ""
             }
            },
            "marker": {
             "colorbar": {
              "outlinewidth": 0,
              "ticks": ""
             }
            },
            "type": "scatter3d"
           }
          ],
          "scattercarpet": [
           {
            "marker": {
             "colorbar": {
              "outlinewidth": 0,
              "ticks": ""
             }
            },
            "type": "scattercarpet"
           }
          ],
          "scattergeo": [
           {
            "marker": {
             "colorbar": {
              "outlinewidth": 0,
              "ticks": ""
             }
            },
            "type": "scattergeo"
           }
          ],
          "scattergl": [
           {
            "marker": {
             "colorbar": {
              "outlinewidth": 0,
              "ticks": ""
             }
            },
            "type": "scattergl"
           }
          ],
          "scattermapbox": [
           {
            "marker": {
             "colorbar": {
              "outlinewidth": 0,
              "ticks": ""
             }
            },
            "type": "scattermapbox"
           }
          ],
          "scatterpolar": [
           {
            "marker": {
             "colorbar": {
              "outlinewidth": 0,
              "ticks": ""
             }
            },
            "type": "scatterpolar"
           }
          ],
          "scatterpolargl": [
           {
            "marker": {
             "colorbar": {
              "outlinewidth": 0,
              "ticks": ""
             }
            },
            "type": "scatterpolargl"
           }
          ],
          "scatterternary": [
           {
            "marker": {
             "colorbar": {
              "outlinewidth": 0,
              "ticks": ""
             }
            },
            "type": "scatterternary"
           }
          ],
          "surface": [
           {
            "colorbar": {
             "outlinewidth": 0,
             "ticks": ""
            },
            "colorscale": [
             [
              0,
              "#0d0887"
             ],
             [
              0.1111111111111111,
              "#46039f"
             ],
             [
              0.2222222222222222,
              "#7201a8"
             ],
             [
              0.3333333333333333,
              "#9c179e"
             ],
             [
              0.4444444444444444,
              "#bd3786"
             ],
             [
              0.5555555555555556,
              "#d8576b"
             ],
             [
              0.6666666666666666,
              "#ed7953"
             ],
             [
              0.7777777777777778,
              "#fb9f3a"
             ],
             [
              0.8888888888888888,
              "#fdca26"
             ],
             [
              1,
              "#f0f921"
             ]
            ],
            "type": "surface"
           }
          ],
          "table": [
           {
            "cells": {
             "fill": {
              "color": "#EBF0F8"
             },
             "line": {
              "color": "white"
             }
            },
            "header": {
             "fill": {
              "color": "#C8D4E3"
             },
             "line": {
              "color": "white"
             }
            },
            "type": "table"
           }
          ]
         },
         "layout": {
          "annotationdefaults": {
           "arrowcolor": "#2a3f5f",
           "arrowhead": 0,
           "arrowwidth": 1
          },
          "autotypenumbers": "strict",
          "coloraxis": {
           "colorbar": {
            "outlinewidth": 0,
            "ticks": ""
           }
          },
          "colorscale": {
           "diverging": [
            [
             0,
             "#8e0152"
            ],
            [
             0.1,
             "#c51b7d"
            ],
            [
             0.2,
             "#de77ae"
            ],
            [
             0.3,
             "#f1b6da"
            ],
            [
             0.4,
             "#fde0ef"
            ],
            [
             0.5,
             "#f7f7f7"
            ],
            [
             0.6,
             "#e6f5d0"
            ],
            [
             0.7,
             "#b8e186"
            ],
            [
             0.8,
             "#7fbc41"
            ],
            [
             0.9,
             "#4d9221"
            ],
            [
             1,
             "#276419"
            ]
           ],
           "sequential": [
            [
             0,
             "#0d0887"
            ],
            [
             0.1111111111111111,
             "#46039f"
            ],
            [
             0.2222222222222222,
             "#7201a8"
            ],
            [
             0.3333333333333333,
             "#9c179e"
            ],
            [
             0.4444444444444444,
             "#bd3786"
            ],
            [
             0.5555555555555556,
             "#d8576b"
            ],
            [
             0.6666666666666666,
             "#ed7953"
            ],
            [
             0.7777777777777778,
             "#fb9f3a"
            ],
            [
             0.8888888888888888,
             "#fdca26"
            ],
            [
             1,
             "#f0f921"
            ]
           ],
           "sequentialminus": [
            [
             0,
             "#0d0887"
            ],
            [
             0.1111111111111111,
             "#46039f"
            ],
            [
             0.2222222222222222,
             "#7201a8"
            ],
            [
             0.3333333333333333,
             "#9c179e"
            ],
            [
             0.4444444444444444,
             "#bd3786"
            ],
            [
             0.5555555555555556,
             "#d8576b"
            ],
            [
             0.6666666666666666,
             "#ed7953"
            ],
            [
             0.7777777777777778,
             "#fb9f3a"
            ],
            [
             0.8888888888888888,
             "#fdca26"
            ],
            [
             1,
             "#f0f921"
            ]
           ]
          },
          "colorway": [
           "#636efa",
           "#EF553B",
           "#00cc96",
           "#ab63fa",
           "#FFA15A",
           "#19d3f3",
           "#FF6692",
           "#B6E880",
           "#FF97FF",
           "#FECB52"
          ],
          "font": {
           "color": "#2a3f5f"
          },
          "geo": {
           "bgcolor": "white",
           "lakecolor": "white",
           "landcolor": "#E5ECF6",
           "showlakes": true,
           "showland": true,
           "subunitcolor": "white"
          },
          "hoverlabel": {
           "align": "left"
          },
          "hovermode": "closest",
          "mapbox": {
           "style": "light"
          },
          "paper_bgcolor": "white",
          "plot_bgcolor": "#E5ECF6",
          "polar": {
           "angularaxis": {
            "gridcolor": "white",
            "linecolor": "white",
            "ticks": ""
           },
           "bgcolor": "#E5ECF6",
           "radialaxis": {
            "gridcolor": "white",
            "linecolor": "white",
            "ticks": ""
           }
          },
          "scene": {
           "xaxis": {
            "backgroundcolor": "#E5ECF6",
            "gridcolor": "white",
            "gridwidth": 2,
            "linecolor": "white",
            "showbackground": true,
            "ticks": "",
            "zerolinecolor": "white"
           },
           "yaxis": {
            "backgroundcolor": "#E5ECF6",
            "gridcolor": "white",
            "gridwidth": 2,
            "linecolor": "white",
            "showbackground": true,
            "ticks": "",
            "zerolinecolor": "white"
           },
           "zaxis": {
            "backgroundcolor": "#E5ECF6",
            "gridcolor": "white",
            "gridwidth": 2,
            "linecolor": "white",
            "showbackground": true,
            "ticks": "",
            "zerolinecolor": "white"
           }
          },
          "shapedefaults": {
           "line": {
            "color": "#2a3f5f"
           }
          },
          "ternary": {
           "aaxis": {
            "gridcolor": "white",
            "linecolor": "white",
            "ticks": ""
           },
           "baxis": {
            "gridcolor": "white",
            "linecolor": "white",
            "ticks": ""
           },
           "bgcolor": "#E5ECF6",
           "caxis": {
            "gridcolor": "white",
            "linecolor": "white",
            "ticks": ""
           }
          },
          "title": {
           "x": 0.05
          },
          "xaxis": {
           "automargin": true,
           "gridcolor": "white",
           "linecolor": "white",
           "ticks": "",
           "title": {
            "standoff": 15
           },
           "zerolinecolor": "white",
           "zerolinewidth": 2
          },
          "yaxis": {
           "automargin": true,
           "gridcolor": "white",
           "linecolor": "white",
           "ticks": "",
           "title": {
            "standoff": 15
           },
           "zerolinecolor": "white",
           "zerolinewidth": 2
          }
         }
        },
        "title": {
         "font": {
          "color": "#4D5663"
         }
        },
        "xaxis": {
         "gridcolor": "#E1E5ED",
         "showgrid": true,
         "tickfont": {
          "color": "#4D5663"
         },
         "title": {
          "font": {
           "color": "#4D5663"
          },
          "text": ""
         },
         "zerolinecolor": "#E1E5ED"
        },
        "yaxis": {
         "gridcolor": "#E1E5ED",
         "showgrid": true,
         "tickfont": {
          "color": "#4D5663"
         },
         "title": {
          "font": {
           "color": "#4D5663"
          },
          "text": ""
         },
         "zerolinecolor": "#E1E5ED"
        }
       }
      },
      "text/html": [
       "<div>                            <div id=\"18b4c3e6-d07e-4641-bb3d-2e9c4c7ae2ff\" class=\"plotly-graph-div\" style=\"height:525px; width:100%;\"></div>            <script type=\"text/javascript\">                require([\"plotly\"], function(Plotly) {                    window.PLOTLYENV=window.PLOTLYENV || {};\n",
       "                    window.PLOTLYENV.BASE_URL='https://plot.ly';                                    if (document.getElementById(\"18b4c3e6-d07e-4641-bb3d-2e9c4c7ae2ff\")) {                    Plotly.newPlot(                        \"18b4c3e6-d07e-4641-bb3d-2e9c4c7ae2ff\",                        [{\"line\": {\"color\": \"rgba(255, 153, 51, 1.0)\", \"dash\": \"solid\", \"shape\": \"linear\", \"width\": 1.3}, \"mode\": \"lines\", \"name\": \"A\", \"text\": \"\", \"type\": \"scatter\", \"x\": [0, 1, 2, 3, 4, 5, 6, 7, 8, 9, 10, 11, 12, 13, 14, 15, 16, 17, 18, 19, 20, 21, 22, 23, 24, 25, 26, 27, 28, 29, 30, 31, 32, 33, 34, 35, 36, 37, 38, 39, 40, 41, 42, 43, 44, 45, 46, 47, 48, 49, 50, 51, 52, 53, 54, 55, 56, 57, 58, 59, 60, 61, 62, 63, 64, 65, 66, 67, 68, 69, 70, 71, 72, 73, 74, 75, 76, 77, 78, 79, 80, 81, 82, 83, 84, 85, 86, 87, 88, 89, 90, 91, 92, 93, 94, 95, 96, 97, 98, 99], \"y\": [-1.4610241031401339, 0.09525150167714372, -0.029203584395679657, -0.014015621374794238, 1.3061216714143065, -0.31702307455461454, -1.1289839361958052, -0.13699963759455056, -0.6639938504440216, 0.9470923910686199, 1.553358059937682, 0.05045164189835665, 0.05751000634937235, 2.1315144223408105, 0.46274757495098084, -0.17673927911072126, -0.4606921426908111, -0.43086281676434296, -2.1264803113550594, 0.001056488752819712, -0.3059598987663699, 0.9662890754859629, 0.2510262672230263, -0.9617278560791738, 0.048995145654571845, -1.0209156821548113, -0.5691472839815525, 0.4996248117695914, 0.4464570983716666, -0.16336359024926198, 1.262599325533162, -0.38117396654870617, 0.6470503045744972, 1.98286394042055, 0.3984834505594768, 0.7771765568436815, 0.6232338000739429, 1.167642598764409, -0.6183478391013726, 1.2230733527522957, 0.502339193606301, -1.1320171943548307, -0.7080909329004074, 1.2718460327483254, -1.485782893035162, 0.4319773772095389, 0.362675989804671, 1.4424577308111275, 0.32319678124815143, -1.1700283154363498, 1.8634674399731277, 1.3157150735096061, -1.0097525209274345, -1.8188977326440103, 0.32593373911336543, 0.5229234346569209, -0.11081787742866657, -0.4975140914807007, -1.2059467191465185, -1.498419024882172, 2.255904266090674, -0.2302591959967517, -0.6209322962615502, 0.49579609306554884, -0.16989586521007646, 0.46588198032360506, -0.909141855445599, -0.0009026500043386546, 0.48123916040588277, 1.118792923213792, -0.4420688885202043, 0.9751416814442033, -0.03744211472540877, -1.778410999950504, -0.6892087536621391, -0.2385350486172311, 0.019730054488734897, 1.6716799790383337, 1.3566170705713458, 0.8873773894586302, -2.0888727474034563, -0.41046309299992867, -0.5549572208662424, -1.5861279398806762, -0.3540634750924586, 0.6090614019865381, 1.2372628555021594, -0.3429623623702404, -0.1606326504345451, 1.622631579628323, 1.0736460288414729, -0.7629319166489795, -0.5029453305115006, 0.1671892839193268, -1.488441025936215, -0.27038751087145, 0.855741339941454, -0.16881176419721813, -0.16170217362603542, 0.9173449807873943]}, {\"line\": {\"color\": \"rgba(55, 128, 191, 1.0)\", \"dash\": \"solid\", \"shape\": \"linear\", \"width\": 1.3}, \"mode\": \"lines\", \"name\": \"B\", \"text\": \"\", \"type\": \"scatter\", \"x\": [0, 1, 2, 3, 4, 5, 6, 7, 8, 9, 10, 11, 12, 13, 14, 15, 16, 17, 18, 19, 20, 21, 22, 23, 24, 25, 26, 27, 28, 29, 30, 31, 32, 33, 34, 35, 36, 37, 38, 39, 40, 41, 42, 43, 44, 45, 46, 47, 48, 49, 50, 51, 52, 53, 54, 55, 56, 57, 58, 59, 60, 61, 62, 63, 64, 65, 66, 67, 68, 69, 70, 71, 72, 73, 74, 75, 76, 77, 78, 79, 80, 81, 82, 83, 84, 85, 86, 87, 88, 89, 90, 91, 92, 93, 94, 95, 96, 97, 98, 99], \"y\": [0.3907902707269141, 0.6943603904272828, -0.5795978735730865, 0.813526262604139, 0.7839931065000858, -0.46753196417464715, 1.0359830523535647, -0.00108728024401313, -0.8081899074223791, -1.7047006560220002, -1.2500075128534878, 0.22565379843725744, 0.8538877104205691, -0.010769431923218427, -0.16471091416661995, 1.1532806339771444, -0.3057147481342851, -0.4072257391625898, 0.33177364843814655, -1.9259607592803352, 0.6328208279632327, 0.09822037368245887, 0.22575815059781187, 0.3342337338883107, 0.20918911354792807, 0.7884841767921292, -1.777038244279568, -0.8943194078336356, 0.7836857923081855, 0.6141031111803202, 0.5733925432595015, -0.049455510335339334, 0.9530936899389951, -1.4516704869032073, 0.5115887243863995, 0.6530646533442895, -0.23318159386226586, -1.319150131657982, 0.09463672775412493, 0.23313384209217008, -0.2983196316579245, -0.5678273244648308, 0.16437722381798814, -0.9296545964289905, 1.0922975549754237, -0.38336998654816523, 0.9051218108852752, 0.14618559623315341, 0.31466443511763487, 0.3879173171179358, -0.13602702775758238, -0.20229107248405542, 0.1312551692725429, 0.7657452778482757, -1.2969540759673137, -0.7525532691354485, 0.3375024417733412, -2.152534835068167, -1.2672607327528433, 1.240409131065859, 1.1770976240664932, -1.603010773610958, -0.237769129998576, -0.897073434357532, -0.9488046371465231, 0.6581283215809342, -0.06199463793937336, -0.8913999214397087, 0.4416057732101811, 0.6416648824250734, 1.4767731563075561, -0.8614378000150077, 1.0656352143878887, -1.145896856232693, -0.4880349854953325, 0.5836904660158005, 0.7939388605800349, 1.4499445941855056, 0.9854561681177022, 0.34020877181506953, 0.7235608805617902, 0.5377245985934934, 0.3493967640908654, 1.7702394754577686, -0.03111817077616619, 1.0432325635583046, -0.06443575244437817, -1.1069474415167795, 1.7477037930677306, 1.1762878474972331, 0.29762924979802713, -0.1934011522487943, -1.1299835327263392, 0.25635755789500264, -1.401477366719103, -1.3245095525725623, 0.29160187861069464, 0.6029746174004685, -0.308557547221511, 0.4159428841252249]}, {\"line\": {\"color\": \"rgba(50, 171, 96, 1.0)\", \"dash\": \"solid\", \"shape\": \"linear\", \"width\": 1.3}, \"mode\": \"lines\", \"name\": \"C\", \"text\": \"\", \"type\": \"scatter\", \"x\": [0, 1, 2, 3, 4, 5, 6, 7, 8, 9, 10, 11, 12, 13, 14, 15, 16, 17, 18, 19, 20, 21, 22, 23, 24, 25, 26, 27, 28, 29, 30, 31, 32, 33, 34, 35, 36, 37, 38, 39, 40, 41, 42, 43, 44, 45, 46, 47, 48, 49, 50, 51, 52, 53, 54, 55, 56, 57, 58, 59, 60, 61, 62, 63, 64, 65, 66, 67, 68, 69, 70, 71, 72, 73, 74, 75, 76, 77, 78, 79, 80, 81, 82, 83, 84, 85, 86, 87, 88, 89, 90, 91, 92, 93, 94, 95, 96, 97, 98, 99], \"y\": [-1.588518383084947, -0.25510529051838327, 0.07843303965625309, 0.3864557819134835, -1.09744143252163, 1.1804110069207534, -0.7433800204601851, 0.5753073643150647, -0.46313790316926323, 0.6543869181485661, 0.6265824877282654, -0.4539417662001653, 0.6696234450850123, 0.13069696307258144, -0.8867305435232409, -0.6250839491644894, 1.0097934384872906, 1.9023000035376307, 1.7009009639164385, -1.8411330536034713, -0.47464795002036747, -0.9982558219884498, 1.8344684902582309, 0.8192994654140996, -0.8335570745722221, -0.23972422219611114, 0.1689960648817115, 0.4698304057186679, -0.013340480348581244, -0.028051963281221937, 0.38398107818510635, 0.3937260257823908, -0.8123063459709408, -0.9993012029697024, -0.4152564075921749, 0.3655373303202848, -0.043408441663682476, -1.0443853502640081, -0.9698020566137836, 0.12256429336064191, 0.7356745185567378, 0.575392072982969, -0.33123080036967556, -1.185948457910172, -0.6111894681016925, -0.7945882795982716, 0.5020861788162949, -0.1578308254726711, -0.9869183983562312, 1.746200868438099, -0.37595688343323813, 0.13280117462258295, 1.2265259236048744, 0.2244340472116479, -1.8036664717250686, -0.29766457443473365, 0.5642521475493323, -0.5371447741300974, -1.1965527481693412, 1.1718385463743948, -0.3213005093326319, 2.4843766032829118, 2.3103908916350133, -0.9451710303787467, 0.6571154746001218, 1.316173218583312, 0.8330088624591149, 1.13092757585928, -0.27272341394384453, 0.4644537032765058, 0.07189971278123376, -0.9570518724398468, 0.44241242036356343, 0.005593809973949465, -1.0127649251581823, 0.3006123624304811, 1.3744735827062333, 0.038622245321359334, -0.9452780090729435, 2.0136519003518596, -0.004495202845143408, -0.25759335648309745, -1.1260013746246536, -0.5944480194050978, 1.6056735328339102, 1.19511407121231, 1.6153785450405376, -1.6932136658370074, -1.42390606086027, -0.4094603926470258, 1.0082761168261307, 0.2867048729727579, -0.4317049721677748, -1.7372064120191864, -0.10308707131192661, -0.46464036309498136, 0.8341943684669411, -1.9737194064119694, -1.99139390644937, 1.2455026058183056]}, {\"line\": {\"color\": \"rgba(128, 0, 128, 1.0)\", \"dash\": \"solid\", \"shape\": \"linear\", \"width\": 1.3}, \"mode\": \"lines\", \"name\": \"D\", \"text\": \"\", \"type\": \"scatter\", \"x\": [0, 1, 2, 3, 4, 5, 6, 7, 8, 9, 10, 11, 12, 13, 14, 15, 16, 17, 18, 19, 20, 21, 22, 23, 24, 25, 26, 27, 28, 29, 30, 31, 32, 33, 34, 35, 36, 37, 38, 39, 40, 41, 42, 43, 44, 45, 46, 47, 48, 49, 50, 51, 52, 53, 54, 55, 56, 57, 58, 59, 60, 61, 62, 63, 64, 65, 66, 67, 68, 69, 70, 71, 72, 73, 74, 75, 76, 77, 78, 79, 80, 81, 82, 83, 84, 85, 86, 87, 88, 89, 90, 91, 92, 93, 94, 95, 96, 97, 98, 99], \"y\": [-0.20308556376547537, 0.19762469288020745, 0.6704321743135898, -0.5986241735582623, -0.25759095692230527, -0.05747054214033602, -0.932710350273873, -1.0441315195474943, 0.1128314687479193, 0.7892422787785415, 0.0852285295692371, 0.35126214936583744, 1.8544165399332506, -1.4673580200808247, -1.7083706335257736, -1.272795966352538, 0.13657404929718472, 1.1088686376416257, 1.0360806444077852, -0.07457436081638934, -0.8044809295312358, -0.04828532842693859, 0.6593850434257252, -0.5658765585099089, 0.3423078664072504, -0.003085031082305999, 2.018187586743007, 0.6185980152915729, 1.7584542986691818, -1.5477793170953247, 0.8468774185788381, 1.2440610988793863, 0.7117036625565885, 1.240570040540003, 0.45794955761531136, 1.0647416762047635, -1.062620249089035, -0.6239492223248511, 1.6340455586893559, -0.46932216668858123, 0.10982913026295896, -2.606475104184327, 0.661850506062008, -0.811975012976815, -0.31238136540442235, -0.9920729069399843, -0.8151321623577781, -1.0660483059432084, -1.3513103796811499, -0.5096993775872938, -0.3423963630383938, 1.0890607235567875, 1.412582216775854, -0.5745153951129882, -0.09471548014551695, -1.2274900693742057, 0.9913406461115387, 1.2857250242618052, -1.4220485699165202, -0.20751562677718327, 1.269516515414513, 1.7630631587377619, -0.3405730854733291, -0.6243236780693461, 1.7062622406008303, -0.009716789825434882, 0.18580110459527216, 0.6066014190421658, -0.21684318444156456, 0.8902856548059778, 1.0594853835375297, -1.3427659913083283, -0.9249466420264154, -0.4736042418071167, 0.5978483667104654, 0.303287016773075, -1.5996703832688668, -0.4497857200657572, -1.8590951581175674, 0.38249787592501855, 0.43651573957238776, -0.6695674403809402, 1.032013861089123, 1.035662317354519, -0.016073852149997993, -0.564809977687965, -0.7205227740745791, -0.2209884244788965, -0.7201406209581277, -0.02057371877325681, -1.8582243694386562, 0.1733246814087179, -0.7227674162352797, 0.2981652039556083, -1.921240770994483, 0.9118896914002779, 0.6163142733027049, 0.02393141056674211, 1.186154597115317, 0.580847168673218]}],                        {\"legend\": {\"bgcolor\": \"#F5F6F9\", \"font\": {\"color\": \"#4D5663\"}}, \"paper_bgcolor\": \"#F5F6F9\", \"plot_bgcolor\": \"#F5F6F9\", \"template\": {\"data\": {\"bar\": [{\"error_x\": {\"color\": \"#2a3f5f\"}, \"error_y\": {\"color\": \"#2a3f5f\"}, \"marker\": {\"line\": {\"color\": \"#E5ECF6\", \"width\": 0.5}}, \"type\": \"bar\"}], \"barpolar\": [{\"marker\": {\"line\": {\"color\": \"#E5ECF6\", \"width\": 0.5}}, \"type\": \"barpolar\"}], \"carpet\": [{\"aaxis\": {\"endlinecolor\": \"#2a3f5f\", \"gridcolor\": \"white\", \"linecolor\": \"white\", \"minorgridcolor\": \"white\", \"startlinecolor\": \"#2a3f5f\"}, \"baxis\": {\"endlinecolor\": \"#2a3f5f\", \"gridcolor\": \"white\", \"linecolor\": \"white\", \"minorgridcolor\": \"white\", \"startlinecolor\": \"#2a3f5f\"}, \"type\": \"carpet\"}], \"choropleth\": [{\"colorbar\": {\"outlinewidth\": 0, \"ticks\": \"\"}, \"type\": \"choropleth\"}], \"contour\": [{\"colorbar\": {\"outlinewidth\": 0, \"ticks\": \"\"}, \"colorscale\": [[0.0, \"#0d0887\"], [0.1111111111111111, \"#46039f\"], [0.2222222222222222, \"#7201a8\"], [0.3333333333333333, \"#9c179e\"], [0.4444444444444444, \"#bd3786\"], [0.5555555555555556, \"#d8576b\"], [0.6666666666666666, \"#ed7953\"], [0.7777777777777778, \"#fb9f3a\"], [0.8888888888888888, \"#fdca26\"], [1.0, \"#f0f921\"]], \"type\": \"contour\"}], \"contourcarpet\": [{\"colorbar\": {\"outlinewidth\": 0, \"ticks\": \"\"}, \"type\": \"contourcarpet\"}], \"heatmap\": [{\"colorbar\": {\"outlinewidth\": 0, \"ticks\": \"\"}, \"colorscale\": [[0.0, \"#0d0887\"], [0.1111111111111111, \"#46039f\"], [0.2222222222222222, \"#7201a8\"], [0.3333333333333333, \"#9c179e\"], [0.4444444444444444, \"#bd3786\"], [0.5555555555555556, \"#d8576b\"], [0.6666666666666666, \"#ed7953\"], [0.7777777777777778, \"#fb9f3a\"], [0.8888888888888888, \"#fdca26\"], [1.0, \"#f0f921\"]], \"type\": \"heatmap\"}], \"heatmapgl\": [{\"colorbar\": {\"outlinewidth\": 0, \"ticks\": \"\"}, \"colorscale\": [[0.0, \"#0d0887\"], [0.1111111111111111, \"#46039f\"], [0.2222222222222222, \"#7201a8\"], [0.3333333333333333, \"#9c179e\"], [0.4444444444444444, \"#bd3786\"], [0.5555555555555556, \"#d8576b\"], [0.6666666666666666, \"#ed7953\"], [0.7777777777777778, \"#fb9f3a\"], [0.8888888888888888, \"#fdca26\"], [1.0, \"#f0f921\"]], \"type\": \"heatmapgl\"}], \"histogram\": [{\"marker\": {\"colorbar\": {\"outlinewidth\": 0, \"ticks\": \"\"}}, \"type\": \"histogram\"}], \"histogram2d\": [{\"colorbar\": {\"outlinewidth\": 0, \"ticks\": \"\"}, \"colorscale\": [[0.0, \"#0d0887\"], [0.1111111111111111, \"#46039f\"], [0.2222222222222222, \"#7201a8\"], [0.3333333333333333, \"#9c179e\"], [0.4444444444444444, \"#bd3786\"], [0.5555555555555556, \"#d8576b\"], [0.6666666666666666, \"#ed7953\"], [0.7777777777777778, \"#fb9f3a\"], [0.8888888888888888, \"#fdca26\"], [1.0, \"#f0f921\"]], \"type\": \"histogram2d\"}], \"histogram2dcontour\": [{\"colorbar\": {\"outlinewidth\": 0, \"ticks\": \"\"}, \"colorscale\": [[0.0, \"#0d0887\"], [0.1111111111111111, \"#46039f\"], [0.2222222222222222, \"#7201a8\"], [0.3333333333333333, \"#9c179e\"], [0.4444444444444444, \"#bd3786\"], [0.5555555555555556, \"#d8576b\"], [0.6666666666666666, \"#ed7953\"], [0.7777777777777778, \"#fb9f3a\"], [0.8888888888888888, \"#fdca26\"], [1.0, \"#f0f921\"]], \"type\": \"histogram2dcontour\"}], \"mesh3d\": [{\"colorbar\": {\"outlinewidth\": 0, \"ticks\": \"\"}, \"type\": \"mesh3d\"}], \"parcoords\": [{\"line\": {\"colorbar\": {\"outlinewidth\": 0, \"ticks\": \"\"}}, \"type\": \"parcoords\"}], \"pie\": [{\"automargin\": true, \"type\": \"pie\"}], \"scatter\": [{\"marker\": {\"colorbar\": {\"outlinewidth\": 0, \"ticks\": \"\"}}, \"type\": \"scatter\"}], \"scatter3d\": [{\"line\": {\"colorbar\": {\"outlinewidth\": 0, \"ticks\": \"\"}}, \"marker\": {\"colorbar\": {\"outlinewidth\": 0, \"ticks\": \"\"}}, \"type\": \"scatter3d\"}], \"scattercarpet\": [{\"marker\": {\"colorbar\": {\"outlinewidth\": 0, \"ticks\": \"\"}}, \"type\": \"scattercarpet\"}], \"scattergeo\": [{\"marker\": {\"colorbar\": {\"outlinewidth\": 0, \"ticks\": \"\"}}, \"type\": \"scattergeo\"}], \"scattergl\": [{\"marker\": {\"colorbar\": {\"outlinewidth\": 0, \"ticks\": \"\"}}, \"type\": \"scattergl\"}], \"scattermapbox\": [{\"marker\": {\"colorbar\": {\"outlinewidth\": 0, \"ticks\": \"\"}}, \"type\": \"scattermapbox\"}], \"scatterpolar\": [{\"marker\": {\"colorbar\": {\"outlinewidth\": 0, \"ticks\": \"\"}}, \"type\": \"scatterpolar\"}], \"scatterpolargl\": [{\"marker\": {\"colorbar\": {\"outlinewidth\": 0, \"ticks\": \"\"}}, \"type\": \"scatterpolargl\"}], \"scatterternary\": [{\"marker\": {\"colorbar\": {\"outlinewidth\": 0, \"ticks\": \"\"}}, \"type\": \"scatterternary\"}], \"surface\": [{\"colorbar\": {\"outlinewidth\": 0, \"ticks\": \"\"}, \"colorscale\": [[0.0, \"#0d0887\"], [0.1111111111111111, \"#46039f\"], [0.2222222222222222, \"#7201a8\"], [0.3333333333333333, \"#9c179e\"], [0.4444444444444444, \"#bd3786\"], [0.5555555555555556, \"#d8576b\"], [0.6666666666666666, \"#ed7953\"], [0.7777777777777778, \"#fb9f3a\"], [0.8888888888888888, \"#fdca26\"], [1.0, \"#f0f921\"]], \"type\": \"surface\"}], \"table\": [{\"cells\": {\"fill\": {\"color\": \"#EBF0F8\"}, \"line\": {\"color\": \"white\"}}, \"header\": {\"fill\": {\"color\": \"#C8D4E3\"}, \"line\": {\"color\": \"white\"}}, \"type\": \"table\"}]}, \"layout\": {\"annotationdefaults\": {\"arrowcolor\": \"#2a3f5f\", \"arrowhead\": 0, \"arrowwidth\": 1}, \"autotypenumbers\": \"strict\", \"coloraxis\": {\"colorbar\": {\"outlinewidth\": 0, \"ticks\": \"\"}}, \"colorscale\": {\"diverging\": [[0, \"#8e0152\"], [0.1, \"#c51b7d\"], [0.2, \"#de77ae\"], [0.3, \"#f1b6da\"], [0.4, \"#fde0ef\"], [0.5, \"#f7f7f7\"], [0.6, \"#e6f5d0\"], [0.7, \"#b8e186\"], [0.8, \"#7fbc41\"], [0.9, \"#4d9221\"], [1, \"#276419\"]], \"sequential\": [[0.0, \"#0d0887\"], [0.1111111111111111, \"#46039f\"], [0.2222222222222222, \"#7201a8\"], [0.3333333333333333, \"#9c179e\"], [0.4444444444444444, \"#bd3786\"], [0.5555555555555556, \"#d8576b\"], [0.6666666666666666, \"#ed7953\"], [0.7777777777777778, \"#fb9f3a\"], [0.8888888888888888, \"#fdca26\"], [1.0, \"#f0f921\"]], \"sequentialminus\": [[0.0, \"#0d0887\"], [0.1111111111111111, \"#46039f\"], [0.2222222222222222, \"#7201a8\"], [0.3333333333333333, \"#9c179e\"], [0.4444444444444444, \"#bd3786\"], [0.5555555555555556, \"#d8576b\"], [0.6666666666666666, \"#ed7953\"], [0.7777777777777778, \"#fb9f3a\"], [0.8888888888888888, \"#fdca26\"], [1.0, \"#f0f921\"]]}, \"colorway\": [\"#636efa\", \"#EF553B\", \"#00cc96\", \"#ab63fa\", \"#FFA15A\", \"#19d3f3\", \"#FF6692\", \"#B6E880\", \"#FF97FF\", \"#FECB52\"], \"font\": {\"color\": \"#2a3f5f\"}, \"geo\": {\"bgcolor\": \"white\", \"lakecolor\": \"white\", \"landcolor\": \"#E5ECF6\", \"showlakes\": true, \"showland\": true, \"subunitcolor\": \"white\"}, \"hoverlabel\": {\"align\": \"left\"}, \"hovermode\": \"closest\", \"mapbox\": {\"style\": \"light\"}, \"paper_bgcolor\": \"white\", \"plot_bgcolor\": \"#E5ECF6\", \"polar\": {\"angularaxis\": {\"gridcolor\": \"white\", \"linecolor\": \"white\", \"ticks\": \"\"}, \"bgcolor\": \"#E5ECF6\", \"radialaxis\": {\"gridcolor\": \"white\", \"linecolor\": \"white\", \"ticks\": \"\"}}, \"scene\": {\"xaxis\": {\"backgroundcolor\": \"#E5ECF6\", \"gridcolor\": \"white\", \"gridwidth\": 2, \"linecolor\": \"white\", \"showbackground\": true, \"ticks\": \"\", \"zerolinecolor\": \"white\"}, \"yaxis\": {\"backgroundcolor\": \"#E5ECF6\", \"gridcolor\": \"white\", \"gridwidth\": 2, \"linecolor\": \"white\", \"showbackground\": true, \"ticks\": \"\", \"zerolinecolor\": \"white\"}, \"zaxis\": {\"backgroundcolor\": \"#E5ECF6\", \"gridcolor\": \"white\", \"gridwidth\": 2, \"linecolor\": \"white\", \"showbackground\": true, \"ticks\": \"\", \"zerolinecolor\": \"white\"}}, \"shapedefaults\": {\"line\": {\"color\": \"#2a3f5f\"}}, \"ternary\": {\"aaxis\": {\"gridcolor\": \"white\", \"linecolor\": \"white\", \"ticks\": \"\"}, \"baxis\": {\"gridcolor\": \"white\", \"linecolor\": \"white\", \"ticks\": \"\"}, \"bgcolor\": \"#E5ECF6\", \"caxis\": {\"gridcolor\": \"white\", \"linecolor\": \"white\", \"ticks\": \"\"}}, \"title\": {\"x\": 0.05}, \"xaxis\": {\"automargin\": true, \"gridcolor\": \"white\", \"linecolor\": \"white\", \"ticks\": \"\", \"title\": {\"standoff\": 15}, \"zerolinecolor\": \"white\", \"zerolinewidth\": 2}, \"yaxis\": {\"automargin\": true, \"gridcolor\": \"white\", \"linecolor\": \"white\", \"ticks\": \"\", \"title\": {\"standoff\": 15}, \"zerolinecolor\": \"white\", \"zerolinewidth\": 2}}}, \"title\": {\"font\": {\"color\": \"#4D5663\"}}, \"xaxis\": {\"gridcolor\": \"#E1E5ED\", \"showgrid\": true, \"tickfont\": {\"color\": \"#4D5663\"}, \"title\": {\"font\": {\"color\": \"#4D5663\"}, \"text\": \"\"}, \"zerolinecolor\": \"#E1E5ED\"}, \"yaxis\": {\"gridcolor\": \"#E1E5ED\", \"showgrid\": true, \"tickfont\": {\"color\": \"#4D5663\"}, \"title\": {\"font\": {\"color\": \"#4D5663\"}, \"text\": \"\"}, \"zerolinecolor\": \"#E1E5ED\"}},                        {\"showLink\": true, \"linkText\": \"Export to plot.ly\", \"plotlyServerURL\": \"https://plot.ly\", \"responsive\": true}                    ).then(function(){\n",
       "                            \n",
       "var gd = document.getElementById('18b4c3e6-d07e-4641-bb3d-2e9c4c7ae2ff');\n",
       "var x = new MutationObserver(function (mutations, observer) {{\n",
       "        var display = window.getComputedStyle(gd).display;\n",
       "        if (!display || display === 'none') {{\n",
       "            console.log([gd, 'removed!']);\n",
       "            Plotly.purge(gd);\n",
       "            observer.disconnect();\n",
       "        }}\n",
       "}});\n",
       "\n",
       "// Listen for the removal of the full notebook cells\n",
       "var notebookContainer = gd.closest('#notebook-container');\n",
       "if (notebookContainer) {{\n",
       "    x.observe(notebookContainer, {childList: true});\n",
       "}}\n",
       "\n",
       "// Listen for the clearing of the current output cell\n",
       "var outputEl = gd.closest('.output');\n",
       "if (outputEl) {{\n",
       "    x.observe(outputEl, {childList: true});\n",
       "}}\n",
       "\n",
       "                        })                };                });            </script>        </div>"
      ]
     },
     "metadata": {},
     "output_type": "display_data"
    }
   ],
   "source": [
    "## Trabalhando offline (sem conta no plotly).\n",
    "df.iplot()"
   ]
  },
  {
   "cell_type": "markdown",
   "metadata": {},
   "source": [
    "### Scatter Plot"
   ]
  },
  {
   "cell_type": "code",
   "execution_count": 8,
   "metadata": {},
   "outputs": [
    {
     "data": {
      "application/vnd.plotly.v1+json": {
       "config": {
        "linkText": "Export to plot.ly",
        "plotlyServerURL": "https://plot.ly",
        "showLink": true
       },
       "data": [
        {
         "line": {
          "color": "rgba(255, 153, 51, 1.0)",
          "dash": "solid",
          "shape": "linear",
          "width": 1.3
         },
         "marker": {
          "size": 12,
          "symbol": "circle"
         },
         "mode": "markers",
         "name": "B",
         "text": "",
         "type": "scatter",
         "x": [
          -1.4610241031401339,
          0.09525150167714372,
          -0.029203584395679657,
          -0.014015621374794238,
          1.3061216714143065,
          -0.31702307455461454,
          -1.1289839361958052,
          -0.13699963759455056,
          -0.6639938504440216,
          0.9470923910686199,
          1.553358059937682,
          0.05045164189835665,
          0.05751000634937235,
          2.1315144223408105,
          0.46274757495098084,
          -0.17673927911072126,
          -0.4606921426908111,
          -0.43086281676434296,
          -2.1264803113550594,
          0.001056488752819712,
          -0.3059598987663699,
          0.9662890754859629,
          0.2510262672230263,
          -0.9617278560791738,
          0.048995145654571845,
          -1.0209156821548113,
          -0.5691472839815525,
          0.4996248117695914,
          0.4464570983716666,
          -0.16336359024926198,
          1.262599325533162,
          -0.38117396654870617,
          0.6470503045744972,
          1.98286394042055,
          0.3984834505594768,
          0.7771765568436815,
          0.6232338000739429,
          1.167642598764409,
          -0.6183478391013726,
          1.2230733527522957,
          0.502339193606301,
          -1.1320171943548307,
          -0.7080909329004074,
          1.2718460327483254,
          -1.485782893035162,
          0.4319773772095389,
          0.362675989804671,
          1.4424577308111275,
          0.32319678124815143,
          -1.1700283154363498,
          1.8634674399731277,
          1.3157150735096061,
          -1.0097525209274345,
          -1.8188977326440103,
          0.32593373911336543,
          0.5229234346569209,
          -0.11081787742866657,
          -0.4975140914807007,
          -1.2059467191465185,
          -1.498419024882172,
          2.255904266090674,
          -0.2302591959967517,
          -0.6209322962615502,
          0.49579609306554884,
          -0.16989586521007646,
          0.46588198032360506,
          -0.909141855445599,
          -0.0009026500043386546,
          0.48123916040588277,
          1.118792923213792,
          -0.4420688885202043,
          0.9751416814442033,
          -0.03744211472540877,
          -1.778410999950504,
          -0.6892087536621391,
          -0.2385350486172311,
          0.019730054488734897,
          1.6716799790383337,
          1.3566170705713458,
          0.8873773894586302,
          -2.0888727474034563,
          -0.41046309299992867,
          -0.5549572208662424,
          -1.5861279398806762,
          -0.3540634750924586,
          0.6090614019865381,
          1.2372628555021594,
          -0.3429623623702404,
          -0.1606326504345451,
          1.622631579628323,
          1.0736460288414729,
          -0.7629319166489795,
          -0.5029453305115006,
          0.1671892839193268,
          -1.488441025936215,
          -0.27038751087145,
          0.855741339941454,
          -0.16881176419721813,
          -0.16170217362603542,
          0.9173449807873943
         ],
         "y": [
          0.3907902707269141,
          0.6943603904272828,
          -0.5795978735730865,
          0.813526262604139,
          0.7839931065000858,
          -0.46753196417464715,
          1.0359830523535647,
          -0.00108728024401313,
          -0.8081899074223791,
          -1.7047006560220002,
          -1.2500075128534878,
          0.22565379843725744,
          0.8538877104205691,
          -0.010769431923218427,
          -0.16471091416661995,
          1.1532806339771444,
          -0.3057147481342851,
          -0.4072257391625898,
          0.33177364843814655,
          -1.9259607592803352,
          0.6328208279632327,
          0.09822037368245887,
          0.22575815059781187,
          0.3342337338883107,
          0.20918911354792807,
          0.7884841767921292,
          -1.777038244279568,
          -0.8943194078336356,
          0.7836857923081855,
          0.6141031111803202,
          0.5733925432595015,
          -0.049455510335339334,
          0.9530936899389951,
          -1.4516704869032073,
          0.5115887243863995,
          0.6530646533442895,
          -0.23318159386226586,
          -1.319150131657982,
          0.09463672775412493,
          0.23313384209217008,
          -0.2983196316579245,
          -0.5678273244648308,
          0.16437722381798814,
          -0.9296545964289905,
          1.0922975549754237,
          -0.38336998654816523,
          0.9051218108852752,
          0.14618559623315341,
          0.31466443511763487,
          0.3879173171179358,
          -0.13602702775758238,
          -0.20229107248405542,
          0.1312551692725429,
          0.7657452778482757,
          -1.2969540759673137,
          -0.7525532691354485,
          0.3375024417733412,
          -2.152534835068167,
          -1.2672607327528433,
          1.240409131065859,
          1.1770976240664932,
          -1.603010773610958,
          -0.237769129998576,
          -0.897073434357532,
          -0.9488046371465231,
          0.6581283215809342,
          -0.06199463793937336,
          -0.8913999214397087,
          0.4416057732101811,
          0.6416648824250734,
          1.4767731563075561,
          -0.8614378000150077,
          1.0656352143878887,
          -1.145896856232693,
          -0.4880349854953325,
          0.5836904660158005,
          0.7939388605800349,
          1.4499445941855056,
          0.9854561681177022,
          0.34020877181506953,
          0.7235608805617902,
          0.5377245985934934,
          0.3493967640908654,
          1.7702394754577686,
          -0.03111817077616619,
          1.0432325635583046,
          -0.06443575244437817,
          -1.1069474415167795,
          1.7477037930677306,
          1.1762878474972331,
          0.29762924979802713,
          -0.1934011522487943,
          -1.1299835327263392,
          0.25635755789500264,
          -1.401477366719103,
          -1.3245095525725623,
          0.29160187861069464,
          0.6029746174004685,
          -0.308557547221511,
          0.4159428841252249
         ]
        }
       ],
       "layout": {
        "legend": {
         "bgcolor": "#F5F6F9",
         "font": {
          "color": "#4D5663"
         }
        },
        "paper_bgcolor": "#F5F6F9",
        "plot_bgcolor": "#F5F6F9",
        "template": {
         "data": {
          "bar": [
           {
            "error_x": {
             "color": "#2a3f5f"
            },
            "error_y": {
             "color": "#2a3f5f"
            },
            "marker": {
             "line": {
              "color": "#E5ECF6",
              "width": 0.5
             }
            },
            "type": "bar"
           }
          ],
          "barpolar": [
           {
            "marker": {
             "line": {
              "color": "#E5ECF6",
              "width": 0.5
             }
            },
            "type": "barpolar"
           }
          ],
          "carpet": [
           {
            "aaxis": {
             "endlinecolor": "#2a3f5f",
             "gridcolor": "white",
             "linecolor": "white",
             "minorgridcolor": "white",
             "startlinecolor": "#2a3f5f"
            },
            "baxis": {
             "endlinecolor": "#2a3f5f",
             "gridcolor": "white",
             "linecolor": "white",
             "minorgridcolor": "white",
             "startlinecolor": "#2a3f5f"
            },
            "type": "carpet"
           }
          ],
          "choropleth": [
           {
            "colorbar": {
             "outlinewidth": 0,
             "ticks": ""
            },
            "type": "choropleth"
           }
          ],
          "contour": [
           {
            "colorbar": {
             "outlinewidth": 0,
             "ticks": ""
            },
            "colorscale": [
             [
              0,
              "#0d0887"
             ],
             [
              0.1111111111111111,
              "#46039f"
             ],
             [
              0.2222222222222222,
              "#7201a8"
             ],
             [
              0.3333333333333333,
              "#9c179e"
             ],
             [
              0.4444444444444444,
              "#bd3786"
             ],
             [
              0.5555555555555556,
              "#d8576b"
             ],
             [
              0.6666666666666666,
              "#ed7953"
             ],
             [
              0.7777777777777778,
              "#fb9f3a"
             ],
             [
              0.8888888888888888,
              "#fdca26"
             ],
             [
              1,
              "#f0f921"
             ]
            ],
            "type": "contour"
           }
          ],
          "contourcarpet": [
           {
            "colorbar": {
             "outlinewidth": 0,
             "ticks": ""
            },
            "type": "contourcarpet"
           }
          ],
          "heatmap": [
           {
            "colorbar": {
             "outlinewidth": 0,
             "ticks": ""
            },
            "colorscale": [
             [
              0,
              "#0d0887"
             ],
             [
              0.1111111111111111,
              "#46039f"
             ],
             [
              0.2222222222222222,
              "#7201a8"
             ],
             [
              0.3333333333333333,
              "#9c179e"
             ],
             [
              0.4444444444444444,
              "#bd3786"
             ],
             [
              0.5555555555555556,
              "#d8576b"
             ],
             [
              0.6666666666666666,
              "#ed7953"
             ],
             [
              0.7777777777777778,
              "#fb9f3a"
             ],
             [
              0.8888888888888888,
              "#fdca26"
             ],
             [
              1,
              "#f0f921"
             ]
            ],
            "type": "heatmap"
           }
          ],
          "heatmapgl": [
           {
            "colorbar": {
             "outlinewidth": 0,
             "ticks": ""
            },
            "colorscale": [
             [
              0,
              "#0d0887"
             ],
             [
              0.1111111111111111,
              "#46039f"
             ],
             [
              0.2222222222222222,
              "#7201a8"
             ],
             [
              0.3333333333333333,
              "#9c179e"
             ],
             [
              0.4444444444444444,
              "#bd3786"
             ],
             [
              0.5555555555555556,
              "#d8576b"
             ],
             [
              0.6666666666666666,
              "#ed7953"
             ],
             [
              0.7777777777777778,
              "#fb9f3a"
             ],
             [
              0.8888888888888888,
              "#fdca26"
             ],
             [
              1,
              "#f0f921"
             ]
            ],
            "type": "heatmapgl"
           }
          ],
          "histogram": [
           {
            "marker": {
             "colorbar": {
              "outlinewidth": 0,
              "ticks": ""
             }
            },
            "type": "histogram"
           }
          ],
          "histogram2d": [
           {
            "colorbar": {
             "outlinewidth": 0,
             "ticks": ""
            },
            "colorscale": [
             [
              0,
              "#0d0887"
             ],
             [
              0.1111111111111111,
              "#46039f"
             ],
             [
              0.2222222222222222,
              "#7201a8"
             ],
             [
              0.3333333333333333,
              "#9c179e"
             ],
             [
              0.4444444444444444,
              "#bd3786"
             ],
             [
              0.5555555555555556,
              "#d8576b"
             ],
             [
              0.6666666666666666,
              "#ed7953"
             ],
             [
              0.7777777777777778,
              "#fb9f3a"
             ],
             [
              0.8888888888888888,
              "#fdca26"
             ],
             [
              1,
              "#f0f921"
             ]
            ],
            "type": "histogram2d"
           }
          ],
          "histogram2dcontour": [
           {
            "colorbar": {
             "outlinewidth": 0,
             "ticks": ""
            },
            "colorscale": [
             [
              0,
              "#0d0887"
             ],
             [
              0.1111111111111111,
              "#46039f"
             ],
             [
              0.2222222222222222,
              "#7201a8"
             ],
             [
              0.3333333333333333,
              "#9c179e"
             ],
             [
              0.4444444444444444,
              "#bd3786"
             ],
             [
              0.5555555555555556,
              "#d8576b"
             ],
             [
              0.6666666666666666,
              "#ed7953"
             ],
             [
              0.7777777777777778,
              "#fb9f3a"
             ],
             [
              0.8888888888888888,
              "#fdca26"
             ],
             [
              1,
              "#f0f921"
             ]
            ],
            "type": "histogram2dcontour"
           }
          ],
          "mesh3d": [
           {
            "colorbar": {
             "outlinewidth": 0,
             "ticks": ""
            },
            "type": "mesh3d"
           }
          ],
          "parcoords": [
           {
            "line": {
             "colorbar": {
              "outlinewidth": 0,
              "ticks": ""
             }
            },
            "type": "parcoords"
           }
          ],
          "pie": [
           {
            "automargin": true,
            "type": "pie"
           }
          ],
          "scatter": [
           {
            "marker": {
             "colorbar": {
              "outlinewidth": 0,
              "ticks": ""
             }
            },
            "type": "scatter"
           }
          ],
          "scatter3d": [
           {
            "line": {
             "colorbar": {
              "outlinewidth": 0,
              "ticks": ""
             }
            },
            "marker": {
             "colorbar": {
              "outlinewidth": 0,
              "ticks": ""
             }
            },
            "type": "scatter3d"
           }
          ],
          "scattercarpet": [
           {
            "marker": {
             "colorbar": {
              "outlinewidth": 0,
              "ticks": ""
             }
            },
            "type": "scattercarpet"
           }
          ],
          "scattergeo": [
           {
            "marker": {
             "colorbar": {
              "outlinewidth": 0,
              "ticks": ""
             }
            },
            "type": "scattergeo"
           }
          ],
          "scattergl": [
           {
            "marker": {
             "colorbar": {
              "outlinewidth": 0,
              "ticks": ""
             }
            },
            "type": "scattergl"
           }
          ],
          "scattermapbox": [
           {
            "marker": {
             "colorbar": {
              "outlinewidth": 0,
              "ticks": ""
             }
            },
            "type": "scattermapbox"
           }
          ],
          "scatterpolar": [
           {
            "marker": {
             "colorbar": {
              "outlinewidth": 0,
              "ticks": ""
             }
            },
            "type": "scatterpolar"
           }
          ],
          "scatterpolargl": [
           {
            "marker": {
             "colorbar": {
              "outlinewidth": 0,
              "ticks": ""
             }
            },
            "type": "scatterpolargl"
           }
          ],
          "scatterternary": [
           {
            "marker": {
             "colorbar": {
              "outlinewidth": 0,
              "ticks": ""
             }
            },
            "type": "scatterternary"
           }
          ],
          "surface": [
           {
            "colorbar": {
             "outlinewidth": 0,
             "ticks": ""
            },
            "colorscale": [
             [
              0,
              "#0d0887"
             ],
             [
              0.1111111111111111,
              "#46039f"
             ],
             [
              0.2222222222222222,
              "#7201a8"
             ],
             [
              0.3333333333333333,
              "#9c179e"
             ],
             [
              0.4444444444444444,
              "#bd3786"
             ],
             [
              0.5555555555555556,
              "#d8576b"
             ],
             [
              0.6666666666666666,
              "#ed7953"
             ],
             [
              0.7777777777777778,
              "#fb9f3a"
             ],
             [
              0.8888888888888888,
              "#fdca26"
             ],
             [
              1,
              "#f0f921"
             ]
            ],
            "type": "surface"
           }
          ],
          "table": [
           {
            "cells": {
             "fill": {
              "color": "#EBF0F8"
             },
             "line": {
              "color": "white"
             }
            },
            "header": {
             "fill": {
              "color": "#C8D4E3"
             },
             "line": {
              "color": "white"
             }
            },
            "type": "table"
           }
          ]
         },
         "layout": {
          "annotationdefaults": {
           "arrowcolor": "#2a3f5f",
           "arrowhead": 0,
           "arrowwidth": 1
          },
          "autotypenumbers": "strict",
          "coloraxis": {
           "colorbar": {
            "outlinewidth": 0,
            "ticks": ""
           }
          },
          "colorscale": {
           "diverging": [
            [
             0,
             "#8e0152"
            ],
            [
             0.1,
             "#c51b7d"
            ],
            [
             0.2,
             "#de77ae"
            ],
            [
             0.3,
             "#f1b6da"
            ],
            [
             0.4,
             "#fde0ef"
            ],
            [
             0.5,
             "#f7f7f7"
            ],
            [
             0.6,
             "#e6f5d0"
            ],
            [
             0.7,
             "#b8e186"
            ],
            [
             0.8,
             "#7fbc41"
            ],
            [
             0.9,
             "#4d9221"
            ],
            [
             1,
             "#276419"
            ]
           ],
           "sequential": [
            [
             0,
             "#0d0887"
            ],
            [
             0.1111111111111111,
             "#46039f"
            ],
            [
             0.2222222222222222,
             "#7201a8"
            ],
            [
             0.3333333333333333,
             "#9c179e"
            ],
            [
             0.4444444444444444,
             "#bd3786"
            ],
            [
             0.5555555555555556,
             "#d8576b"
            ],
            [
             0.6666666666666666,
             "#ed7953"
            ],
            [
             0.7777777777777778,
             "#fb9f3a"
            ],
            [
             0.8888888888888888,
             "#fdca26"
            ],
            [
             1,
             "#f0f921"
            ]
           ],
           "sequentialminus": [
            [
             0,
             "#0d0887"
            ],
            [
             0.1111111111111111,
             "#46039f"
            ],
            [
             0.2222222222222222,
             "#7201a8"
            ],
            [
             0.3333333333333333,
             "#9c179e"
            ],
            [
             0.4444444444444444,
             "#bd3786"
            ],
            [
             0.5555555555555556,
             "#d8576b"
            ],
            [
             0.6666666666666666,
             "#ed7953"
            ],
            [
             0.7777777777777778,
             "#fb9f3a"
            ],
            [
             0.8888888888888888,
             "#fdca26"
            ],
            [
             1,
             "#f0f921"
            ]
           ]
          },
          "colorway": [
           "#636efa",
           "#EF553B",
           "#00cc96",
           "#ab63fa",
           "#FFA15A",
           "#19d3f3",
           "#FF6692",
           "#B6E880",
           "#FF97FF",
           "#FECB52"
          ],
          "font": {
           "color": "#2a3f5f"
          },
          "geo": {
           "bgcolor": "white",
           "lakecolor": "white",
           "landcolor": "#E5ECF6",
           "showlakes": true,
           "showland": true,
           "subunitcolor": "white"
          },
          "hoverlabel": {
           "align": "left"
          },
          "hovermode": "closest",
          "mapbox": {
           "style": "light"
          },
          "paper_bgcolor": "white",
          "plot_bgcolor": "#E5ECF6",
          "polar": {
           "angularaxis": {
            "gridcolor": "white",
            "linecolor": "white",
            "ticks": ""
           },
           "bgcolor": "#E5ECF6",
           "radialaxis": {
            "gridcolor": "white",
            "linecolor": "white",
            "ticks": ""
           }
          },
          "scene": {
           "xaxis": {
            "backgroundcolor": "#E5ECF6",
            "gridcolor": "white",
            "gridwidth": 2,
            "linecolor": "white",
            "showbackground": true,
            "ticks": "",
            "zerolinecolor": "white"
           },
           "yaxis": {
            "backgroundcolor": "#E5ECF6",
            "gridcolor": "white",
            "gridwidth": 2,
            "linecolor": "white",
            "showbackground": true,
            "ticks": "",
            "zerolinecolor": "white"
           },
           "zaxis": {
            "backgroundcolor": "#E5ECF6",
            "gridcolor": "white",
            "gridwidth": 2,
            "linecolor": "white",
            "showbackground": true,
            "ticks": "",
            "zerolinecolor": "white"
           }
          },
          "shapedefaults": {
           "line": {
            "color": "#2a3f5f"
           }
          },
          "ternary": {
           "aaxis": {
            "gridcolor": "white",
            "linecolor": "white",
            "ticks": ""
           },
           "baxis": {
            "gridcolor": "white",
            "linecolor": "white",
            "ticks": ""
           },
           "bgcolor": "#E5ECF6",
           "caxis": {
            "gridcolor": "white",
            "linecolor": "white",
            "ticks": ""
           }
          },
          "title": {
           "x": 0.05
          },
          "xaxis": {
           "automargin": true,
           "gridcolor": "white",
           "linecolor": "white",
           "ticks": "",
           "title": {
            "standoff": 15
           },
           "zerolinecolor": "white",
           "zerolinewidth": 2
          },
          "yaxis": {
           "automargin": true,
           "gridcolor": "white",
           "linecolor": "white",
           "ticks": "",
           "title": {
            "standoff": 15
           },
           "zerolinecolor": "white",
           "zerolinewidth": 2
          }
         }
        },
        "title": {
         "font": {
          "color": "#4D5663"
         }
        },
        "xaxis": {
         "gridcolor": "#E1E5ED",
         "showgrid": true,
         "tickfont": {
          "color": "#4D5663"
         },
         "title": {
          "font": {
           "color": "#4D5663"
          },
          "text": ""
         },
         "zerolinecolor": "#E1E5ED"
        },
        "yaxis": {
         "gridcolor": "#E1E5ED",
         "showgrid": true,
         "tickfont": {
          "color": "#4D5663"
         },
         "title": {
          "font": {
           "color": "#4D5663"
          },
          "text": ""
         },
         "zerolinecolor": "#E1E5ED"
        }
       }
      },
      "text/html": [
       "<div>                            <div id=\"64b282a4-44af-4815-8bd0-fe530b7e84b0\" class=\"plotly-graph-div\" style=\"height:525px; width:100%;\"></div>            <script type=\"text/javascript\">                require([\"plotly\"], function(Plotly) {                    window.PLOTLYENV=window.PLOTLYENV || {};\n",
       "                    window.PLOTLYENV.BASE_URL='https://plot.ly';                                    if (document.getElementById(\"64b282a4-44af-4815-8bd0-fe530b7e84b0\")) {                    Plotly.newPlot(                        \"64b282a4-44af-4815-8bd0-fe530b7e84b0\",                        [{\"line\": {\"color\": \"rgba(255, 153, 51, 1.0)\", \"dash\": \"solid\", \"shape\": \"linear\", \"width\": 1.3}, \"marker\": {\"size\": 12, \"symbol\": \"circle\"}, \"mode\": \"markers\", \"name\": \"B\", \"text\": \"\", \"type\": \"scatter\", \"x\": [-1.4610241031401339, 0.09525150167714372, -0.029203584395679657, -0.014015621374794238, 1.3061216714143065, -0.31702307455461454, -1.1289839361958052, -0.13699963759455056, -0.6639938504440216, 0.9470923910686199, 1.553358059937682, 0.05045164189835665, 0.05751000634937235, 2.1315144223408105, 0.46274757495098084, -0.17673927911072126, -0.4606921426908111, -0.43086281676434296, -2.1264803113550594, 0.001056488752819712, -0.3059598987663699, 0.9662890754859629, 0.2510262672230263, -0.9617278560791738, 0.048995145654571845, -1.0209156821548113, -0.5691472839815525, 0.4996248117695914, 0.4464570983716666, -0.16336359024926198, 1.262599325533162, -0.38117396654870617, 0.6470503045744972, 1.98286394042055, 0.3984834505594768, 0.7771765568436815, 0.6232338000739429, 1.167642598764409, -0.6183478391013726, 1.2230733527522957, 0.502339193606301, -1.1320171943548307, -0.7080909329004074, 1.2718460327483254, -1.485782893035162, 0.4319773772095389, 0.362675989804671, 1.4424577308111275, 0.32319678124815143, -1.1700283154363498, 1.8634674399731277, 1.3157150735096061, -1.0097525209274345, -1.8188977326440103, 0.32593373911336543, 0.5229234346569209, -0.11081787742866657, -0.4975140914807007, -1.2059467191465185, -1.498419024882172, 2.255904266090674, -0.2302591959967517, -0.6209322962615502, 0.49579609306554884, -0.16989586521007646, 0.46588198032360506, -0.909141855445599, -0.0009026500043386546, 0.48123916040588277, 1.118792923213792, -0.4420688885202043, 0.9751416814442033, -0.03744211472540877, -1.778410999950504, -0.6892087536621391, -0.2385350486172311, 0.019730054488734897, 1.6716799790383337, 1.3566170705713458, 0.8873773894586302, -2.0888727474034563, -0.41046309299992867, -0.5549572208662424, -1.5861279398806762, -0.3540634750924586, 0.6090614019865381, 1.2372628555021594, -0.3429623623702404, -0.1606326504345451, 1.622631579628323, 1.0736460288414729, -0.7629319166489795, -0.5029453305115006, 0.1671892839193268, -1.488441025936215, -0.27038751087145, 0.855741339941454, -0.16881176419721813, -0.16170217362603542, 0.9173449807873943], \"y\": [0.3907902707269141, 0.6943603904272828, -0.5795978735730865, 0.813526262604139, 0.7839931065000858, -0.46753196417464715, 1.0359830523535647, -0.00108728024401313, -0.8081899074223791, -1.7047006560220002, -1.2500075128534878, 0.22565379843725744, 0.8538877104205691, -0.010769431923218427, -0.16471091416661995, 1.1532806339771444, -0.3057147481342851, -0.4072257391625898, 0.33177364843814655, -1.9259607592803352, 0.6328208279632327, 0.09822037368245887, 0.22575815059781187, 0.3342337338883107, 0.20918911354792807, 0.7884841767921292, -1.777038244279568, -0.8943194078336356, 0.7836857923081855, 0.6141031111803202, 0.5733925432595015, -0.049455510335339334, 0.9530936899389951, -1.4516704869032073, 0.5115887243863995, 0.6530646533442895, -0.23318159386226586, -1.319150131657982, 0.09463672775412493, 0.23313384209217008, -0.2983196316579245, -0.5678273244648308, 0.16437722381798814, -0.9296545964289905, 1.0922975549754237, -0.38336998654816523, 0.9051218108852752, 0.14618559623315341, 0.31466443511763487, 0.3879173171179358, -0.13602702775758238, -0.20229107248405542, 0.1312551692725429, 0.7657452778482757, -1.2969540759673137, -0.7525532691354485, 0.3375024417733412, -2.152534835068167, -1.2672607327528433, 1.240409131065859, 1.1770976240664932, -1.603010773610958, -0.237769129998576, -0.897073434357532, -0.9488046371465231, 0.6581283215809342, -0.06199463793937336, -0.8913999214397087, 0.4416057732101811, 0.6416648824250734, 1.4767731563075561, -0.8614378000150077, 1.0656352143878887, -1.145896856232693, -0.4880349854953325, 0.5836904660158005, 0.7939388605800349, 1.4499445941855056, 0.9854561681177022, 0.34020877181506953, 0.7235608805617902, 0.5377245985934934, 0.3493967640908654, 1.7702394754577686, -0.03111817077616619, 1.0432325635583046, -0.06443575244437817, -1.1069474415167795, 1.7477037930677306, 1.1762878474972331, 0.29762924979802713, -0.1934011522487943, -1.1299835327263392, 0.25635755789500264, -1.401477366719103, -1.3245095525725623, 0.29160187861069464, 0.6029746174004685, -0.308557547221511, 0.4159428841252249]}],                        {\"legend\": {\"bgcolor\": \"#F5F6F9\", \"font\": {\"color\": \"#4D5663\"}}, \"paper_bgcolor\": \"#F5F6F9\", \"plot_bgcolor\": \"#F5F6F9\", \"template\": {\"data\": {\"bar\": [{\"error_x\": {\"color\": \"#2a3f5f\"}, \"error_y\": {\"color\": \"#2a3f5f\"}, \"marker\": {\"line\": {\"color\": \"#E5ECF6\", \"width\": 0.5}}, \"type\": \"bar\"}], \"barpolar\": [{\"marker\": {\"line\": {\"color\": \"#E5ECF6\", \"width\": 0.5}}, \"type\": \"barpolar\"}], \"carpet\": [{\"aaxis\": {\"endlinecolor\": \"#2a3f5f\", \"gridcolor\": \"white\", \"linecolor\": \"white\", \"minorgridcolor\": \"white\", \"startlinecolor\": \"#2a3f5f\"}, \"baxis\": {\"endlinecolor\": \"#2a3f5f\", \"gridcolor\": \"white\", \"linecolor\": \"white\", \"minorgridcolor\": \"white\", \"startlinecolor\": \"#2a3f5f\"}, \"type\": \"carpet\"}], \"choropleth\": [{\"colorbar\": {\"outlinewidth\": 0, \"ticks\": \"\"}, \"type\": \"choropleth\"}], \"contour\": [{\"colorbar\": {\"outlinewidth\": 0, \"ticks\": \"\"}, \"colorscale\": [[0.0, \"#0d0887\"], [0.1111111111111111, \"#46039f\"], [0.2222222222222222, \"#7201a8\"], [0.3333333333333333, \"#9c179e\"], [0.4444444444444444, \"#bd3786\"], [0.5555555555555556, \"#d8576b\"], [0.6666666666666666, \"#ed7953\"], [0.7777777777777778, \"#fb9f3a\"], [0.8888888888888888, \"#fdca26\"], [1.0, \"#f0f921\"]], \"type\": \"contour\"}], \"contourcarpet\": [{\"colorbar\": {\"outlinewidth\": 0, \"ticks\": \"\"}, \"type\": \"contourcarpet\"}], \"heatmap\": [{\"colorbar\": {\"outlinewidth\": 0, \"ticks\": \"\"}, \"colorscale\": [[0.0, \"#0d0887\"], [0.1111111111111111, \"#46039f\"], [0.2222222222222222, \"#7201a8\"], [0.3333333333333333, \"#9c179e\"], [0.4444444444444444, \"#bd3786\"], [0.5555555555555556, \"#d8576b\"], [0.6666666666666666, \"#ed7953\"], [0.7777777777777778, \"#fb9f3a\"], [0.8888888888888888, \"#fdca26\"], [1.0, \"#f0f921\"]], \"type\": \"heatmap\"}], \"heatmapgl\": [{\"colorbar\": {\"outlinewidth\": 0, \"ticks\": \"\"}, \"colorscale\": [[0.0, \"#0d0887\"], [0.1111111111111111, \"#46039f\"], [0.2222222222222222, \"#7201a8\"], [0.3333333333333333, \"#9c179e\"], [0.4444444444444444, \"#bd3786\"], [0.5555555555555556, \"#d8576b\"], [0.6666666666666666, \"#ed7953\"], [0.7777777777777778, \"#fb9f3a\"], [0.8888888888888888, \"#fdca26\"], [1.0, \"#f0f921\"]], \"type\": \"heatmapgl\"}], \"histogram\": [{\"marker\": {\"colorbar\": {\"outlinewidth\": 0, \"ticks\": \"\"}}, \"type\": \"histogram\"}], \"histogram2d\": [{\"colorbar\": {\"outlinewidth\": 0, \"ticks\": \"\"}, \"colorscale\": [[0.0, \"#0d0887\"], [0.1111111111111111, \"#46039f\"], [0.2222222222222222, \"#7201a8\"], [0.3333333333333333, \"#9c179e\"], [0.4444444444444444, \"#bd3786\"], [0.5555555555555556, \"#d8576b\"], [0.6666666666666666, \"#ed7953\"], [0.7777777777777778, \"#fb9f3a\"], [0.8888888888888888, \"#fdca26\"], [1.0, \"#f0f921\"]], \"type\": \"histogram2d\"}], \"histogram2dcontour\": [{\"colorbar\": {\"outlinewidth\": 0, \"ticks\": \"\"}, \"colorscale\": [[0.0, \"#0d0887\"], [0.1111111111111111, \"#46039f\"], [0.2222222222222222, \"#7201a8\"], [0.3333333333333333, \"#9c179e\"], [0.4444444444444444, \"#bd3786\"], [0.5555555555555556, \"#d8576b\"], [0.6666666666666666, \"#ed7953\"], [0.7777777777777778, \"#fb9f3a\"], [0.8888888888888888, \"#fdca26\"], [1.0, \"#f0f921\"]], \"type\": \"histogram2dcontour\"}], \"mesh3d\": [{\"colorbar\": {\"outlinewidth\": 0, \"ticks\": \"\"}, \"type\": \"mesh3d\"}], \"parcoords\": [{\"line\": {\"colorbar\": {\"outlinewidth\": 0, \"ticks\": \"\"}}, \"type\": \"parcoords\"}], \"pie\": [{\"automargin\": true, \"type\": \"pie\"}], \"scatter\": [{\"marker\": {\"colorbar\": {\"outlinewidth\": 0, \"ticks\": \"\"}}, \"type\": \"scatter\"}], \"scatter3d\": [{\"line\": {\"colorbar\": {\"outlinewidth\": 0, \"ticks\": \"\"}}, \"marker\": {\"colorbar\": {\"outlinewidth\": 0, \"ticks\": \"\"}}, \"type\": \"scatter3d\"}], \"scattercarpet\": [{\"marker\": {\"colorbar\": {\"outlinewidth\": 0, \"ticks\": \"\"}}, \"type\": \"scattercarpet\"}], \"scattergeo\": [{\"marker\": {\"colorbar\": {\"outlinewidth\": 0, \"ticks\": \"\"}}, \"type\": \"scattergeo\"}], \"scattergl\": [{\"marker\": {\"colorbar\": {\"outlinewidth\": 0, \"ticks\": \"\"}}, \"type\": \"scattergl\"}], \"scattermapbox\": [{\"marker\": {\"colorbar\": {\"outlinewidth\": 0, \"ticks\": \"\"}}, \"type\": \"scattermapbox\"}], \"scatterpolar\": [{\"marker\": {\"colorbar\": {\"outlinewidth\": 0, \"ticks\": \"\"}}, \"type\": \"scatterpolar\"}], \"scatterpolargl\": [{\"marker\": {\"colorbar\": {\"outlinewidth\": 0, \"ticks\": \"\"}}, \"type\": \"scatterpolargl\"}], \"scatterternary\": [{\"marker\": {\"colorbar\": {\"outlinewidth\": 0, \"ticks\": \"\"}}, \"type\": \"scatterternary\"}], \"surface\": [{\"colorbar\": {\"outlinewidth\": 0, \"ticks\": \"\"}, \"colorscale\": [[0.0, \"#0d0887\"], [0.1111111111111111, \"#46039f\"], [0.2222222222222222, \"#7201a8\"], [0.3333333333333333, \"#9c179e\"], [0.4444444444444444, \"#bd3786\"], [0.5555555555555556, \"#d8576b\"], [0.6666666666666666, \"#ed7953\"], [0.7777777777777778, \"#fb9f3a\"], [0.8888888888888888, \"#fdca26\"], [1.0, \"#f0f921\"]], \"type\": \"surface\"}], \"table\": [{\"cells\": {\"fill\": {\"color\": \"#EBF0F8\"}, \"line\": {\"color\": \"white\"}}, \"header\": {\"fill\": {\"color\": \"#C8D4E3\"}, \"line\": {\"color\": \"white\"}}, \"type\": \"table\"}]}, \"layout\": {\"annotationdefaults\": {\"arrowcolor\": \"#2a3f5f\", \"arrowhead\": 0, \"arrowwidth\": 1}, \"autotypenumbers\": \"strict\", \"coloraxis\": {\"colorbar\": {\"outlinewidth\": 0, \"ticks\": \"\"}}, \"colorscale\": {\"diverging\": [[0, \"#8e0152\"], [0.1, \"#c51b7d\"], [0.2, \"#de77ae\"], [0.3, \"#f1b6da\"], [0.4, \"#fde0ef\"], [0.5, \"#f7f7f7\"], [0.6, \"#e6f5d0\"], [0.7, \"#b8e186\"], [0.8, \"#7fbc41\"], [0.9, \"#4d9221\"], [1, \"#276419\"]], \"sequential\": [[0.0, \"#0d0887\"], [0.1111111111111111, \"#46039f\"], [0.2222222222222222, \"#7201a8\"], [0.3333333333333333, \"#9c179e\"], [0.4444444444444444, \"#bd3786\"], [0.5555555555555556, \"#d8576b\"], [0.6666666666666666, \"#ed7953\"], [0.7777777777777778, \"#fb9f3a\"], [0.8888888888888888, \"#fdca26\"], [1.0, \"#f0f921\"]], \"sequentialminus\": [[0.0, \"#0d0887\"], [0.1111111111111111, \"#46039f\"], [0.2222222222222222, \"#7201a8\"], [0.3333333333333333, \"#9c179e\"], [0.4444444444444444, \"#bd3786\"], [0.5555555555555556, \"#d8576b\"], [0.6666666666666666, \"#ed7953\"], [0.7777777777777778, \"#fb9f3a\"], [0.8888888888888888, \"#fdca26\"], [1.0, \"#f0f921\"]]}, \"colorway\": [\"#636efa\", \"#EF553B\", \"#00cc96\", \"#ab63fa\", \"#FFA15A\", \"#19d3f3\", \"#FF6692\", \"#B6E880\", \"#FF97FF\", \"#FECB52\"], \"font\": {\"color\": \"#2a3f5f\"}, \"geo\": {\"bgcolor\": \"white\", \"lakecolor\": \"white\", \"landcolor\": \"#E5ECF6\", \"showlakes\": true, \"showland\": true, \"subunitcolor\": \"white\"}, \"hoverlabel\": {\"align\": \"left\"}, \"hovermode\": \"closest\", \"mapbox\": {\"style\": \"light\"}, \"paper_bgcolor\": \"white\", \"plot_bgcolor\": \"#E5ECF6\", \"polar\": {\"angularaxis\": {\"gridcolor\": \"white\", \"linecolor\": \"white\", \"ticks\": \"\"}, \"bgcolor\": \"#E5ECF6\", \"radialaxis\": {\"gridcolor\": \"white\", \"linecolor\": \"white\", \"ticks\": \"\"}}, \"scene\": {\"xaxis\": {\"backgroundcolor\": \"#E5ECF6\", \"gridcolor\": \"white\", \"gridwidth\": 2, \"linecolor\": \"white\", \"showbackground\": true, \"ticks\": \"\", \"zerolinecolor\": \"white\"}, \"yaxis\": {\"backgroundcolor\": \"#E5ECF6\", \"gridcolor\": \"white\", \"gridwidth\": 2, \"linecolor\": \"white\", \"showbackground\": true, \"ticks\": \"\", \"zerolinecolor\": \"white\"}, \"zaxis\": {\"backgroundcolor\": \"#E5ECF6\", \"gridcolor\": \"white\", \"gridwidth\": 2, \"linecolor\": \"white\", \"showbackground\": true, \"ticks\": \"\", \"zerolinecolor\": \"white\"}}, \"shapedefaults\": {\"line\": {\"color\": \"#2a3f5f\"}}, \"ternary\": {\"aaxis\": {\"gridcolor\": \"white\", \"linecolor\": \"white\", \"ticks\": \"\"}, \"baxis\": {\"gridcolor\": \"white\", \"linecolor\": \"white\", \"ticks\": \"\"}, \"bgcolor\": \"#E5ECF6\", \"caxis\": {\"gridcolor\": \"white\", \"linecolor\": \"white\", \"ticks\": \"\"}}, \"title\": {\"x\": 0.05}, \"xaxis\": {\"automargin\": true, \"gridcolor\": \"white\", \"linecolor\": \"white\", \"ticks\": \"\", \"title\": {\"standoff\": 15}, \"zerolinecolor\": \"white\", \"zerolinewidth\": 2}, \"yaxis\": {\"automargin\": true, \"gridcolor\": \"white\", \"linecolor\": \"white\", \"ticks\": \"\", \"title\": {\"standoff\": 15}, \"zerolinecolor\": \"white\", \"zerolinewidth\": 2}}}, \"title\": {\"font\": {\"color\": \"#4D5663\"}}, \"xaxis\": {\"gridcolor\": \"#E1E5ED\", \"showgrid\": true, \"tickfont\": {\"color\": \"#4D5663\"}, \"title\": {\"font\": {\"color\": \"#4D5663\"}, \"text\": \"\"}, \"zerolinecolor\": \"#E1E5ED\"}, \"yaxis\": {\"gridcolor\": \"#E1E5ED\", \"showgrid\": true, \"tickfont\": {\"color\": \"#4D5663\"}, \"title\": {\"font\": {\"color\": \"#4D5663\"}, \"text\": \"\"}, \"zerolinecolor\": \"#E1E5ED\"}},                        {\"showLink\": true, \"linkText\": \"Export to plot.ly\", \"plotlyServerURL\": \"https://plot.ly\", \"responsive\": true}                    ).then(function(){\n",
       "                            \n",
       "var gd = document.getElementById('64b282a4-44af-4815-8bd0-fe530b7e84b0');\n",
       "var x = new MutationObserver(function (mutations, observer) {{\n",
       "        var display = window.getComputedStyle(gd).display;\n",
       "        if (!display || display === 'none') {{\n",
       "            console.log([gd, 'removed!']);\n",
       "            Plotly.purge(gd);\n",
       "            observer.disconnect();\n",
       "        }}\n",
       "}});\n",
       "\n",
       "// Listen for the removal of the full notebook cells\n",
       "var notebookContainer = gd.closest('#notebook-container');\n",
       "if (notebookContainer) {{\n",
       "    x.observe(notebookContainer, {childList: true});\n",
       "}}\n",
       "\n",
       "// Listen for the clearing of the current output cell\n",
       "var outputEl = gd.closest('.output');\n",
       "if (outputEl) {{\n",
       "    x.observe(outputEl, {childList: true});\n",
       "}}\n",
       "\n",
       "                        })                };                });            </script>        </div>"
      ]
     },
     "metadata": {},
     "output_type": "display_data"
    }
   ],
   "source": [
    "df.iplot(kind = 'scatter', x = 'A', y = 'B', mode = 'markers')"
   ]
  },
  {
   "cell_type": "markdown",
   "metadata": {},
   "source": [
    "### Gráfico de Barras"
   ]
  },
  {
   "cell_type": "code",
   "execution_count": 9,
   "metadata": {},
   "outputs": [
    {
     "data": {
      "application/vnd.plotly.v1+json": {
       "config": {
        "linkText": "Export to plot.ly",
        "plotlyServerURL": "https://plot.ly",
        "showLink": true
       },
       "data": [
        {
         "marker": {
          "color": "rgba(255, 153, 51, 0.6)",
          "line": {
           "color": "rgba(255, 153, 51, 1.0)",
           "width": 1
          }
         },
         "name": "None",
         "orientation": "v",
         "text": "",
         "type": "bar",
         "x": [
          "A",
          "B",
          "C",
          "D"
         ],
         "y": [
          5.899171691834698,
          3.2679688295219154,
          1.8166952157433252,
          -0.8028223325988098
         ]
        }
       ],
       "layout": {
        "legend": {
         "bgcolor": "#F5F6F9",
         "font": {
          "color": "#4D5663"
         }
        },
        "paper_bgcolor": "#F5F6F9",
        "plot_bgcolor": "#F5F6F9",
        "template": {
         "data": {
          "bar": [
           {
            "error_x": {
             "color": "#2a3f5f"
            },
            "error_y": {
             "color": "#2a3f5f"
            },
            "marker": {
             "line": {
              "color": "#E5ECF6",
              "width": 0.5
             }
            },
            "type": "bar"
           }
          ],
          "barpolar": [
           {
            "marker": {
             "line": {
              "color": "#E5ECF6",
              "width": 0.5
             }
            },
            "type": "barpolar"
           }
          ],
          "carpet": [
           {
            "aaxis": {
             "endlinecolor": "#2a3f5f",
             "gridcolor": "white",
             "linecolor": "white",
             "minorgridcolor": "white",
             "startlinecolor": "#2a3f5f"
            },
            "baxis": {
             "endlinecolor": "#2a3f5f",
             "gridcolor": "white",
             "linecolor": "white",
             "minorgridcolor": "white",
             "startlinecolor": "#2a3f5f"
            },
            "type": "carpet"
           }
          ],
          "choropleth": [
           {
            "colorbar": {
             "outlinewidth": 0,
             "ticks": ""
            },
            "type": "choropleth"
           }
          ],
          "contour": [
           {
            "colorbar": {
             "outlinewidth": 0,
             "ticks": ""
            },
            "colorscale": [
             [
              0,
              "#0d0887"
             ],
             [
              0.1111111111111111,
              "#46039f"
             ],
             [
              0.2222222222222222,
              "#7201a8"
             ],
             [
              0.3333333333333333,
              "#9c179e"
             ],
             [
              0.4444444444444444,
              "#bd3786"
             ],
             [
              0.5555555555555556,
              "#d8576b"
             ],
             [
              0.6666666666666666,
              "#ed7953"
             ],
             [
              0.7777777777777778,
              "#fb9f3a"
             ],
             [
              0.8888888888888888,
              "#fdca26"
             ],
             [
              1,
              "#f0f921"
             ]
            ],
            "type": "contour"
           }
          ],
          "contourcarpet": [
           {
            "colorbar": {
             "outlinewidth": 0,
             "ticks": ""
            },
            "type": "contourcarpet"
           }
          ],
          "heatmap": [
           {
            "colorbar": {
             "outlinewidth": 0,
             "ticks": ""
            },
            "colorscale": [
             [
              0,
              "#0d0887"
             ],
             [
              0.1111111111111111,
              "#46039f"
             ],
             [
              0.2222222222222222,
              "#7201a8"
             ],
             [
              0.3333333333333333,
              "#9c179e"
             ],
             [
              0.4444444444444444,
              "#bd3786"
             ],
             [
              0.5555555555555556,
              "#d8576b"
             ],
             [
              0.6666666666666666,
              "#ed7953"
             ],
             [
              0.7777777777777778,
              "#fb9f3a"
             ],
             [
              0.8888888888888888,
              "#fdca26"
             ],
             [
              1,
              "#f0f921"
             ]
            ],
            "type": "heatmap"
           }
          ],
          "heatmapgl": [
           {
            "colorbar": {
             "outlinewidth": 0,
             "ticks": ""
            },
            "colorscale": [
             [
              0,
              "#0d0887"
             ],
             [
              0.1111111111111111,
              "#46039f"
             ],
             [
              0.2222222222222222,
              "#7201a8"
             ],
             [
              0.3333333333333333,
              "#9c179e"
             ],
             [
              0.4444444444444444,
              "#bd3786"
             ],
             [
              0.5555555555555556,
              "#d8576b"
             ],
             [
              0.6666666666666666,
              "#ed7953"
             ],
             [
              0.7777777777777778,
              "#fb9f3a"
             ],
             [
              0.8888888888888888,
              "#fdca26"
             ],
             [
              1,
              "#f0f921"
             ]
            ],
            "type": "heatmapgl"
           }
          ],
          "histogram": [
           {
            "marker": {
             "colorbar": {
              "outlinewidth": 0,
              "ticks": ""
             }
            },
            "type": "histogram"
           }
          ],
          "histogram2d": [
           {
            "colorbar": {
             "outlinewidth": 0,
             "ticks": ""
            },
            "colorscale": [
             [
              0,
              "#0d0887"
             ],
             [
              0.1111111111111111,
              "#46039f"
             ],
             [
              0.2222222222222222,
              "#7201a8"
             ],
             [
              0.3333333333333333,
              "#9c179e"
             ],
             [
              0.4444444444444444,
              "#bd3786"
             ],
             [
              0.5555555555555556,
              "#d8576b"
             ],
             [
              0.6666666666666666,
              "#ed7953"
             ],
             [
              0.7777777777777778,
              "#fb9f3a"
             ],
             [
              0.8888888888888888,
              "#fdca26"
             ],
             [
              1,
              "#f0f921"
             ]
            ],
            "type": "histogram2d"
           }
          ],
          "histogram2dcontour": [
           {
            "colorbar": {
             "outlinewidth": 0,
             "ticks": ""
            },
            "colorscale": [
             [
              0,
              "#0d0887"
             ],
             [
              0.1111111111111111,
              "#46039f"
             ],
             [
              0.2222222222222222,
              "#7201a8"
             ],
             [
              0.3333333333333333,
              "#9c179e"
             ],
             [
              0.4444444444444444,
              "#bd3786"
             ],
             [
              0.5555555555555556,
              "#d8576b"
             ],
             [
              0.6666666666666666,
              "#ed7953"
             ],
             [
              0.7777777777777778,
              "#fb9f3a"
             ],
             [
              0.8888888888888888,
              "#fdca26"
             ],
             [
              1,
              "#f0f921"
             ]
            ],
            "type": "histogram2dcontour"
           }
          ],
          "mesh3d": [
           {
            "colorbar": {
             "outlinewidth": 0,
             "ticks": ""
            },
            "type": "mesh3d"
           }
          ],
          "parcoords": [
           {
            "line": {
             "colorbar": {
              "outlinewidth": 0,
              "ticks": ""
             }
            },
            "type": "parcoords"
           }
          ],
          "pie": [
           {
            "automargin": true,
            "type": "pie"
           }
          ],
          "scatter": [
           {
            "marker": {
             "colorbar": {
              "outlinewidth": 0,
              "ticks": ""
             }
            },
            "type": "scatter"
           }
          ],
          "scatter3d": [
           {
            "line": {
             "colorbar": {
              "outlinewidth": 0,
              "ticks": ""
             }
            },
            "marker": {
             "colorbar": {
              "outlinewidth": 0,
              "ticks": ""
             }
            },
            "type": "scatter3d"
           }
          ],
          "scattercarpet": [
           {
            "marker": {
             "colorbar": {
              "outlinewidth": 0,
              "ticks": ""
             }
            },
            "type": "scattercarpet"
           }
          ],
          "scattergeo": [
           {
            "marker": {
             "colorbar": {
              "outlinewidth": 0,
              "ticks": ""
             }
            },
            "type": "scattergeo"
           }
          ],
          "scattergl": [
           {
            "marker": {
             "colorbar": {
              "outlinewidth": 0,
              "ticks": ""
             }
            },
            "type": "scattergl"
           }
          ],
          "scattermapbox": [
           {
            "marker": {
             "colorbar": {
              "outlinewidth": 0,
              "ticks": ""
             }
            },
            "type": "scattermapbox"
           }
          ],
          "scatterpolar": [
           {
            "marker": {
             "colorbar": {
              "outlinewidth": 0,
              "ticks": ""
             }
            },
            "type": "scatterpolar"
           }
          ],
          "scatterpolargl": [
           {
            "marker": {
             "colorbar": {
              "outlinewidth": 0,
              "ticks": ""
             }
            },
            "type": "scatterpolargl"
           }
          ],
          "scatterternary": [
           {
            "marker": {
             "colorbar": {
              "outlinewidth": 0,
              "ticks": ""
             }
            },
            "type": "scatterternary"
           }
          ],
          "surface": [
           {
            "colorbar": {
             "outlinewidth": 0,
             "ticks": ""
            },
            "colorscale": [
             [
              0,
              "#0d0887"
             ],
             [
              0.1111111111111111,
              "#46039f"
             ],
             [
              0.2222222222222222,
              "#7201a8"
             ],
             [
              0.3333333333333333,
              "#9c179e"
             ],
             [
              0.4444444444444444,
              "#bd3786"
             ],
             [
              0.5555555555555556,
              "#d8576b"
             ],
             [
              0.6666666666666666,
              "#ed7953"
             ],
             [
              0.7777777777777778,
              "#fb9f3a"
             ],
             [
              0.8888888888888888,
              "#fdca26"
             ],
             [
              1,
              "#f0f921"
             ]
            ],
            "type": "surface"
           }
          ],
          "table": [
           {
            "cells": {
             "fill": {
              "color": "#EBF0F8"
             },
             "line": {
              "color": "white"
             }
            },
            "header": {
             "fill": {
              "color": "#C8D4E3"
             },
             "line": {
              "color": "white"
             }
            },
            "type": "table"
           }
          ]
         },
         "layout": {
          "annotationdefaults": {
           "arrowcolor": "#2a3f5f",
           "arrowhead": 0,
           "arrowwidth": 1
          },
          "autotypenumbers": "strict",
          "coloraxis": {
           "colorbar": {
            "outlinewidth": 0,
            "ticks": ""
           }
          },
          "colorscale": {
           "diverging": [
            [
             0,
             "#8e0152"
            ],
            [
             0.1,
             "#c51b7d"
            ],
            [
             0.2,
             "#de77ae"
            ],
            [
             0.3,
             "#f1b6da"
            ],
            [
             0.4,
             "#fde0ef"
            ],
            [
             0.5,
             "#f7f7f7"
            ],
            [
             0.6,
             "#e6f5d0"
            ],
            [
             0.7,
             "#b8e186"
            ],
            [
             0.8,
             "#7fbc41"
            ],
            [
             0.9,
             "#4d9221"
            ],
            [
             1,
             "#276419"
            ]
           ],
           "sequential": [
            [
             0,
             "#0d0887"
            ],
            [
             0.1111111111111111,
             "#46039f"
            ],
            [
             0.2222222222222222,
             "#7201a8"
            ],
            [
             0.3333333333333333,
             "#9c179e"
            ],
            [
             0.4444444444444444,
             "#bd3786"
            ],
            [
             0.5555555555555556,
             "#d8576b"
            ],
            [
             0.6666666666666666,
             "#ed7953"
            ],
            [
             0.7777777777777778,
             "#fb9f3a"
            ],
            [
             0.8888888888888888,
             "#fdca26"
            ],
            [
             1,
             "#f0f921"
            ]
           ],
           "sequentialminus": [
            [
             0,
             "#0d0887"
            ],
            [
             0.1111111111111111,
             "#46039f"
            ],
            [
             0.2222222222222222,
             "#7201a8"
            ],
            [
             0.3333333333333333,
             "#9c179e"
            ],
            [
             0.4444444444444444,
             "#bd3786"
            ],
            [
             0.5555555555555556,
             "#d8576b"
            ],
            [
             0.6666666666666666,
             "#ed7953"
            ],
            [
             0.7777777777777778,
             "#fb9f3a"
            ],
            [
             0.8888888888888888,
             "#fdca26"
            ],
            [
             1,
             "#f0f921"
            ]
           ]
          },
          "colorway": [
           "#636efa",
           "#EF553B",
           "#00cc96",
           "#ab63fa",
           "#FFA15A",
           "#19d3f3",
           "#FF6692",
           "#B6E880",
           "#FF97FF",
           "#FECB52"
          ],
          "font": {
           "color": "#2a3f5f"
          },
          "geo": {
           "bgcolor": "white",
           "lakecolor": "white",
           "landcolor": "#E5ECF6",
           "showlakes": true,
           "showland": true,
           "subunitcolor": "white"
          },
          "hoverlabel": {
           "align": "left"
          },
          "hovermode": "closest",
          "mapbox": {
           "style": "light"
          },
          "paper_bgcolor": "white",
          "plot_bgcolor": "#E5ECF6",
          "polar": {
           "angularaxis": {
            "gridcolor": "white",
            "linecolor": "white",
            "ticks": ""
           },
           "bgcolor": "#E5ECF6",
           "radialaxis": {
            "gridcolor": "white",
            "linecolor": "white",
            "ticks": ""
           }
          },
          "scene": {
           "xaxis": {
            "backgroundcolor": "#E5ECF6",
            "gridcolor": "white",
            "gridwidth": 2,
            "linecolor": "white",
            "showbackground": true,
            "ticks": "",
            "zerolinecolor": "white"
           },
           "yaxis": {
            "backgroundcolor": "#E5ECF6",
            "gridcolor": "white",
            "gridwidth": 2,
            "linecolor": "white",
            "showbackground": true,
            "ticks": "",
            "zerolinecolor": "white"
           },
           "zaxis": {
            "backgroundcolor": "#E5ECF6",
            "gridcolor": "white",
            "gridwidth": 2,
            "linecolor": "white",
            "showbackground": true,
            "ticks": "",
            "zerolinecolor": "white"
           }
          },
          "shapedefaults": {
           "line": {
            "color": "#2a3f5f"
           }
          },
          "ternary": {
           "aaxis": {
            "gridcolor": "white",
            "linecolor": "white",
            "ticks": ""
           },
           "baxis": {
            "gridcolor": "white",
            "linecolor": "white",
            "ticks": ""
           },
           "bgcolor": "#E5ECF6",
           "caxis": {
            "gridcolor": "white",
            "linecolor": "white",
            "ticks": ""
           }
          },
          "title": {
           "x": 0.05
          },
          "xaxis": {
           "automargin": true,
           "gridcolor": "white",
           "linecolor": "white",
           "ticks": "",
           "title": {
            "standoff": 15
           },
           "zerolinecolor": "white",
           "zerolinewidth": 2
          },
          "yaxis": {
           "automargin": true,
           "gridcolor": "white",
           "linecolor": "white",
           "ticks": "",
           "title": {
            "standoff": 15
           },
           "zerolinecolor": "white",
           "zerolinewidth": 2
          }
         }
        },
        "title": {
         "font": {
          "color": "#4D5663"
         }
        },
        "xaxis": {
         "gridcolor": "#E1E5ED",
         "showgrid": true,
         "tickfont": {
          "color": "#4D5663"
         },
         "title": {
          "font": {
           "color": "#4D5663"
          },
          "text": ""
         },
         "zerolinecolor": "#E1E5ED"
        },
        "yaxis": {
         "gridcolor": "#E1E5ED",
         "showgrid": true,
         "tickfont": {
          "color": "#4D5663"
         },
         "title": {
          "font": {
           "color": "#4D5663"
          },
          "text": ""
         },
         "zerolinecolor": "#E1E5ED"
        }
       }
      },
      "text/html": [
       "<div>                            <div id=\"13300928-fd45-4d44-8865-6c5cac732197\" class=\"plotly-graph-div\" style=\"height:525px; width:100%;\"></div>            <script type=\"text/javascript\">                require([\"plotly\"], function(Plotly) {                    window.PLOTLYENV=window.PLOTLYENV || {};\n",
       "                    window.PLOTLYENV.BASE_URL='https://plot.ly';                                    if (document.getElementById(\"13300928-fd45-4d44-8865-6c5cac732197\")) {                    Plotly.newPlot(                        \"13300928-fd45-4d44-8865-6c5cac732197\",                        [{\"marker\": {\"color\": \"rgba(255, 153, 51, 0.6)\", \"line\": {\"color\": \"rgba(255, 153, 51, 1.0)\", \"width\": 1}}, \"name\": \"None\", \"orientation\": \"v\", \"text\": \"\", \"type\": \"bar\", \"x\": [\"A\", \"B\", \"C\", \"D\"], \"y\": [5.899171691834698, 3.2679688295219154, 1.8166952157433252, -0.8028223325988098]}],                        {\"legend\": {\"bgcolor\": \"#F5F6F9\", \"font\": {\"color\": \"#4D5663\"}}, \"paper_bgcolor\": \"#F5F6F9\", \"plot_bgcolor\": \"#F5F6F9\", \"template\": {\"data\": {\"bar\": [{\"error_x\": {\"color\": \"#2a3f5f\"}, \"error_y\": {\"color\": \"#2a3f5f\"}, \"marker\": {\"line\": {\"color\": \"#E5ECF6\", \"width\": 0.5}}, \"type\": \"bar\"}], \"barpolar\": [{\"marker\": {\"line\": {\"color\": \"#E5ECF6\", \"width\": 0.5}}, \"type\": \"barpolar\"}], \"carpet\": [{\"aaxis\": {\"endlinecolor\": \"#2a3f5f\", \"gridcolor\": \"white\", \"linecolor\": \"white\", \"minorgridcolor\": \"white\", \"startlinecolor\": \"#2a3f5f\"}, \"baxis\": {\"endlinecolor\": \"#2a3f5f\", \"gridcolor\": \"white\", \"linecolor\": \"white\", \"minorgridcolor\": \"white\", \"startlinecolor\": \"#2a3f5f\"}, \"type\": \"carpet\"}], \"choropleth\": [{\"colorbar\": {\"outlinewidth\": 0, \"ticks\": \"\"}, \"type\": \"choropleth\"}], \"contour\": [{\"colorbar\": {\"outlinewidth\": 0, \"ticks\": \"\"}, \"colorscale\": [[0.0, \"#0d0887\"], [0.1111111111111111, \"#46039f\"], [0.2222222222222222, \"#7201a8\"], [0.3333333333333333, \"#9c179e\"], [0.4444444444444444, \"#bd3786\"], [0.5555555555555556, \"#d8576b\"], [0.6666666666666666, \"#ed7953\"], [0.7777777777777778, \"#fb9f3a\"], [0.8888888888888888, \"#fdca26\"], [1.0, \"#f0f921\"]], \"type\": \"contour\"}], \"contourcarpet\": [{\"colorbar\": {\"outlinewidth\": 0, \"ticks\": \"\"}, \"type\": \"contourcarpet\"}], \"heatmap\": [{\"colorbar\": {\"outlinewidth\": 0, \"ticks\": \"\"}, \"colorscale\": [[0.0, \"#0d0887\"], [0.1111111111111111, \"#46039f\"], [0.2222222222222222, \"#7201a8\"], [0.3333333333333333, \"#9c179e\"], [0.4444444444444444, \"#bd3786\"], [0.5555555555555556, \"#d8576b\"], [0.6666666666666666, \"#ed7953\"], [0.7777777777777778, \"#fb9f3a\"], [0.8888888888888888, \"#fdca26\"], [1.0, \"#f0f921\"]], \"type\": \"heatmap\"}], \"heatmapgl\": [{\"colorbar\": {\"outlinewidth\": 0, \"ticks\": \"\"}, \"colorscale\": [[0.0, \"#0d0887\"], [0.1111111111111111, \"#46039f\"], [0.2222222222222222, \"#7201a8\"], [0.3333333333333333, \"#9c179e\"], [0.4444444444444444, \"#bd3786\"], [0.5555555555555556, \"#d8576b\"], [0.6666666666666666, \"#ed7953\"], [0.7777777777777778, \"#fb9f3a\"], [0.8888888888888888, \"#fdca26\"], [1.0, \"#f0f921\"]], \"type\": \"heatmapgl\"}], \"histogram\": [{\"marker\": {\"colorbar\": {\"outlinewidth\": 0, \"ticks\": \"\"}}, \"type\": \"histogram\"}], \"histogram2d\": [{\"colorbar\": {\"outlinewidth\": 0, \"ticks\": \"\"}, \"colorscale\": [[0.0, \"#0d0887\"], [0.1111111111111111, \"#46039f\"], [0.2222222222222222, \"#7201a8\"], [0.3333333333333333, \"#9c179e\"], [0.4444444444444444, \"#bd3786\"], [0.5555555555555556, \"#d8576b\"], [0.6666666666666666, \"#ed7953\"], [0.7777777777777778, \"#fb9f3a\"], [0.8888888888888888, \"#fdca26\"], [1.0, \"#f0f921\"]], \"type\": \"histogram2d\"}], \"histogram2dcontour\": [{\"colorbar\": {\"outlinewidth\": 0, \"ticks\": \"\"}, \"colorscale\": [[0.0, \"#0d0887\"], [0.1111111111111111, \"#46039f\"], [0.2222222222222222, \"#7201a8\"], [0.3333333333333333, \"#9c179e\"], [0.4444444444444444, \"#bd3786\"], [0.5555555555555556, \"#d8576b\"], [0.6666666666666666, \"#ed7953\"], [0.7777777777777778, \"#fb9f3a\"], [0.8888888888888888, \"#fdca26\"], [1.0, \"#f0f921\"]], \"type\": \"histogram2dcontour\"}], \"mesh3d\": [{\"colorbar\": {\"outlinewidth\": 0, \"ticks\": \"\"}, \"type\": \"mesh3d\"}], \"parcoords\": [{\"line\": {\"colorbar\": {\"outlinewidth\": 0, \"ticks\": \"\"}}, \"type\": \"parcoords\"}], \"pie\": [{\"automargin\": true, \"type\": \"pie\"}], \"scatter\": [{\"marker\": {\"colorbar\": {\"outlinewidth\": 0, \"ticks\": \"\"}}, \"type\": \"scatter\"}], \"scatter3d\": [{\"line\": {\"colorbar\": {\"outlinewidth\": 0, \"ticks\": \"\"}}, \"marker\": {\"colorbar\": {\"outlinewidth\": 0, \"ticks\": \"\"}}, \"type\": \"scatter3d\"}], \"scattercarpet\": [{\"marker\": {\"colorbar\": {\"outlinewidth\": 0, \"ticks\": \"\"}}, \"type\": \"scattercarpet\"}], \"scattergeo\": [{\"marker\": {\"colorbar\": {\"outlinewidth\": 0, \"ticks\": \"\"}}, \"type\": \"scattergeo\"}], \"scattergl\": [{\"marker\": {\"colorbar\": {\"outlinewidth\": 0, \"ticks\": \"\"}}, \"type\": \"scattergl\"}], \"scattermapbox\": [{\"marker\": {\"colorbar\": {\"outlinewidth\": 0, \"ticks\": \"\"}}, \"type\": \"scattermapbox\"}], \"scatterpolar\": [{\"marker\": {\"colorbar\": {\"outlinewidth\": 0, \"ticks\": \"\"}}, \"type\": \"scatterpolar\"}], \"scatterpolargl\": [{\"marker\": {\"colorbar\": {\"outlinewidth\": 0, \"ticks\": \"\"}}, \"type\": \"scatterpolargl\"}], \"scatterternary\": [{\"marker\": {\"colorbar\": {\"outlinewidth\": 0, \"ticks\": \"\"}}, \"type\": \"scatterternary\"}], \"surface\": [{\"colorbar\": {\"outlinewidth\": 0, \"ticks\": \"\"}, \"colorscale\": [[0.0, \"#0d0887\"], [0.1111111111111111, \"#46039f\"], [0.2222222222222222, \"#7201a8\"], [0.3333333333333333, \"#9c179e\"], [0.4444444444444444, \"#bd3786\"], [0.5555555555555556, \"#d8576b\"], [0.6666666666666666, \"#ed7953\"], [0.7777777777777778, \"#fb9f3a\"], [0.8888888888888888, \"#fdca26\"], [1.0, \"#f0f921\"]], \"type\": \"surface\"}], \"table\": [{\"cells\": {\"fill\": {\"color\": \"#EBF0F8\"}, \"line\": {\"color\": \"white\"}}, \"header\": {\"fill\": {\"color\": \"#C8D4E3\"}, \"line\": {\"color\": \"white\"}}, \"type\": \"table\"}]}, \"layout\": {\"annotationdefaults\": {\"arrowcolor\": \"#2a3f5f\", \"arrowhead\": 0, \"arrowwidth\": 1}, \"autotypenumbers\": \"strict\", \"coloraxis\": {\"colorbar\": {\"outlinewidth\": 0, \"ticks\": \"\"}}, \"colorscale\": {\"diverging\": [[0, \"#8e0152\"], [0.1, \"#c51b7d\"], [0.2, \"#de77ae\"], [0.3, \"#f1b6da\"], [0.4, \"#fde0ef\"], [0.5, \"#f7f7f7\"], [0.6, \"#e6f5d0\"], [0.7, \"#b8e186\"], [0.8, \"#7fbc41\"], [0.9, \"#4d9221\"], [1, \"#276419\"]], \"sequential\": [[0.0, \"#0d0887\"], [0.1111111111111111, \"#46039f\"], [0.2222222222222222, \"#7201a8\"], [0.3333333333333333, \"#9c179e\"], [0.4444444444444444, \"#bd3786\"], [0.5555555555555556, \"#d8576b\"], [0.6666666666666666, \"#ed7953\"], [0.7777777777777778, \"#fb9f3a\"], [0.8888888888888888, \"#fdca26\"], [1.0, \"#f0f921\"]], \"sequentialminus\": [[0.0, \"#0d0887\"], [0.1111111111111111, \"#46039f\"], [0.2222222222222222, \"#7201a8\"], [0.3333333333333333, \"#9c179e\"], [0.4444444444444444, \"#bd3786\"], [0.5555555555555556, \"#d8576b\"], [0.6666666666666666, \"#ed7953\"], [0.7777777777777778, \"#fb9f3a\"], [0.8888888888888888, \"#fdca26\"], [1.0, \"#f0f921\"]]}, \"colorway\": [\"#636efa\", \"#EF553B\", \"#00cc96\", \"#ab63fa\", \"#FFA15A\", \"#19d3f3\", \"#FF6692\", \"#B6E880\", \"#FF97FF\", \"#FECB52\"], \"font\": {\"color\": \"#2a3f5f\"}, \"geo\": {\"bgcolor\": \"white\", \"lakecolor\": \"white\", \"landcolor\": \"#E5ECF6\", \"showlakes\": true, \"showland\": true, \"subunitcolor\": \"white\"}, \"hoverlabel\": {\"align\": \"left\"}, \"hovermode\": \"closest\", \"mapbox\": {\"style\": \"light\"}, \"paper_bgcolor\": \"white\", \"plot_bgcolor\": \"#E5ECF6\", \"polar\": {\"angularaxis\": {\"gridcolor\": \"white\", \"linecolor\": \"white\", \"ticks\": \"\"}, \"bgcolor\": \"#E5ECF6\", \"radialaxis\": {\"gridcolor\": \"white\", \"linecolor\": \"white\", \"ticks\": \"\"}}, \"scene\": {\"xaxis\": {\"backgroundcolor\": \"#E5ECF6\", \"gridcolor\": \"white\", \"gridwidth\": 2, \"linecolor\": \"white\", \"showbackground\": true, \"ticks\": \"\", \"zerolinecolor\": \"white\"}, \"yaxis\": {\"backgroundcolor\": \"#E5ECF6\", \"gridcolor\": \"white\", \"gridwidth\": 2, \"linecolor\": \"white\", \"showbackground\": true, \"ticks\": \"\", \"zerolinecolor\": \"white\"}, \"zaxis\": {\"backgroundcolor\": \"#E5ECF6\", \"gridcolor\": \"white\", \"gridwidth\": 2, \"linecolor\": \"white\", \"showbackground\": true, \"ticks\": \"\", \"zerolinecolor\": \"white\"}}, \"shapedefaults\": {\"line\": {\"color\": \"#2a3f5f\"}}, \"ternary\": {\"aaxis\": {\"gridcolor\": \"white\", \"linecolor\": \"white\", \"ticks\": \"\"}, \"baxis\": {\"gridcolor\": \"white\", \"linecolor\": \"white\", \"ticks\": \"\"}, \"bgcolor\": \"#E5ECF6\", \"caxis\": {\"gridcolor\": \"white\", \"linecolor\": \"white\", \"ticks\": \"\"}}, \"title\": {\"x\": 0.05}, \"xaxis\": {\"automargin\": true, \"gridcolor\": \"white\", \"linecolor\": \"white\", \"ticks\": \"\", \"title\": {\"standoff\": 15}, \"zerolinecolor\": \"white\", \"zerolinewidth\": 2}, \"yaxis\": {\"automargin\": true, \"gridcolor\": \"white\", \"linecolor\": \"white\", \"ticks\": \"\", \"title\": {\"standoff\": 15}, \"zerolinecolor\": \"white\", \"zerolinewidth\": 2}}}, \"title\": {\"font\": {\"color\": \"#4D5663\"}}, \"xaxis\": {\"gridcolor\": \"#E1E5ED\", \"showgrid\": true, \"tickfont\": {\"color\": \"#4D5663\"}, \"title\": {\"font\": {\"color\": \"#4D5663\"}, \"text\": \"\"}, \"zerolinecolor\": \"#E1E5ED\"}, \"yaxis\": {\"gridcolor\": \"#E1E5ED\", \"showgrid\": true, \"tickfont\": {\"color\": \"#4D5663\"}, \"title\": {\"font\": {\"color\": \"#4D5663\"}, \"text\": \"\"}, \"zerolinecolor\": \"#E1E5ED\"}},                        {\"showLink\": true, \"linkText\": \"Export to plot.ly\", \"plotlyServerURL\": \"https://plot.ly\", \"responsive\": true}                    ).then(function(){\n",
       "                            \n",
       "var gd = document.getElementById('13300928-fd45-4d44-8865-6c5cac732197');\n",
       "var x = new MutationObserver(function (mutations, observer) {{\n",
       "        var display = window.getComputedStyle(gd).display;\n",
       "        if (!display || display === 'none') {{\n",
       "            console.log([gd, 'removed!']);\n",
       "            Plotly.purge(gd);\n",
       "            observer.disconnect();\n",
       "        }}\n",
       "}});\n",
       "\n",
       "// Listen for the removal of the full notebook cells\n",
       "var notebookContainer = gd.closest('#notebook-container');\n",
       "if (notebookContainer) {{\n",
       "    x.observe(notebookContainer, {childList: true});\n",
       "}}\n",
       "\n",
       "// Listen for the clearing of the current output cell\n",
       "var outputEl = gd.closest('.output');\n",
       "if (outputEl) {{\n",
       "    x.observe(outputEl, {childList: true});\n",
       "}}\n",
       "\n",
       "                        })                };                });            </script>        </div>"
      ]
     },
     "metadata": {},
     "output_type": "display_data"
    }
   ],
   "source": [
    "df.sum().iplot(kind = 'bar')"
   ]
  },
  {
   "cell_type": "markdown",
   "metadata": {},
   "source": [
    "### Boxplots"
   ]
  },
  {
   "cell_type": "code",
   "execution_count": 10,
   "metadata": {},
   "outputs": [
    {
     "data": {
      "application/vnd.plotly.v1+json": {
       "config": {
        "linkText": "Export to plot.ly",
        "plotlyServerURL": "https://plot.ly",
        "showLink": true
       },
       "data": [
        {
         "boxpoints": false,
         "line": {
          "width": 1.3
         },
         "marker": {
          "color": "rgba(255, 153, 51, 1.0)"
         },
         "name": "A",
         "orientation": "v",
         "type": "box",
         "y": [
          -1.4610241031401339,
          0.09525150167714372,
          -0.029203584395679657,
          -0.014015621374794238,
          1.3061216714143065,
          -0.31702307455461454,
          -1.1289839361958052,
          -0.13699963759455056,
          -0.6639938504440216,
          0.9470923910686199,
          1.553358059937682,
          0.05045164189835665,
          0.05751000634937235,
          2.1315144223408105,
          0.46274757495098084,
          -0.17673927911072126,
          -0.4606921426908111,
          -0.43086281676434296,
          -2.1264803113550594,
          0.001056488752819712,
          -0.3059598987663699,
          0.9662890754859629,
          0.2510262672230263,
          -0.9617278560791738,
          0.048995145654571845,
          -1.0209156821548113,
          -0.5691472839815525,
          0.4996248117695914,
          0.4464570983716666,
          -0.16336359024926198,
          1.262599325533162,
          -0.38117396654870617,
          0.6470503045744972,
          1.98286394042055,
          0.3984834505594768,
          0.7771765568436815,
          0.6232338000739429,
          1.167642598764409,
          -0.6183478391013726,
          1.2230733527522957,
          0.502339193606301,
          -1.1320171943548307,
          -0.7080909329004074,
          1.2718460327483254,
          -1.485782893035162,
          0.4319773772095389,
          0.362675989804671,
          1.4424577308111275,
          0.32319678124815143,
          -1.1700283154363498,
          1.8634674399731277,
          1.3157150735096061,
          -1.0097525209274345,
          -1.8188977326440103,
          0.32593373911336543,
          0.5229234346569209,
          -0.11081787742866657,
          -0.4975140914807007,
          -1.2059467191465185,
          -1.498419024882172,
          2.255904266090674,
          -0.2302591959967517,
          -0.6209322962615502,
          0.49579609306554884,
          -0.16989586521007646,
          0.46588198032360506,
          -0.909141855445599,
          -0.0009026500043386546,
          0.48123916040588277,
          1.118792923213792,
          -0.4420688885202043,
          0.9751416814442033,
          -0.03744211472540877,
          -1.778410999950504,
          -0.6892087536621391,
          -0.2385350486172311,
          0.019730054488734897,
          1.6716799790383337,
          1.3566170705713458,
          0.8873773894586302,
          -2.0888727474034563,
          -0.41046309299992867,
          -0.5549572208662424,
          -1.5861279398806762,
          -0.3540634750924586,
          0.6090614019865381,
          1.2372628555021594,
          -0.3429623623702404,
          -0.1606326504345451,
          1.622631579628323,
          1.0736460288414729,
          -0.7629319166489795,
          -0.5029453305115006,
          0.1671892839193268,
          -1.488441025936215,
          -0.27038751087145,
          0.855741339941454,
          -0.16881176419721813,
          -0.16170217362603542,
          0.9173449807873943
         ]
        },
        {
         "boxpoints": false,
         "line": {
          "width": 1.3
         },
         "marker": {
          "color": "rgba(55, 128, 191, 1.0)"
         },
         "name": "B",
         "orientation": "v",
         "type": "box",
         "y": [
          0.3907902707269141,
          0.6943603904272828,
          -0.5795978735730865,
          0.813526262604139,
          0.7839931065000858,
          -0.46753196417464715,
          1.0359830523535647,
          -0.00108728024401313,
          -0.8081899074223791,
          -1.7047006560220002,
          -1.2500075128534878,
          0.22565379843725744,
          0.8538877104205691,
          -0.010769431923218427,
          -0.16471091416661995,
          1.1532806339771444,
          -0.3057147481342851,
          -0.4072257391625898,
          0.33177364843814655,
          -1.9259607592803352,
          0.6328208279632327,
          0.09822037368245887,
          0.22575815059781187,
          0.3342337338883107,
          0.20918911354792807,
          0.7884841767921292,
          -1.777038244279568,
          -0.8943194078336356,
          0.7836857923081855,
          0.6141031111803202,
          0.5733925432595015,
          -0.049455510335339334,
          0.9530936899389951,
          -1.4516704869032073,
          0.5115887243863995,
          0.6530646533442895,
          -0.23318159386226586,
          -1.319150131657982,
          0.09463672775412493,
          0.23313384209217008,
          -0.2983196316579245,
          -0.5678273244648308,
          0.16437722381798814,
          -0.9296545964289905,
          1.0922975549754237,
          -0.38336998654816523,
          0.9051218108852752,
          0.14618559623315341,
          0.31466443511763487,
          0.3879173171179358,
          -0.13602702775758238,
          -0.20229107248405542,
          0.1312551692725429,
          0.7657452778482757,
          -1.2969540759673137,
          -0.7525532691354485,
          0.3375024417733412,
          -2.152534835068167,
          -1.2672607327528433,
          1.240409131065859,
          1.1770976240664932,
          -1.603010773610958,
          -0.237769129998576,
          -0.897073434357532,
          -0.9488046371465231,
          0.6581283215809342,
          -0.06199463793937336,
          -0.8913999214397087,
          0.4416057732101811,
          0.6416648824250734,
          1.4767731563075561,
          -0.8614378000150077,
          1.0656352143878887,
          -1.145896856232693,
          -0.4880349854953325,
          0.5836904660158005,
          0.7939388605800349,
          1.4499445941855056,
          0.9854561681177022,
          0.34020877181506953,
          0.7235608805617902,
          0.5377245985934934,
          0.3493967640908654,
          1.7702394754577686,
          -0.03111817077616619,
          1.0432325635583046,
          -0.06443575244437817,
          -1.1069474415167795,
          1.7477037930677306,
          1.1762878474972331,
          0.29762924979802713,
          -0.1934011522487943,
          -1.1299835327263392,
          0.25635755789500264,
          -1.401477366719103,
          -1.3245095525725623,
          0.29160187861069464,
          0.6029746174004685,
          -0.308557547221511,
          0.4159428841252249
         ]
        },
        {
         "boxpoints": false,
         "line": {
          "width": 1.3
         },
         "marker": {
          "color": "rgba(50, 171, 96, 1.0)"
         },
         "name": "C",
         "orientation": "v",
         "type": "box",
         "y": [
          -1.588518383084947,
          -0.25510529051838327,
          0.07843303965625309,
          0.3864557819134835,
          -1.09744143252163,
          1.1804110069207534,
          -0.7433800204601851,
          0.5753073643150647,
          -0.46313790316926323,
          0.6543869181485661,
          0.6265824877282654,
          -0.4539417662001653,
          0.6696234450850123,
          0.13069696307258144,
          -0.8867305435232409,
          -0.6250839491644894,
          1.0097934384872906,
          1.9023000035376307,
          1.7009009639164385,
          -1.8411330536034713,
          -0.47464795002036747,
          -0.9982558219884498,
          1.8344684902582309,
          0.8192994654140996,
          -0.8335570745722221,
          -0.23972422219611114,
          0.1689960648817115,
          0.4698304057186679,
          -0.013340480348581244,
          -0.028051963281221937,
          0.38398107818510635,
          0.3937260257823908,
          -0.8123063459709408,
          -0.9993012029697024,
          -0.4152564075921749,
          0.3655373303202848,
          -0.043408441663682476,
          -1.0443853502640081,
          -0.9698020566137836,
          0.12256429336064191,
          0.7356745185567378,
          0.575392072982969,
          -0.33123080036967556,
          -1.185948457910172,
          -0.6111894681016925,
          -0.7945882795982716,
          0.5020861788162949,
          -0.1578308254726711,
          -0.9869183983562312,
          1.746200868438099,
          -0.37595688343323813,
          0.13280117462258295,
          1.2265259236048744,
          0.2244340472116479,
          -1.8036664717250686,
          -0.29766457443473365,
          0.5642521475493323,
          -0.5371447741300974,
          -1.1965527481693412,
          1.1718385463743948,
          -0.3213005093326319,
          2.4843766032829118,
          2.3103908916350133,
          -0.9451710303787467,
          0.6571154746001218,
          1.316173218583312,
          0.8330088624591149,
          1.13092757585928,
          -0.27272341394384453,
          0.4644537032765058,
          0.07189971278123376,
          -0.9570518724398468,
          0.44241242036356343,
          0.005593809973949465,
          -1.0127649251581823,
          0.3006123624304811,
          1.3744735827062333,
          0.038622245321359334,
          -0.9452780090729435,
          2.0136519003518596,
          -0.004495202845143408,
          -0.25759335648309745,
          -1.1260013746246536,
          -0.5944480194050978,
          1.6056735328339102,
          1.19511407121231,
          1.6153785450405376,
          -1.6932136658370074,
          -1.42390606086027,
          -0.4094603926470258,
          1.0082761168261307,
          0.2867048729727579,
          -0.4317049721677748,
          -1.7372064120191864,
          -0.10308707131192661,
          -0.46464036309498136,
          0.8341943684669411,
          -1.9737194064119694,
          -1.99139390644937,
          1.2455026058183056
         ]
        },
        {
         "boxpoints": false,
         "line": {
          "width": 1.3
         },
         "marker": {
          "color": "rgba(128, 0, 128, 1.0)"
         },
         "name": "D",
         "orientation": "v",
         "type": "box",
         "y": [
          -0.20308556376547537,
          0.19762469288020745,
          0.6704321743135898,
          -0.5986241735582623,
          -0.25759095692230527,
          -0.05747054214033602,
          -0.932710350273873,
          -1.0441315195474943,
          0.1128314687479193,
          0.7892422787785415,
          0.0852285295692371,
          0.35126214936583744,
          1.8544165399332506,
          -1.4673580200808247,
          -1.7083706335257736,
          -1.272795966352538,
          0.13657404929718472,
          1.1088686376416257,
          1.0360806444077852,
          -0.07457436081638934,
          -0.8044809295312358,
          -0.04828532842693859,
          0.6593850434257252,
          -0.5658765585099089,
          0.3423078664072504,
          -0.003085031082305999,
          2.018187586743007,
          0.6185980152915729,
          1.7584542986691818,
          -1.5477793170953247,
          0.8468774185788381,
          1.2440610988793863,
          0.7117036625565885,
          1.240570040540003,
          0.45794955761531136,
          1.0647416762047635,
          -1.062620249089035,
          -0.6239492223248511,
          1.6340455586893559,
          -0.46932216668858123,
          0.10982913026295896,
          -2.606475104184327,
          0.661850506062008,
          -0.811975012976815,
          -0.31238136540442235,
          -0.9920729069399843,
          -0.8151321623577781,
          -1.0660483059432084,
          -1.3513103796811499,
          -0.5096993775872938,
          -0.3423963630383938,
          1.0890607235567875,
          1.412582216775854,
          -0.5745153951129882,
          -0.09471548014551695,
          -1.2274900693742057,
          0.9913406461115387,
          1.2857250242618052,
          -1.4220485699165202,
          -0.20751562677718327,
          1.269516515414513,
          1.7630631587377619,
          -0.3405730854733291,
          -0.6243236780693461,
          1.7062622406008303,
          -0.009716789825434882,
          0.18580110459527216,
          0.6066014190421658,
          -0.21684318444156456,
          0.8902856548059778,
          1.0594853835375297,
          -1.3427659913083283,
          -0.9249466420264154,
          -0.4736042418071167,
          0.5978483667104654,
          0.303287016773075,
          -1.5996703832688668,
          -0.4497857200657572,
          -1.8590951581175674,
          0.38249787592501855,
          0.43651573957238776,
          -0.6695674403809402,
          1.032013861089123,
          1.035662317354519,
          -0.016073852149997993,
          -0.564809977687965,
          -0.7205227740745791,
          -0.2209884244788965,
          -0.7201406209581277,
          -0.02057371877325681,
          -1.8582243694386562,
          0.1733246814087179,
          -0.7227674162352797,
          0.2981652039556083,
          -1.921240770994483,
          0.9118896914002779,
          0.6163142733027049,
          0.02393141056674211,
          1.186154597115317,
          0.580847168673218
         ]
        }
       ],
       "layout": {
        "legend": {
         "bgcolor": "#F5F6F9",
         "font": {
          "color": "#4D5663"
         }
        },
        "paper_bgcolor": "#F5F6F9",
        "plot_bgcolor": "#F5F6F9",
        "template": {
         "data": {
          "bar": [
           {
            "error_x": {
             "color": "#2a3f5f"
            },
            "error_y": {
             "color": "#2a3f5f"
            },
            "marker": {
             "line": {
              "color": "#E5ECF6",
              "width": 0.5
             }
            },
            "type": "bar"
           }
          ],
          "barpolar": [
           {
            "marker": {
             "line": {
              "color": "#E5ECF6",
              "width": 0.5
             }
            },
            "type": "barpolar"
           }
          ],
          "carpet": [
           {
            "aaxis": {
             "endlinecolor": "#2a3f5f",
             "gridcolor": "white",
             "linecolor": "white",
             "minorgridcolor": "white",
             "startlinecolor": "#2a3f5f"
            },
            "baxis": {
             "endlinecolor": "#2a3f5f",
             "gridcolor": "white",
             "linecolor": "white",
             "minorgridcolor": "white",
             "startlinecolor": "#2a3f5f"
            },
            "type": "carpet"
           }
          ],
          "choropleth": [
           {
            "colorbar": {
             "outlinewidth": 0,
             "ticks": ""
            },
            "type": "choropleth"
           }
          ],
          "contour": [
           {
            "colorbar": {
             "outlinewidth": 0,
             "ticks": ""
            },
            "colorscale": [
             [
              0,
              "#0d0887"
             ],
             [
              0.1111111111111111,
              "#46039f"
             ],
             [
              0.2222222222222222,
              "#7201a8"
             ],
             [
              0.3333333333333333,
              "#9c179e"
             ],
             [
              0.4444444444444444,
              "#bd3786"
             ],
             [
              0.5555555555555556,
              "#d8576b"
             ],
             [
              0.6666666666666666,
              "#ed7953"
             ],
             [
              0.7777777777777778,
              "#fb9f3a"
             ],
             [
              0.8888888888888888,
              "#fdca26"
             ],
             [
              1,
              "#f0f921"
             ]
            ],
            "type": "contour"
           }
          ],
          "contourcarpet": [
           {
            "colorbar": {
             "outlinewidth": 0,
             "ticks": ""
            },
            "type": "contourcarpet"
           }
          ],
          "heatmap": [
           {
            "colorbar": {
             "outlinewidth": 0,
             "ticks": ""
            },
            "colorscale": [
             [
              0,
              "#0d0887"
             ],
             [
              0.1111111111111111,
              "#46039f"
             ],
             [
              0.2222222222222222,
              "#7201a8"
             ],
             [
              0.3333333333333333,
              "#9c179e"
             ],
             [
              0.4444444444444444,
              "#bd3786"
             ],
             [
              0.5555555555555556,
              "#d8576b"
             ],
             [
              0.6666666666666666,
              "#ed7953"
             ],
             [
              0.7777777777777778,
              "#fb9f3a"
             ],
             [
              0.8888888888888888,
              "#fdca26"
             ],
             [
              1,
              "#f0f921"
             ]
            ],
            "type": "heatmap"
           }
          ],
          "heatmapgl": [
           {
            "colorbar": {
             "outlinewidth": 0,
             "ticks": ""
            },
            "colorscale": [
             [
              0,
              "#0d0887"
             ],
             [
              0.1111111111111111,
              "#46039f"
             ],
             [
              0.2222222222222222,
              "#7201a8"
             ],
             [
              0.3333333333333333,
              "#9c179e"
             ],
             [
              0.4444444444444444,
              "#bd3786"
             ],
             [
              0.5555555555555556,
              "#d8576b"
             ],
             [
              0.6666666666666666,
              "#ed7953"
             ],
             [
              0.7777777777777778,
              "#fb9f3a"
             ],
             [
              0.8888888888888888,
              "#fdca26"
             ],
             [
              1,
              "#f0f921"
             ]
            ],
            "type": "heatmapgl"
           }
          ],
          "histogram": [
           {
            "marker": {
             "colorbar": {
              "outlinewidth": 0,
              "ticks": ""
             }
            },
            "type": "histogram"
           }
          ],
          "histogram2d": [
           {
            "colorbar": {
             "outlinewidth": 0,
             "ticks": ""
            },
            "colorscale": [
             [
              0,
              "#0d0887"
             ],
             [
              0.1111111111111111,
              "#46039f"
             ],
             [
              0.2222222222222222,
              "#7201a8"
             ],
             [
              0.3333333333333333,
              "#9c179e"
             ],
             [
              0.4444444444444444,
              "#bd3786"
             ],
             [
              0.5555555555555556,
              "#d8576b"
             ],
             [
              0.6666666666666666,
              "#ed7953"
             ],
             [
              0.7777777777777778,
              "#fb9f3a"
             ],
             [
              0.8888888888888888,
              "#fdca26"
             ],
             [
              1,
              "#f0f921"
             ]
            ],
            "type": "histogram2d"
           }
          ],
          "histogram2dcontour": [
           {
            "colorbar": {
             "outlinewidth": 0,
             "ticks": ""
            },
            "colorscale": [
             [
              0,
              "#0d0887"
             ],
             [
              0.1111111111111111,
              "#46039f"
             ],
             [
              0.2222222222222222,
              "#7201a8"
             ],
             [
              0.3333333333333333,
              "#9c179e"
             ],
             [
              0.4444444444444444,
              "#bd3786"
             ],
             [
              0.5555555555555556,
              "#d8576b"
             ],
             [
              0.6666666666666666,
              "#ed7953"
             ],
             [
              0.7777777777777778,
              "#fb9f3a"
             ],
             [
              0.8888888888888888,
              "#fdca26"
             ],
             [
              1,
              "#f0f921"
             ]
            ],
            "type": "histogram2dcontour"
           }
          ],
          "mesh3d": [
           {
            "colorbar": {
             "outlinewidth": 0,
             "ticks": ""
            },
            "type": "mesh3d"
           }
          ],
          "parcoords": [
           {
            "line": {
             "colorbar": {
              "outlinewidth": 0,
              "ticks": ""
             }
            },
            "type": "parcoords"
           }
          ],
          "pie": [
           {
            "automargin": true,
            "type": "pie"
           }
          ],
          "scatter": [
           {
            "marker": {
             "colorbar": {
              "outlinewidth": 0,
              "ticks": ""
             }
            },
            "type": "scatter"
           }
          ],
          "scatter3d": [
           {
            "line": {
             "colorbar": {
              "outlinewidth": 0,
              "ticks": ""
             }
            },
            "marker": {
             "colorbar": {
              "outlinewidth": 0,
              "ticks": ""
             }
            },
            "type": "scatter3d"
           }
          ],
          "scattercarpet": [
           {
            "marker": {
             "colorbar": {
              "outlinewidth": 0,
              "ticks": ""
             }
            },
            "type": "scattercarpet"
           }
          ],
          "scattergeo": [
           {
            "marker": {
             "colorbar": {
              "outlinewidth": 0,
              "ticks": ""
             }
            },
            "type": "scattergeo"
           }
          ],
          "scattergl": [
           {
            "marker": {
             "colorbar": {
              "outlinewidth": 0,
              "ticks": ""
             }
            },
            "type": "scattergl"
           }
          ],
          "scattermapbox": [
           {
            "marker": {
             "colorbar": {
              "outlinewidth": 0,
              "ticks": ""
             }
            },
            "type": "scattermapbox"
           }
          ],
          "scatterpolar": [
           {
            "marker": {
             "colorbar": {
              "outlinewidth": 0,
              "ticks": ""
             }
            },
            "type": "scatterpolar"
           }
          ],
          "scatterpolargl": [
           {
            "marker": {
             "colorbar": {
              "outlinewidth": 0,
              "ticks": ""
             }
            },
            "type": "scatterpolargl"
           }
          ],
          "scatterternary": [
           {
            "marker": {
             "colorbar": {
              "outlinewidth": 0,
              "ticks": ""
             }
            },
            "type": "scatterternary"
           }
          ],
          "surface": [
           {
            "colorbar": {
             "outlinewidth": 0,
             "ticks": ""
            },
            "colorscale": [
             [
              0,
              "#0d0887"
             ],
             [
              0.1111111111111111,
              "#46039f"
             ],
             [
              0.2222222222222222,
              "#7201a8"
             ],
             [
              0.3333333333333333,
              "#9c179e"
             ],
             [
              0.4444444444444444,
              "#bd3786"
             ],
             [
              0.5555555555555556,
              "#d8576b"
             ],
             [
              0.6666666666666666,
              "#ed7953"
             ],
             [
              0.7777777777777778,
              "#fb9f3a"
             ],
             [
              0.8888888888888888,
              "#fdca26"
             ],
             [
              1,
              "#f0f921"
             ]
            ],
            "type": "surface"
           }
          ],
          "table": [
           {
            "cells": {
             "fill": {
              "color": "#EBF0F8"
             },
             "line": {
              "color": "white"
             }
            },
            "header": {
             "fill": {
              "color": "#C8D4E3"
             },
             "line": {
              "color": "white"
             }
            },
            "type": "table"
           }
          ]
         },
         "layout": {
          "annotationdefaults": {
           "arrowcolor": "#2a3f5f",
           "arrowhead": 0,
           "arrowwidth": 1
          },
          "autotypenumbers": "strict",
          "coloraxis": {
           "colorbar": {
            "outlinewidth": 0,
            "ticks": ""
           }
          },
          "colorscale": {
           "diverging": [
            [
             0,
             "#8e0152"
            ],
            [
             0.1,
             "#c51b7d"
            ],
            [
             0.2,
             "#de77ae"
            ],
            [
             0.3,
             "#f1b6da"
            ],
            [
             0.4,
             "#fde0ef"
            ],
            [
             0.5,
             "#f7f7f7"
            ],
            [
             0.6,
             "#e6f5d0"
            ],
            [
             0.7,
             "#b8e186"
            ],
            [
             0.8,
             "#7fbc41"
            ],
            [
             0.9,
             "#4d9221"
            ],
            [
             1,
             "#276419"
            ]
           ],
           "sequential": [
            [
             0,
             "#0d0887"
            ],
            [
             0.1111111111111111,
             "#46039f"
            ],
            [
             0.2222222222222222,
             "#7201a8"
            ],
            [
             0.3333333333333333,
             "#9c179e"
            ],
            [
             0.4444444444444444,
             "#bd3786"
            ],
            [
             0.5555555555555556,
             "#d8576b"
            ],
            [
             0.6666666666666666,
             "#ed7953"
            ],
            [
             0.7777777777777778,
             "#fb9f3a"
            ],
            [
             0.8888888888888888,
             "#fdca26"
            ],
            [
             1,
             "#f0f921"
            ]
           ],
           "sequentialminus": [
            [
             0,
             "#0d0887"
            ],
            [
             0.1111111111111111,
             "#46039f"
            ],
            [
             0.2222222222222222,
             "#7201a8"
            ],
            [
             0.3333333333333333,
             "#9c179e"
            ],
            [
             0.4444444444444444,
             "#bd3786"
            ],
            [
             0.5555555555555556,
             "#d8576b"
            ],
            [
             0.6666666666666666,
             "#ed7953"
            ],
            [
             0.7777777777777778,
             "#fb9f3a"
            ],
            [
             0.8888888888888888,
             "#fdca26"
            ],
            [
             1,
             "#f0f921"
            ]
           ]
          },
          "colorway": [
           "#636efa",
           "#EF553B",
           "#00cc96",
           "#ab63fa",
           "#FFA15A",
           "#19d3f3",
           "#FF6692",
           "#B6E880",
           "#FF97FF",
           "#FECB52"
          ],
          "font": {
           "color": "#2a3f5f"
          },
          "geo": {
           "bgcolor": "white",
           "lakecolor": "white",
           "landcolor": "#E5ECF6",
           "showlakes": true,
           "showland": true,
           "subunitcolor": "white"
          },
          "hoverlabel": {
           "align": "left"
          },
          "hovermode": "closest",
          "mapbox": {
           "style": "light"
          },
          "paper_bgcolor": "white",
          "plot_bgcolor": "#E5ECF6",
          "polar": {
           "angularaxis": {
            "gridcolor": "white",
            "linecolor": "white",
            "ticks": ""
           },
           "bgcolor": "#E5ECF6",
           "radialaxis": {
            "gridcolor": "white",
            "linecolor": "white",
            "ticks": ""
           }
          },
          "scene": {
           "xaxis": {
            "backgroundcolor": "#E5ECF6",
            "gridcolor": "white",
            "gridwidth": 2,
            "linecolor": "white",
            "showbackground": true,
            "ticks": "",
            "zerolinecolor": "white"
           },
           "yaxis": {
            "backgroundcolor": "#E5ECF6",
            "gridcolor": "white",
            "gridwidth": 2,
            "linecolor": "white",
            "showbackground": true,
            "ticks": "",
            "zerolinecolor": "white"
           },
           "zaxis": {
            "backgroundcolor": "#E5ECF6",
            "gridcolor": "white",
            "gridwidth": 2,
            "linecolor": "white",
            "showbackground": true,
            "ticks": "",
            "zerolinecolor": "white"
           }
          },
          "shapedefaults": {
           "line": {
            "color": "#2a3f5f"
           }
          },
          "ternary": {
           "aaxis": {
            "gridcolor": "white",
            "linecolor": "white",
            "ticks": ""
           },
           "baxis": {
            "gridcolor": "white",
            "linecolor": "white",
            "ticks": ""
           },
           "bgcolor": "#E5ECF6",
           "caxis": {
            "gridcolor": "white",
            "linecolor": "white",
            "ticks": ""
           }
          },
          "title": {
           "x": 0.05
          },
          "xaxis": {
           "automargin": true,
           "gridcolor": "white",
           "linecolor": "white",
           "ticks": "",
           "title": {
            "standoff": 15
           },
           "zerolinecolor": "white",
           "zerolinewidth": 2
          },
          "yaxis": {
           "automargin": true,
           "gridcolor": "white",
           "linecolor": "white",
           "ticks": "",
           "title": {
            "standoff": 15
           },
           "zerolinecolor": "white",
           "zerolinewidth": 2
          }
         }
        },
        "title": {
         "font": {
          "color": "#4D5663"
         }
        },
        "xaxis": {
         "gridcolor": "#E1E5ED",
         "showgrid": true,
         "tickfont": {
          "color": "#4D5663"
         },
         "title": {
          "font": {
           "color": "#4D5663"
          },
          "text": ""
         },
         "zerolinecolor": "#E1E5ED"
        },
        "yaxis": {
         "gridcolor": "#E1E5ED",
         "showgrid": true,
         "tickfont": {
          "color": "#4D5663"
         },
         "title": {
          "font": {
           "color": "#4D5663"
          },
          "text": ""
         },
         "zerolinecolor": "#E1E5ED"
        }
       }
      },
      "text/html": [
       "<div>                            <div id=\"857bb094-040b-44fd-93c6-8b399e37bd45\" class=\"plotly-graph-div\" style=\"height:525px; width:100%;\"></div>            <script type=\"text/javascript\">                require([\"plotly\"], function(Plotly) {                    window.PLOTLYENV=window.PLOTLYENV || {};\n",
       "                    window.PLOTLYENV.BASE_URL='https://plot.ly';                                    if (document.getElementById(\"857bb094-040b-44fd-93c6-8b399e37bd45\")) {                    Plotly.newPlot(                        \"857bb094-040b-44fd-93c6-8b399e37bd45\",                        [{\"boxpoints\": false, \"line\": {\"width\": 1.3}, \"marker\": {\"color\": \"rgba(255, 153, 51, 1.0)\"}, \"name\": \"A\", \"orientation\": \"v\", \"type\": \"box\", \"y\": [-1.4610241031401339, 0.09525150167714372, -0.029203584395679657, -0.014015621374794238, 1.3061216714143065, -0.31702307455461454, -1.1289839361958052, -0.13699963759455056, -0.6639938504440216, 0.9470923910686199, 1.553358059937682, 0.05045164189835665, 0.05751000634937235, 2.1315144223408105, 0.46274757495098084, -0.17673927911072126, -0.4606921426908111, -0.43086281676434296, -2.1264803113550594, 0.001056488752819712, -0.3059598987663699, 0.9662890754859629, 0.2510262672230263, -0.9617278560791738, 0.048995145654571845, -1.0209156821548113, -0.5691472839815525, 0.4996248117695914, 0.4464570983716666, -0.16336359024926198, 1.262599325533162, -0.38117396654870617, 0.6470503045744972, 1.98286394042055, 0.3984834505594768, 0.7771765568436815, 0.6232338000739429, 1.167642598764409, -0.6183478391013726, 1.2230733527522957, 0.502339193606301, -1.1320171943548307, -0.7080909329004074, 1.2718460327483254, -1.485782893035162, 0.4319773772095389, 0.362675989804671, 1.4424577308111275, 0.32319678124815143, -1.1700283154363498, 1.8634674399731277, 1.3157150735096061, -1.0097525209274345, -1.8188977326440103, 0.32593373911336543, 0.5229234346569209, -0.11081787742866657, -0.4975140914807007, -1.2059467191465185, -1.498419024882172, 2.255904266090674, -0.2302591959967517, -0.6209322962615502, 0.49579609306554884, -0.16989586521007646, 0.46588198032360506, -0.909141855445599, -0.0009026500043386546, 0.48123916040588277, 1.118792923213792, -0.4420688885202043, 0.9751416814442033, -0.03744211472540877, -1.778410999950504, -0.6892087536621391, -0.2385350486172311, 0.019730054488734897, 1.6716799790383337, 1.3566170705713458, 0.8873773894586302, -2.0888727474034563, -0.41046309299992867, -0.5549572208662424, -1.5861279398806762, -0.3540634750924586, 0.6090614019865381, 1.2372628555021594, -0.3429623623702404, -0.1606326504345451, 1.622631579628323, 1.0736460288414729, -0.7629319166489795, -0.5029453305115006, 0.1671892839193268, -1.488441025936215, -0.27038751087145, 0.855741339941454, -0.16881176419721813, -0.16170217362603542, 0.9173449807873943]}, {\"boxpoints\": false, \"line\": {\"width\": 1.3}, \"marker\": {\"color\": \"rgba(55, 128, 191, 1.0)\"}, \"name\": \"B\", \"orientation\": \"v\", \"type\": \"box\", \"y\": [0.3907902707269141, 0.6943603904272828, -0.5795978735730865, 0.813526262604139, 0.7839931065000858, -0.46753196417464715, 1.0359830523535647, -0.00108728024401313, -0.8081899074223791, -1.7047006560220002, -1.2500075128534878, 0.22565379843725744, 0.8538877104205691, -0.010769431923218427, -0.16471091416661995, 1.1532806339771444, -0.3057147481342851, -0.4072257391625898, 0.33177364843814655, -1.9259607592803352, 0.6328208279632327, 0.09822037368245887, 0.22575815059781187, 0.3342337338883107, 0.20918911354792807, 0.7884841767921292, -1.777038244279568, -0.8943194078336356, 0.7836857923081855, 0.6141031111803202, 0.5733925432595015, -0.049455510335339334, 0.9530936899389951, -1.4516704869032073, 0.5115887243863995, 0.6530646533442895, -0.23318159386226586, -1.319150131657982, 0.09463672775412493, 0.23313384209217008, -0.2983196316579245, -0.5678273244648308, 0.16437722381798814, -0.9296545964289905, 1.0922975549754237, -0.38336998654816523, 0.9051218108852752, 0.14618559623315341, 0.31466443511763487, 0.3879173171179358, -0.13602702775758238, -0.20229107248405542, 0.1312551692725429, 0.7657452778482757, -1.2969540759673137, -0.7525532691354485, 0.3375024417733412, -2.152534835068167, -1.2672607327528433, 1.240409131065859, 1.1770976240664932, -1.603010773610958, -0.237769129998576, -0.897073434357532, -0.9488046371465231, 0.6581283215809342, -0.06199463793937336, -0.8913999214397087, 0.4416057732101811, 0.6416648824250734, 1.4767731563075561, -0.8614378000150077, 1.0656352143878887, -1.145896856232693, -0.4880349854953325, 0.5836904660158005, 0.7939388605800349, 1.4499445941855056, 0.9854561681177022, 0.34020877181506953, 0.7235608805617902, 0.5377245985934934, 0.3493967640908654, 1.7702394754577686, -0.03111817077616619, 1.0432325635583046, -0.06443575244437817, -1.1069474415167795, 1.7477037930677306, 1.1762878474972331, 0.29762924979802713, -0.1934011522487943, -1.1299835327263392, 0.25635755789500264, -1.401477366719103, -1.3245095525725623, 0.29160187861069464, 0.6029746174004685, -0.308557547221511, 0.4159428841252249]}, {\"boxpoints\": false, \"line\": {\"width\": 1.3}, \"marker\": {\"color\": \"rgba(50, 171, 96, 1.0)\"}, \"name\": \"C\", \"orientation\": \"v\", \"type\": \"box\", \"y\": [-1.588518383084947, -0.25510529051838327, 0.07843303965625309, 0.3864557819134835, -1.09744143252163, 1.1804110069207534, -0.7433800204601851, 0.5753073643150647, -0.46313790316926323, 0.6543869181485661, 0.6265824877282654, -0.4539417662001653, 0.6696234450850123, 0.13069696307258144, -0.8867305435232409, -0.6250839491644894, 1.0097934384872906, 1.9023000035376307, 1.7009009639164385, -1.8411330536034713, -0.47464795002036747, -0.9982558219884498, 1.8344684902582309, 0.8192994654140996, -0.8335570745722221, -0.23972422219611114, 0.1689960648817115, 0.4698304057186679, -0.013340480348581244, -0.028051963281221937, 0.38398107818510635, 0.3937260257823908, -0.8123063459709408, -0.9993012029697024, -0.4152564075921749, 0.3655373303202848, -0.043408441663682476, -1.0443853502640081, -0.9698020566137836, 0.12256429336064191, 0.7356745185567378, 0.575392072982969, -0.33123080036967556, -1.185948457910172, -0.6111894681016925, -0.7945882795982716, 0.5020861788162949, -0.1578308254726711, -0.9869183983562312, 1.746200868438099, -0.37595688343323813, 0.13280117462258295, 1.2265259236048744, 0.2244340472116479, -1.8036664717250686, -0.29766457443473365, 0.5642521475493323, -0.5371447741300974, -1.1965527481693412, 1.1718385463743948, -0.3213005093326319, 2.4843766032829118, 2.3103908916350133, -0.9451710303787467, 0.6571154746001218, 1.316173218583312, 0.8330088624591149, 1.13092757585928, -0.27272341394384453, 0.4644537032765058, 0.07189971278123376, -0.9570518724398468, 0.44241242036356343, 0.005593809973949465, -1.0127649251581823, 0.3006123624304811, 1.3744735827062333, 0.038622245321359334, -0.9452780090729435, 2.0136519003518596, -0.004495202845143408, -0.25759335648309745, -1.1260013746246536, -0.5944480194050978, 1.6056735328339102, 1.19511407121231, 1.6153785450405376, -1.6932136658370074, -1.42390606086027, -0.4094603926470258, 1.0082761168261307, 0.2867048729727579, -0.4317049721677748, -1.7372064120191864, -0.10308707131192661, -0.46464036309498136, 0.8341943684669411, -1.9737194064119694, -1.99139390644937, 1.2455026058183056]}, {\"boxpoints\": false, \"line\": {\"width\": 1.3}, \"marker\": {\"color\": \"rgba(128, 0, 128, 1.0)\"}, \"name\": \"D\", \"orientation\": \"v\", \"type\": \"box\", \"y\": [-0.20308556376547537, 0.19762469288020745, 0.6704321743135898, -0.5986241735582623, -0.25759095692230527, -0.05747054214033602, -0.932710350273873, -1.0441315195474943, 0.1128314687479193, 0.7892422787785415, 0.0852285295692371, 0.35126214936583744, 1.8544165399332506, -1.4673580200808247, -1.7083706335257736, -1.272795966352538, 0.13657404929718472, 1.1088686376416257, 1.0360806444077852, -0.07457436081638934, -0.8044809295312358, -0.04828532842693859, 0.6593850434257252, -0.5658765585099089, 0.3423078664072504, -0.003085031082305999, 2.018187586743007, 0.6185980152915729, 1.7584542986691818, -1.5477793170953247, 0.8468774185788381, 1.2440610988793863, 0.7117036625565885, 1.240570040540003, 0.45794955761531136, 1.0647416762047635, -1.062620249089035, -0.6239492223248511, 1.6340455586893559, -0.46932216668858123, 0.10982913026295896, -2.606475104184327, 0.661850506062008, -0.811975012976815, -0.31238136540442235, -0.9920729069399843, -0.8151321623577781, -1.0660483059432084, -1.3513103796811499, -0.5096993775872938, -0.3423963630383938, 1.0890607235567875, 1.412582216775854, -0.5745153951129882, -0.09471548014551695, -1.2274900693742057, 0.9913406461115387, 1.2857250242618052, -1.4220485699165202, -0.20751562677718327, 1.269516515414513, 1.7630631587377619, -0.3405730854733291, -0.6243236780693461, 1.7062622406008303, -0.009716789825434882, 0.18580110459527216, 0.6066014190421658, -0.21684318444156456, 0.8902856548059778, 1.0594853835375297, -1.3427659913083283, -0.9249466420264154, -0.4736042418071167, 0.5978483667104654, 0.303287016773075, -1.5996703832688668, -0.4497857200657572, -1.8590951581175674, 0.38249787592501855, 0.43651573957238776, -0.6695674403809402, 1.032013861089123, 1.035662317354519, -0.016073852149997993, -0.564809977687965, -0.7205227740745791, -0.2209884244788965, -0.7201406209581277, -0.02057371877325681, -1.8582243694386562, 0.1733246814087179, -0.7227674162352797, 0.2981652039556083, -1.921240770994483, 0.9118896914002779, 0.6163142733027049, 0.02393141056674211, 1.186154597115317, 0.580847168673218]}],                        {\"legend\": {\"bgcolor\": \"#F5F6F9\", \"font\": {\"color\": \"#4D5663\"}}, \"paper_bgcolor\": \"#F5F6F9\", \"plot_bgcolor\": \"#F5F6F9\", \"template\": {\"data\": {\"bar\": [{\"error_x\": {\"color\": \"#2a3f5f\"}, \"error_y\": {\"color\": \"#2a3f5f\"}, \"marker\": {\"line\": {\"color\": \"#E5ECF6\", \"width\": 0.5}}, \"type\": \"bar\"}], \"barpolar\": [{\"marker\": {\"line\": {\"color\": \"#E5ECF6\", \"width\": 0.5}}, \"type\": \"barpolar\"}], \"carpet\": [{\"aaxis\": {\"endlinecolor\": \"#2a3f5f\", \"gridcolor\": \"white\", \"linecolor\": \"white\", \"minorgridcolor\": \"white\", \"startlinecolor\": \"#2a3f5f\"}, \"baxis\": {\"endlinecolor\": \"#2a3f5f\", \"gridcolor\": \"white\", \"linecolor\": \"white\", \"minorgridcolor\": \"white\", \"startlinecolor\": \"#2a3f5f\"}, \"type\": \"carpet\"}], \"choropleth\": [{\"colorbar\": {\"outlinewidth\": 0, \"ticks\": \"\"}, \"type\": \"choropleth\"}], \"contour\": [{\"colorbar\": {\"outlinewidth\": 0, \"ticks\": \"\"}, \"colorscale\": [[0.0, \"#0d0887\"], [0.1111111111111111, \"#46039f\"], [0.2222222222222222, \"#7201a8\"], [0.3333333333333333, \"#9c179e\"], [0.4444444444444444, \"#bd3786\"], [0.5555555555555556, \"#d8576b\"], [0.6666666666666666, \"#ed7953\"], [0.7777777777777778, \"#fb9f3a\"], [0.8888888888888888, \"#fdca26\"], [1.0, \"#f0f921\"]], \"type\": \"contour\"}], \"contourcarpet\": [{\"colorbar\": {\"outlinewidth\": 0, \"ticks\": \"\"}, \"type\": \"contourcarpet\"}], \"heatmap\": [{\"colorbar\": {\"outlinewidth\": 0, \"ticks\": \"\"}, \"colorscale\": [[0.0, \"#0d0887\"], [0.1111111111111111, \"#46039f\"], [0.2222222222222222, \"#7201a8\"], [0.3333333333333333, \"#9c179e\"], [0.4444444444444444, \"#bd3786\"], [0.5555555555555556, \"#d8576b\"], [0.6666666666666666, \"#ed7953\"], [0.7777777777777778, \"#fb9f3a\"], [0.8888888888888888, \"#fdca26\"], [1.0, \"#f0f921\"]], \"type\": \"heatmap\"}], \"heatmapgl\": [{\"colorbar\": {\"outlinewidth\": 0, \"ticks\": \"\"}, \"colorscale\": [[0.0, \"#0d0887\"], [0.1111111111111111, \"#46039f\"], [0.2222222222222222, \"#7201a8\"], [0.3333333333333333, \"#9c179e\"], [0.4444444444444444, \"#bd3786\"], [0.5555555555555556, \"#d8576b\"], [0.6666666666666666, \"#ed7953\"], [0.7777777777777778, \"#fb9f3a\"], [0.8888888888888888, \"#fdca26\"], [1.0, \"#f0f921\"]], \"type\": \"heatmapgl\"}], \"histogram\": [{\"marker\": {\"colorbar\": {\"outlinewidth\": 0, \"ticks\": \"\"}}, \"type\": \"histogram\"}], \"histogram2d\": [{\"colorbar\": {\"outlinewidth\": 0, \"ticks\": \"\"}, \"colorscale\": [[0.0, \"#0d0887\"], [0.1111111111111111, \"#46039f\"], [0.2222222222222222, \"#7201a8\"], [0.3333333333333333, \"#9c179e\"], [0.4444444444444444, \"#bd3786\"], [0.5555555555555556, \"#d8576b\"], [0.6666666666666666, \"#ed7953\"], [0.7777777777777778, \"#fb9f3a\"], [0.8888888888888888, \"#fdca26\"], [1.0, \"#f0f921\"]], \"type\": \"histogram2d\"}], \"histogram2dcontour\": [{\"colorbar\": {\"outlinewidth\": 0, \"ticks\": \"\"}, \"colorscale\": [[0.0, \"#0d0887\"], [0.1111111111111111, \"#46039f\"], [0.2222222222222222, \"#7201a8\"], [0.3333333333333333, \"#9c179e\"], [0.4444444444444444, \"#bd3786\"], [0.5555555555555556, \"#d8576b\"], [0.6666666666666666, \"#ed7953\"], [0.7777777777777778, \"#fb9f3a\"], [0.8888888888888888, \"#fdca26\"], [1.0, \"#f0f921\"]], \"type\": \"histogram2dcontour\"}], \"mesh3d\": [{\"colorbar\": {\"outlinewidth\": 0, \"ticks\": \"\"}, \"type\": \"mesh3d\"}], \"parcoords\": [{\"line\": {\"colorbar\": {\"outlinewidth\": 0, \"ticks\": \"\"}}, \"type\": \"parcoords\"}], \"pie\": [{\"automargin\": true, \"type\": \"pie\"}], \"scatter\": [{\"marker\": {\"colorbar\": {\"outlinewidth\": 0, \"ticks\": \"\"}}, \"type\": \"scatter\"}], \"scatter3d\": [{\"line\": {\"colorbar\": {\"outlinewidth\": 0, \"ticks\": \"\"}}, \"marker\": {\"colorbar\": {\"outlinewidth\": 0, \"ticks\": \"\"}}, \"type\": \"scatter3d\"}], \"scattercarpet\": [{\"marker\": {\"colorbar\": {\"outlinewidth\": 0, \"ticks\": \"\"}}, \"type\": \"scattercarpet\"}], \"scattergeo\": [{\"marker\": {\"colorbar\": {\"outlinewidth\": 0, \"ticks\": \"\"}}, \"type\": \"scattergeo\"}], \"scattergl\": [{\"marker\": {\"colorbar\": {\"outlinewidth\": 0, \"ticks\": \"\"}}, \"type\": \"scattergl\"}], \"scattermapbox\": [{\"marker\": {\"colorbar\": {\"outlinewidth\": 0, \"ticks\": \"\"}}, \"type\": \"scattermapbox\"}], \"scatterpolar\": [{\"marker\": {\"colorbar\": {\"outlinewidth\": 0, \"ticks\": \"\"}}, \"type\": \"scatterpolar\"}], \"scatterpolargl\": [{\"marker\": {\"colorbar\": {\"outlinewidth\": 0, \"ticks\": \"\"}}, \"type\": \"scatterpolargl\"}], \"scatterternary\": [{\"marker\": {\"colorbar\": {\"outlinewidth\": 0, \"ticks\": \"\"}}, \"type\": \"scatterternary\"}], \"surface\": [{\"colorbar\": {\"outlinewidth\": 0, \"ticks\": \"\"}, \"colorscale\": [[0.0, \"#0d0887\"], [0.1111111111111111, \"#46039f\"], [0.2222222222222222, \"#7201a8\"], [0.3333333333333333, \"#9c179e\"], [0.4444444444444444, \"#bd3786\"], [0.5555555555555556, \"#d8576b\"], [0.6666666666666666, \"#ed7953\"], [0.7777777777777778, \"#fb9f3a\"], [0.8888888888888888, \"#fdca26\"], [1.0, \"#f0f921\"]], \"type\": \"surface\"}], \"table\": [{\"cells\": {\"fill\": {\"color\": \"#EBF0F8\"}, \"line\": {\"color\": \"white\"}}, \"header\": {\"fill\": {\"color\": \"#C8D4E3\"}, \"line\": {\"color\": \"white\"}}, \"type\": \"table\"}]}, \"layout\": {\"annotationdefaults\": {\"arrowcolor\": \"#2a3f5f\", \"arrowhead\": 0, \"arrowwidth\": 1}, \"autotypenumbers\": \"strict\", \"coloraxis\": {\"colorbar\": {\"outlinewidth\": 0, \"ticks\": \"\"}}, \"colorscale\": {\"diverging\": [[0, \"#8e0152\"], [0.1, \"#c51b7d\"], [0.2, \"#de77ae\"], [0.3, \"#f1b6da\"], [0.4, \"#fde0ef\"], [0.5, \"#f7f7f7\"], [0.6, \"#e6f5d0\"], [0.7, \"#b8e186\"], [0.8, \"#7fbc41\"], [0.9, \"#4d9221\"], [1, \"#276419\"]], \"sequential\": [[0.0, \"#0d0887\"], [0.1111111111111111, \"#46039f\"], [0.2222222222222222, \"#7201a8\"], [0.3333333333333333, \"#9c179e\"], [0.4444444444444444, \"#bd3786\"], [0.5555555555555556, \"#d8576b\"], [0.6666666666666666, \"#ed7953\"], [0.7777777777777778, \"#fb9f3a\"], [0.8888888888888888, \"#fdca26\"], [1.0, \"#f0f921\"]], \"sequentialminus\": [[0.0, \"#0d0887\"], [0.1111111111111111, \"#46039f\"], [0.2222222222222222, \"#7201a8\"], [0.3333333333333333, \"#9c179e\"], [0.4444444444444444, \"#bd3786\"], [0.5555555555555556, \"#d8576b\"], [0.6666666666666666, \"#ed7953\"], [0.7777777777777778, \"#fb9f3a\"], [0.8888888888888888, \"#fdca26\"], [1.0, \"#f0f921\"]]}, \"colorway\": [\"#636efa\", \"#EF553B\", \"#00cc96\", \"#ab63fa\", \"#FFA15A\", \"#19d3f3\", \"#FF6692\", \"#B6E880\", \"#FF97FF\", \"#FECB52\"], \"font\": {\"color\": \"#2a3f5f\"}, \"geo\": {\"bgcolor\": \"white\", \"lakecolor\": \"white\", \"landcolor\": \"#E5ECF6\", \"showlakes\": true, \"showland\": true, \"subunitcolor\": \"white\"}, \"hoverlabel\": {\"align\": \"left\"}, \"hovermode\": \"closest\", \"mapbox\": {\"style\": \"light\"}, \"paper_bgcolor\": \"white\", \"plot_bgcolor\": \"#E5ECF6\", \"polar\": {\"angularaxis\": {\"gridcolor\": \"white\", \"linecolor\": \"white\", \"ticks\": \"\"}, \"bgcolor\": \"#E5ECF6\", \"radialaxis\": {\"gridcolor\": \"white\", \"linecolor\": \"white\", \"ticks\": \"\"}}, \"scene\": {\"xaxis\": {\"backgroundcolor\": \"#E5ECF6\", \"gridcolor\": \"white\", \"gridwidth\": 2, \"linecolor\": \"white\", \"showbackground\": true, \"ticks\": \"\", \"zerolinecolor\": \"white\"}, \"yaxis\": {\"backgroundcolor\": \"#E5ECF6\", \"gridcolor\": \"white\", \"gridwidth\": 2, \"linecolor\": \"white\", \"showbackground\": true, \"ticks\": \"\", \"zerolinecolor\": \"white\"}, \"zaxis\": {\"backgroundcolor\": \"#E5ECF6\", \"gridcolor\": \"white\", \"gridwidth\": 2, \"linecolor\": \"white\", \"showbackground\": true, \"ticks\": \"\", \"zerolinecolor\": \"white\"}}, \"shapedefaults\": {\"line\": {\"color\": \"#2a3f5f\"}}, \"ternary\": {\"aaxis\": {\"gridcolor\": \"white\", \"linecolor\": \"white\", \"ticks\": \"\"}, \"baxis\": {\"gridcolor\": \"white\", \"linecolor\": \"white\", \"ticks\": \"\"}, \"bgcolor\": \"#E5ECF6\", \"caxis\": {\"gridcolor\": \"white\", \"linecolor\": \"white\", \"ticks\": \"\"}}, \"title\": {\"x\": 0.05}, \"xaxis\": {\"automargin\": true, \"gridcolor\": \"white\", \"linecolor\": \"white\", \"ticks\": \"\", \"title\": {\"standoff\": 15}, \"zerolinecolor\": \"white\", \"zerolinewidth\": 2}, \"yaxis\": {\"automargin\": true, \"gridcolor\": \"white\", \"linecolor\": \"white\", \"ticks\": \"\", \"title\": {\"standoff\": 15}, \"zerolinecolor\": \"white\", \"zerolinewidth\": 2}}}, \"title\": {\"font\": {\"color\": \"#4D5663\"}}, \"xaxis\": {\"gridcolor\": \"#E1E5ED\", \"showgrid\": true, \"tickfont\": {\"color\": \"#4D5663\"}, \"title\": {\"font\": {\"color\": \"#4D5663\"}, \"text\": \"\"}, \"zerolinecolor\": \"#E1E5ED\"}, \"yaxis\": {\"gridcolor\": \"#E1E5ED\", \"showgrid\": true, \"tickfont\": {\"color\": \"#4D5663\"}, \"title\": {\"font\": {\"color\": \"#4D5663\"}, \"text\": \"\"}, \"zerolinecolor\": \"#E1E5ED\"}},                        {\"showLink\": true, \"linkText\": \"Export to plot.ly\", \"plotlyServerURL\": \"https://plot.ly\", \"responsive\": true}                    ).then(function(){\n",
       "                            \n",
       "var gd = document.getElementById('857bb094-040b-44fd-93c6-8b399e37bd45');\n",
       "var x = new MutationObserver(function (mutations, observer) {{\n",
       "        var display = window.getComputedStyle(gd).display;\n",
       "        if (!display || display === 'none') {{\n",
       "            console.log([gd, 'removed!']);\n",
       "            Plotly.purge(gd);\n",
       "            observer.disconnect();\n",
       "        }}\n",
       "}});\n",
       "\n",
       "// Listen for the removal of the full notebook cells\n",
       "var notebookContainer = gd.closest('#notebook-container');\n",
       "if (notebookContainer) {{\n",
       "    x.observe(notebookContainer, {childList: true});\n",
       "}}\n",
       "\n",
       "// Listen for the clearing of the current output cell\n",
       "var outputEl = gd.closest('.output');\n",
       "if (outputEl) {{\n",
       "    x.observe(outputEl, {childList: true});\n",
       "}}\n",
       "\n",
       "                        })                };                });            </script>        </div>"
      ]
     },
     "metadata": {},
     "output_type": "display_data"
    }
   ],
   "source": [
    "df.iplot(kind = 'box')"
   ]
  },
  {
   "cell_type": "markdown",
   "metadata": {},
   "source": [
    "### Histogramas"
   ]
  },
  {
   "cell_type": "code",
   "execution_count": 11,
   "metadata": {},
   "outputs": [
    {
     "data": {
      "application/vnd.plotly.v1+json": {
       "config": {
        "linkText": "Export to plot.ly",
        "plotlyServerURL": "https://plot.ly",
        "showLink": true
       },
       "data": [
        {
         "histfunc": "count",
         "histnorm": "",
         "marker": {
          "color": "rgba(255, 153, 51, 1.0)",
          "line": {
           "color": "#4D5663",
           "width": 1.3
          }
         },
         "name": "A",
         "opacity": 0.8,
         "orientation": "v",
         "type": "histogram",
         "x": [
          -1.4610241031401339,
          0.09525150167714372,
          -0.029203584395679657,
          -0.014015621374794238,
          1.3061216714143065,
          -0.31702307455461454,
          -1.1289839361958052,
          -0.13699963759455056,
          -0.6639938504440216,
          0.9470923910686199,
          1.553358059937682,
          0.05045164189835665,
          0.05751000634937235,
          2.1315144223408105,
          0.46274757495098084,
          -0.17673927911072126,
          -0.4606921426908111,
          -0.43086281676434296,
          -2.1264803113550594,
          0.001056488752819712,
          -0.3059598987663699,
          0.9662890754859629,
          0.2510262672230263,
          -0.9617278560791738,
          0.048995145654571845,
          -1.0209156821548113,
          -0.5691472839815525,
          0.4996248117695914,
          0.4464570983716666,
          -0.16336359024926198,
          1.262599325533162,
          -0.38117396654870617,
          0.6470503045744972,
          1.98286394042055,
          0.3984834505594768,
          0.7771765568436815,
          0.6232338000739429,
          1.167642598764409,
          -0.6183478391013726,
          1.2230733527522957,
          0.502339193606301,
          -1.1320171943548307,
          -0.7080909329004074,
          1.2718460327483254,
          -1.485782893035162,
          0.4319773772095389,
          0.362675989804671,
          1.4424577308111275,
          0.32319678124815143,
          -1.1700283154363498,
          1.8634674399731277,
          1.3157150735096061,
          -1.0097525209274345,
          -1.8188977326440103,
          0.32593373911336543,
          0.5229234346569209,
          -0.11081787742866657,
          -0.4975140914807007,
          -1.2059467191465185,
          -1.498419024882172,
          2.255904266090674,
          -0.2302591959967517,
          -0.6209322962615502,
          0.49579609306554884,
          -0.16989586521007646,
          0.46588198032360506,
          -0.909141855445599,
          -0.0009026500043386546,
          0.48123916040588277,
          1.118792923213792,
          -0.4420688885202043,
          0.9751416814442033,
          -0.03744211472540877,
          -1.778410999950504,
          -0.6892087536621391,
          -0.2385350486172311,
          0.019730054488734897,
          1.6716799790383337,
          1.3566170705713458,
          0.8873773894586302,
          -2.0888727474034563,
          -0.41046309299992867,
          -0.5549572208662424,
          -1.5861279398806762,
          -0.3540634750924586,
          0.6090614019865381,
          1.2372628555021594,
          -0.3429623623702404,
          -0.1606326504345451,
          1.622631579628323,
          1.0736460288414729,
          -0.7629319166489795,
          -0.5029453305115006,
          0.1671892839193268,
          -1.488441025936215,
          -0.27038751087145,
          0.855741339941454,
          -0.16881176419721813,
          -0.16170217362603542,
          0.9173449807873943
         ]
        }
       ],
       "layout": {
        "barmode": "overlay",
        "legend": {
         "bgcolor": "#F5F6F9",
         "font": {
          "color": "#4D5663"
         }
        },
        "paper_bgcolor": "#F5F6F9",
        "plot_bgcolor": "#F5F6F9",
        "template": {
         "data": {
          "bar": [
           {
            "error_x": {
             "color": "#2a3f5f"
            },
            "error_y": {
             "color": "#2a3f5f"
            },
            "marker": {
             "line": {
              "color": "#E5ECF6",
              "width": 0.5
             }
            },
            "type": "bar"
           }
          ],
          "barpolar": [
           {
            "marker": {
             "line": {
              "color": "#E5ECF6",
              "width": 0.5
             }
            },
            "type": "barpolar"
           }
          ],
          "carpet": [
           {
            "aaxis": {
             "endlinecolor": "#2a3f5f",
             "gridcolor": "white",
             "linecolor": "white",
             "minorgridcolor": "white",
             "startlinecolor": "#2a3f5f"
            },
            "baxis": {
             "endlinecolor": "#2a3f5f",
             "gridcolor": "white",
             "linecolor": "white",
             "minorgridcolor": "white",
             "startlinecolor": "#2a3f5f"
            },
            "type": "carpet"
           }
          ],
          "choropleth": [
           {
            "colorbar": {
             "outlinewidth": 0,
             "ticks": ""
            },
            "type": "choropleth"
           }
          ],
          "contour": [
           {
            "colorbar": {
             "outlinewidth": 0,
             "ticks": ""
            },
            "colorscale": [
             [
              0,
              "#0d0887"
             ],
             [
              0.1111111111111111,
              "#46039f"
             ],
             [
              0.2222222222222222,
              "#7201a8"
             ],
             [
              0.3333333333333333,
              "#9c179e"
             ],
             [
              0.4444444444444444,
              "#bd3786"
             ],
             [
              0.5555555555555556,
              "#d8576b"
             ],
             [
              0.6666666666666666,
              "#ed7953"
             ],
             [
              0.7777777777777778,
              "#fb9f3a"
             ],
             [
              0.8888888888888888,
              "#fdca26"
             ],
             [
              1,
              "#f0f921"
             ]
            ],
            "type": "contour"
           }
          ],
          "contourcarpet": [
           {
            "colorbar": {
             "outlinewidth": 0,
             "ticks": ""
            },
            "type": "contourcarpet"
           }
          ],
          "heatmap": [
           {
            "colorbar": {
             "outlinewidth": 0,
             "ticks": ""
            },
            "colorscale": [
             [
              0,
              "#0d0887"
             ],
             [
              0.1111111111111111,
              "#46039f"
             ],
             [
              0.2222222222222222,
              "#7201a8"
             ],
             [
              0.3333333333333333,
              "#9c179e"
             ],
             [
              0.4444444444444444,
              "#bd3786"
             ],
             [
              0.5555555555555556,
              "#d8576b"
             ],
             [
              0.6666666666666666,
              "#ed7953"
             ],
             [
              0.7777777777777778,
              "#fb9f3a"
             ],
             [
              0.8888888888888888,
              "#fdca26"
             ],
             [
              1,
              "#f0f921"
             ]
            ],
            "type": "heatmap"
           }
          ],
          "heatmapgl": [
           {
            "colorbar": {
             "outlinewidth": 0,
             "ticks": ""
            },
            "colorscale": [
             [
              0,
              "#0d0887"
             ],
             [
              0.1111111111111111,
              "#46039f"
             ],
             [
              0.2222222222222222,
              "#7201a8"
             ],
             [
              0.3333333333333333,
              "#9c179e"
             ],
             [
              0.4444444444444444,
              "#bd3786"
             ],
             [
              0.5555555555555556,
              "#d8576b"
             ],
             [
              0.6666666666666666,
              "#ed7953"
             ],
             [
              0.7777777777777778,
              "#fb9f3a"
             ],
             [
              0.8888888888888888,
              "#fdca26"
             ],
             [
              1,
              "#f0f921"
             ]
            ],
            "type": "heatmapgl"
           }
          ],
          "histogram": [
           {
            "marker": {
             "colorbar": {
              "outlinewidth": 0,
              "ticks": ""
             }
            },
            "type": "histogram"
           }
          ],
          "histogram2d": [
           {
            "colorbar": {
             "outlinewidth": 0,
             "ticks": ""
            },
            "colorscale": [
             [
              0,
              "#0d0887"
             ],
             [
              0.1111111111111111,
              "#46039f"
             ],
             [
              0.2222222222222222,
              "#7201a8"
             ],
             [
              0.3333333333333333,
              "#9c179e"
             ],
             [
              0.4444444444444444,
              "#bd3786"
             ],
             [
              0.5555555555555556,
              "#d8576b"
             ],
             [
              0.6666666666666666,
              "#ed7953"
             ],
             [
              0.7777777777777778,
              "#fb9f3a"
             ],
             [
              0.8888888888888888,
              "#fdca26"
             ],
             [
              1,
              "#f0f921"
             ]
            ],
            "type": "histogram2d"
           }
          ],
          "histogram2dcontour": [
           {
            "colorbar": {
             "outlinewidth": 0,
             "ticks": ""
            },
            "colorscale": [
             [
              0,
              "#0d0887"
             ],
             [
              0.1111111111111111,
              "#46039f"
             ],
             [
              0.2222222222222222,
              "#7201a8"
             ],
             [
              0.3333333333333333,
              "#9c179e"
             ],
             [
              0.4444444444444444,
              "#bd3786"
             ],
             [
              0.5555555555555556,
              "#d8576b"
             ],
             [
              0.6666666666666666,
              "#ed7953"
             ],
             [
              0.7777777777777778,
              "#fb9f3a"
             ],
             [
              0.8888888888888888,
              "#fdca26"
             ],
             [
              1,
              "#f0f921"
             ]
            ],
            "type": "histogram2dcontour"
           }
          ],
          "mesh3d": [
           {
            "colorbar": {
             "outlinewidth": 0,
             "ticks": ""
            },
            "type": "mesh3d"
           }
          ],
          "parcoords": [
           {
            "line": {
             "colorbar": {
              "outlinewidth": 0,
              "ticks": ""
             }
            },
            "type": "parcoords"
           }
          ],
          "pie": [
           {
            "automargin": true,
            "type": "pie"
           }
          ],
          "scatter": [
           {
            "marker": {
             "colorbar": {
              "outlinewidth": 0,
              "ticks": ""
             }
            },
            "type": "scatter"
           }
          ],
          "scatter3d": [
           {
            "line": {
             "colorbar": {
              "outlinewidth": 0,
              "ticks": ""
             }
            },
            "marker": {
             "colorbar": {
              "outlinewidth": 0,
              "ticks": ""
             }
            },
            "type": "scatter3d"
           }
          ],
          "scattercarpet": [
           {
            "marker": {
             "colorbar": {
              "outlinewidth": 0,
              "ticks": ""
             }
            },
            "type": "scattercarpet"
           }
          ],
          "scattergeo": [
           {
            "marker": {
             "colorbar": {
              "outlinewidth": 0,
              "ticks": ""
             }
            },
            "type": "scattergeo"
           }
          ],
          "scattergl": [
           {
            "marker": {
             "colorbar": {
              "outlinewidth": 0,
              "ticks": ""
             }
            },
            "type": "scattergl"
           }
          ],
          "scattermapbox": [
           {
            "marker": {
             "colorbar": {
              "outlinewidth": 0,
              "ticks": ""
             }
            },
            "type": "scattermapbox"
           }
          ],
          "scatterpolar": [
           {
            "marker": {
             "colorbar": {
              "outlinewidth": 0,
              "ticks": ""
             }
            },
            "type": "scatterpolar"
           }
          ],
          "scatterpolargl": [
           {
            "marker": {
             "colorbar": {
              "outlinewidth": 0,
              "ticks": ""
             }
            },
            "type": "scatterpolargl"
           }
          ],
          "scatterternary": [
           {
            "marker": {
             "colorbar": {
              "outlinewidth": 0,
              "ticks": ""
             }
            },
            "type": "scatterternary"
           }
          ],
          "surface": [
           {
            "colorbar": {
             "outlinewidth": 0,
             "ticks": ""
            },
            "colorscale": [
             [
              0,
              "#0d0887"
             ],
             [
              0.1111111111111111,
              "#46039f"
             ],
             [
              0.2222222222222222,
              "#7201a8"
             ],
             [
              0.3333333333333333,
              "#9c179e"
             ],
             [
              0.4444444444444444,
              "#bd3786"
             ],
             [
              0.5555555555555556,
              "#d8576b"
             ],
             [
              0.6666666666666666,
              "#ed7953"
             ],
             [
              0.7777777777777778,
              "#fb9f3a"
             ],
             [
              0.8888888888888888,
              "#fdca26"
             ],
             [
              1,
              "#f0f921"
             ]
            ],
            "type": "surface"
           }
          ],
          "table": [
           {
            "cells": {
             "fill": {
              "color": "#EBF0F8"
             },
             "line": {
              "color": "white"
             }
            },
            "header": {
             "fill": {
              "color": "#C8D4E3"
             },
             "line": {
              "color": "white"
             }
            },
            "type": "table"
           }
          ]
         },
         "layout": {
          "annotationdefaults": {
           "arrowcolor": "#2a3f5f",
           "arrowhead": 0,
           "arrowwidth": 1
          },
          "autotypenumbers": "strict",
          "coloraxis": {
           "colorbar": {
            "outlinewidth": 0,
            "ticks": ""
           }
          },
          "colorscale": {
           "diverging": [
            [
             0,
             "#8e0152"
            ],
            [
             0.1,
             "#c51b7d"
            ],
            [
             0.2,
             "#de77ae"
            ],
            [
             0.3,
             "#f1b6da"
            ],
            [
             0.4,
             "#fde0ef"
            ],
            [
             0.5,
             "#f7f7f7"
            ],
            [
             0.6,
             "#e6f5d0"
            ],
            [
             0.7,
             "#b8e186"
            ],
            [
             0.8,
             "#7fbc41"
            ],
            [
             0.9,
             "#4d9221"
            ],
            [
             1,
             "#276419"
            ]
           ],
           "sequential": [
            [
             0,
             "#0d0887"
            ],
            [
             0.1111111111111111,
             "#46039f"
            ],
            [
             0.2222222222222222,
             "#7201a8"
            ],
            [
             0.3333333333333333,
             "#9c179e"
            ],
            [
             0.4444444444444444,
             "#bd3786"
            ],
            [
             0.5555555555555556,
             "#d8576b"
            ],
            [
             0.6666666666666666,
             "#ed7953"
            ],
            [
             0.7777777777777778,
             "#fb9f3a"
            ],
            [
             0.8888888888888888,
             "#fdca26"
            ],
            [
             1,
             "#f0f921"
            ]
           ],
           "sequentialminus": [
            [
             0,
             "#0d0887"
            ],
            [
             0.1111111111111111,
             "#46039f"
            ],
            [
             0.2222222222222222,
             "#7201a8"
            ],
            [
             0.3333333333333333,
             "#9c179e"
            ],
            [
             0.4444444444444444,
             "#bd3786"
            ],
            [
             0.5555555555555556,
             "#d8576b"
            ],
            [
             0.6666666666666666,
             "#ed7953"
            ],
            [
             0.7777777777777778,
             "#fb9f3a"
            ],
            [
             0.8888888888888888,
             "#fdca26"
            ],
            [
             1,
             "#f0f921"
            ]
           ]
          },
          "colorway": [
           "#636efa",
           "#EF553B",
           "#00cc96",
           "#ab63fa",
           "#FFA15A",
           "#19d3f3",
           "#FF6692",
           "#B6E880",
           "#FF97FF",
           "#FECB52"
          ],
          "font": {
           "color": "#2a3f5f"
          },
          "geo": {
           "bgcolor": "white",
           "lakecolor": "white",
           "landcolor": "#E5ECF6",
           "showlakes": true,
           "showland": true,
           "subunitcolor": "white"
          },
          "hoverlabel": {
           "align": "left"
          },
          "hovermode": "closest",
          "mapbox": {
           "style": "light"
          },
          "paper_bgcolor": "white",
          "plot_bgcolor": "#E5ECF6",
          "polar": {
           "angularaxis": {
            "gridcolor": "white",
            "linecolor": "white",
            "ticks": ""
           },
           "bgcolor": "#E5ECF6",
           "radialaxis": {
            "gridcolor": "white",
            "linecolor": "white",
            "ticks": ""
           }
          },
          "scene": {
           "xaxis": {
            "backgroundcolor": "#E5ECF6",
            "gridcolor": "white",
            "gridwidth": 2,
            "linecolor": "white",
            "showbackground": true,
            "ticks": "",
            "zerolinecolor": "white"
           },
           "yaxis": {
            "backgroundcolor": "#E5ECF6",
            "gridcolor": "white",
            "gridwidth": 2,
            "linecolor": "white",
            "showbackground": true,
            "ticks": "",
            "zerolinecolor": "white"
           },
           "zaxis": {
            "backgroundcolor": "#E5ECF6",
            "gridcolor": "white",
            "gridwidth": 2,
            "linecolor": "white",
            "showbackground": true,
            "ticks": "",
            "zerolinecolor": "white"
           }
          },
          "shapedefaults": {
           "line": {
            "color": "#2a3f5f"
           }
          },
          "ternary": {
           "aaxis": {
            "gridcolor": "white",
            "linecolor": "white",
            "ticks": ""
           },
           "baxis": {
            "gridcolor": "white",
            "linecolor": "white",
            "ticks": ""
           },
           "bgcolor": "#E5ECF6",
           "caxis": {
            "gridcolor": "white",
            "linecolor": "white",
            "ticks": ""
           }
          },
          "title": {
           "x": 0.05
          },
          "xaxis": {
           "automargin": true,
           "gridcolor": "white",
           "linecolor": "white",
           "ticks": "",
           "title": {
            "standoff": 15
           },
           "zerolinecolor": "white",
           "zerolinewidth": 2
          },
          "yaxis": {
           "automargin": true,
           "gridcolor": "white",
           "linecolor": "white",
           "ticks": "",
           "title": {
            "standoff": 15
           },
           "zerolinecolor": "white",
           "zerolinewidth": 2
          }
         }
        },
        "title": {
         "font": {
          "color": "#4D5663"
         }
        },
        "xaxis": {
         "gridcolor": "#E1E5ED",
         "showgrid": true,
         "tickfont": {
          "color": "#4D5663"
         },
         "title": {
          "font": {
           "color": "#4D5663"
          },
          "text": ""
         },
         "zerolinecolor": "#E1E5ED"
        },
        "yaxis": {
         "gridcolor": "#E1E5ED",
         "showgrid": true,
         "tickfont": {
          "color": "#4D5663"
         },
         "title": {
          "font": {
           "color": "#4D5663"
          },
          "text": ""
         },
         "zerolinecolor": "#E1E5ED"
        }
       }
      },
      "text/html": [
       "<div>                            <div id=\"73191e06-6538-4120-b859-41dbe3a95999\" class=\"plotly-graph-div\" style=\"height:525px; width:100%;\"></div>            <script type=\"text/javascript\">                require([\"plotly\"], function(Plotly) {                    window.PLOTLYENV=window.PLOTLYENV || {};\n",
       "                    window.PLOTLYENV.BASE_URL='https://plot.ly';                                    if (document.getElementById(\"73191e06-6538-4120-b859-41dbe3a95999\")) {                    Plotly.newPlot(                        \"73191e06-6538-4120-b859-41dbe3a95999\",                        [{\"histfunc\": \"count\", \"histnorm\": \"\", \"marker\": {\"color\": \"rgba(255, 153, 51, 1.0)\", \"line\": {\"color\": \"#4D5663\", \"width\": 1.3}}, \"name\": \"A\", \"opacity\": 0.8, \"orientation\": \"v\", \"type\": \"histogram\", \"x\": [-1.4610241031401339, 0.09525150167714372, -0.029203584395679657, -0.014015621374794238, 1.3061216714143065, -0.31702307455461454, -1.1289839361958052, -0.13699963759455056, -0.6639938504440216, 0.9470923910686199, 1.553358059937682, 0.05045164189835665, 0.05751000634937235, 2.1315144223408105, 0.46274757495098084, -0.17673927911072126, -0.4606921426908111, -0.43086281676434296, -2.1264803113550594, 0.001056488752819712, -0.3059598987663699, 0.9662890754859629, 0.2510262672230263, -0.9617278560791738, 0.048995145654571845, -1.0209156821548113, -0.5691472839815525, 0.4996248117695914, 0.4464570983716666, -0.16336359024926198, 1.262599325533162, -0.38117396654870617, 0.6470503045744972, 1.98286394042055, 0.3984834505594768, 0.7771765568436815, 0.6232338000739429, 1.167642598764409, -0.6183478391013726, 1.2230733527522957, 0.502339193606301, -1.1320171943548307, -0.7080909329004074, 1.2718460327483254, -1.485782893035162, 0.4319773772095389, 0.362675989804671, 1.4424577308111275, 0.32319678124815143, -1.1700283154363498, 1.8634674399731277, 1.3157150735096061, -1.0097525209274345, -1.8188977326440103, 0.32593373911336543, 0.5229234346569209, -0.11081787742866657, -0.4975140914807007, -1.2059467191465185, -1.498419024882172, 2.255904266090674, -0.2302591959967517, -0.6209322962615502, 0.49579609306554884, -0.16989586521007646, 0.46588198032360506, -0.909141855445599, -0.0009026500043386546, 0.48123916040588277, 1.118792923213792, -0.4420688885202043, 0.9751416814442033, -0.03744211472540877, -1.778410999950504, -0.6892087536621391, -0.2385350486172311, 0.019730054488734897, 1.6716799790383337, 1.3566170705713458, 0.8873773894586302, -2.0888727474034563, -0.41046309299992867, -0.5549572208662424, -1.5861279398806762, -0.3540634750924586, 0.6090614019865381, 1.2372628555021594, -0.3429623623702404, -0.1606326504345451, 1.622631579628323, 1.0736460288414729, -0.7629319166489795, -0.5029453305115006, 0.1671892839193268, -1.488441025936215, -0.27038751087145, 0.855741339941454, -0.16881176419721813, -0.16170217362603542, 0.9173449807873943]}],                        {\"barmode\": \"overlay\", \"legend\": {\"bgcolor\": \"#F5F6F9\", \"font\": {\"color\": \"#4D5663\"}}, \"paper_bgcolor\": \"#F5F6F9\", \"plot_bgcolor\": \"#F5F6F9\", \"template\": {\"data\": {\"bar\": [{\"error_x\": {\"color\": \"#2a3f5f\"}, \"error_y\": {\"color\": \"#2a3f5f\"}, \"marker\": {\"line\": {\"color\": \"#E5ECF6\", \"width\": 0.5}}, \"type\": \"bar\"}], \"barpolar\": [{\"marker\": {\"line\": {\"color\": \"#E5ECF6\", \"width\": 0.5}}, \"type\": \"barpolar\"}], \"carpet\": [{\"aaxis\": {\"endlinecolor\": \"#2a3f5f\", \"gridcolor\": \"white\", \"linecolor\": \"white\", \"minorgridcolor\": \"white\", \"startlinecolor\": \"#2a3f5f\"}, \"baxis\": {\"endlinecolor\": \"#2a3f5f\", \"gridcolor\": \"white\", \"linecolor\": \"white\", \"minorgridcolor\": \"white\", \"startlinecolor\": \"#2a3f5f\"}, \"type\": \"carpet\"}], \"choropleth\": [{\"colorbar\": {\"outlinewidth\": 0, \"ticks\": \"\"}, \"type\": \"choropleth\"}], \"contour\": [{\"colorbar\": {\"outlinewidth\": 0, \"ticks\": \"\"}, \"colorscale\": [[0.0, \"#0d0887\"], [0.1111111111111111, \"#46039f\"], [0.2222222222222222, \"#7201a8\"], [0.3333333333333333, \"#9c179e\"], [0.4444444444444444, \"#bd3786\"], [0.5555555555555556, \"#d8576b\"], [0.6666666666666666, \"#ed7953\"], [0.7777777777777778, \"#fb9f3a\"], [0.8888888888888888, \"#fdca26\"], [1.0, \"#f0f921\"]], \"type\": \"contour\"}], \"contourcarpet\": [{\"colorbar\": {\"outlinewidth\": 0, \"ticks\": \"\"}, \"type\": \"contourcarpet\"}], \"heatmap\": [{\"colorbar\": {\"outlinewidth\": 0, \"ticks\": \"\"}, \"colorscale\": [[0.0, \"#0d0887\"], [0.1111111111111111, \"#46039f\"], [0.2222222222222222, \"#7201a8\"], [0.3333333333333333, \"#9c179e\"], [0.4444444444444444, \"#bd3786\"], [0.5555555555555556, \"#d8576b\"], [0.6666666666666666, \"#ed7953\"], [0.7777777777777778, \"#fb9f3a\"], [0.8888888888888888, \"#fdca26\"], [1.0, \"#f0f921\"]], \"type\": \"heatmap\"}], \"heatmapgl\": [{\"colorbar\": {\"outlinewidth\": 0, \"ticks\": \"\"}, \"colorscale\": [[0.0, \"#0d0887\"], [0.1111111111111111, \"#46039f\"], [0.2222222222222222, \"#7201a8\"], [0.3333333333333333, \"#9c179e\"], [0.4444444444444444, \"#bd3786\"], [0.5555555555555556, \"#d8576b\"], [0.6666666666666666, \"#ed7953\"], [0.7777777777777778, \"#fb9f3a\"], [0.8888888888888888, \"#fdca26\"], [1.0, \"#f0f921\"]], \"type\": \"heatmapgl\"}], \"histogram\": [{\"marker\": {\"colorbar\": {\"outlinewidth\": 0, \"ticks\": \"\"}}, \"type\": \"histogram\"}], \"histogram2d\": [{\"colorbar\": {\"outlinewidth\": 0, \"ticks\": \"\"}, \"colorscale\": [[0.0, \"#0d0887\"], [0.1111111111111111, \"#46039f\"], [0.2222222222222222, \"#7201a8\"], [0.3333333333333333, \"#9c179e\"], [0.4444444444444444, \"#bd3786\"], [0.5555555555555556, \"#d8576b\"], [0.6666666666666666, \"#ed7953\"], [0.7777777777777778, \"#fb9f3a\"], [0.8888888888888888, \"#fdca26\"], [1.0, \"#f0f921\"]], \"type\": \"histogram2d\"}], \"histogram2dcontour\": [{\"colorbar\": {\"outlinewidth\": 0, \"ticks\": \"\"}, \"colorscale\": [[0.0, \"#0d0887\"], [0.1111111111111111, \"#46039f\"], [0.2222222222222222, \"#7201a8\"], [0.3333333333333333, \"#9c179e\"], [0.4444444444444444, \"#bd3786\"], [0.5555555555555556, \"#d8576b\"], [0.6666666666666666, \"#ed7953\"], [0.7777777777777778, \"#fb9f3a\"], [0.8888888888888888, \"#fdca26\"], [1.0, \"#f0f921\"]], \"type\": \"histogram2dcontour\"}], \"mesh3d\": [{\"colorbar\": {\"outlinewidth\": 0, \"ticks\": \"\"}, \"type\": \"mesh3d\"}], \"parcoords\": [{\"line\": {\"colorbar\": {\"outlinewidth\": 0, \"ticks\": \"\"}}, \"type\": \"parcoords\"}], \"pie\": [{\"automargin\": true, \"type\": \"pie\"}], \"scatter\": [{\"marker\": {\"colorbar\": {\"outlinewidth\": 0, \"ticks\": \"\"}}, \"type\": \"scatter\"}], \"scatter3d\": [{\"line\": {\"colorbar\": {\"outlinewidth\": 0, \"ticks\": \"\"}}, \"marker\": {\"colorbar\": {\"outlinewidth\": 0, \"ticks\": \"\"}}, \"type\": \"scatter3d\"}], \"scattercarpet\": [{\"marker\": {\"colorbar\": {\"outlinewidth\": 0, \"ticks\": \"\"}}, \"type\": \"scattercarpet\"}], \"scattergeo\": [{\"marker\": {\"colorbar\": {\"outlinewidth\": 0, \"ticks\": \"\"}}, \"type\": \"scattergeo\"}], \"scattergl\": [{\"marker\": {\"colorbar\": {\"outlinewidth\": 0, \"ticks\": \"\"}}, \"type\": \"scattergl\"}], \"scattermapbox\": [{\"marker\": {\"colorbar\": {\"outlinewidth\": 0, \"ticks\": \"\"}}, \"type\": \"scattermapbox\"}], \"scatterpolar\": [{\"marker\": {\"colorbar\": {\"outlinewidth\": 0, \"ticks\": \"\"}}, \"type\": \"scatterpolar\"}], \"scatterpolargl\": [{\"marker\": {\"colorbar\": {\"outlinewidth\": 0, \"ticks\": \"\"}}, \"type\": \"scatterpolargl\"}], \"scatterternary\": [{\"marker\": {\"colorbar\": {\"outlinewidth\": 0, \"ticks\": \"\"}}, \"type\": \"scatterternary\"}], \"surface\": [{\"colorbar\": {\"outlinewidth\": 0, \"ticks\": \"\"}, \"colorscale\": [[0.0, \"#0d0887\"], [0.1111111111111111, \"#46039f\"], [0.2222222222222222, \"#7201a8\"], [0.3333333333333333, \"#9c179e\"], [0.4444444444444444, \"#bd3786\"], [0.5555555555555556, \"#d8576b\"], [0.6666666666666666, \"#ed7953\"], [0.7777777777777778, \"#fb9f3a\"], [0.8888888888888888, \"#fdca26\"], [1.0, \"#f0f921\"]], \"type\": \"surface\"}], \"table\": [{\"cells\": {\"fill\": {\"color\": \"#EBF0F8\"}, \"line\": {\"color\": \"white\"}}, \"header\": {\"fill\": {\"color\": \"#C8D4E3\"}, \"line\": {\"color\": \"white\"}}, \"type\": \"table\"}]}, \"layout\": {\"annotationdefaults\": {\"arrowcolor\": \"#2a3f5f\", \"arrowhead\": 0, \"arrowwidth\": 1}, \"autotypenumbers\": \"strict\", \"coloraxis\": {\"colorbar\": {\"outlinewidth\": 0, \"ticks\": \"\"}}, \"colorscale\": {\"diverging\": [[0, \"#8e0152\"], [0.1, \"#c51b7d\"], [0.2, \"#de77ae\"], [0.3, \"#f1b6da\"], [0.4, \"#fde0ef\"], [0.5, \"#f7f7f7\"], [0.6, \"#e6f5d0\"], [0.7, \"#b8e186\"], [0.8, \"#7fbc41\"], [0.9, \"#4d9221\"], [1, \"#276419\"]], \"sequential\": [[0.0, \"#0d0887\"], [0.1111111111111111, \"#46039f\"], [0.2222222222222222, \"#7201a8\"], [0.3333333333333333, \"#9c179e\"], [0.4444444444444444, \"#bd3786\"], [0.5555555555555556, \"#d8576b\"], [0.6666666666666666, \"#ed7953\"], [0.7777777777777778, \"#fb9f3a\"], [0.8888888888888888, \"#fdca26\"], [1.0, \"#f0f921\"]], \"sequentialminus\": [[0.0, \"#0d0887\"], [0.1111111111111111, \"#46039f\"], [0.2222222222222222, \"#7201a8\"], [0.3333333333333333, \"#9c179e\"], [0.4444444444444444, \"#bd3786\"], [0.5555555555555556, \"#d8576b\"], [0.6666666666666666, \"#ed7953\"], [0.7777777777777778, \"#fb9f3a\"], [0.8888888888888888, \"#fdca26\"], [1.0, \"#f0f921\"]]}, \"colorway\": [\"#636efa\", \"#EF553B\", \"#00cc96\", \"#ab63fa\", \"#FFA15A\", \"#19d3f3\", \"#FF6692\", \"#B6E880\", \"#FF97FF\", \"#FECB52\"], \"font\": {\"color\": \"#2a3f5f\"}, \"geo\": {\"bgcolor\": \"white\", \"lakecolor\": \"white\", \"landcolor\": \"#E5ECF6\", \"showlakes\": true, \"showland\": true, \"subunitcolor\": \"white\"}, \"hoverlabel\": {\"align\": \"left\"}, \"hovermode\": \"closest\", \"mapbox\": {\"style\": \"light\"}, \"paper_bgcolor\": \"white\", \"plot_bgcolor\": \"#E5ECF6\", \"polar\": {\"angularaxis\": {\"gridcolor\": \"white\", \"linecolor\": \"white\", \"ticks\": \"\"}, \"bgcolor\": \"#E5ECF6\", \"radialaxis\": {\"gridcolor\": \"white\", \"linecolor\": \"white\", \"ticks\": \"\"}}, \"scene\": {\"xaxis\": {\"backgroundcolor\": \"#E5ECF6\", \"gridcolor\": \"white\", \"gridwidth\": 2, \"linecolor\": \"white\", \"showbackground\": true, \"ticks\": \"\", \"zerolinecolor\": \"white\"}, \"yaxis\": {\"backgroundcolor\": \"#E5ECF6\", \"gridcolor\": \"white\", \"gridwidth\": 2, \"linecolor\": \"white\", \"showbackground\": true, \"ticks\": \"\", \"zerolinecolor\": \"white\"}, \"zaxis\": {\"backgroundcolor\": \"#E5ECF6\", \"gridcolor\": \"white\", \"gridwidth\": 2, \"linecolor\": \"white\", \"showbackground\": true, \"ticks\": \"\", \"zerolinecolor\": \"white\"}}, \"shapedefaults\": {\"line\": {\"color\": \"#2a3f5f\"}}, \"ternary\": {\"aaxis\": {\"gridcolor\": \"white\", \"linecolor\": \"white\", \"ticks\": \"\"}, \"baxis\": {\"gridcolor\": \"white\", \"linecolor\": \"white\", \"ticks\": \"\"}, \"bgcolor\": \"#E5ECF6\", \"caxis\": {\"gridcolor\": \"white\", \"linecolor\": \"white\", \"ticks\": \"\"}}, \"title\": {\"x\": 0.05}, \"xaxis\": {\"automargin\": true, \"gridcolor\": \"white\", \"linecolor\": \"white\", \"ticks\": \"\", \"title\": {\"standoff\": 15}, \"zerolinecolor\": \"white\", \"zerolinewidth\": 2}, \"yaxis\": {\"automargin\": true, \"gridcolor\": \"white\", \"linecolor\": \"white\", \"ticks\": \"\", \"title\": {\"standoff\": 15}, \"zerolinecolor\": \"white\", \"zerolinewidth\": 2}}}, \"title\": {\"font\": {\"color\": \"#4D5663\"}}, \"xaxis\": {\"gridcolor\": \"#E1E5ED\", \"showgrid\": true, \"tickfont\": {\"color\": \"#4D5663\"}, \"title\": {\"font\": {\"color\": \"#4D5663\"}, \"text\": \"\"}, \"zerolinecolor\": \"#E1E5ED\"}, \"yaxis\": {\"gridcolor\": \"#E1E5ED\", \"showgrid\": true, \"tickfont\": {\"color\": \"#4D5663\"}, \"title\": {\"font\": {\"color\": \"#4D5663\"}, \"text\": \"\"}, \"zerolinecolor\": \"#E1E5ED\"}},                        {\"showLink\": true, \"linkText\": \"Export to plot.ly\", \"plotlyServerURL\": \"https://plot.ly\", \"responsive\": true}                    ).then(function(){\n",
       "                            \n",
       "var gd = document.getElementById('73191e06-6538-4120-b859-41dbe3a95999');\n",
       "var x = new MutationObserver(function (mutations, observer) {{\n",
       "        var display = window.getComputedStyle(gd).display;\n",
       "        if (!display || display === 'none') {{\n",
       "            console.log([gd, 'removed!']);\n",
       "            Plotly.purge(gd);\n",
       "            observer.disconnect();\n",
       "        }}\n",
       "}});\n",
       "\n",
       "// Listen for the removal of the full notebook cells\n",
       "var notebookContainer = gd.closest('#notebook-container');\n",
       "if (notebookContainer) {{\n",
       "    x.observe(notebookContainer, {childList: true});\n",
       "}}\n",
       "\n",
       "// Listen for the clearing of the current output cell\n",
       "var outputEl = gd.closest('.output');\n",
       "if (outputEl) {{\n",
       "    x.observe(outputEl, {childList: true});\n",
       "}}\n",
       "\n",
       "                        })                };                });            </script>        </div>"
      ]
     },
     "metadata": {},
     "output_type": "display_data"
    }
   ],
   "source": [
    "df['A'].iplot(kind = 'hist')"
   ]
  },
  {
   "cell_type": "code",
   "execution_count": 12,
   "metadata": {},
   "outputs": [
    {
     "data": {
      "application/vnd.plotly.v1+json": {
       "config": {
        "linkText": "Export to plot.ly",
        "plotlyServerURL": "https://plot.ly",
        "showLink": true
       },
       "data": [
        {
         "histfunc": "count",
         "histnorm": "",
         "marker": {
          "color": "rgba(255, 153, 51, 1.0)",
          "line": {
           "color": "#4D5663",
           "width": 1.3
          }
         },
         "name": "A",
         "opacity": 0.8,
         "orientation": "v",
         "type": "histogram",
         "x": [
          -1.4610241031401339,
          0.09525150167714372,
          -0.029203584395679657,
          -0.014015621374794238,
          1.3061216714143065,
          -0.31702307455461454,
          -1.1289839361958052,
          -0.13699963759455056,
          -0.6639938504440216,
          0.9470923910686199,
          1.553358059937682,
          0.05045164189835665,
          0.05751000634937235,
          2.1315144223408105,
          0.46274757495098084,
          -0.17673927911072126,
          -0.4606921426908111,
          -0.43086281676434296,
          -2.1264803113550594,
          0.001056488752819712,
          -0.3059598987663699,
          0.9662890754859629,
          0.2510262672230263,
          -0.9617278560791738,
          0.048995145654571845,
          -1.0209156821548113,
          -0.5691472839815525,
          0.4996248117695914,
          0.4464570983716666,
          -0.16336359024926198,
          1.262599325533162,
          -0.38117396654870617,
          0.6470503045744972,
          1.98286394042055,
          0.3984834505594768,
          0.7771765568436815,
          0.6232338000739429,
          1.167642598764409,
          -0.6183478391013726,
          1.2230733527522957,
          0.502339193606301,
          -1.1320171943548307,
          -0.7080909329004074,
          1.2718460327483254,
          -1.485782893035162,
          0.4319773772095389,
          0.362675989804671,
          1.4424577308111275,
          0.32319678124815143,
          -1.1700283154363498,
          1.8634674399731277,
          1.3157150735096061,
          -1.0097525209274345,
          -1.8188977326440103,
          0.32593373911336543,
          0.5229234346569209,
          -0.11081787742866657,
          -0.4975140914807007,
          -1.2059467191465185,
          -1.498419024882172,
          2.255904266090674,
          -0.2302591959967517,
          -0.6209322962615502,
          0.49579609306554884,
          -0.16989586521007646,
          0.46588198032360506,
          -0.909141855445599,
          -0.0009026500043386546,
          0.48123916040588277,
          1.118792923213792,
          -0.4420688885202043,
          0.9751416814442033,
          -0.03744211472540877,
          -1.778410999950504,
          -0.6892087536621391,
          -0.2385350486172311,
          0.019730054488734897,
          1.6716799790383337,
          1.3566170705713458,
          0.8873773894586302,
          -2.0888727474034563,
          -0.41046309299992867,
          -0.5549572208662424,
          -1.5861279398806762,
          -0.3540634750924586,
          0.6090614019865381,
          1.2372628555021594,
          -0.3429623623702404,
          -0.1606326504345451,
          1.622631579628323,
          1.0736460288414729,
          -0.7629319166489795,
          -0.5029453305115006,
          0.1671892839193268,
          -1.488441025936215,
          -0.27038751087145,
          0.855741339941454,
          -0.16881176419721813,
          -0.16170217362603542,
          0.9173449807873943
         ]
        },
        {
         "histfunc": "count",
         "histnorm": "",
         "marker": {
          "color": "rgba(55, 128, 191, 1.0)",
          "line": {
           "color": "#4D5663",
           "width": 1.3
          }
         },
         "name": "B",
         "opacity": 0.8,
         "orientation": "v",
         "type": "histogram",
         "x": [
          0.3907902707269141,
          0.6943603904272828,
          -0.5795978735730865,
          0.813526262604139,
          0.7839931065000858,
          -0.46753196417464715,
          1.0359830523535647,
          -0.00108728024401313,
          -0.8081899074223791,
          -1.7047006560220002,
          -1.2500075128534878,
          0.22565379843725744,
          0.8538877104205691,
          -0.010769431923218427,
          -0.16471091416661995,
          1.1532806339771444,
          -0.3057147481342851,
          -0.4072257391625898,
          0.33177364843814655,
          -1.9259607592803352,
          0.6328208279632327,
          0.09822037368245887,
          0.22575815059781187,
          0.3342337338883107,
          0.20918911354792807,
          0.7884841767921292,
          -1.777038244279568,
          -0.8943194078336356,
          0.7836857923081855,
          0.6141031111803202,
          0.5733925432595015,
          -0.049455510335339334,
          0.9530936899389951,
          -1.4516704869032073,
          0.5115887243863995,
          0.6530646533442895,
          -0.23318159386226586,
          -1.319150131657982,
          0.09463672775412493,
          0.23313384209217008,
          -0.2983196316579245,
          -0.5678273244648308,
          0.16437722381798814,
          -0.9296545964289905,
          1.0922975549754237,
          -0.38336998654816523,
          0.9051218108852752,
          0.14618559623315341,
          0.31466443511763487,
          0.3879173171179358,
          -0.13602702775758238,
          -0.20229107248405542,
          0.1312551692725429,
          0.7657452778482757,
          -1.2969540759673137,
          -0.7525532691354485,
          0.3375024417733412,
          -2.152534835068167,
          -1.2672607327528433,
          1.240409131065859,
          1.1770976240664932,
          -1.603010773610958,
          -0.237769129998576,
          -0.897073434357532,
          -0.9488046371465231,
          0.6581283215809342,
          -0.06199463793937336,
          -0.8913999214397087,
          0.4416057732101811,
          0.6416648824250734,
          1.4767731563075561,
          -0.8614378000150077,
          1.0656352143878887,
          -1.145896856232693,
          -0.4880349854953325,
          0.5836904660158005,
          0.7939388605800349,
          1.4499445941855056,
          0.9854561681177022,
          0.34020877181506953,
          0.7235608805617902,
          0.5377245985934934,
          0.3493967640908654,
          1.7702394754577686,
          -0.03111817077616619,
          1.0432325635583046,
          -0.06443575244437817,
          -1.1069474415167795,
          1.7477037930677306,
          1.1762878474972331,
          0.29762924979802713,
          -0.1934011522487943,
          -1.1299835327263392,
          0.25635755789500264,
          -1.401477366719103,
          -1.3245095525725623,
          0.29160187861069464,
          0.6029746174004685,
          -0.308557547221511,
          0.4159428841252249
         ]
        },
        {
         "histfunc": "count",
         "histnorm": "",
         "marker": {
          "color": "rgba(50, 171, 96, 1.0)",
          "line": {
           "color": "#4D5663",
           "width": 1.3
          }
         },
         "name": "C",
         "opacity": 0.8,
         "orientation": "v",
         "type": "histogram",
         "x": [
          -1.588518383084947,
          -0.25510529051838327,
          0.07843303965625309,
          0.3864557819134835,
          -1.09744143252163,
          1.1804110069207534,
          -0.7433800204601851,
          0.5753073643150647,
          -0.46313790316926323,
          0.6543869181485661,
          0.6265824877282654,
          -0.4539417662001653,
          0.6696234450850123,
          0.13069696307258144,
          -0.8867305435232409,
          -0.6250839491644894,
          1.0097934384872906,
          1.9023000035376307,
          1.7009009639164385,
          -1.8411330536034713,
          -0.47464795002036747,
          -0.9982558219884498,
          1.8344684902582309,
          0.8192994654140996,
          -0.8335570745722221,
          -0.23972422219611114,
          0.1689960648817115,
          0.4698304057186679,
          -0.013340480348581244,
          -0.028051963281221937,
          0.38398107818510635,
          0.3937260257823908,
          -0.8123063459709408,
          -0.9993012029697024,
          -0.4152564075921749,
          0.3655373303202848,
          -0.043408441663682476,
          -1.0443853502640081,
          -0.9698020566137836,
          0.12256429336064191,
          0.7356745185567378,
          0.575392072982969,
          -0.33123080036967556,
          -1.185948457910172,
          -0.6111894681016925,
          -0.7945882795982716,
          0.5020861788162949,
          -0.1578308254726711,
          -0.9869183983562312,
          1.746200868438099,
          -0.37595688343323813,
          0.13280117462258295,
          1.2265259236048744,
          0.2244340472116479,
          -1.8036664717250686,
          -0.29766457443473365,
          0.5642521475493323,
          -0.5371447741300974,
          -1.1965527481693412,
          1.1718385463743948,
          -0.3213005093326319,
          2.4843766032829118,
          2.3103908916350133,
          -0.9451710303787467,
          0.6571154746001218,
          1.316173218583312,
          0.8330088624591149,
          1.13092757585928,
          -0.27272341394384453,
          0.4644537032765058,
          0.07189971278123376,
          -0.9570518724398468,
          0.44241242036356343,
          0.005593809973949465,
          -1.0127649251581823,
          0.3006123624304811,
          1.3744735827062333,
          0.038622245321359334,
          -0.9452780090729435,
          2.0136519003518596,
          -0.004495202845143408,
          -0.25759335648309745,
          -1.1260013746246536,
          -0.5944480194050978,
          1.6056735328339102,
          1.19511407121231,
          1.6153785450405376,
          -1.6932136658370074,
          -1.42390606086027,
          -0.4094603926470258,
          1.0082761168261307,
          0.2867048729727579,
          -0.4317049721677748,
          -1.7372064120191864,
          -0.10308707131192661,
          -0.46464036309498136,
          0.8341943684669411,
          -1.9737194064119694,
          -1.99139390644937,
          1.2455026058183056
         ]
        },
        {
         "histfunc": "count",
         "histnorm": "",
         "marker": {
          "color": "rgba(128, 0, 128, 1.0)",
          "line": {
           "color": "#4D5663",
           "width": 1.3
          }
         },
         "name": "D",
         "opacity": 0.8,
         "orientation": "v",
         "type": "histogram",
         "x": [
          -0.20308556376547537,
          0.19762469288020745,
          0.6704321743135898,
          -0.5986241735582623,
          -0.25759095692230527,
          -0.05747054214033602,
          -0.932710350273873,
          -1.0441315195474943,
          0.1128314687479193,
          0.7892422787785415,
          0.0852285295692371,
          0.35126214936583744,
          1.8544165399332506,
          -1.4673580200808247,
          -1.7083706335257736,
          -1.272795966352538,
          0.13657404929718472,
          1.1088686376416257,
          1.0360806444077852,
          -0.07457436081638934,
          -0.8044809295312358,
          -0.04828532842693859,
          0.6593850434257252,
          -0.5658765585099089,
          0.3423078664072504,
          -0.003085031082305999,
          2.018187586743007,
          0.6185980152915729,
          1.7584542986691818,
          -1.5477793170953247,
          0.8468774185788381,
          1.2440610988793863,
          0.7117036625565885,
          1.240570040540003,
          0.45794955761531136,
          1.0647416762047635,
          -1.062620249089035,
          -0.6239492223248511,
          1.6340455586893559,
          -0.46932216668858123,
          0.10982913026295896,
          -2.606475104184327,
          0.661850506062008,
          -0.811975012976815,
          -0.31238136540442235,
          -0.9920729069399843,
          -0.8151321623577781,
          -1.0660483059432084,
          -1.3513103796811499,
          -0.5096993775872938,
          -0.3423963630383938,
          1.0890607235567875,
          1.412582216775854,
          -0.5745153951129882,
          -0.09471548014551695,
          -1.2274900693742057,
          0.9913406461115387,
          1.2857250242618052,
          -1.4220485699165202,
          -0.20751562677718327,
          1.269516515414513,
          1.7630631587377619,
          -0.3405730854733291,
          -0.6243236780693461,
          1.7062622406008303,
          -0.009716789825434882,
          0.18580110459527216,
          0.6066014190421658,
          -0.21684318444156456,
          0.8902856548059778,
          1.0594853835375297,
          -1.3427659913083283,
          -0.9249466420264154,
          -0.4736042418071167,
          0.5978483667104654,
          0.303287016773075,
          -1.5996703832688668,
          -0.4497857200657572,
          -1.8590951581175674,
          0.38249787592501855,
          0.43651573957238776,
          -0.6695674403809402,
          1.032013861089123,
          1.035662317354519,
          -0.016073852149997993,
          -0.564809977687965,
          -0.7205227740745791,
          -0.2209884244788965,
          -0.7201406209581277,
          -0.02057371877325681,
          -1.8582243694386562,
          0.1733246814087179,
          -0.7227674162352797,
          0.2981652039556083,
          -1.921240770994483,
          0.9118896914002779,
          0.6163142733027049,
          0.02393141056674211,
          1.186154597115317,
          0.580847168673218
         ]
        }
       ],
       "layout": {
        "barmode": "overlay",
        "legend": {
         "bgcolor": "#F5F6F9",
         "font": {
          "color": "#4D5663"
         }
        },
        "paper_bgcolor": "#F5F6F9",
        "plot_bgcolor": "#F5F6F9",
        "template": {
         "data": {
          "bar": [
           {
            "error_x": {
             "color": "#2a3f5f"
            },
            "error_y": {
             "color": "#2a3f5f"
            },
            "marker": {
             "line": {
              "color": "#E5ECF6",
              "width": 0.5
             }
            },
            "type": "bar"
           }
          ],
          "barpolar": [
           {
            "marker": {
             "line": {
              "color": "#E5ECF6",
              "width": 0.5
             }
            },
            "type": "barpolar"
           }
          ],
          "carpet": [
           {
            "aaxis": {
             "endlinecolor": "#2a3f5f",
             "gridcolor": "white",
             "linecolor": "white",
             "minorgridcolor": "white",
             "startlinecolor": "#2a3f5f"
            },
            "baxis": {
             "endlinecolor": "#2a3f5f",
             "gridcolor": "white",
             "linecolor": "white",
             "minorgridcolor": "white",
             "startlinecolor": "#2a3f5f"
            },
            "type": "carpet"
           }
          ],
          "choropleth": [
           {
            "colorbar": {
             "outlinewidth": 0,
             "ticks": ""
            },
            "type": "choropleth"
           }
          ],
          "contour": [
           {
            "colorbar": {
             "outlinewidth": 0,
             "ticks": ""
            },
            "colorscale": [
             [
              0,
              "#0d0887"
             ],
             [
              0.1111111111111111,
              "#46039f"
             ],
             [
              0.2222222222222222,
              "#7201a8"
             ],
             [
              0.3333333333333333,
              "#9c179e"
             ],
             [
              0.4444444444444444,
              "#bd3786"
             ],
             [
              0.5555555555555556,
              "#d8576b"
             ],
             [
              0.6666666666666666,
              "#ed7953"
             ],
             [
              0.7777777777777778,
              "#fb9f3a"
             ],
             [
              0.8888888888888888,
              "#fdca26"
             ],
             [
              1,
              "#f0f921"
             ]
            ],
            "type": "contour"
           }
          ],
          "contourcarpet": [
           {
            "colorbar": {
             "outlinewidth": 0,
             "ticks": ""
            },
            "type": "contourcarpet"
           }
          ],
          "heatmap": [
           {
            "colorbar": {
             "outlinewidth": 0,
             "ticks": ""
            },
            "colorscale": [
             [
              0,
              "#0d0887"
             ],
             [
              0.1111111111111111,
              "#46039f"
             ],
             [
              0.2222222222222222,
              "#7201a8"
             ],
             [
              0.3333333333333333,
              "#9c179e"
             ],
             [
              0.4444444444444444,
              "#bd3786"
             ],
             [
              0.5555555555555556,
              "#d8576b"
             ],
             [
              0.6666666666666666,
              "#ed7953"
             ],
             [
              0.7777777777777778,
              "#fb9f3a"
             ],
             [
              0.8888888888888888,
              "#fdca26"
             ],
             [
              1,
              "#f0f921"
             ]
            ],
            "type": "heatmap"
           }
          ],
          "heatmapgl": [
           {
            "colorbar": {
             "outlinewidth": 0,
             "ticks": ""
            },
            "colorscale": [
             [
              0,
              "#0d0887"
             ],
             [
              0.1111111111111111,
              "#46039f"
             ],
             [
              0.2222222222222222,
              "#7201a8"
             ],
             [
              0.3333333333333333,
              "#9c179e"
             ],
             [
              0.4444444444444444,
              "#bd3786"
             ],
             [
              0.5555555555555556,
              "#d8576b"
             ],
             [
              0.6666666666666666,
              "#ed7953"
             ],
             [
              0.7777777777777778,
              "#fb9f3a"
             ],
             [
              0.8888888888888888,
              "#fdca26"
             ],
             [
              1,
              "#f0f921"
             ]
            ],
            "type": "heatmapgl"
           }
          ],
          "histogram": [
           {
            "marker": {
             "colorbar": {
              "outlinewidth": 0,
              "ticks": ""
             }
            },
            "type": "histogram"
           }
          ],
          "histogram2d": [
           {
            "colorbar": {
             "outlinewidth": 0,
             "ticks": ""
            },
            "colorscale": [
             [
              0,
              "#0d0887"
             ],
             [
              0.1111111111111111,
              "#46039f"
             ],
             [
              0.2222222222222222,
              "#7201a8"
             ],
             [
              0.3333333333333333,
              "#9c179e"
             ],
             [
              0.4444444444444444,
              "#bd3786"
             ],
             [
              0.5555555555555556,
              "#d8576b"
             ],
             [
              0.6666666666666666,
              "#ed7953"
             ],
             [
              0.7777777777777778,
              "#fb9f3a"
             ],
             [
              0.8888888888888888,
              "#fdca26"
             ],
             [
              1,
              "#f0f921"
             ]
            ],
            "type": "histogram2d"
           }
          ],
          "histogram2dcontour": [
           {
            "colorbar": {
             "outlinewidth": 0,
             "ticks": ""
            },
            "colorscale": [
             [
              0,
              "#0d0887"
             ],
             [
              0.1111111111111111,
              "#46039f"
             ],
             [
              0.2222222222222222,
              "#7201a8"
             ],
             [
              0.3333333333333333,
              "#9c179e"
             ],
             [
              0.4444444444444444,
              "#bd3786"
             ],
             [
              0.5555555555555556,
              "#d8576b"
             ],
             [
              0.6666666666666666,
              "#ed7953"
             ],
             [
              0.7777777777777778,
              "#fb9f3a"
             ],
             [
              0.8888888888888888,
              "#fdca26"
             ],
             [
              1,
              "#f0f921"
             ]
            ],
            "type": "histogram2dcontour"
           }
          ],
          "mesh3d": [
           {
            "colorbar": {
             "outlinewidth": 0,
             "ticks": ""
            },
            "type": "mesh3d"
           }
          ],
          "parcoords": [
           {
            "line": {
             "colorbar": {
              "outlinewidth": 0,
              "ticks": ""
             }
            },
            "type": "parcoords"
           }
          ],
          "pie": [
           {
            "automargin": true,
            "type": "pie"
           }
          ],
          "scatter": [
           {
            "marker": {
             "colorbar": {
              "outlinewidth": 0,
              "ticks": ""
             }
            },
            "type": "scatter"
           }
          ],
          "scatter3d": [
           {
            "line": {
             "colorbar": {
              "outlinewidth": 0,
              "ticks": ""
             }
            },
            "marker": {
             "colorbar": {
              "outlinewidth": 0,
              "ticks": ""
             }
            },
            "type": "scatter3d"
           }
          ],
          "scattercarpet": [
           {
            "marker": {
             "colorbar": {
              "outlinewidth": 0,
              "ticks": ""
             }
            },
            "type": "scattercarpet"
           }
          ],
          "scattergeo": [
           {
            "marker": {
             "colorbar": {
              "outlinewidth": 0,
              "ticks": ""
             }
            },
            "type": "scattergeo"
           }
          ],
          "scattergl": [
           {
            "marker": {
             "colorbar": {
              "outlinewidth": 0,
              "ticks": ""
             }
            },
            "type": "scattergl"
           }
          ],
          "scattermapbox": [
           {
            "marker": {
             "colorbar": {
              "outlinewidth": 0,
              "ticks": ""
             }
            },
            "type": "scattermapbox"
           }
          ],
          "scatterpolar": [
           {
            "marker": {
             "colorbar": {
              "outlinewidth": 0,
              "ticks": ""
             }
            },
            "type": "scatterpolar"
           }
          ],
          "scatterpolargl": [
           {
            "marker": {
             "colorbar": {
              "outlinewidth": 0,
              "ticks": ""
             }
            },
            "type": "scatterpolargl"
           }
          ],
          "scatterternary": [
           {
            "marker": {
             "colorbar": {
              "outlinewidth": 0,
              "ticks": ""
             }
            },
            "type": "scatterternary"
           }
          ],
          "surface": [
           {
            "colorbar": {
             "outlinewidth": 0,
             "ticks": ""
            },
            "colorscale": [
             [
              0,
              "#0d0887"
             ],
             [
              0.1111111111111111,
              "#46039f"
             ],
             [
              0.2222222222222222,
              "#7201a8"
             ],
             [
              0.3333333333333333,
              "#9c179e"
             ],
             [
              0.4444444444444444,
              "#bd3786"
             ],
             [
              0.5555555555555556,
              "#d8576b"
             ],
             [
              0.6666666666666666,
              "#ed7953"
             ],
             [
              0.7777777777777778,
              "#fb9f3a"
             ],
             [
              0.8888888888888888,
              "#fdca26"
             ],
             [
              1,
              "#f0f921"
             ]
            ],
            "type": "surface"
           }
          ],
          "table": [
           {
            "cells": {
             "fill": {
              "color": "#EBF0F8"
             },
             "line": {
              "color": "white"
             }
            },
            "header": {
             "fill": {
              "color": "#C8D4E3"
             },
             "line": {
              "color": "white"
             }
            },
            "type": "table"
           }
          ]
         },
         "layout": {
          "annotationdefaults": {
           "arrowcolor": "#2a3f5f",
           "arrowhead": 0,
           "arrowwidth": 1
          },
          "autotypenumbers": "strict",
          "coloraxis": {
           "colorbar": {
            "outlinewidth": 0,
            "ticks": ""
           }
          },
          "colorscale": {
           "diverging": [
            [
             0,
             "#8e0152"
            ],
            [
             0.1,
             "#c51b7d"
            ],
            [
             0.2,
             "#de77ae"
            ],
            [
             0.3,
             "#f1b6da"
            ],
            [
             0.4,
             "#fde0ef"
            ],
            [
             0.5,
             "#f7f7f7"
            ],
            [
             0.6,
             "#e6f5d0"
            ],
            [
             0.7,
             "#b8e186"
            ],
            [
             0.8,
             "#7fbc41"
            ],
            [
             0.9,
             "#4d9221"
            ],
            [
             1,
             "#276419"
            ]
           ],
           "sequential": [
            [
             0,
             "#0d0887"
            ],
            [
             0.1111111111111111,
             "#46039f"
            ],
            [
             0.2222222222222222,
             "#7201a8"
            ],
            [
             0.3333333333333333,
             "#9c179e"
            ],
            [
             0.4444444444444444,
             "#bd3786"
            ],
            [
             0.5555555555555556,
             "#d8576b"
            ],
            [
             0.6666666666666666,
             "#ed7953"
            ],
            [
             0.7777777777777778,
             "#fb9f3a"
            ],
            [
             0.8888888888888888,
             "#fdca26"
            ],
            [
             1,
             "#f0f921"
            ]
           ],
           "sequentialminus": [
            [
             0,
             "#0d0887"
            ],
            [
             0.1111111111111111,
             "#46039f"
            ],
            [
             0.2222222222222222,
             "#7201a8"
            ],
            [
             0.3333333333333333,
             "#9c179e"
            ],
            [
             0.4444444444444444,
             "#bd3786"
            ],
            [
             0.5555555555555556,
             "#d8576b"
            ],
            [
             0.6666666666666666,
             "#ed7953"
            ],
            [
             0.7777777777777778,
             "#fb9f3a"
            ],
            [
             0.8888888888888888,
             "#fdca26"
            ],
            [
             1,
             "#f0f921"
            ]
           ]
          },
          "colorway": [
           "#636efa",
           "#EF553B",
           "#00cc96",
           "#ab63fa",
           "#FFA15A",
           "#19d3f3",
           "#FF6692",
           "#B6E880",
           "#FF97FF",
           "#FECB52"
          ],
          "font": {
           "color": "#2a3f5f"
          },
          "geo": {
           "bgcolor": "white",
           "lakecolor": "white",
           "landcolor": "#E5ECF6",
           "showlakes": true,
           "showland": true,
           "subunitcolor": "white"
          },
          "hoverlabel": {
           "align": "left"
          },
          "hovermode": "closest",
          "mapbox": {
           "style": "light"
          },
          "paper_bgcolor": "white",
          "plot_bgcolor": "#E5ECF6",
          "polar": {
           "angularaxis": {
            "gridcolor": "white",
            "linecolor": "white",
            "ticks": ""
           },
           "bgcolor": "#E5ECF6",
           "radialaxis": {
            "gridcolor": "white",
            "linecolor": "white",
            "ticks": ""
           }
          },
          "scene": {
           "xaxis": {
            "backgroundcolor": "#E5ECF6",
            "gridcolor": "white",
            "gridwidth": 2,
            "linecolor": "white",
            "showbackground": true,
            "ticks": "",
            "zerolinecolor": "white"
           },
           "yaxis": {
            "backgroundcolor": "#E5ECF6",
            "gridcolor": "white",
            "gridwidth": 2,
            "linecolor": "white",
            "showbackground": true,
            "ticks": "",
            "zerolinecolor": "white"
           },
           "zaxis": {
            "backgroundcolor": "#E5ECF6",
            "gridcolor": "white",
            "gridwidth": 2,
            "linecolor": "white",
            "showbackground": true,
            "ticks": "",
            "zerolinecolor": "white"
           }
          },
          "shapedefaults": {
           "line": {
            "color": "#2a3f5f"
           }
          },
          "ternary": {
           "aaxis": {
            "gridcolor": "white",
            "linecolor": "white",
            "ticks": ""
           },
           "baxis": {
            "gridcolor": "white",
            "linecolor": "white",
            "ticks": ""
           },
           "bgcolor": "#E5ECF6",
           "caxis": {
            "gridcolor": "white",
            "linecolor": "white",
            "ticks": ""
           }
          },
          "title": {
           "x": 0.05
          },
          "xaxis": {
           "automargin": true,
           "gridcolor": "white",
           "linecolor": "white",
           "ticks": "",
           "title": {
            "standoff": 15
           },
           "zerolinecolor": "white",
           "zerolinewidth": 2
          },
          "yaxis": {
           "automargin": true,
           "gridcolor": "white",
           "linecolor": "white",
           "ticks": "",
           "title": {
            "standoff": 15
           },
           "zerolinecolor": "white",
           "zerolinewidth": 2
          }
         }
        },
        "title": {
         "font": {
          "color": "#4D5663"
         }
        },
        "xaxis": {
         "gridcolor": "#E1E5ED",
         "showgrid": true,
         "tickfont": {
          "color": "#4D5663"
         },
         "title": {
          "font": {
           "color": "#4D5663"
          },
          "text": ""
         },
         "zerolinecolor": "#E1E5ED"
        },
        "yaxis": {
         "gridcolor": "#E1E5ED",
         "showgrid": true,
         "tickfont": {
          "color": "#4D5663"
         },
         "title": {
          "font": {
           "color": "#4D5663"
          },
          "text": ""
         },
         "zerolinecolor": "#E1E5ED"
        }
       }
      },
      "text/html": [
       "<div>                            <div id=\"77945a01-bd7c-4fb2-b995-04ea16944bdb\" class=\"plotly-graph-div\" style=\"height:525px; width:100%;\"></div>            <script type=\"text/javascript\">                require([\"plotly\"], function(Plotly) {                    window.PLOTLYENV=window.PLOTLYENV || {};\n",
       "                    window.PLOTLYENV.BASE_URL='https://plot.ly';                                    if (document.getElementById(\"77945a01-bd7c-4fb2-b995-04ea16944bdb\")) {                    Plotly.newPlot(                        \"77945a01-bd7c-4fb2-b995-04ea16944bdb\",                        [{\"histfunc\": \"count\", \"histnorm\": \"\", \"marker\": {\"color\": \"rgba(255, 153, 51, 1.0)\", \"line\": {\"color\": \"#4D5663\", \"width\": 1.3}}, \"name\": \"A\", \"opacity\": 0.8, \"orientation\": \"v\", \"type\": \"histogram\", \"x\": [-1.4610241031401339, 0.09525150167714372, -0.029203584395679657, -0.014015621374794238, 1.3061216714143065, -0.31702307455461454, -1.1289839361958052, -0.13699963759455056, -0.6639938504440216, 0.9470923910686199, 1.553358059937682, 0.05045164189835665, 0.05751000634937235, 2.1315144223408105, 0.46274757495098084, -0.17673927911072126, -0.4606921426908111, -0.43086281676434296, -2.1264803113550594, 0.001056488752819712, -0.3059598987663699, 0.9662890754859629, 0.2510262672230263, -0.9617278560791738, 0.048995145654571845, -1.0209156821548113, -0.5691472839815525, 0.4996248117695914, 0.4464570983716666, -0.16336359024926198, 1.262599325533162, -0.38117396654870617, 0.6470503045744972, 1.98286394042055, 0.3984834505594768, 0.7771765568436815, 0.6232338000739429, 1.167642598764409, -0.6183478391013726, 1.2230733527522957, 0.502339193606301, -1.1320171943548307, -0.7080909329004074, 1.2718460327483254, -1.485782893035162, 0.4319773772095389, 0.362675989804671, 1.4424577308111275, 0.32319678124815143, -1.1700283154363498, 1.8634674399731277, 1.3157150735096061, -1.0097525209274345, -1.8188977326440103, 0.32593373911336543, 0.5229234346569209, -0.11081787742866657, -0.4975140914807007, -1.2059467191465185, -1.498419024882172, 2.255904266090674, -0.2302591959967517, -0.6209322962615502, 0.49579609306554884, -0.16989586521007646, 0.46588198032360506, -0.909141855445599, -0.0009026500043386546, 0.48123916040588277, 1.118792923213792, -0.4420688885202043, 0.9751416814442033, -0.03744211472540877, -1.778410999950504, -0.6892087536621391, -0.2385350486172311, 0.019730054488734897, 1.6716799790383337, 1.3566170705713458, 0.8873773894586302, -2.0888727474034563, -0.41046309299992867, -0.5549572208662424, -1.5861279398806762, -0.3540634750924586, 0.6090614019865381, 1.2372628555021594, -0.3429623623702404, -0.1606326504345451, 1.622631579628323, 1.0736460288414729, -0.7629319166489795, -0.5029453305115006, 0.1671892839193268, -1.488441025936215, -0.27038751087145, 0.855741339941454, -0.16881176419721813, -0.16170217362603542, 0.9173449807873943]}, {\"histfunc\": \"count\", \"histnorm\": \"\", \"marker\": {\"color\": \"rgba(55, 128, 191, 1.0)\", \"line\": {\"color\": \"#4D5663\", \"width\": 1.3}}, \"name\": \"B\", \"opacity\": 0.8, \"orientation\": \"v\", \"type\": \"histogram\", \"x\": [0.3907902707269141, 0.6943603904272828, -0.5795978735730865, 0.813526262604139, 0.7839931065000858, -0.46753196417464715, 1.0359830523535647, -0.00108728024401313, -0.8081899074223791, -1.7047006560220002, -1.2500075128534878, 0.22565379843725744, 0.8538877104205691, -0.010769431923218427, -0.16471091416661995, 1.1532806339771444, -0.3057147481342851, -0.4072257391625898, 0.33177364843814655, -1.9259607592803352, 0.6328208279632327, 0.09822037368245887, 0.22575815059781187, 0.3342337338883107, 0.20918911354792807, 0.7884841767921292, -1.777038244279568, -0.8943194078336356, 0.7836857923081855, 0.6141031111803202, 0.5733925432595015, -0.049455510335339334, 0.9530936899389951, -1.4516704869032073, 0.5115887243863995, 0.6530646533442895, -0.23318159386226586, -1.319150131657982, 0.09463672775412493, 0.23313384209217008, -0.2983196316579245, -0.5678273244648308, 0.16437722381798814, -0.9296545964289905, 1.0922975549754237, -0.38336998654816523, 0.9051218108852752, 0.14618559623315341, 0.31466443511763487, 0.3879173171179358, -0.13602702775758238, -0.20229107248405542, 0.1312551692725429, 0.7657452778482757, -1.2969540759673137, -0.7525532691354485, 0.3375024417733412, -2.152534835068167, -1.2672607327528433, 1.240409131065859, 1.1770976240664932, -1.603010773610958, -0.237769129998576, -0.897073434357532, -0.9488046371465231, 0.6581283215809342, -0.06199463793937336, -0.8913999214397087, 0.4416057732101811, 0.6416648824250734, 1.4767731563075561, -0.8614378000150077, 1.0656352143878887, -1.145896856232693, -0.4880349854953325, 0.5836904660158005, 0.7939388605800349, 1.4499445941855056, 0.9854561681177022, 0.34020877181506953, 0.7235608805617902, 0.5377245985934934, 0.3493967640908654, 1.7702394754577686, -0.03111817077616619, 1.0432325635583046, -0.06443575244437817, -1.1069474415167795, 1.7477037930677306, 1.1762878474972331, 0.29762924979802713, -0.1934011522487943, -1.1299835327263392, 0.25635755789500264, -1.401477366719103, -1.3245095525725623, 0.29160187861069464, 0.6029746174004685, -0.308557547221511, 0.4159428841252249]}, {\"histfunc\": \"count\", \"histnorm\": \"\", \"marker\": {\"color\": \"rgba(50, 171, 96, 1.0)\", \"line\": {\"color\": \"#4D5663\", \"width\": 1.3}}, \"name\": \"C\", \"opacity\": 0.8, \"orientation\": \"v\", \"type\": \"histogram\", \"x\": [-1.588518383084947, -0.25510529051838327, 0.07843303965625309, 0.3864557819134835, -1.09744143252163, 1.1804110069207534, -0.7433800204601851, 0.5753073643150647, -0.46313790316926323, 0.6543869181485661, 0.6265824877282654, -0.4539417662001653, 0.6696234450850123, 0.13069696307258144, -0.8867305435232409, -0.6250839491644894, 1.0097934384872906, 1.9023000035376307, 1.7009009639164385, -1.8411330536034713, -0.47464795002036747, -0.9982558219884498, 1.8344684902582309, 0.8192994654140996, -0.8335570745722221, -0.23972422219611114, 0.1689960648817115, 0.4698304057186679, -0.013340480348581244, -0.028051963281221937, 0.38398107818510635, 0.3937260257823908, -0.8123063459709408, -0.9993012029697024, -0.4152564075921749, 0.3655373303202848, -0.043408441663682476, -1.0443853502640081, -0.9698020566137836, 0.12256429336064191, 0.7356745185567378, 0.575392072982969, -0.33123080036967556, -1.185948457910172, -0.6111894681016925, -0.7945882795982716, 0.5020861788162949, -0.1578308254726711, -0.9869183983562312, 1.746200868438099, -0.37595688343323813, 0.13280117462258295, 1.2265259236048744, 0.2244340472116479, -1.8036664717250686, -0.29766457443473365, 0.5642521475493323, -0.5371447741300974, -1.1965527481693412, 1.1718385463743948, -0.3213005093326319, 2.4843766032829118, 2.3103908916350133, -0.9451710303787467, 0.6571154746001218, 1.316173218583312, 0.8330088624591149, 1.13092757585928, -0.27272341394384453, 0.4644537032765058, 0.07189971278123376, -0.9570518724398468, 0.44241242036356343, 0.005593809973949465, -1.0127649251581823, 0.3006123624304811, 1.3744735827062333, 0.038622245321359334, -0.9452780090729435, 2.0136519003518596, -0.004495202845143408, -0.25759335648309745, -1.1260013746246536, -0.5944480194050978, 1.6056735328339102, 1.19511407121231, 1.6153785450405376, -1.6932136658370074, -1.42390606086027, -0.4094603926470258, 1.0082761168261307, 0.2867048729727579, -0.4317049721677748, -1.7372064120191864, -0.10308707131192661, -0.46464036309498136, 0.8341943684669411, -1.9737194064119694, -1.99139390644937, 1.2455026058183056]}, {\"histfunc\": \"count\", \"histnorm\": \"\", \"marker\": {\"color\": \"rgba(128, 0, 128, 1.0)\", \"line\": {\"color\": \"#4D5663\", \"width\": 1.3}}, \"name\": \"D\", \"opacity\": 0.8, \"orientation\": \"v\", \"type\": \"histogram\", \"x\": [-0.20308556376547537, 0.19762469288020745, 0.6704321743135898, -0.5986241735582623, -0.25759095692230527, -0.05747054214033602, -0.932710350273873, -1.0441315195474943, 0.1128314687479193, 0.7892422787785415, 0.0852285295692371, 0.35126214936583744, 1.8544165399332506, -1.4673580200808247, -1.7083706335257736, -1.272795966352538, 0.13657404929718472, 1.1088686376416257, 1.0360806444077852, -0.07457436081638934, -0.8044809295312358, -0.04828532842693859, 0.6593850434257252, -0.5658765585099089, 0.3423078664072504, -0.003085031082305999, 2.018187586743007, 0.6185980152915729, 1.7584542986691818, -1.5477793170953247, 0.8468774185788381, 1.2440610988793863, 0.7117036625565885, 1.240570040540003, 0.45794955761531136, 1.0647416762047635, -1.062620249089035, -0.6239492223248511, 1.6340455586893559, -0.46932216668858123, 0.10982913026295896, -2.606475104184327, 0.661850506062008, -0.811975012976815, -0.31238136540442235, -0.9920729069399843, -0.8151321623577781, -1.0660483059432084, -1.3513103796811499, -0.5096993775872938, -0.3423963630383938, 1.0890607235567875, 1.412582216775854, -0.5745153951129882, -0.09471548014551695, -1.2274900693742057, 0.9913406461115387, 1.2857250242618052, -1.4220485699165202, -0.20751562677718327, 1.269516515414513, 1.7630631587377619, -0.3405730854733291, -0.6243236780693461, 1.7062622406008303, -0.009716789825434882, 0.18580110459527216, 0.6066014190421658, -0.21684318444156456, 0.8902856548059778, 1.0594853835375297, -1.3427659913083283, -0.9249466420264154, -0.4736042418071167, 0.5978483667104654, 0.303287016773075, -1.5996703832688668, -0.4497857200657572, -1.8590951581175674, 0.38249787592501855, 0.43651573957238776, -0.6695674403809402, 1.032013861089123, 1.035662317354519, -0.016073852149997993, -0.564809977687965, -0.7205227740745791, -0.2209884244788965, -0.7201406209581277, -0.02057371877325681, -1.8582243694386562, 0.1733246814087179, -0.7227674162352797, 0.2981652039556083, -1.921240770994483, 0.9118896914002779, 0.6163142733027049, 0.02393141056674211, 1.186154597115317, 0.580847168673218]}],                        {\"barmode\": \"overlay\", \"legend\": {\"bgcolor\": \"#F5F6F9\", \"font\": {\"color\": \"#4D5663\"}}, \"paper_bgcolor\": \"#F5F6F9\", \"plot_bgcolor\": \"#F5F6F9\", \"template\": {\"data\": {\"bar\": [{\"error_x\": {\"color\": \"#2a3f5f\"}, \"error_y\": {\"color\": \"#2a3f5f\"}, \"marker\": {\"line\": {\"color\": \"#E5ECF6\", \"width\": 0.5}}, \"type\": \"bar\"}], \"barpolar\": [{\"marker\": {\"line\": {\"color\": \"#E5ECF6\", \"width\": 0.5}}, \"type\": \"barpolar\"}], \"carpet\": [{\"aaxis\": {\"endlinecolor\": \"#2a3f5f\", \"gridcolor\": \"white\", \"linecolor\": \"white\", \"minorgridcolor\": \"white\", \"startlinecolor\": \"#2a3f5f\"}, \"baxis\": {\"endlinecolor\": \"#2a3f5f\", \"gridcolor\": \"white\", \"linecolor\": \"white\", \"minorgridcolor\": \"white\", \"startlinecolor\": \"#2a3f5f\"}, \"type\": \"carpet\"}], \"choropleth\": [{\"colorbar\": {\"outlinewidth\": 0, \"ticks\": \"\"}, \"type\": \"choropleth\"}], \"contour\": [{\"colorbar\": {\"outlinewidth\": 0, \"ticks\": \"\"}, \"colorscale\": [[0.0, \"#0d0887\"], [0.1111111111111111, \"#46039f\"], [0.2222222222222222, \"#7201a8\"], [0.3333333333333333, \"#9c179e\"], [0.4444444444444444, \"#bd3786\"], [0.5555555555555556, \"#d8576b\"], [0.6666666666666666, \"#ed7953\"], [0.7777777777777778, \"#fb9f3a\"], [0.8888888888888888, \"#fdca26\"], [1.0, \"#f0f921\"]], \"type\": \"contour\"}], \"contourcarpet\": [{\"colorbar\": {\"outlinewidth\": 0, \"ticks\": \"\"}, \"type\": \"contourcarpet\"}], \"heatmap\": [{\"colorbar\": {\"outlinewidth\": 0, \"ticks\": \"\"}, \"colorscale\": [[0.0, \"#0d0887\"], [0.1111111111111111, \"#46039f\"], [0.2222222222222222, \"#7201a8\"], [0.3333333333333333, \"#9c179e\"], [0.4444444444444444, \"#bd3786\"], [0.5555555555555556, \"#d8576b\"], [0.6666666666666666, \"#ed7953\"], [0.7777777777777778, \"#fb9f3a\"], [0.8888888888888888, \"#fdca26\"], [1.0, \"#f0f921\"]], \"type\": \"heatmap\"}], \"heatmapgl\": [{\"colorbar\": {\"outlinewidth\": 0, \"ticks\": \"\"}, \"colorscale\": [[0.0, \"#0d0887\"], [0.1111111111111111, \"#46039f\"], [0.2222222222222222, \"#7201a8\"], [0.3333333333333333, \"#9c179e\"], [0.4444444444444444, \"#bd3786\"], [0.5555555555555556, \"#d8576b\"], [0.6666666666666666, \"#ed7953\"], [0.7777777777777778, \"#fb9f3a\"], [0.8888888888888888, \"#fdca26\"], [1.0, \"#f0f921\"]], \"type\": \"heatmapgl\"}], \"histogram\": [{\"marker\": {\"colorbar\": {\"outlinewidth\": 0, \"ticks\": \"\"}}, \"type\": \"histogram\"}], \"histogram2d\": [{\"colorbar\": {\"outlinewidth\": 0, \"ticks\": \"\"}, \"colorscale\": [[0.0, \"#0d0887\"], [0.1111111111111111, \"#46039f\"], [0.2222222222222222, \"#7201a8\"], [0.3333333333333333, \"#9c179e\"], [0.4444444444444444, \"#bd3786\"], [0.5555555555555556, \"#d8576b\"], [0.6666666666666666, \"#ed7953\"], [0.7777777777777778, \"#fb9f3a\"], [0.8888888888888888, \"#fdca26\"], [1.0, \"#f0f921\"]], \"type\": \"histogram2d\"}], \"histogram2dcontour\": [{\"colorbar\": {\"outlinewidth\": 0, \"ticks\": \"\"}, \"colorscale\": [[0.0, \"#0d0887\"], [0.1111111111111111, \"#46039f\"], [0.2222222222222222, \"#7201a8\"], [0.3333333333333333, \"#9c179e\"], [0.4444444444444444, \"#bd3786\"], [0.5555555555555556, \"#d8576b\"], [0.6666666666666666, \"#ed7953\"], [0.7777777777777778, \"#fb9f3a\"], [0.8888888888888888, \"#fdca26\"], [1.0, \"#f0f921\"]], \"type\": \"histogram2dcontour\"}], \"mesh3d\": [{\"colorbar\": {\"outlinewidth\": 0, \"ticks\": \"\"}, \"type\": \"mesh3d\"}], \"parcoords\": [{\"line\": {\"colorbar\": {\"outlinewidth\": 0, \"ticks\": \"\"}}, \"type\": \"parcoords\"}], \"pie\": [{\"automargin\": true, \"type\": \"pie\"}], \"scatter\": [{\"marker\": {\"colorbar\": {\"outlinewidth\": 0, \"ticks\": \"\"}}, \"type\": \"scatter\"}], \"scatter3d\": [{\"line\": {\"colorbar\": {\"outlinewidth\": 0, \"ticks\": \"\"}}, \"marker\": {\"colorbar\": {\"outlinewidth\": 0, \"ticks\": \"\"}}, \"type\": \"scatter3d\"}], \"scattercarpet\": [{\"marker\": {\"colorbar\": {\"outlinewidth\": 0, \"ticks\": \"\"}}, \"type\": \"scattercarpet\"}], \"scattergeo\": [{\"marker\": {\"colorbar\": {\"outlinewidth\": 0, \"ticks\": \"\"}}, \"type\": \"scattergeo\"}], \"scattergl\": [{\"marker\": {\"colorbar\": {\"outlinewidth\": 0, \"ticks\": \"\"}}, \"type\": \"scattergl\"}], \"scattermapbox\": [{\"marker\": {\"colorbar\": {\"outlinewidth\": 0, \"ticks\": \"\"}}, \"type\": \"scattermapbox\"}], \"scatterpolar\": [{\"marker\": {\"colorbar\": {\"outlinewidth\": 0, \"ticks\": \"\"}}, \"type\": \"scatterpolar\"}], \"scatterpolargl\": [{\"marker\": {\"colorbar\": {\"outlinewidth\": 0, \"ticks\": \"\"}}, \"type\": \"scatterpolargl\"}], \"scatterternary\": [{\"marker\": {\"colorbar\": {\"outlinewidth\": 0, \"ticks\": \"\"}}, \"type\": \"scatterternary\"}], \"surface\": [{\"colorbar\": {\"outlinewidth\": 0, \"ticks\": \"\"}, \"colorscale\": [[0.0, \"#0d0887\"], [0.1111111111111111, \"#46039f\"], [0.2222222222222222, \"#7201a8\"], [0.3333333333333333, \"#9c179e\"], [0.4444444444444444, \"#bd3786\"], [0.5555555555555556, \"#d8576b\"], [0.6666666666666666, \"#ed7953\"], [0.7777777777777778, \"#fb9f3a\"], [0.8888888888888888, \"#fdca26\"], [1.0, \"#f0f921\"]], \"type\": \"surface\"}], \"table\": [{\"cells\": {\"fill\": {\"color\": \"#EBF0F8\"}, \"line\": {\"color\": \"white\"}}, \"header\": {\"fill\": {\"color\": \"#C8D4E3\"}, \"line\": {\"color\": \"white\"}}, \"type\": \"table\"}]}, \"layout\": {\"annotationdefaults\": {\"arrowcolor\": \"#2a3f5f\", \"arrowhead\": 0, \"arrowwidth\": 1}, \"autotypenumbers\": \"strict\", \"coloraxis\": {\"colorbar\": {\"outlinewidth\": 0, \"ticks\": \"\"}}, \"colorscale\": {\"diverging\": [[0, \"#8e0152\"], [0.1, \"#c51b7d\"], [0.2, \"#de77ae\"], [0.3, \"#f1b6da\"], [0.4, \"#fde0ef\"], [0.5, \"#f7f7f7\"], [0.6, \"#e6f5d0\"], [0.7, \"#b8e186\"], [0.8, \"#7fbc41\"], [0.9, \"#4d9221\"], [1, \"#276419\"]], \"sequential\": [[0.0, \"#0d0887\"], [0.1111111111111111, \"#46039f\"], [0.2222222222222222, \"#7201a8\"], [0.3333333333333333, \"#9c179e\"], [0.4444444444444444, \"#bd3786\"], [0.5555555555555556, \"#d8576b\"], [0.6666666666666666, \"#ed7953\"], [0.7777777777777778, \"#fb9f3a\"], [0.8888888888888888, \"#fdca26\"], [1.0, \"#f0f921\"]], \"sequentialminus\": [[0.0, \"#0d0887\"], [0.1111111111111111, \"#46039f\"], [0.2222222222222222, \"#7201a8\"], [0.3333333333333333, \"#9c179e\"], [0.4444444444444444, \"#bd3786\"], [0.5555555555555556, \"#d8576b\"], [0.6666666666666666, \"#ed7953\"], [0.7777777777777778, \"#fb9f3a\"], [0.8888888888888888, \"#fdca26\"], [1.0, \"#f0f921\"]]}, \"colorway\": [\"#636efa\", \"#EF553B\", \"#00cc96\", \"#ab63fa\", \"#FFA15A\", \"#19d3f3\", \"#FF6692\", \"#B6E880\", \"#FF97FF\", \"#FECB52\"], \"font\": {\"color\": \"#2a3f5f\"}, \"geo\": {\"bgcolor\": \"white\", \"lakecolor\": \"white\", \"landcolor\": \"#E5ECF6\", \"showlakes\": true, \"showland\": true, \"subunitcolor\": \"white\"}, \"hoverlabel\": {\"align\": \"left\"}, \"hovermode\": \"closest\", \"mapbox\": {\"style\": \"light\"}, \"paper_bgcolor\": \"white\", \"plot_bgcolor\": \"#E5ECF6\", \"polar\": {\"angularaxis\": {\"gridcolor\": \"white\", \"linecolor\": \"white\", \"ticks\": \"\"}, \"bgcolor\": \"#E5ECF6\", \"radialaxis\": {\"gridcolor\": \"white\", \"linecolor\": \"white\", \"ticks\": \"\"}}, \"scene\": {\"xaxis\": {\"backgroundcolor\": \"#E5ECF6\", \"gridcolor\": \"white\", \"gridwidth\": 2, \"linecolor\": \"white\", \"showbackground\": true, \"ticks\": \"\", \"zerolinecolor\": \"white\"}, \"yaxis\": {\"backgroundcolor\": \"#E5ECF6\", \"gridcolor\": \"white\", \"gridwidth\": 2, \"linecolor\": \"white\", \"showbackground\": true, \"ticks\": \"\", \"zerolinecolor\": \"white\"}, \"zaxis\": {\"backgroundcolor\": \"#E5ECF6\", \"gridcolor\": \"white\", \"gridwidth\": 2, \"linecolor\": \"white\", \"showbackground\": true, \"ticks\": \"\", \"zerolinecolor\": \"white\"}}, \"shapedefaults\": {\"line\": {\"color\": \"#2a3f5f\"}}, \"ternary\": {\"aaxis\": {\"gridcolor\": \"white\", \"linecolor\": \"white\", \"ticks\": \"\"}, \"baxis\": {\"gridcolor\": \"white\", \"linecolor\": \"white\", \"ticks\": \"\"}, \"bgcolor\": \"#E5ECF6\", \"caxis\": {\"gridcolor\": \"white\", \"linecolor\": \"white\", \"ticks\": \"\"}}, \"title\": {\"x\": 0.05}, \"xaxis\": {\"automargin\": true, \"gridcolor\": \"white\", \"linecolor\": \"white\", \"ticks\": \"\", \"title\": {\"standoff\": 15}, \"zerolinecolor\": \"white\", \"zerolinewidth\": 2}, \"yaxis\": {\"automargin\": true, \"gridcolor\": \"white\", \"linecolor\": \"white\", \"ticks\": \"\", \"title\": {\"standoff\": 15}, \"zerolinecolor\": \"white\", \"zerolinewidth\": 2}}}, \"title\": {\"font\": {\"color\": \"#4D5663\"}}, \"xaxis\": {\"gridcolor\": \"#E1E5ED\", \"showgrid\": true, \"tickfont\": {\"color\": \"#4D5663\"}, \"title\": {\"font\": {\"color\": \"#4D5663\"}, \"text\": \"\"}, \"zerolinecolor\": \"#E1E5ED\"}, \"yaxis\": {\"gridcolor\": \"#E1E5ED\", \"showgrid\": true, \"tickfont\": {\"color\": \"#4D5663\"}, \"title\": {\"font\": {\"color\": \"#4D5663\"}, \"text\": \"\"}, \"zerolinecolor\": \"#E1E5ED\"}},                        {\"showLink\": true, \"linkText\": \"Export to plot.ly\", \"plotlyServerURL\": \"https://plot.ly\", \"responsive\": true}                    ).then(function(){\n",
       "                            \n",
       "var gd = document.getElementById('77945a01-bd7c-4fb2-b995-04ea16944bdb');\n",
       "var x = new MutationObserver(function (mutations, observer) {{\n",
       "        var display = window.getComputedStyle(gd).display;\n",
       "        if (!display || display === 'none') {{\n",
       "            console.log([gd, 'removed!']);\n",
       "            Plotly.purge(gd);\n",
       "            observer.disconnect();\n",
       "        }}\n",
       "}});\n",
       "\n",
       "// Listen for the removal of the full notebook cells\n",
       "var notebookContainer = gd.closest('#notebook-container');\n",
       "if (notebookContainer) {{\n",
       "    x.observe(notebookContainer, {childList: true});\n",
       "}}\n",
       "\n",
       "// Listen for the clearing of the current output cell\n",
       "var outputEl = gd.closest('.output');\n",
       "if (outputEl) {{\n",
       "    x.observe(outputEl, {childList: true});\n",
       "}}\n",
       "\n",
       "                        })                };                });            </script>        </div>"
      ]
     },
     "metadata": {},
     "output_type": "display_data"
    }
   ],
   "source": [
    "## Histograma aninhado:\n",
    "df.iplot(kind = 'hist')"
   ]
  },
  {
   "cell_type": "markdown",
   "metadata": {},
   "source": [
    "### Spread Plots"
   ]
  },
  {
   "cell_type": "code",
   "execution_count": 13,
   "metadata": {},
   "outputs": [
    {
     "name": "stderr",
     "output_type": "stream",
     "text": [
      "C:\\Users\\ludim\\anaconda3\\lib\\site-packages\\cufflinks\\plotlytools.py:849: FutureWarning:\n",
      "\n",
      "The pandas.np module is deprecated and will be removed from pandas in a future version. Import numpy directly instead\n",
      "\n",
      "C:\\Users\\ludim\\anaconda3\\lib\\site-packages\\cufflinks\\plotlytools.py:850: FutureWarning:\n",
      "\n",
      "The pandas.np module is deprecated and will be removed from pandas in a future version. Import numpy directly instead\n",
      "\n"
     ]
    },
    {
     "data": {
      "application/vnd.plotly.v1+json": {
       "config": {
        "linkText": "Export to plot.ly",
        "plotlyServerURL": "https://plot.ly",
        "showLink": true
       },
       "data": [
        {
         "line": {
          "color": "rgba(255, 153, 51, 1.0)",
          "dash": "solid",
          "shape": "linear",
          "width": 1.3
         },
         "mode": "lines",
         "name": "A",
         "text": "",
         "type": "scatter",
         "x": [
          0,
          1,
          2,
          3,
          4,
          5,
          6,
          7,
          8,
          9,
          10,
          11,
          12,
          13,
          14,
          15,
          16,
          17,
          18,
          19,
          20,
          21,
          22,
          23,
          24,
          25,
          26,
          27,
          28,
          29,
          30,
          31,
          32,
          33,
          34,
          35,
          36,
          37,
          38,
          39,
          40,
          41,
          42,
          43,
          44,
          45,
          46,
          47,
          48,
          49,
          50,
          51,
          52,
          53,
          54,
          55,
          56,
          57,
          58,
          59,
          60,
          61,
          62,
          63,
          64,
          65,
          66,
          67,
          68,
          69,
          70,
          71,
          72,
          73,
          74,
          75,
          76,
          77,
          78,
          79,
          80,
          81,
          82,
          83,
          84,
          85,
          86,
          87,
          88,
          89,
          90,
          91,
          92,
          93,
          94,
          95,
          96,
          97,
          98,
          99
         ],
         "y": [
          -1.4610241031401339,
          0.09525150167714372,
          -0.029203584395679657,
          -0.014015621374794238,
          1.3061216714143065,
          -0.31702307455461454,
          -1.1289839361958052,
          -0.13699963759455056,
          -0.6639938504440216,
          0.9470923910686199,
          1.553358059937682,
          0.05045164189835665,
          0.05751000634937235,
          2.1315144223408105,
          0.46274757495098084,
          -0.17673927911072126,
          -0.4606921426908111,
          -0.43086281676434296,
          -2.1264803113550594,
          0.001056488752819712,
          -0.3059598987663699,
          0.9662890754859629,
          0.2510262672230263,
          -0.9617278560791738,
          0.048995145654571845,
          -1.0209156821548113,
          -0.5691472839815525,
          0.4996248117695914,
          0.4464570983716666,
          -0.16336359024926198,
          1.262599325533162,
          -0.38117396654870617,
          0.6470503045744972,
          1.98286394042055,
          0.3984834505594768,
          0.7771765568436815,
          0.6232338000739429,
          1.167642598764409,
          -0.6183478391013726,
          1.2230733527522957,
          0.502339193606301,
          -1.1320171943548307,
          -0.7080909329004074,
          1.2718460327483254,
          -1.485782893035162,
          0.4319773772095389,
          0.362675989804671,
          1.4424577308111275,
          0.32319678124815143,
          -1.1700283154363498,
          1.8634674399731277,
          1.3157150735096061,
          -1.0097525209274345,
          -1.8188977326440103,
          0.32593373911336543,
          0.5229234346569209,
          -0.11081787742866657,
          -0.4975140914807007,
          -1.2059467191465185,
          -1.498419024882172,
          2.255904266090674,
          -0.2302591959967517,
          -0.6209322962615502,
          0.49579609306554884,
          -0.16989586521007646,
          0.46588198032360506,
          -0.909141855445599,
          -0.0009026500043386546,
          0.48123916040588277,
          1.118792923213792,
          -0.4420688885202043,
          0.9751416814442033,
          -0.03744211472540877,
          -1.778410999950504,
          -0.6892087536621391,
          -0.2385350486172311,
          0.019730054488734897,
          1.6716799790383337,
          1.3566170705713458,
          0.8873773894586302,
          -2.0888727474034563,
          -0.41046309299992867,
          -0.5549572208662424,
          -1.5861279398806762,
          -0.3540634750924586,
          0.6090614019865381,
          1.2372628555021594,
          -0.3429623623702404,
          -0.1606326504345451,
          1.622631579628323,
          1.0736460288414729,
          -0.7629319166489795,
          -0.5029453305115006,
          0.1671892839193268,
          -1.488441025936215,
          -0.27038751087145,
          0.855741339941454,
          -0.16881176419721813,
          -0.16170217362603542,
          0.9173449807873943
         ]
        },
        {
         "line": {
          "color": "rgba(55, 128, 191, 1.0)",
          "dash": "solid",
          "shape": "linear",
          "width": 1.3
         },
         "mode": "lines",
         "name": "B",
         "text": "",
         "type": "scatter",
         "x": [
          0,
          1,
          2,
          3,
          4,
          5,
          6,
          7,
          8,
          9,
          10,
          11,
          12,
          13,
          14,
          15,
          16,
          17,
          18,
          19,
          20,
          21,
          22,
          23,
          24,
          25,
          26,
          27,
          28,
          29,
          30,
          31,
          32,
          33,
          34,
          35,
          36,
          37,
          38,
          39,
          40,
          41,
          42,
          43,
          44,
          45,
          46,
          47,
          48,
          49,
          50,
          51,
          52,
          53,
          54,
          55,
          56,
          57,
          58,
          59,
          60,
          61,
          62,
          63,
          64,
          65,
          66,
          67,
          68,
          69,
          70,
          71,
          72,
          73,
          74,
          75,
          76,
          77,
          78,
          79,
          80,
          81,
          82,
          83,
          84,
          85,
          86,
          87,
          88,
          89,
          90,
          91,
          92,
          93,
          94,
          95,
          96,
          97,
          98,
          99
         ],
         "y": [
          0.3907902707269141,
          0.6943603904272828,
          -0.5795978735730865,
          0.813526262604139,
          0.7839931065000858,
          -0.46753196417464715,
          1.0359830523535647,
          -0.00108728024401313,
          -0.8081899074223791,
          -1.7047006560220002,
          -1.2500075128534878,
          0.22565379843725744,
          0.8538877104205691,
          -0.010769431923218427,
          -0.16471091416661995,
          1.1532806339771444,
          -0.3057147481342851,
          -0.4072257391625898,
          0.33177364843814655,
          -1.9259607592803352,
          0.6328208279632327,
          0.09822037368245887,
          0.22575815059781187,
          0.3342337338883107,
          0.20918911354792807,
          0.7884841767921292,
          -1.777038244279568,
          -0.8943194078336356,
          0.7836857923081855,
          0.6141031111803202,
          0.5733925432595015,
          -0.049455510335339334,
          0.9530936899389951,
          -1.4516704869032073,
          0.5115887243863995,
          0.6530646533442895,
          -0.23318159386226586,
          -1.319150131657982,
          0.09463672775412493,
          0.23313384209217008,
          -0.2983196316579245,
          -0.5678273244648308,
          0.16437722381798814,
          -0.9296545964289905,
          1.0922975549754237,
          -0.38336998654816523,
          0.9051218108852752,
          0.14618559623315341,
          0.31466443511763487,
          0.3879173171179358,
          -0.13602702775758238,
          -0.20229107248405542,
          0.1312551692725429,
          0.7657452778482757,
          -1.2969540759673137,
          -0.7525532691354485,
          0.3375024417733412,
          -2.152534835068167,
          -1.2672607327528433,
          1.240409131065859,
          1.1770976240664932,
          -1.603010773610958,
          -0.237769129998576,
          -0.897073434357532,
          -0.9488046371465231,
          0.6581283215809342,
          -0.06199463793937336,
          -0.8913999214397087,
          0.4416057732101811,
          0.6416648824250734,
          1.4767731563075561,
          -0.8614378000150077,
          1.0656352143878887,
          -1.145896856232693,
          -0.4880349854953325,
          0.5836904660158005,
          0.7939388605800349,
          1.4499445941855056,
          0.9854561681177022,
          0.34020877181506953,
          0.7235608805617902,
          0.5377245985934934,
          0.3493967640908654,
          1.7702394754577686,
          -0.03111817077616619,
          1.0432325635583046,
          -0.06443575244437817,
          -1.1069474415167795,
          1.7477037930677306,
          1.1762878474972331,
          0.29762924979802713,
          -0.1934011522487943,
          -1.1299835327263392,
          0.25635755789500264,
          -1.401477366719103,
          -1.3245095525725623,
          0.29160187861069464,
          0.6029746174004685,
          -0.308557547221511,
          0.4159428841252249
         ]
        },
        {
         "line": {
          "color": "rgba(50, 171, 96, 1.0)",
          "dash": "solid",
          "shape": "linear",
          "width": 1.3
         },
         "mode": "lines",
         "name": "C",
         "text": "",
         "type": "scatter",
         "x": [
          0,
          1,
          2,
          3,
          4,
          5,
          6,
          7,
          8,
          9,
          10,
          11,
          12,
          13,
          14,
          15,
          16,
          17,
          18,
          19,
          20,
          21,
          22,
          23,
          24,
          25,
          26,
          27,
          28,
          29,
          30,
          31,
          32,
          33,
          34,
          35,
          36,
          37,
          38,
          39,
          40,
          41,
          42,
          43,
          44,
          45,
          46,
          47,
          48,
          49,
          50,
          51,
          52,
          53,
          54,
          55,
          56,
          57,
          58,
          59,
          60,
          61,
          62,
          63,
          64,
          65,
          66,
          67,
          68,
          69,
          70,
          71,
          72,
          73,
          74,
          75,
          76,
          77,
          78,
          79,
          80,
          81,
          82,
          83,
          84,
          85,
          86,
          87,
          88,
          89,
          90,
          91,
          92,
          93,
          94,
          95,
          96,
          97,
          98,
          99
         ],
         "y": [
          -1.588518383084947,
          -0.25510529051838327,
          0.07843303965625309,
          0.3864557819134835,
          -1.09744143252163,
          1.1804110069207534,
          -0.7433800204601851,
          0.5753073643150647,
          -0.46313790316926323,
          0.6543869181485661,
          0.6265824877282654,
          -0.4539417662001653,
          0.6696234450850123,
          0.13069696307258144,
          -0.8867305435232409,
          -0.6250839491644894,
          1.0097934384872906,
          1.9023000035376307,
          1.7009009639164385,
          -1.8411330536034713,
          -0.47464795002036747,
          -0.9982558219884498,
          1.8344684902582309,
          0.8192994654140996,
          -0.8335570745722221,
          -0.23972422219611114,
          0.1689960648817115,
          0.4698304057186679,
          -0.013340480348581244,
          -0.028051963281221937,
          0.38398107818510635,
          0.3937260257823908,
          -0.8123063459709408,
          -0.9993012029697024,
          -0.4152564075921749,
          0.3655373303202848,
          -0.043408441663682476,
          -1.0443853502640081,
          -0.9698020566137836,
          0.12256429336064191,
          0.7356745185567378,
          0.575392072982969,
          -0.33123080036967556,
          -1.185948457910172,
          -0.6111894681016925,
          -0.7945882795982716,
          0.5020861788162949,
          -0.1578308254726711,
          -0.9869183983562312,
          1.746200868438099,
          -0.37595688343323813,
          0.13280117462258295,
          1.2265259236048744,
          0.2244340472116479,
          -1.8036664717250686,
          -0.29766457443473365,
          0.5642521475493323,
          -0.5371447741300974,
          -1.1965527481693412,
          1.1718385463743948,
          -0.3213005093326319,
          2.4843766032829118,
          2.3103908916350133,
          -0.9451710303787467,
          0.6571154746001218,
          1.316173218583312,
          0.8330088624591149,
          1.13092757585928,
          -0.27272341394384453,
          0.4644537032765058,
          0.07189971278123376,
          -0.9570518724398468,
          0.44241242036356343,
          0.005593809973949465,
          -1.0127649251581823,
          0.3006123624304811,
          1.3744735827062333,
          0.038622245321359334,
          -0.9452780090729435,
          2.0136519003518596,
          -0.004495202845143408,
          -0.25759335648309745,
          -1.1260013746246536,
          -0.5944480194050978,
          1.6056735328339102,
          1.19511407121231,
          1.6153785450405376,
          -1.6932136658370074,
          -1.42390606086027,
          -0.4094603926470258,
          1.0082761168261307,
          0.2867048729727579,
          -0.4317049721677748,
          -1.7372064120191864,
          -0.10308707131192661,
          -0.46464036309498136,
          0.8341943684669411,
          -1.9737194064119694,
          -1.99139390644937,
          1.2455026058183056
         ]
        },
        {
         "line": {
          "color": "rgba(128, 0, 128, 1.0)",
          "dash": "solid",
          "shape": "linear",
          "width": 1.3
         },
         "mode": "lines",
         "name": "D",
         "text": "",
         "type": "scatter",
         "x": [
          0,
          1,
          2,
          3,
          4,
          5,
          6,
          7,
          8,
          9,
          10,
          11,
          12,
          13,
          14,
          15,
          16,
          17,
          18,
          19,
          20,
          21,
          22,
          23,
          24,
          25,
          26,
          27,
          28,
          29,
          30,
          31,
          32,
          33,
          34,
          35,
          36,
          37,
          38,
          39,
          40,
          41,
          42,
          43,
          44,
          45,
          46,
          47,
          48,
          49,
          50,
          51,
          52,
          53,
          54,
          55,
          56,
          57,
          58,
          59,
          60,
          61,
          62,
          63,
          64,
          65,
          66,
          67,
          68,
          69,
          70,
          71,
          72,
          73,
          74,
          75,
          76,
          77,
          78,
          79,
          80,
          81,
          82,
          83,
          84,
          85,
          86,
          87,
          88,
          89,
          90,
          91,
          92,
          93,
          94,
          95,
          96,
          97,
          98,
          99
         ],
         "y": [
          -0.20308556376547537,
          0.19762469288020745,
          0.6704321743135898,
          -0.5986241735582623,
          -0.25759095692230527,
          -0.05747054214033602,
          -0.932710350273873,
          -1.0441315195474943,
          0.1128314687479193,
          0.7892422787785415,
          0.0852285295692371,
          0.35126214936583744,
          1.8544165399332506,
          -1.4673580200808247,
          -1.7083706335257736,
          -1.272795966352538,
          0.13657404929718472,
          1.1088686376416257,
          1.0360806444077852,
          -0.07457436081638934,
          -0.8044809295312358,
          -0.04828532842693859,
          0.6593850434257252,
          -0.5658765585099089,
          0.3423078664072504,
          -0.003085031082305999,
          2.018187586743007,
          0.6185980152915729,
          1.7584542986691818,
          -1.5477793170953247,
          0.8468774185788381,
          1.2440610988793863,
          0.7117036625565885,
          1.240570040540003,
          0.45794955761531136,
          1.0647416762047635,
          -1.062620249089035,
          -0.6239492223248511,
          1.6340455586893559,
          -0.46932216668858123,
          0.10982913026295896,
          -2.606475104184327,
          0.661850506062008,
          -0.811975012976815,
          -0.31238136540442235,
          -0.9920729069399843,
          -0.8151321623577781,
          -1.0660483059432084,
          -1.3513103796811499,
          -0.5096993775872938,
          -0.3423963630383938,
          1.0890607235567875,
          1.412582216775854,
          -0.5745153951129882,
          -0.09471548014551695,
          -1.2274900693742057,
          0.9913406461115387,
          1.2857250242618052,
          -1.4220485699165202,
          -0.20751562677718327,
          1.269516515414513,
          1.7630631587377619,
          -0.3405730854733291,
          -0.6243236780693461,
          1.7062622406008303,
          -0.009716789825434882,
          0.18580110459527216,
          0.6066014190421658,
          -0.21684318444156456,
          0.8902856548059778,
          1.0594853835375297,
          -1.3427659913083283,
          -0.9249466420264154,
          -0.4736042418071167,
          0.5978483667104654,
          0.303287016773075,
          -1.5996703832688668,
          -0.4497857200657572,
          -1.8590951581175674,
          0.38249787592501855,
          0.43651573957238776,
          -0.6695674403809402,
          1.032013861089123,
          1.035662317354519,
          -0.016073852149997993,
          -0.564809977687965,
          -0.7205227740745791,
          -0.2209884244788965,
          -0.7201406209581277,
          -0.02057371877325681,
          -1.8582243694386562,
          0.1733246814087179,
          -0.7227674162352797,
          0.2981652039556083,
          -1.921240770994483,
          0.9118896914002779,
          0.6163142733027049,
          0.02393141056674211,
          1.186154597115317,
          0.580847168673218
         ]
        },
        {
         "connectgaps": false,
         "fill": "tozeroy",
         "line": {
          "color": "green",
          "dash": "solid",
          "shape": "linear",
          "width": 0.5
         },
         "mode": "lines",
         "name": "Spread",
         "showlegend": false,
         "type": "scatter",
         "x": [
          0,
          1,
          2,
          3,
          4,
          5,
          6,
          7,
          8,
          9,
          10,
          11,
          12,
          13,
          14,
          15,
          16,
          17,
          18,
          19,
          20,
          21,
          22,
          23,
          24,
          25,
          26,
          27,
          28,
          29,
          30,
          31,
          32,
          33,
          34,
          35,
          36,
          37,
          38,
          39,
          40,
          41,
          42,
          43,
          44,
          45,
          46,
          47,
          48,
          49,
          50,
          51,
          52,
          53,
          54,
          55,
          56,
          57,
          58,
          59,
          60,
          61,
          62,
          63,
          64,
          65,
          66,
          67,
          68,
          69,
          70,
          71,
          72,
          73,
          74,
          75,
          76,
          77,
          78,
          79,
          80,
          81,
          82,
          83,
          84,
          85,
          86,
          87,
          88,
          89,
          90,
          91,
          92,
          93,
          94,
          95,
          96,
          97,
          98,
          99
         ],
         "xaxis": "x2",
         "y": [
          "",
          "",
          0.5503942891774068,
          "",
          0.5221285649142207,
          0.15050888962003262,
          "",
          "",
          0.14419605697835747,
          2.65179304709062,
          2.8033655727911695,
          "",
          "",
          2.142283854264029,
          0.6274584891176008,
          "",
          "",
          "",
          "",
          1.9270172480331549,
          "",
          0.868068701803504,
          0.025268116625214415,
          "",
          "",
          "",
          1.2078909602980157,
          1.393944219603227,
          "",
          "",
          0.6892067822736605,
          "",
          "",
          3.434534427323757,
          "",
          0.12411190349939194,
          0.8564153939362088,
          2.486792730422391,
          "",
          0.9899395106601256,
          0.8006588252642255,
          "",
          "",
          2.201500629177316,
          "",
          0.8153473637577041,
          "",
          1.2962721345779742,
          0.008532346130516566,
          "",
          1.99949446773071,
          1.5180061459936616,
          "",
          "",
          1.6228878150806791,
          1.2754767037923695,
          "",
          1.6550207435874662,
          0.061314013606324824,
          "",
          1.0788066420241809,
          1.3727515776142063,
          "",
          1.392869527423081,
          0.7789087719364466,
          "",
          "",
          0.89049727143537,
          0.0396333871957017,
          0.47712804078871873,
          "",
          1.8365794814592111,
          "",
          "",
          "",
          "",
          "",
          0.22173538485282807,
          0.37116090245364364,
          0.5471686176435606,
          "",
          "",
          "",
          "",
          "",
          "",
          1.3016986079465376,
          0.763985079146539,
          "",
          0.4463437321310899,
          0.7760167790434458,
          "",
          0.6270382022148386,
          "",
          "",
          1.0541220417011123,
          0.5641394613307593,
          "",
          0.1468553735954756,
          0.5014020966621695
         ],
         "yaxis": "y2"
        },
        {
         "connectgaps": false,
         "fill": "tozeroy",
         "line": {
          "color": "red",
          "dash": "solid",
          "shape": "linear",
          "width": 0.5
         },
         "mode": "lines",
         "name": "Spread",
         "showlegend": false,
         "type": "scatter",
         "x": [
          0,
          1,
          2,
          3,
          4,
          5,
          6,
          7,
          8,
          9,
          10,
          11,
          12,
          13,
          14,
          15,
          16,
          17,
          18,
          19,
          20,
          21,
          22,
          23,
          24,
          25,
          26,
          27,
          28,
          29,
          30,
          31,
          32,
          33,
          34,
          35,
          36,
          37,
          38,
          39,
          40,
          41,
          42,
          43,
          44,
          45,
          46,
          47,
          48,
          49,
          50,
          51,
          52,
          53,
          54,
          55,
          56,
          57,
          58,
          59,
          60,
          61,
          62,
          63,
          64,
          65,
          66,
          67,
          68,
          69,
          70,
          71,
          72,
          73,
          74,
          75,
          76,
          77,
          78,
          79,
          80,
          81,
          82,
          83,
          84,
          85,
          86,
          87,
          88,
          89,
          90,
          91,
          92,
          93,
          94,
          95,
          96,
          97,
          98,
          99
         ],
         "xaxis": "x2",
         "y": [
          -1.851814373867048,
          -0.5991088887501391,
          "",
          -0.8275418839789332,
          "",
          "",
          -2.16496698854937,
          -0.13591235735053742,
          "",
          "",
          "",
          -0.17520215653890078,
          -0.7963777040711968,
          "",
          "",
          -1.3300199130878656,
          -0.15497739455652598,
          -0.023637077601753154,
          -2.458253959793206,
          "",
          -0.9387807267296027,
          "",
          "",
          -1.2959615899674843,
          -0.16019396789335622,
          -1.8093998589469407,
          "",
          "",
          -0.3372286939365189,
          -0.7774667014295822,
          "",
          -0.3317184562133668,
          -0.30604338536449793,
          "",
          -0.11310527382692265,
          "",
          "",
          "",
          -0.7129845668554975,
          "",
          "",
          -0.56418986989,
          -0.8724681567183955,
          "",
          -2.578080448010586,
          "",
          -0.5424458210806042,
          "",
          "",
          -1.5579456325542855,
          "",
          "",
          -1.1410076901999775,
          -2.584643010492286,
          "",
          "",
          -0.44832031920200777,
          "",
          "",
          -2.738828155948031,
          "",
          "",
          -0.3831631662629742,
          "",
          "",
          -0.1922463412573291,
          -0.8471472175062257,
          "",
          "",
          "",
          -1.9188420448277603,
          "",
          -1.1030773291132974,
          -0.632514143717811,
          -0.2011737681668066,
          -0.8222255146330316,
          -0.7742088060913,
          "",
          "",
          "",
          -2.8124336279652464,
          -0.9481876915934221,
          -0.9043539849571078,
          -3.356367415338445,
          -0.3229453043162924,
          -0.4341711615717665,
          "",
          "",
          -1.9083364435022756,
          "",
          "",
          -0.5695307644001852,
          "",
          -0.08916827397567584,
          -0.08696365921711213,
          "",
          "",
          -0.7717863815976866,
          "",
          ""
         ],
         "yaxis": "y2"
        }
       ],
       "layout": {
        "hovermode": "x",
        "legend": {
         "bgcolor": "#F5F6F9",
         "font": {
          "color": "#4D5663"
         }
        },
        "paper_bgcolor": "#F5F6F9",
        "plot_bgcolor": "#F5F6F9",
        "template": {
         "data": {
          "bar": [
           {
            "error_x": {
             "color": "#2a3f5f"
            },
            "error_y": {
             "color": "#2a3f5f"
            },
            "marker": {
             "line": {
              "color": "#E5ECF6",
              "width": 0.5
             }
            },
            "type": "bar"
           }
          ],
          "barpolar": [
           {
            "marker": {
             "line": {
              "color": "#E5ECF6",
              "width": 0.5
             }
            },
            "type": "barpolar"
           }
          ],
          "carpet": [
           {
            "aaxis": {
             "endlinecolor": "#2a3f5f",
             "gridcolor": "white",
             "linecolor": "white",
             "minorgridcolor": "white",
             "startlinecolor": "#2a3f5f"
            },
            "baxis": {
             "endlinecolor": "#2a3f5f",
             "gridcolor": "white",
             "linecolor": "white",
             "minorgridcolor": "white",
             "startlinecolor": "#2a3f5f"
            },
            "type": "carpet"
           }
          ],
          "choropleth": [
           {
            "colorbar": {
             "outlinewidth": 0,
             "ticks": ""
            },
            "type": "choropleth"
           }
          ],
          "contour": [
           {
            "colorbar": {
             "outlinewidth": 0,
             "ticks": ""
            },
            "colorscale": [
             [
              0,
              "#0d0887"
             ],
             [
              0.1111111111111111,
              "#46039f"
             ],
             [
              0.2222222222222222,
              "#7201a8"
             ],
             [
              0.3333333333333333,
              "#9c179e"
             ],
             [
              0.4444444444444444,
              "#bd3786"
             ],
             [
              0.5555555555555556,
              "#d8576b"
             ],
             [
              0.6666666666666666,
              "#ed7953"
             ],
             [
              0.7777777777777778,
              "#fb9f3a"
             ],
             [
              0.8888888888888888,
              "#fdca26"
             ],
             [
              1,
              "#f0f921"
             ]
            ],
            "type": "contour"
           }
          ],
          "contourcarpet": [
           {
            "colorbar": {
             "outlinewidth": 0,
             "ticks": ""
            },
            "type": "contourcarpet"
           }
          ],
          "heatmap": [
           {
            "colorbar": {
             "outlinewidth": 0,
             "ticks": ""
            },
            "colorscale": [
             [
              0,
              "#0d0887"
             ],
             [
              0.1111111111111111,
              "#46039f"
             ],
             [
              0.2222222222222222,
              "#7201a8"
             ],
             [
              0.3333333333333333,
              "#9c179e"
             ],
             [
              0.4444444444444444,
              "#bd3786"
             ],
             [
              0.5555555555555556,
              "#d8576b"
             ],
             [
              0.6666666666666666,
              "#ed7953"
             ],
             [
              0.7777777777777778,
              "#fb9f3a"
             ],
             [
              0.8888888888888888,
              "#fdca26"
             ],
             [
              1,
              "#f0f921"
             ]
            ],
            "type": "heatmap"
           }
          ],
          "heatmapgl": [
           {
            "colorbar": {
             "outlinewidth": 0,
             "ticks": ""
            },
            "colorscale": [
             [
              0,
              "#0d0887"
             ],
             [
              0.1111111111111111,
              "#46039f"
             ],
             [
              0.2222222222222222,
              "#7201a8"
             ],
             [
              0.3333333333333333,
              "#9c179e"
             ],
             [
              0.4444444444444444,
              "#bd3786"
             ],
             [
              0.5555555555555556,
              "#d8576b"
             ],
             [
              0.6666666666666666,
              "#ed7953"
             ],
             [
              0.7777777777777778,
              "#fb9f3a"
             ],
             [
              0.8888888888888888,
              "#fdca26"
             ],
             [
              1,
              "#f0f921"
             ]
            ],
            "type": "heatmapgl"
           }
          ],
          "histogram": [
           {
            "marker": {
             "colorbar": {
              "outlinewidth": 0,
              "ticks": ""
             }
            },
            "type": "histogram"
           }
          ],
          "histogram2d": [
           {
            "colorbar": {
             "outlinewidth": 0,
             "ticks": ""
            },
            "colorscale": [
             [
              0,
              "#0d0887"
             ],
             [
              0.1111111111111111,
              "#46039f"
             ],
             [
              0.2222222222222222,
              "#7201a8"
             ],
             [
              0.3333333333333333,
              "#9c179e"
             ],
             [
              0.4444444444444444,
              "#bd3786"
             ],
             [
              0.5555555555555556,
              "#d8576b"
             ],
             [
              0.6666666666666666,
              "#ed7953"
             ],
             [
              0.7777777777777778,
              "#fb9f3a"
             ],
             [
              0.8888888888888888,
              "#fdca26"
             ],
             [
              1,
              "#f0f921"
             ]
            ],
            "type": "histogram2d"
           }
          ],
          "histogram2dcontour": [
           {
            "colorbar": {
             "outlinewidth": 0,
             "ticks": ""
            },
            "colorscale": [
             [
              0,
              "#0d0887"
             ],
             [
              0.1111111111111111,
              "#46039f"
             ],
             [
              0.2222222222222222,
              "#7201a8"
             ],
             [
              0.3333333333333333,
              "#9c179e"
             ],
             [
              0.4444444444444444,
              "#bd3786"
             ],
             [
              0.5555555555555556,
              "#d8576b"
             ],
             [
              0.6666666666666666,
              "#ed7953"
             ],
             [
              0.7777777777777778,
              "#fb9f3a"
             ],
             [
              0.8888888888888888,
              "#fdca26"
             ],
             [
              1,
              "#f0f921"
             ]
            ],
            "type": "histogram2dcontour"
           }
          ],
          "mesh3d": [
           {
            "colorbar": {
             "outlinewidth": 0,
             "ticks": ""
            },
            "type": "mesh3d"
           }
          ],
          "parcoords": [
           {
            "line": {
             "colorbar": {
              "outlinewidth": 0,
              "ticks": ""
             }
            },
            "type": "parcoords"
           }
          ],
          "pie": [
           {
            "automargin": true,
            "type": "pie"
           }
          ],
          "scatter": [
           {
            "marker": {
             "colorbar": {
              "outlinewidth": 0,
              "ticks": ""
             }
            },
            "type": "scatter"
           }
          ],
          "scatter3d": [
           {
            "line": {
             "colorbar": {
              "outlinewidth": 0,
              "ticks": ""
             }
            },
            "marker": {
             "colorbar": {
              "outlinewidth": 0,
              "ticks": ""
             }
            },
            "type": "scatter3d"
           }
          ],
          "scattercarpet": [
           {
            "marker": {
             "colorbar": {
              "outlinewidth": 0,
              "ticks": ""
             }
            },
            "type": "scattercarpet"
           }
          ],
          "scattergeo": [
           {
            "marker": {
             "colorbar": {
              "outlinewidth": 0,
              "ticks": ""
             }
            },
            "type": "scattergeo"
           }
          ],
          "scattergl": [
           {
            "marker": {
             "colorbar": {
              "outlinewidth": 0,
              "ticks": ""
             }
            },
            "type": "scattergl"
           }
          ],
          "scattermapbox": [
           {
            "marker": {
             "colorbar": {
              "outlinewidth": 0,
              "ticks": ""
             }
            },
            "type": "scattermapbox"
           }
          ],
          "scatterpolar": [
           {
            "marker": {
             "colorbar": {
              "outlinewidth": 0,
              "ticks": ""
             }
            },
            "type": "scatterpolar"
           }
          ],
          "scatterpolargl": [
           {
            "marker": {
             "colorbar": {
              "outlinewidth": 0,
              "ticks": ""
             }
            },
            "type": "scatterpolargl"
           }
          ],
          "scatterternary": [
           {
            "marker": {
             "colorbar": {
              "outlinewidth": 0,
              "ticks": ""
             }
            },
            "type": "scatterternary"
           }
          ],
          "surface": [
           {
            "colorbar": {
             "outlinewidth": 0,
             "ticks": ""
            },
            "colorscale": [
             [
              0,
              "#0d0887"
             ],
             [
              0.1111111111111111,
              "#46039f"
             ],
             [
              0.2222222222222222,
              "#7201a8"
             ],
             [
              0.3333333333333333,
              "#9c179e"
             ],
             [
              0.4444444444444444,
              "#bd3786"
             ],
             [
              0.5555555555555556,
              "#d8576b"
             ],
             [
              0.6666666666666666,
              "#ed7953"
             ],
             [
              0.7777777777777778,
              "#fb9f3a"
             ],
             [
              0.8888888888888888,
              "#fdca26"
             ],
             [
              1,
              "#f0f921"
             ]
            ],
            "type": "surface"
           }
          ],
          "table": [
           {
            "cells": {
             "fill": {
              "color": "#EBF0F8"
             },
             "line": {
              "color": "white"
             }
            },
            "header": {
             "fill": {
              "color": "#C8D4E3"
             },
             "line": {
              "color": "white"
             }
            },
            "type": "table"
           }
          ]
         },
         "layout": {
          "annotationdefaults": {
           "arrowcolor": "#2a3f5f",
           "arrowhead": 0,
           "arrowwidth": 1
          },
          "autotypenumbers": "strict",
          "coloraxis": {
           "colorbar": {
            "outlinewidth": 0,
            "ticks": ""
           }
          },
          "colorscale": {
           "diverging": [
            [
             0,
             "#8e0152"
            ],
            [
             0.1,
             "#c51b7d"
            ],
            [
             0.2,
             "#de77ae"
            ],
            [
             0.3,
             "#f1b6da"
            ],
            [
             0.4,
             "#fde0ef"
            ],
            [
             0.5,
             "#f7f7f7"
            ],
            [
             0.6,
             "#e6f5d0"
            ],
            [
             0.7,
             "#b8e186"
            ],
            [
             0.8,
             "#7fbc41"
            ],
            [
             0.9,
             "#4d9221"
            ],
            [
             1,
             "#276419"
            ]
           ],
           "sequential": [
            [
             0,
             "#0d0887"
            ],
            [
             0.1111111111111111,
             "#46039f"
            ],
            [
             0.2222222222222222,
             "#7201a8"
            ],
            [
             0.3333333333333333,
             "#9c179e"
            ],
            [
             0.4444444444444444,
             "#bd3786"
            ],
            [
             0.5555555555555556,
             "#d8576b"
            ],
            [
             0.6666666666666666,
             "#ed7953"
            ],
            [
             0.7777777777777778,
             "#fb9f3a"
            ],
            [
             0.8888888888888888,
             "#fdca26"
            ],
            [
             1,
             "#f0f921"
            ]
           ],
           "sequentialminus": [
            [
             0,
             "#0d0887"
            ],
            [
             0.1111111111111111,
             "#46039f"
            ],
            [
             0.2222222222222222,
             "#7201a8"
            ],
            [
             0.3333333333333333,
             "#9c179e"
            ],
            [
             0.4444444444444444,
             "#bd3786"
            ],
            [
             0.5555555555555556,
             "#d8576b"
            ],
            [
             0.6666666666666666,
             "#ed7953"
            ],
            [
             0.7777777777777778,
             "#fb9f3a"
            ],
            [
             0.8888888888888888,
             "#fdca26"
            ],
            [
             1,
             "#f0f921"
            ]
           ]
          },
          "colorway": [
           "#636efa",
           "#EF553B",
           "#00cc96",
           "#ab63fa",
           "#FFA15A",
           "#19d3f3",
           "#FF6692",
           "#B6E880",
           "#FF97FF",
           "#FECB52"
          ],
          "font": {
           "color": "#2a3f5f"
          },
          "geo": {
           "bgcolor": "white",
           "lakecolor": "white",
           "landcolor": "#E5ECF6",
           "showlakes": true,
           "showland": true,
           "subunitcolor": "white"
          },
          "hoverlabel": {
           "align": "left"
          },
          "hovermode": "closest",
          "mapbox": {
           "style": "light"
          },
          "paper_bgcolor": "white",
          "plot_bgcolor": "#E5ECF6",
          "polar": {
           "angularaxis": {
            "gridcolor": "white",
            "linecolor": "white",
            "ticks": ""
           },
           "bgcolor": "#E5ECF6",
           "radialaxis": {
            "gridcolor": "white",
            "linecolor": "white",
            "ticks": ""
           }
          },
          "scene": {
           "xaxis": {
            "backgroundcolor": "#E5ECF6",
            "gridcolor": "white",
            "gridwidth": 2,
            "linecolor": "white",
            "showbackground": true,
            "ticks": "",
            "zerolinecolor": "white"
           },
           "yaxis": {
            "backgroundcolor": "#E5ECF6",
            "gridcolor": "white",
            "gridwidth": 2,
            "linecolor": "white",
            "showbackground": true,
            "ticks": "",
            "zerolinecolor": "white"
           },
           "zaxis": {
            "backgroundcolor": "#E5ECF6",
            "gridcolor": "white",
            "gridwidth": 2,
            "linecolor": "white",
            "showbackground": true,
            "ticks": "",
            "zerolinecolor": "white"
           }
          },
          "shapedefaults": {
           "line": {
            "color": "#2a3f5f"
           }
          },
          "ternary": {
           "aaxis": {
            "gridcolor": "white",
            "linecolor": "white",
            "ticks": ""
           },
           "baxis": {
            "gridcolor": "white",
            "linecolor": "white",
            "ticks": ""
           },
           "bgcolor": "#E5ECF6",
           "caxis": {
            "gridcolor": "white",
            "linecolor": "white",
            "ticks": ""
           }
          },
          "title": {
           "x": 0.05
          },
          "xaxis": {
           "automargin": true,
           "gridcolor": "white",
           "linecolor": "white",
           "ticks": "",
           "title": {
            "standoff": 15
           },
           "zerolinecolor": "white",
           "zerolinewidth": 2
          },
          "yaxis": {
           "automargin": true,
           "gridcolor": "white",
           "linecolor": "white",
           "ticks": "",
           "title": {
            "standoff": 15
           },
           "zerolinecolor": "white",
           "zerolinewidth": 2
          }
         }
        },
        "title": {
         "font": {
          "color": "#4D5663"
         }
        },
        "xaxis": {
         "gridcolor": "#E1E5ED",
         "showgrid": true,
         "tickfont": {
          "color": "#4D5663"
         },
         "title": {
          "font": {
           "color": "#4D5663"
          },
          "text": ""
         },
         "zerolinecolor": "#E1E5ED"
        },
        "xaxis2": {
         "anchor": "y2",
         "gridcolor": "#E1E5ED",
         "showgrid": true,
         "showticklabels": false,
         "tickfont": {
          "color": "#4D5663"
         },
         "title": {
          "font": {
           "color": "#4D5663"
          },
          "text": ""
         },
         "zerolinecolor": "#E1E5ED"
        },
        "yaxis": {
         "domain": [
          0.3,
          1
         ],
         "gridcolor": "#E1E5ED",
         "showgrid": true,
         "tickfont": {
          "color": "#4D5663"
         },
         "title": {
          "font": {
           "color": "#4D5663"
          },
          "text": ""
         },
         "zerolinecolor": "#E1E5ED"
        },
        "yaxis2": {
         "domain": [
          0,
          0.25
         ],
         "gridcolor": "#E1E5ED",
         "showgrid": true,
         "tickfont": {
          "color": "#4D5663"
         },
         "title": {
          "font": {
           "color": "#4D5663"
          },
          "text": "Spread"
         },
         "zerolinecolor": "#E1E5ED"
        }
       }
      },
      "text/html": [
       "<div>                            <div id=\"ca7d804f-49a4-425b-ad55-38dabab7f151\" class=\"plotly-graph-div\" style=\"height:525px; width:100%;\"></div>            <script type=\"text/javascript\">                require([\"plotly\"], function(Plotly) {                    window.PLOTLYENV=window.PLOTLYENV || {};\n",
       "                    window.PLOTLYENV.BASE_URL='https://plot.ly';                                    if (document.getElementById(\"ca7d804f-49a4-425b-ad55-38dabab7f151\")) {                    Plotly.newPlot(                        \"ca7d804f-49a4-425b-ad55-38dabab7f151\",                        [{\"line\": {\"color\": \"rgba(255, 153, 51, 1.0)\", \"dash\": \"solid\", \"shape\": \"linear\", \"width\": 1.3}, \"mode\": \"lines\", \"name\": \"A\", \"text\": \"\", \"type\": \"scatter\", \"x\": [0, 1, 2, 3, 4, 5, 6, 7, 8, 9, 10, 11, 12, 13, 14, 15, 16, 17, 18, 19, 20, 21, 22, 23, 24, 25, 26, 27, 28, 29, 30, 31, 32, 33, 34, 35, 36, 37, 38, 39, 40, 41, 42, 43, 44, 45, 46, 47, 48, 49, 50, 51, 52, 53, 54, 55, 56, 57, 58, 59, 60, 61, 62, 63, 64, 65, 66, 67, 68, 69, 70, 71, 72, 73, 74, 75, 76, 77, 78, 79, 80, 81, 82, 83, 84, 85, 86, 87, 88, 89, 90, 91, 92, 93, 94, 95, 96, 97, 98, 99], \"y\": [-1.4610241031401339, 0.09525150167714372, -0.029203584395679657, -0.014015621374794238, 1.3061216714143065, -0.31702307455461454, -1.1289839361958052, -0.13699963759455056, -0.6639938504440216, 0.9470923910686199, 1.553358059937682, 0.05045164189835665, 0.05751000634937235, 2.1315144223408105, 0.46274757495098084, -0.17673927911072126, -0.4606921426908111, -0.43086281676434296, -2.1264803113550594, 0.001056488752819712, -0.3059598987663699, 0.9662890754859629, 0.2510262672230263, -0.9617278560791738, 0.048995145654571845, -1.0209156821548113, -0.5691472839815525, 0.4996248117695914, 0.4464570983716666, -0.16336359024926198, 1.262599325533162, -0.38117396654870617, 0.6470503045744972, 1.98286394042055, 0.3984834505594768, 0.7771765568436815, 0.6232338000739429, 1.167642598764409, -0.6183478391013726, 1.2230733527522957, 0.502339193606301, -1.1320171943548307, -0.7080909329004074, 1.2718460327483254, -1.485782893035162, 0.4319773772095389, 0.362675989804671, 1.4424577308111275, 0.32319678124815143, -1.1700283154363498, 1.8634674399731277, 1.3157150735096061, -1.0097525209274345, -1.8188977326440103, 0.32593373911336543, 0.5229234346569209, -0.11081787742866657, -0.4975140914807007, -1.2059467191465185, -1.498419024882172, 2.255904266090674, -0.2302591959967517, -0.6209322962615502, 0.49579609306554884, -0.16989586521007646, 0.46588198032360506, -0.909141855445599, -0.0009026500043386546, 0.48123916040588277, 1.118792923213792, -0.4420688885202043, 0.9751416814442033, -0.03744211472540877, -1.778410999950504, -0.6892087536621391, -0.2385350486172311, 0.019730054488734897, 1.6716799790383337, 1.3566170705713458, 0.8873773894586302, -2.0888727474034563, -0.41046309299992867, -0.5549572208662424, -1.5861279398806762, -0.3540634750924586, 0.6090614019865381, 1.2372628555021594, -0.3429623623702404, -0.1606326504345451, 1.622631579628323, 1.0736460288414729, -0.7629319166489795, -0.5029453305115006, 0.1671892839193268, -1.488441025936215, -0.27038751087145, 0.855741339941454, -0.16881176419721813, -0.16170217362603542, 0.9173449807873943]}, {\"line\": {\"color\": \"rgba(55, 128, 191, 1.0)\", \"dash\": \"solid\", \"shape\": \"linear\", \"width\": 1.3}, \"mode\": \"lines\", \"name\": \"B\", \"text\": \"\", \"type\": \"scatter\", \"x\": [0, 1, 2, 3, 4, 5, 6, 7, 8, 9, 10, 11, 12, 13, 14, 15, 16, 17, 18, 19, 20, 21, 22, 23, 24, 25, 26, 27, 28, 29, 30, 31, 32, 33, 34, 35, 36, 37, 38, 39, 40, 41, 42, 43, 44, 45, 46, 47, 48, 49, 50, 51, 52, 53, 54, 55, 56, 57, 58, 59, 60, 61, 62, 63, 64, 65, 66, 67, 68, 69, 70, 71, 72, 73, 74, 75, 76, 77, 78, 79, 80, 81, 82, 83, 84, 85, 86, 87, 88, 89, 90, 91, 92, 93, 94, 95, 96, 97, 98, 99], \"y\": [0.3907902707269141, 0.6943603904272828, -0.5795978735730865, 0.813526262604139, 0.7839931065000858, -0.46753196417464715, 1.0359830523535647, -0.00108728024401313, -0.8081899074223791, -1.7047006560220002, -1.2500075128534878, 0.22565379843725744, 0.8538877104205691, -0.010769431923218427, -0.16471091416661995, 1.1532806339771444, -0.3057147481342851, -0.4072257391625898, 0.33177364843814655, -1.9259607592803352, 0.6328208279632327, 0.09822037368245887, 0.22575815059781187, 0.3342337338883107, 0.20918911354792807, 0.7884841767921292, -1.777038244279568, -0.8943194078336356, 0.7836857923081855, 0.6141031111803202, 0.5733925432595015, -0.049455510335339334, 0.9530936899389951, -1.4516704869032073, 0.5115887243863995, 0.6530646533442895, -0.23318159386226586, -1.319150131657982, 0.09463672775412493, 0.23313384209217008, -0.2983196316579245, -0.5678273244648308, 0.16437722381798814, -0.9296545964289905, 1.0922975549754237, -0.38336998654816523, 0.9051218108852752, 0.14618559623315341, 0.31466443511763487, 0.3879173171179358, -0.13602702775758238, -0.20229107248405542, 0.1312551692725429, 0.7657452778482757, -1.2969540759673137, -0.7525532691354485, 0.3375024417733412, -2.152534835068167, -1.2672607327528433, 1.240409131065859, 1.1770976240664932, -1.603010773610958, -0.237769129998576, -0.897073434357532, -0.9488046371465231, 0.6581283215809342, -0.06199463793937336, -0.8913999214397087, 0.4416057732101811, 0.6416648824250734, 1.4767731563075561, -0.8614378000150077, 1.0656352143878887, -1.145896856232693, -0.4880349854953325, 0.5836904660158005, 0.7939388605800349, 1.4499445941855056, 0.9854561681177022, 0.34020877181506953, 0.7235608805617902, 0.5377245985934934, 0.3493967640908654, 1.7702394754577686, -0.03111817077616619, 1.0432325635583046, -0.06443575244437817, -1.1069474415167795, 1.7477037930677306, 1.1762878474972331, 0.29762924979802713, -0.1934011522487943, -1.1299835327263392, 0.25635755789500264, -1.401477366719103, -1.3245095525725623, 0.29160187861069464, 0.6029746174004685, -0.308557547221511, 0.4159428841252249]}, {\"line\": {\"color\": \"rgba(50, 171, 96, 1.0)\", \"dash\": \"solid\", \"shape\": \"linear\", \"width\": 1.3}, \"mode\": \"lines\", \"name\": \"C\", \"text\": \"\", \"type\": \"scatter\", \"x\": [0, 1, 2, 3, 4, 5, 6, 7, 8, 9, 10, 11, 12, 13, 14, 15, 16, 17, 18, 19, 20, 21, 22, 23, 24, 25, 26, 27, 28, 29, 30, 31, 32, 33, 34, 35, 36, 37, 38, 39, 40, 41, 42, 43, 44, 45, 46, 47, 48, 49, 50, 51, 52, 53, 54, 55, 56, 57, 58, 59, 60, 61, 62, 63, 64, 65, 66, 67, 68, 69, 70, 71, 72, 73, 74, 75, 76, 77, 78, 79, 80, 81, 82, 83, 84, 85, 86, 87, 88, 89, 90, 91, 92, 93, 94, 95, 96, 97, 98, 99], \"y\": [-1.588518383084947, -0.25510529051838327, 0.07843303965625309, 0.3864557819134835, -1.09744143252163, 1.1804110069207534, -0.7433800204601851, 0.5753073643150647, -0.46313790316926323, 0.6543869181485661, 0.6265824877282654, -0.4539417662001653, 0.6696234450850123, 0.13069696307258144, -0.8867305435232409, -0.6250839491644894, 1.0097934384872906, 1.9023000035376307, 1.7009009639164385, -1.8411330536034713, -0.47464795002036747, -0.9982558219884498, 1.8344684902582309, 0.8192994654140996, -0.8335570745722221, -0.23972422219611114, 0.1689960648817115, 0.4698304057186679, -0.013340480348581244, -0.028051963281221937, 0.38398107818510635, 0.3937260257823908, -0.8123063459709408, -0.9993012029697024, -0.4152564075921749, 0.3655373303202848, -0.043408441663682476, -1.0443853502640081, -0.9698020566137836, 0.12256429336064191, 0.7356745185567378, 0.575392072982969, -0.33123080036967556, -1.185948457910172, -0.6111894681016925, -0.7945882795982716, 0.5020861788162949, -0.1578308254726711, -0.9869183983562312, 1.746200868438099, -0.37595688343323813, 0.13280117462258295, 1.2265259236048744, 0.2244340472116479, -1.8036664717250686, -0.29766457443473365, 0.5642521475493323, -0.5371447741300974, -1.1965527481693412, 1.1718385463743948, -0.3213005093326319, 2.4843766032829118, 2.3103908916350133, -0.9451710303787467, 0.6571154746001218, 1.316173218583312, 0.8330088624591149, 1.13092757585928, -0.27272341394384453, 0.4644537032765058, 0.07189971278123376, -0.9570518724398468, 0.44241242036356343, 0.005593809973949465, -1.0127649251581823, 0.3006123624304811, 1.3744735827062333, 0.038622245321359334, -0.9452780090729435, 2.0136519003518596, -0.004495202845143408, -0.25759335648309745, -1.1260013746246536, -0.5944480194050978, 1.6056735328339102, 1.19511407121231, 1.6153785450405376, -1.6932136658370074, -1.42390606086027, -0.4094603926470258, 1.0082761168261307, 0.2867048729727579, -0.4317049721677748, -1.7372064120191864, -0.10308707131192661, -0.46464036309498136, 0.8341943684669411, -1.9737194064119694, -1.99139390644937, 1.2455026058183056]}, {\"line\": {\"color\": \"rgba(128, 0, 128, 1.0)\", \"dash\": \"solid\", \"shape\": \"linear\", \"width\": 1.3}, \"mode\": \"lines\", \"name\": \"D\", \"text\": \"\", \"type\": \"scatter\", \"x\": [0, 1, 2, 3, 4, 5, 6, 7, 8, 9, 10, 11, 12, 13, 14, 15, 16, 17, 18, 19, 20, 21, 22, 23, 24, 25, 26, 27, 28, 29, 30, 31, 32, 33, 34, 35, 36, 37, 38, 39, 40, 41, 42, 43, 44, 45, 46, 47, 48, 49, 50, 51, 52, 53, 54, 55, 56, 57, 58, 59, 60, 61, 62, 63, 64, 65, 66, 67, 68, 69, 70, 71, 72, 73, 74, 75, 76, 77, 78, 79, 80, 81, 82, 83, 84, 85, 86, 87, 88, 89, 90, 91, 92, 93, 94, 95, 96, 97, 98, 99], \"y\": [-0.20308556376547537, 0.19762469288020745, 0.6704321743135898, -0.5986241735582623, -0.25759095692230527, -0.05747054214033602, -0.932710350273873, -1.0441315195474943, 0.1128314687479193, 0.7892422787785415, 0.0852285295692371, 0.35126214936583744, 1.8544165399332506, -1.4673580200808247, -1.7083706335257736, -1.272795966352538, 0.13657404929718472, 1.1088686376416257, 1.0360806444077852, -0.07457436081638934, -0.8044809295312358, -0.04828532842693859, 0.6593850434257252, -0.5658765585099089, 0.3423078664072504, -0.003085031082305999, 2.018187586743007, 0.6185980152915729, 1.7584542986691818, -1.5477793170953247, 0.8468774185788381, 1.2440610988793863, 0.7117036625565885, 1.240570040540003, 0.45794955761531136, 1.0647416762047635, -1.062620249089035, -0.6239492223248511, 1.6340455586893559, -0.46932216668858123, 0.10982913026295896, -2.606475104184327, 0.661850506062008, -0.811975012976815, -0.31238136540442235, -0.9920729069399843, -0.8151321623577781, -1.0660483059432084, -1.3513103796811499, -0.5096993775872938, -0.3423963630383938, 1.0890607235567875, 1.412582216775854, -0.5745153951129882, -0.09471548014551695, -1.2274900693742057, 0.9913406461115387, 1.2857250242618052, -1.4220485699165202, -0.20751562677718327, 1.269516515414513, 1.7630631587377619, -0.3405730854733291, -0.6243236780693461, 1.7062622406008303, -0.009716789825434882, 0.18580110459527216, 0.6066014190421658, -0.21684318444156456, 0.8902856548059778, 1.0594853835375297, -1.3427659913083283, -0.9249466420264154, -0.4736042418071167, 0.5978483667104654, 0.303287016773075, -1.5996703832688668, -0.4497857200657572, -1.8590951581175674, 0.38249787592501855, 0.43651573957238776, -0.6695674403809402, 1.032013861089123, 1.035662317354519, -0.016073852149997993, -0.564809977687965, -0.7205227740745791, -0.2209884244788965, -0.7201406209581277, -0.02057371877325681, -1.8582243694386562, 0.1733246814087179, -0.7227674162352797, 0.2981652039556083, -1.921240770994483, 0.9118896914002779, 0.6163142733027049, 0.02393141056674211, 1.186154597115317, 0.580847168673218]}, {\"connectgaps\": false, \"fill\": \"tozeroy\", \"line\": {\"color\": \"green\", \"dash\": \"solid\", \"shape\": \"linear\", \"width\": 0.5}, \"mode\": \"lines\", \"name\": \"Spread\", \"showlegend\": false, \"type\": \"scatter\", \"x\": [0, 1, 2, 3, 4, 5, 6, 7, 8, 9, 10, 11, 12, 13, 14, 15, 16, 17, 18, 19, 20, 21, 22, 23, 24, 25, 26, 27, 28, 29, 30, 31, 32, 33, 34, 35, 36, 37, 38, 39, 40, 41, 42, 43, 44, 45, 46, 47, 48, 49, 50, 51, 52, 53, 54, 55, 56, 57, 58, 59, 60, 61, 62, 63, 64, 65, 66, 67, 68, 69, 70, 71, 72, 73, 74, 75, 76, 77, 78, 79, 80, 81, 82, 83, 84, 85, 86, 87, 88, 89, 90, 91, 92, 93, 94, 95, 96, 97, 98, 99], \"xaxis\": \"x2\", \"y\": [\"\", \"\", 0.5503942891774068, \"\", 0.5221285649142207, 0.15050888962003262, \"\", \"\", 0.14419605697835747, 2.65179304709062, 2.8033655727911695, \"\", \"\", 2.142283854264029, 0.6274584891176008, \"\", \"\", \"\", \"\", 1.9270172480331549, \"\", 0.868068701803504, 0.025268116625214415, \"\", \"\", \"\", 1.2078909602980157, 1.393944219603227, \"\", \"\", 0.6892067822736605, \"\", \"\", 3.434534427323757, \"\", 0.12411190349939194, 0.8564153939362088, 2.486792730422391, \"\", 0.9899395106601256, 0.8006588252642255, \"\", \"\", 2.201500629177316, \"\", 0.8153473637577041, \"\", 1.2962721345779742, 0.008532346130516566, \"\", 1.99949446773071, 1.5180061459936616, \"\", \"\", 1.6228878150806791, 1.2754767037923695, \"\", 1.6550207435874662, 0.061314013606324824, \"\", 1.0788066420241809, 1.3727515776142063, \"\", 1.392869527423081, 0.7789087719364466, \"\", \"\", 0.89049727143537, 0.0396333871957017, 0.47712804078871873, \"\", 1.8365794814592111, \"\", \"\", \"\", \"\", \"\", 0.22173538485282807, 0.37116090245364364, 0.5471686176435606, \"\", \"\", \"\", \"\", \"\", \"\", 1.3016986079465376, 0.763985079146539, \"\", 0.4463437321310899, 0.7760167790434458, \"\", 0.6270382022148386, \"\", \"\", 1.0541220417011123, 0.5641394613307593, \"\", 0.1468553735954756, 0.5014020966621695], \"yaxis\": \"y2\"}, {\"connectgaps\": false, \"fill\": \"tozeroy\", \"line\": {\"color\": \"red\", \"dash\": \"solid\", \"shape\": \"linear\", \"width\": 0.5}, \"mode\": \"lines\", \"name\": \"Spread\", \"showlegend\": false, \"type\": \"scatter\", \"x\": [0, 1, 2, 3, 4, 5, 6, 7, 8, 9, 10, 11, 12, 13, 14, 15, 16, 17, 18, 19, 20, 21, 22, 23, 24, 25, 26, 27, 28, 29, 30, 31, 32, 33, 34, 35, 36, 37, 38, 39, 40, 41, 42, 43, 44, 45, 46, 47, 48, 49, 50, 51, 52, 53, 54, 55, 56, 57, 58, 59, 60, 61, 62, 63, 64, 65, 66, 67, 68, 69, 70, 71, 72, 73, 74, 75, 76, 77, 78, 79, 80, 81, 82, 83, 84, 85, 86, 87, 88, 89, 90, 91, 92, 93, 94, 95, 96, 97, 98, 99], \"xaxis\": \"x2\", \"y\": [-1.851814373867048, -0.5991088887501391, \"\", -0.8275418839789332, \"\", \"\", -2.16496698854937, -0.13591235735053742, \"\", \"\", \"\", -0.17520215653890078, -0.7963777040711968, \"\", \"\", -1.3300199130878656, -0.15497739455652598, -0.023637077601753154, -2.458253959793206, \"\", -0.9387807267296027, \"\", \"\", -1.2959615899674843, -0.16019396789335622, -1.8093998589469407, \"\", \"\", -0.3372286939365189, -0.7774667014295822, \"\", -0.3317184562133668, -0.30604338536449793, \"\", -0.11310527382692265, \"\", \"\", \"\", -0.7129845668554975, \"\", \"\", -0.56418986989, -0.8724681567183955, \"\", -2.578080448010586, \"\", -0.5424458210806042, \"\", \"\", -1.5579456325542855, \"\", \"\", -1.1410076901999775, -2.584643010492286, \"\", \"\", -0.44832031920200777, \"\", \"\", -2.738828155948031, \"\", \"\", -0.3831631662629742, \"\", \"\", -0.1922463412573291, -0.8471472175062257, \"\", \"\", \"\", -1.9188420448277603, \"\", -1.1030773291132974, -0.632514143717811, -0.2011737681668066, -0.8222255146330316, -0.7742088060913, \"\", \"\", \"\", -2.8124336279652464, -0.9481876915934221, -0.9043539849571078, -3.356367415338445, -0.3229453043162924, -0.4341711615717665, \"\", \"\", -1.9083364435022756, \"\", \"\", -0.5695307644001852, \"\", -0.08916827397567584, -0.08696365921711213, \"\", \"\", -0.7717863815976866, \"\", \"\"], \"yaxis\": \"y2\"}],                        {\"hovermode\": \"x\", \"legend\": {\"bgcolor\": \"#F5F6F9\", \"font\": {\"color\": \"#4D5663\"}}, \"paper_bgcolor\": \"#F5F6F9\", \"plot_bgcolor\": \"#F5F6F9\", \"template\": {\"data\": {\"bar\": [{\"error_x\": {\"color\": \"#2a3f5f\"}, \"error_y\": {\"color\": \"#2a3f5f\"}, \"marker\": {\"line\": {\"color\": \"#E5ECF6\", \"width\": 0.5}}, \"type\": \"bar\"}], \"barpolar\": [{\"marker\": {\"line\": {\"color\": \"#E5ECF6\", \"width\": 0.5}}, \"type\": \"barpolar\"}], \"carpet\": [{\"aaxis\": {\"endlinecolor\": \"#2a3f5f\", \"gridcolor\": \"white\", \"linecolor\": \"white\", \"minorgridcolor\": \"white\", \"startlinecolor\": \"#2a3f5f\"}, \"baxis\": {\"endlinecolor\": \"#2a3f5f\", \"gridcolor\": \"white\", \"linecolor\": \"white\", \"minorgridcolor\": \"white\", \"startlinecolor\": \"#2a3f5f\"}, \"type\": \"carpet\"}], \"choropleth\": [{\"colorbar\": {\"outlinewidth\": 0, \"ticks\": \"\"}, \"type\": \"choropleth\"}], \"contour\": [{\"colorbar\": {\"outlinewidth\": 0, \"ticks\": \"\"}, \"colorscale\": [[0.0, \"#0d0887\"], [0.1111111111111111, \"#46039f\"], [0.2222222222222222, \"#7201a8\"], [0.3333333333333333, \"#9c179e\"], [0.4444444444444444, \"#bd3786\"], [0.5555555555555556, \"#d8576b\"], [0.6666666666666666, \"#ed7953\"], [0.7777777777777778, \"#fb9f3a\"], [0.8888888888888888, \"#fdca26\"], [1.0, \"#f0f921\"]], \"type\": \"contour\"}], \"contourcarpet\": [{\"colorbar\": {\"outlinewidth\": 0, \"ticks\": \"\"}, \"type\": \"contourcarpet\"}], \"heatmap\": [{\"colorbar\": {\"outlinewidth\": 0, \"ticks\": \"\"}, \"colorscale\": [[0.0, \"#0d0887\"], [0.1111111111111111, \"#46039f\"], [0.2222222222222222, \"#7201a8\"], [0.3333333333333333, \"#9c179e\"], [0.4444444444444444, \"#bd3786\"], [0.5555555555555556, \"#d8576b\"], [0.6666666666666666, \"#ed7953\"], [0.7777777777777778, \"#fb9f3a\"], [0.8888888888888888, \"#fdca26\"], [1.0, \"#f0f921\"]], \"type\": \"heatmap\"}], \"heatmapgl\": [{\"colorbar\": {\"outlinewidth\": 0, \"ticks\": \"\"}, \"colorscale\": [[0.0, \"#0d0887\"], [0.1111111111111111, \"#46039f\"], [0.2222222222222222, \"#7201a8\"], [0.3333333333333333, \"#9c179e\"], [0.4444444444444444, \"#bd3786\"], [0.5555555555555556, \"#d8576b\"], [0.6666666666666666, \"#ed7953\"], [0.7777777777777778, \"#fb9f3a\"], [0.8888888888888888, \"#fdca26\"], [1.0, \"#f0f921\"]], \"type\": \"heatmapgl\"}], \"histogram\": [{\"marker\": {\"colorbar\": {\"outlinewidth\": 0, \"ticks\": \"\"}}, \"type\": \"histogram\"}], \"histogram2d\": [{\"colorbar\": {\"outlinewidth\": 0, \"ticks\": \"\"}, \"colorscale\": [[0.0, \"#0d0887\"], [0.1111111111111111, \"#46039f\"], [0.2222222222222222, \"#7201a8\"], [0.3333333333333333, \"#9c179e\"], [0.4444444444444444, \"#bd3786\"], [0.5555555555555556, \"#d8576b\"], [0.6666666666666666, \"#ed7953\"], [0.7777777777777778, \"#fb9f3a\"], [0.8888888888888888, \"#fdca26\"], [1.0, \"#f0f921\"]], \"type\": \"histogram2d\"}], \"histogram2dcontour\": [{\"colorbar\": {\"outlinewidth\": 0, \"ticks\": \"\"}, \"colorscale\": [[0.0, \"#0d0887\"], [0.1111111111111111, \"#46039f\"], [0.2222222222222222, \"#7201a8\"], [0.3333333333333333, \"#9c179e\"], [0.4444444444444444, \"#bd3786\"], [0.5555555555555556, \"#d8576b\"], [0.6666666666666666, \"#ed7953\"], [0.7777777777777778, \"#fb9f3a\"], [0.8888888888888888, \"#fdca26\"], [1.0, \"#f0f921\"]], \"type\": \"histogram2dcontour\"}], \"mesh3d\": [{\"colorbar\": {\"outlinewidth\": 0, \"ticks\": \"\"}, \"type\": \"mesh3d\"}], \"parcoords\": [{\"line\": {\"colorbar\": {\"outlinewidth\": 0, \"ticks\": \"\"}}, \"type\": \"parcoords\"}], \"pie\": [{\"automargin\": true, \"type\": \"pie\"}], \"scatter\": [{\"marker\": {\"colorbar\": {\"outlinewidth\": 0, \"ticks\": \"\"}}, \"type\": \"scatter\"}], \"scatter3d\": [{\"line\": {\"colorbar\": {\"outlinewidth\": 0, \"ticks\": \"\"}}, \"marker\": {\"colorbar\": {\"outlinewidth\": 0, \"ticks\": \"\"}}, \"type\": \"scatter3d\"}], \"scattercarpet\": [{\"marker\": {\"colorbar\": {\"outlinewidth\": 0, \"ticks\": \"\"}}, \"type\": \"scattercarpet\"}], \"scattergeo\": [{\"marker\": {\"colorbar\": {\"outlinewidth\": 0, \"ticks\": \"\"}}, \"type\": \"scattergeo\"}], \"scattergl\": [{\"marker\": {\"colorbar\": {\"outlinewidth\": 0, \"ticks\": \"\"}}, \"type\": \"scattergl\"}], \"scattermapbox\": [{\"marker\": {\"colorbar\": {\"outlinewidth\": 0, \"ticks\": \"\"}}, \"type\": \"scattermapbox\"}], \"scatterpolar\": [{\"marker\": {\"colorbar\": {\"outlinewidth\": 0, \"ticks\": \"\"}}, \"type\": \"scatterpolar\"}], \"scatterpolargl\": [{\"marker\": {\"colorbar\": {\"outlinewidth\": 0, \"ticks\": \"\"}}, \"type\": \"scatterpolargl\"}], \"scatterternary\": [{\"marker\": {\"colorbar\": {\"outlinewidth\": 0, \"ticks\": \"\"}}, \"type\": \"scatterternary\"}], \"surface\": [{\"colorbar\": {\"outlinewidth\": 0, \"ticks\": \"\"}, \"colorscale\": [[0.0, \"#0d0887\"], [0.1111111111111111, \"#46039f\"], [0.2222222222222222, \"#7201a8\"], [0.3333333333333333, \"#9c179e\"], [0.4444444444444444, \"#bd3786\"], [0.5555555555555556, \"#d8576b\"], [0.6666666666666666, \"#ed7953\"], [0.7777777777777778, \"#fb9f3a\"], [0.8888888888888888, \"#fdca26\"], [1.0, \"#f0f921\"]], \"type\": \"surface\"}], \"table\": [{\"cells\": {\"fill\": {\"color\": \"#EBF0F8\"}, \"line\": {\"color\": \"white\"}}, \"header\": {\"fill\": {\"color\": \"#C8D4E3\"}, \"line\": {\"color\": \"white\"}}, \"type\": \"table\"}]}, \"layout\": {\"annotationdefaults\": {\"arrowcolor\": \"#2a3f5f\", \"arrowhead\": 0, \"arrowwidth\": 1}, \"autotypenumbers\": \"strict\", \"coloraxis\": {\"colorbar\": {\"outlinewidth\": 0, \"ticks\": \"\"}}, \"colorscale\": {\"diverging\": [[0, \"#8e0152\"], [0.1, \"#c51b7d\"], [0.2, \"#de77ae\"], [0.3, \"#f1b6da\"], [0.4, \"#fde0ef\"], [0.5, \"#f7f7f7\"], [0.6, \"#e6f5d0\"], [0.7, \"#b8e186\"], [0.8, \"#7fbc41\"], [0.9, \"#4d9221\"], [1, \"#276419\"]], \"sequential\": [[0.0, \"#0d0887\"], [0.1111111111111111, \"#46039f\"], [0.2222222222222222, \"#7201a8\"], [0.3333333333333333, \"#9c179e\"], [0.4444444444444444, \"#bd3786\"], [0.5555555555555556, \"#d8576b\"], [0.6666666666666666, \"#ed7953\"], [0.7777777777777778, \"#fb9f3a\"], [0.8888888888888888, \"#fdca26\"], [1.0, \"#f0f921\"]], \"sequentialminus\": [[0.0, \"#0d0887\"], [0.1111111111111111, \"#46039f\"], [0.2222222222222222, \"#7201a8\"], [0.3333333333333333, \"#9c179e\"], [0.4444444444444444, \"#bd3786\"], [0.5555555555555556, \"#d8576b\"], [0.6666666666666666, \"#ed7953\"], [0.7777777777777778, \"#fb9f3a\"], [0.8888888888888888, \"#fdca26\"], [1.0, \"#f0f921\"]]}, \"colorway\": [\"#636efa\", \"#EF553B\", \"#00cc96\", \"#ab63fa\", \"#FFA15A\", \"#19d3f3\", \"#FF6692\", \"#B6E880\", \"#FF97FF\", \"#FECB52\"], \"font\": {\"color\": \"#2a3f5f\"}, \"geo\": {\"bgcolor\": \"white\", \"lakecolor\": \"white\", \"landcolor\": \"#E5ECF6\", \"showlakes\": true, \"showland\": true, \"subunitcolor\": \"white\"}, \"hoverlabel\": {\"align\": \"left\"}, \"hovermode\": \"closest\", \"mapbox\": {\"style\": \"light\"}, \"paper_bgcolor\": \"white\", \"plot_bgcolor\": \"#E5ECF6\", \"polar\": {\"angularaxis\": {\"gridcolor\": \"white\", \"linecolor\": \"white\", \"ticks\": \"\"}, \"bgcolor\": \"#E5ECF6\", \"radialaxis\": {\"gridcolor\": \"white\", \"linecolor\": \"white\", \"ticks\": \"\"}}, \"scene\": {\"xaxis\": {\"backgroundcolor\": \"#E5ECF6\", \"gridcolor\": \"white\", \"gridwidth\": 2, \"linecolor\": \"white\", \"showbackground\": true, \"ticks\": \"\", \"zerolinecolor\": \"white\"}, \"yaxis\": {\"backgroundcolor\": \"#E5ECF6\", \"gridcolor\": \"white\", \"gridwidth\": 2, \"linecolor\": \"white\", \"showbackground\": true, \"ticks\": \"\", \"zerolinecolor\": \"white\"}, \"zaxis\": {\"backgroundcolor\": \"#E5ECF6\", \"gridcolor\": \"white\", \"gridwidth\": 2, \"linecolor\": \"white\", \"showbackground\": true, \"ticks\": \"\", \"zerolinecolor\": \"white\"}}, \"shapedefaults\": {\"line\": {\"color\": \"#2a3f5f\"}}, \"ternary\": {\"aaxis\": {\"gridcolor\": \"white\", \"linecolor\": \"white\", \"ticks\": \"\"}, \"baxis\": {\"gridcolor\": \"white\", \"linecolor\": \"white\", \"ticks\": \"\"}, \"bgcolor\": \"#E5ECF6\", \"caxis\": {\"gridcolor\": \"white\", \"linecolor\": \"white\", \"ticks\": \"\"}}, \"title\": {\"x\": 0.05}, \"xaxis\": {\"automargin\": true, \"gridcolor\": \"white\", \"linecolor\": \"white\", \"ticks\": \"\", \"title\": {\"standoff\": 15}, \"zerolinecolor\": \"white\", \"zerolinewidth\": 2}, \"yaxis\": {\"automargin\": true, \"gridcolor\": \"white\", \"linecolor\": \"white\", \"ticks\": \"\", \"title\": {\"standoff\": 15}, \"zerolinecolor\": \"white\", \"zerolinewidth\": 2}}}, \"title\": {\"font\": {\"color\": \"#4D5663\"}}, \"xaxis\": {\"gridcolor\": \"#E1E5ED\", \"showgrid\": true, \"tickfont\": {\"color\": \"#4D5663\"}, \"title\": {\"font\": {\"color\": \"#4D5663\"}, \"text\": \"\"}, \"zerolinecolor\": \"#E1E5ED\"}, \"xaxis2\": {\"anchor\": \"y2\", \"gridcolor\": \"#E1E5ED\", \"showgrid\": true, \"showticklabels\": false, \"tickfont\": {\"color\": \"#4D5663\"}, \"title\": {\"font\": {\"color\": \"#4D5663\"}, \"text\": \"\"}, \"zerolinecolor\": \"#E1E5ED\"}, \"yaxis\": {\"domain\": [0.3, 1], \"gridcolor\": \"#E1E5ED\", \"showgrid\": true, \"tickfont\": {\"color\": \"#4D5663\"}, \"title\": {\"font\": {\"color\": \"#4D5663\"}, \"text\": \"\"}, \"zerolinecolor\": \"#E1E5ED\"}, \"yaxis2\": {\"domain\": [0, 0.25], \"gridcolor\": \"#E1E5ED\", \"showgrid\": true, \"tickfont\": {\"color\": \"#4D5663\"}, \"title\": {\"font\": {\"color\": \"#4D5663\"}, \"text\": \"Spread\"}, \"zerolinecolor\": \"#E1E5ED\"}},                        {\"showLink\": true, \"linkText\": \"Export to plot.ly\", \"plotlyServerURL\": \"https://plot.ly\", \"responsive\": true}                    ).then(function(){\n",
       "                            \n",
       "var gd = document.getElementById('ca7d804f-49a4-425b-ad55-38dabab7f151');\n",
       "var x = new MutationObserver(function (mutations, observer) {{\n",
       "        var display = window.getComputedStyle(gd).display;\n",
       "        if (!display || display === 'none') {{\n",
       "            console.log([gd, 'removed!']);\n",
       "            Plotly.purge(gd);\n",
       "            observer.disconnect();\n",
       "        }}\n",
       "}});\n",
       "\n",
       "// Listen for the removal of the full notebook cells\n",
       "var notebookContainer = gd.closest('#notebook-container');\n",
       "if (notebookContainer) {{\n",
       "    x.observe(notebookContainer, {childList: true});\n",
       "}}\n",
       "\n",
       "// Listen for the clearing of the current output cell\n",
       "var outputEl = gd.closest('.output');\n",
       "if (outputEl) {{\n",
       "    x.observe(outputEl, {childList: true});\n",
       "}}\n",
       "\n",
       "                        })                };                });            </script>        </div>"
      ]
     },
     "metadata": {},
     "output_type": "display_data"
    }
   ],
   "source": [
    "df[['A', 'B', 'C', 'D']].iplot(kind = 'spread')"
   ]
  },
  {
   "cell_type": "markdown",
   "metadata": {},
   "source": [
    "### Bubble Plots"
   ]
  },
  {
   "cell_type": "code",
   "execution_count": 14,
   "metadata": {},
   "outputs": [
    {
     "data": {
      "application/vnd.plotly.v1+json": {
       "config": {
        "linkText": "Export to plot.ly",
        "plotlyServerURL": "https://plot.ly",
        "showLink": true
       },
       "data": [
        {
         "marker": {
          "color": [
           "rgb(255, 153, 51)",
           "rgb(55, 128, 191)",
           "rgb(50, 171, 96)",
           "rgb(128, 0, 128)",
           "rgb(219, 64, 82)",
           "rgb(0, 128, 128)",
           "rgb(255, 255, 51)",
           "rgb(128, 128, 0)",
           "rgb(251, 128, 114)",
           "rgb(128, 177, 211)"
          ],
          "line": {
           "width": 1.3
          },
          "size": [
           21,
           50,
           58,
           65,
           31,
           82,
           39,
           69,
           46,
           71,
           70,
           46,
           71,
           59,
           36,
           42,
           79,
           98,
           94,
           15,
           45,
           34,
           97,
           74,
           37,
           51,
           60,
           66,
           56,
           55,
           65,
           65,
           38,
           34,
           47,
           64,
           55,
           33,
           34,
           59,
           72,
           69,
           49,
           29,
           42,
           38,
           67,
           52,
           34,
           95,
           48,
           59,
           83,
           61,
           16,
           49,
           69,
           44,
           29,
           82,
           49,
           112,
           108,
           35,
           71,
           85,
           75,
           81,
           50,
           66,
           58,
           35,
           66,
           56,
           33,
           63,
           87,
           57,
           35,
           101,
           56,
           50,
           31,
           43,
           92,
           83,
           92,
           18,
           24,
           47,
           79,
           62,
           46,
           17,
           54,
           46,
           75,
           12,
           12,
           84
          ],
          "symbol": "circle"
         },
         "mode": "markers",
         "text": "",
         "type": "scatter",
         "x": [
          -1.4610241031401339,
          0.09525150167714372,
          -0.029203584395679657,
          -0.014015621374794238,
          1.3061216714143065,
          -0.31702307455461454,
          -1.1289839361958052,
          -0.13699963759455056,
          -0.6639938504440216,
          0.9470923910686199,
          1.553358059937682,
          0.05045164189835665,
          0.05751000634937235,
          2.1315144223408105,
          0.46274757495098084,
          -0.17673927911072126,
          -0.4606921426908111,
          -0.43086281676434296,
          -2.1264803113550594,
          0.001056488752819712,
          -0.3059598987663699,
          0.9662890754859629,
          0.2510262672230263,
          -0.9617278560791738,
          0.048995145654571845,
          -1.0209156821548113,
          -0.5691472839815525,
          0.4996248117695914,
          0.4464570983716666,
          -0.16336359024926198,
          1.262599325533162,
          -0.38117396654870617,
          0.6470503045744972,
          1.98286394042055,
          0.3984834505594768,
          0.7771765568436815,
          0.6232338000739429,
          1.167642598764409,
          -0.6183478391013726,
          1.2230733527522957,
          0.502339193606301,
          -1.1320171943548307,
          -0.7080909329004074,
          1.2718460327483254,
          -1.485782893035162,
          0.4319773772095389,
          0.362675989804671,
          1.4424577308111275,
          0.32319678124815143,
          -1.1700283154363498,
          1.8634674399731277,
          1.3157150735096061,
          -1.0097525209274345,
          -1.8188977326440103,
          0.32593373911336543,
          0.5229234346569209,
          -0.11081787742866657,
          -0.4975140914807007,
          -1.2059467191465185,
          -1.498419024882172,
          2.255904266090674,
          -0.2302591959967517,
          -0.6209322962615502,
          0.49579609306554884,
          -0.16989586521007646,
          0.46588198032360506,
          -0.909141855445599,
          -0.0009026500043386546,
          0.48123916040588277,
          1.118792923213792,
          -0.4420688885202043,
          0.9751416814442033,
          -0.03744211472540877,
          -1.778410999950504,
          -0.6892087536621391,
          -0.2385350486172311,
          0.019730054488734897,
          1.6716799790383337,
          1.3566170705713458,
          0.8873773894586302,
          -2.0888727474034563,
          -0.41046309299992867,
          -0.5549572208662424,
          -1.5861279398806762,
          -0.3540634750924586,
          0.6090614019865381,
          1.2372628555021594,
          -0.3429623623702404,
          -0.1606326504345451,
          1.622631579628323,
          1.0736460288414729,
          -0.7629319166489795,
          -0.5029453305115006,
          0.1671892839193268,
          -1.488441025936215,
          -0.27038751087145,
          0.855741339941454,
          -0.16881176419721813,
          -0.16170217362603542,
          0.9173449807873943
         ],
         "y": [
          0.3907902707269141,
          0.6943603904272828,
          -0.5795978735730865,
          0.813526262604139,
          0.7839931065000858,
          -0.46753196417464715,
          1.0359830523535647,
          -0.00108728024401313,
          -0.8081899074223791,
          -1.7047006560220002,
          -1.2500075128534878,
          0.22565379843725744,
          0.8538877104205691,
          -0.010769431923218427,
          -0.16471091416661995,
          1.1532806339771444,
          -0.3057147481342851,
          -0.4072257391625898,
          0.33177364843814655,
          -1.9259607592803352,
          0.6328208279632327,
          0.09822037368245887,
          0.22575815059781187,
          0.3342337338883107,
          0.20918911354792807,
          0.7884841767921292,
          -1.777038244279568,
          -0.8943194078336356,
          0.7836857923081855,
          0.6141031111803202,
          0.5733925432595015,
          -0.049455510335339334,
          0.9530936899389951,
          -1.4516704869032073,
          0.5115887243863995,
          0.6530646533442895,
          -0.23318159386226586,
          -1.319150131657982,
          0.09463672775412493,
          0.23313384209217008,
          -0.2983196316579245,
          -0.5678273244648308,
          0.16437722381798814,
          -0.9296545964289905,
          1.0922975549754237,
          -0.38336998654816523,
          0.9051218108852752,
          0.14618559623315341,
          0.31466443511763487,
          0.3879173171179358,
          -0.13602702775758238,
          -0.20229107248405542,
          0.1312551692725429,
          0.7657452778482757,
          -1.2969540759673137,
          -0.7525532691354485,
          0.3375024417733412,
          -2.152534835068167,
          -1.2672607327528433,
          1.240409131065859,
          1.1770976240664932,
          -1.603010773610958,
          -0.237769129998576,
          -0.897073434357532,
          -0.9488046371465231,
          0.6581283215809342,
          -0.06199463793937336,
          -0.8913999214397087,
          0.4416057732101811,
          0.6416648824250734,
          1.4767731563075561,
          -0.8614378000150077,
          1.0656352143878887,
          -1.145896856232693,
          -0.4880349854953325,
          0.5836904660158005,
          0.7939388605800349,
          1.4499445941855056,
          0.9854561681177022,
          0.34020877181506953,
          0.7235608805617902,
          0.5377245985934934,
          0.3493967640908654,
          1.7702394754577686,
          -0.03111817077616619,
          1.0432325635583046,
          -0.06443575244437817,
          -1.1069474415167795,
          1.7477037930677306,
          1.1762878474972331,
          0.29762924979802713,
          -0.1934011522487943,
          -1.1299835327263392,
          0.25635755789500264,
          -1.401477366719103,
          -1.3245095525725623,
          0.29160187861069464,
          0.6029746174004685,
          -0.308557547221511,
          0.4159428841252249
         ]
        }
       ],
       "layout": {
        "legend": {
         "bgcolor": "#F5F6F9",
         "font": {
          "color": "#4D5663"
         }
        },
        "paper_bgcolor": "#F5F6F9",
        "plot_bgcolor": "#F5F6F9",
        "template": {
         "data": {
          "bar": [
           {
            "error_x": {
             "color": "#2a3f5f"
            },
            "error_y": {
             "color": "#2a3f5f"
            },
            "marker": {
             "line": {
              "color": "#E5ECF6",
              "width": 0.5
             }
            },
            "type": "bar"
           }
          ],
          "barpolar": [
           {
            "marker": {
             "line": {
              "color": "#E5ECF6",
              "width": 0.5
             }
            },
            "type": "barpolar"
           }
          ],
          "carpet": [
           {
            "aaxis": {
             "endlinecolor": "#2a3f5f",
             "gridcolor": "white",
             "linecolor": "white",
             "minorgridcolor": "white",
             "startlinecolor": "#2a3f5f"
            },
            "baxis": {
             "endlinecolor": "#2a3f5f",
             "gridcolor": "white",
             "linecolor": "white",
             "minorgridcolor": "white",
             "startlinecolor": "#2a3f5f"
            },
            "type": "carpet"
           }
          ],
          "choropleth": [
           {
            "colorbar": {
             "outlinewidth": 0,
             "ticks": ""
            },
            "type": "choropleth"
           }
          ],
          "contour": [
           {
            "colorbar": {
             "outlinewidth": 0,
             "ticks": ""
            },
            "colorscale": [
             [
              0,
              "#0d0887"
             ],
             [
              0.1111111111111111,
              "#46039f"
             ],
             [
              0.2222222222222222,
              "#7201a8"
             ],
             [
              0.3333333333333333,
              "#9c179e"
             ],
             [
              0.4444444444444444,
              "#bd3786"
             ],
             [
              0.5555555555555556,
              "#d8576b"
             ],
             [
              0.6666666666666666,
              "#ed7953"
             ],
             [
              0.7777777777777778,
              "#fb9f3a"
             ],
             [
              0.8888888888888888,
              "#fdca26"
             ],
             [
              1,
              "#f0f921"
             ]
            ],
            "type": "contour"
           }
          ],
          "contourcarpet": [
           {
            "colorbar": {
             "outlinewidth": 0,
             "ticks": ""
            },
            "type": "contourcarpet"
           }
          ],
          "heatmap": [
           {
            "colorbar": {
             "outlinewidth": 0,
             "ticks": ""
            },
            "colorscale": [
             [
              0,
              "#0d0887"
             ],
             [
              0.1111111111111111,
              "#46039f"
             ],
             [
              0.2222222222222222,
              "#7201a8"
             ],
             [
              0.3333333333333333,
              "#9c179e"
             ],
             [
              0.4444444444444444,
              "#bd3786"
             ],
             [
              0.5555555555555556,
              "#d8576b"
             ],
             [
              0.6666666666666666,
              "#ed7953"
             ],
             [
              0.7777777777777778,
              "#fb9f3a"
             ],
             [
              0.8888888888888888,
              "#fdca26"
             ],
             [
              1,
              "#f0f921"
             ]
            ],
            "type": "heatmap"
           }
          ],
          "heatmapgl": [
           {
            "colorbar": {
             "outlinewidth": 0,
             "ticks": ""
            },
            "colorscale": [
             [
              0,
              "#0d0887"
             ],
             [
              0.1111111111111111,
              "#46039f"
             ],
             [
              0.2222222222222222,
              "#7201a8"
             ],
             [
              0.3333333333333333,
              "#9c179e"
             ],
             [
              0.4444444444444444,
              "#bd3786"
             ],
             [
              0.5555555555555556,
              "#d8576b"
             ],
             [
              0.6666666666666666,
              "#ed7953"
             ],
             [
              0.7777777777777778,
              "#fb9f3a"
             ],
             [
              0.8888888888888888,
              "#fdca26"
             ],
             [
              1,
              "#f0f921"
             ]
            ],
            "type": "heatmapgl"
           }
          ],
          "histogram": [
           {
            "marker": {
             "colorbar": {
              "outlinewidth": 0,
              "ticks": ""
             }
            },
            "type": "histogram"
           }
          ],
          "histogram2d": [
           {
            "colorbar": {
             "outlinewidth": 0,
             "ticks": ""
            },
            "colorscale": [
             [
              0,
              "#0d0887"
             ],
             [
              0.1111111111111111,
              "#46039f"
             ],
             [
              0.2222222222222222,
              "#7201a8"
             ],
             [
              0.3333333333333333,
              "#9c179e"
             ],
             [
              0.4444444444444444,
              "#bd3786"
             ],
             [
              0.5555555555555556,
              "#d8576b"
             ],
             [
              0.6666666666666666,
              "#ed7953"
             ],
             [
              0.7777777777777778,
              "#fb9f3a"
             ],
             [
              0.8888888888888888,
              "#fdca26"
             ],
             [
              1,
              "#f0f921"
             ]
            ],
            "type": "histogram2d"
           }
          ],
          "histogram2dcontour": [
           {
            "colorbar": {
             "outlinewidth": 0,
             "ticks": ""
            },
            "colorscale": [
             [
              0,
              "#0d0887"
             ],
             [
              0.1111111111111111,
              "#46039f"
             ],
             [
              0.2222222222222222,
              "#7201a8"
             ],
             [
              0.3333333333333333,
              "#9c179e"
             ],
             [
              0.4444444444444444,
              "#bd3786"
             ],
             [
              0.5555555555555556,
              "#d8576b"
             ],
             [
              0.6666666666666666,
              "#ed7953"
             ],
             [
              0.7777777777777778,
              "#fb9f3a"
             ],
             [
              0.8888888888888888,
              "#fdca26"
             ],
             [
              1,
              "#f0f921"
             ]
            ],
            "type": "histogram2dcontour"
           }
          ],
          "mesh3d": [
           {
            "colorbar": {
             "outlinewidth": 0,
             "ticks": ""
            },
            "type": "mesh3d"
           }
          ],
          "parcoords": [
           {
            "line": {
             "colorbar": {
              "outlinewidth": 0,
              "ticks": ""
             }
            },
            "type": "parcoords"
           }
          ],
          "pie": [
           {
            "automargin": true,
            "type": "pie"
           }
          ],
          "scatter": [
           {
            "marker": {
             "colorbar": {
              "outlinewidth": 0,
              "ticks": ""
             }
            },
            "type": "scatter"
           }
          ],
          "scatter3d": [
           {
            "line": {
             "colorbar": {
              "outlinewidth": 0,
              "ticks": ""
             }
            },
            "marker": {
             "colorbar": {
              "outlinewidth": 0,
              "ticks": ""
             }
            },
            "type": "scatter3d"
           }
          ],
          "scattercarpet": [
           {
            "marker": {
             "colorbar": {
              "outlinewidth": 0,
              "ticks": ""
             }
            },
            "type": "scattercarpet"
           }
          ],
          "scattergeo": [
           {
            "marker": {
             "colorbar": {
              "outlinewidth": 0,
              "ticks": ""
             }
            },
            "type": "scattergeo"
           }
          ],
          "scattergl": [
           {
            "marker": {
             "colorbar": {
              "outlinewidth": 0,
              "ticks": ""
             }
            },
            "type": "scattergl"
           }
          ],
          "scattermapbox": [
           {
            "marker": {
             "colorbar": {
              "outlinewidth": 0,
              "ticks": ""
             }
            },
            "type": "scattermapbox"
           }
          ],
          "scatterpolar": [
           {
            "marker": {
             "colorbar": {
              "outlinewidth": 0,
              "ticks": ""
             }
            },
            "type": "scatterpolar"
           }
          ],
          "scatterpolargl": [
           {
            "marker": {
             "colorbar": {
              "outlinewidth": 0,
              "ticks": ""
             }
            },
            "type": "scatterpolargl"
           }
          ],
          "scatterternary": [
           {
            "marker": {
             "colorbar": {
              "outlinewidth": 0,
              "ticks": ""
             }
            },
            "type": "scatterternary"
           }
          ],
          "surface": [
           {
            "colorbar": {
             "outlinewidth": 0,
             "ticks": ""
            },
            "colorscale": [
             [
              0,
              "#0d0887"
             ],
             [
              0.1111111111111111,
              "#46039f"
             ],
             [
              0.2222222222222222,
              "#7201a8"
             ],
             [
              0.3333333333333333,
              "#9c179e"
             ],
             [
              0.4444444444444444,
              "#bd3786"
             ],
             [
              0.5555555555555556,
              "#d8576b"
             ],
             [
              0.6666666666666666,
              "#ed7953"
             ],
             [
              0.7777777777777778,
              "#fb9f3a"
             ],
             [
              0.8888888888888888,
              "#fdca26"
             ],
             [
              1,
              "#f0f921"
             ]
            ],
            "type": "surface"
           }
          ],
          "table": [
           {
            "cells": {
             "fill": {
              "color": "#EBF0F8"
             },
             "line": {
              "color": "white"
             }
            },
            "header": {
             "fill": {
              "color": "#C8D4E3"
             },
             "line": {
              "color": "white"
             }
            },
            "type": "table"
           }
          ]
         },
         "layout": {
          "annotationdefaults": {
           "arrowcolor": "#2a3f5f",
           "arrowhead": 0,
           "arrowwidth": 1
          },
          "autotypenumbers": "strict",
          "coloraxis": {
           "colorbar": {
            "outlinewidth": 0,
            "ticks": ""
           }
          },
          "colorscale": {
           "diverging": [
            [
             0,
             "#8e0152"
            ],
            [
             0.1,
             "#c51b7d"
            ],
            [
             0.2,
             "#de77ae"
            ],
            [
             0.3,
             "#f1b6da"
            ],
            [
             0.4,
             "#fde0ef"
            ],
            [
             0.5,
             "#f7f7f7"
            ],
            [
             0.6,
             "#e6f5d0"
            ],
            [
             0.7,
             "#b8e186"
            ],
            [
             0.8,
             "#7fbc41"
            ],
            [
             0.9,
             "#4d9221"
            ],
            [
             1,
             "#276419"
            ]
           ],
           "sequential": [
            [
             0,
             "#0d0887"
            ],
            [
             0.1111111111111111,
             "#46039f"
            ],
            [
             0.2222222222222222,
             "#7201a8"
            ],
            [
             0.3333333333333333,
             "#9c179e"
            ],
            [
             0.4444444444444444,
             "#bd3786"
            ],
            [
             0.5555555555555556,
             "#d8576b"
            ],
            [
             0.6666666666666666,
             "#ed7953"
            ],
            [
             0.7777777777777778,
             "#fb9f3a"
            ],
            [
             0.8888888888888888,
             "#fdca26"
            ],
            [
             1,
             "#f0f921"
            ]
           ],
           "sequentialminus": [
            [
             0,
             "#0d0887"
            ],
            [
             0.1111111111111111,
             "#46039f"
            ],
            [
             0.2222222222222222,
             "#7201a8"
            ],
            [
             0.3333333333333333,
             "#9c179e"
            ],
            [
             0.4444444444444444,
             "#bd3786"
            ],
            [
             0.5555555555555556,
             "#d8576b"
            ],
            [
             0.6666666666666666,
             "#ed7953"
            ],
            [
             0.7777777777777778,
             "#fb9f3a"
            ],
            [
             0.8888888888888888,
             "#fdca26"
            ],
            [
             1,
             "#f0f921"
            ]
           ]
          },
          "colorway": [
           "#636efa",
           "#EF553B",
           "#00cc96",
           "#ab63fa",
           "#FFA15A",
           "#19d3f3",
           "#FF6692",
           "#B6E880",
           "#FF97FF",
           "#FECB52"
          ],
          "font": {
           "color": "#2a3f5f"
          },
          "geo": {
           "bgcolor": "white",
           "lakecolor": "white",
           "landcolor": "#E5ECF6",
           "showlakes": true,
           "showland": true,
           "subunitcolor": "white"
          },
          "hoverlabel": {
           "align": "left"
          },
          "hovermode": "closest",
          "mapbox": {
           "style": "light"
          },
          "paper_bgcolor": "white",
          "plot_bgcolor": "#E5ECF6",
          "polar": {
           "angularaxis": {
            "gridcolor": "white",
            "linecolor": "white",
            "ticks": ""
           },
           "bgcolor": "#E5ECF6",
           "radialaxis": {
            "gridcolor": "white",
            "linecolor": "white",
            "ticks": ""
           }
          },
          "scene": {
           "xaxis": {
            "backgroundcolor": "#E5ECF6",
            "gridcolor": "white",
            "gridwidth": 2,
            "linecolor": "white",
            "showbackground": true,
            "ticks": "",
            "zerolinecolor": "white"
           },
           "yaxis": {
            "backgroundcolor": "#E5ECF6",
            "gridcolor": "white",
            "gridwidth": 2,
            "linecolor": "white",
            "showbackground": true,
            "ticks": "",
            "zerolinecolor": "white"
           },
           "zaxis": {
            "backgroundcolor": "#E5ECF6",
            "gridcolor": "white",
            "gridwidth": 2,
            "linecolor": "white",
            "showbackground": true,
            "ticks": "",
            "zerolinecolor": "white"
           }
          },
          "shapedefaults": {
           "line": {
            "color": "#2a3f5f"
           }
          },
          "ternary": {
           "aaxis": {
            "gridcolor": "white",
            "linecolor": "white",
            "ticks": ""
           },
           "baxis": {
            "gridcolor": "white",
            "linecolor": "white",
            "ticks": ""
           },
           "bgcolor": "#E5ECF6",
           "caxis": {
            "gridcolor": "white",
            "linecolor": "white",
            "ticks": ""
           }
          },
          "title": {
           "x": 0.05
          },
          "xaxis": {
           "automargin": true,
           "gridcolor": "white",
           "linecolor": "white",
           "ticks": "",
           "title": {
            "standoff": 15
           },
           "zerolinecolor": "white",
           "zerolinewidth": 2
          },
          "yaxis": {
           "automargin": true,
           "gridcolor": "white",
           "linecolor": "white",
           "ticks": "",
           "title": {
            "standoff": 15
           },
           "zerolinecolor": "white",
           "zerolinewidth": 2
          }
         }
        },
        "title": {
         "font": {
          "color": "#4D5663"
         }
        },
        "xaxis": {
         "gridcolor": "#E1E5ED",
         "showgrid": true,
         "tickfont": {
          "color": "#4D5663"
         },
         "title": {
          "font": {
           "color": "#4D5663"
          },
          "text": ""
         },
         "zerolinecolor": "#E1E5ED"
        },
        "yaxis": {
         "gridcolor": "#E1E5ED",
         "showgrid": true,
         "tickfont": {
          "color": "#4D5663"
         },
         "title": {
          "font": {
           "color": "#4D5663"
          },
          "text": ""
         },
         "zerolinecolor": "#E1E5ED"
        }
       }
      },
      "text/html": [
       "<div>                            <div id=\"ae31eb8f-4666-45ed-85c9-45e37d99cdcb\" class=\"plotly-graph-div\" style=\"height:525px; width:100%;\"></div>            <script type=\"text/javascript\">                require([\"plotly\"], function(Plotly) {                    window.PLOTLYENV=window.PLOTLYENV || {};\n",
       "                    window.PLOTLYENV.BASE_URL='https://plot.ly';                                    if (document.getElementById(\"ae31eb8f-4666-45ed-85c9-45e37d99cdcb\")) {                    Plotly.newPlot(                        \"ae31eb8f-4666-45ed-85c9-45e37d99cdcb\",                        [{\"marker\": {\"color\": [\"rgb(255, 153, 51)\", \"rgb(55, 128, 191)\", \"rgb(50, 171, 96)\", \"rgb(128, 0, 128)\", \"rgb(219, 64, 82)\", \"rgb(0, 128, 128)\", \"rgb(255, 255, 51)\", \"rgb(128, 128, 0)\", \"rgb(251, 128, 114)\", \"rgb(128, 177, 211)\"], \"line\": {\"width\": 1.3}, \"size\": [21, 50, 58, 65, 31, 82, 39, 69, 46, 71, 70, 46, 71, 59, 36, 42, 79, 98, 94, 15, 45, 34, 97, 74, 37, 51, 60, 66, 56, 55, 65, 65, 38, 34, 47, 64, 55, 33, 34, 59, 72, 69, 49, 29, 42, 38, 67, 52, 34, 95, 48, 59, 83, 61, 16, 49, 69, 44, 29, 82, 49, 112, 108, 35, 71, 85, 75, 81, 50, 66, 58, 35, 66, 56, 33, 63, 87, 57, 35, 101, 56, 50, 31, 43, 92, 83, 92, 18, 24, 47, 79, 62, 46, 17, 54, 46, 75, 12, 12, 84], \"symbol\": \"circle\"}, \"mode\": \"markers\", \"text\": \"\", \"type\": \"scatter\", \"x\": [-1.4610241031401339, 0.09525150167714372, -0.029203584395679657, -0.014015621374794238, 1.3061216714143065, -0.31702307455461454, -1.1289839361958052, -0.13699963759455056, -0.6639938504440216, 0.9470923910686199, 1.553358059937682, 0.05045164189835665, 0.05751000634937235, 2.1315144223408105, 0.46274757495098084, -0.17673927911072126, -0.4606921426908111, -0.43086281676434296, -2.1264803113550594, 0.001056488752819712, -0.3059598987663699, 0.9662890754859629, 0.2510262672230263, -0.9617278560791738, 0.048995145654571845, -1.0209156821548113, -0.5691472839815525, 0.4996248117695914, 0.4464570983716666, -0.16336359024926198, 1.262599325533162, -0.38117396654870617, 0.6470503045744972, 1.98286394042055, 0.3984834505594768, 0.7771765568436815, 0.6232338000739429, 1.167642598764409, -0.6183478391013726, 1.2230733527522957, 0.502339193606301, -1.1320171943548307, -0.7080909329004074, 1.2718460327483254, -1.485782893035162, 0.4319773772095389, 0.362675989804671, 1.4424577308111275, 0.32319678124815143, -1.1700283154363498, 1.8634674399731277, 1.3157150735096061, -1.0097525209274345, -1.8188977326440103, 0.32593373911336543, 0.5229234346569209, -0.11081787742866657, -0.4975140914807007, -1.2059467191465185, -1.498419024882172, 2.255904266090674, -0.2302591959967517, -0.6209322962615502, 0.49579609306554884, -0.16989586521007646, 0.46588198032360506, -0.909141855445599, -0.0009026500043386546, 0.48123916040588277, 1.118792923213792, -0.4420688885202043, 0.9751416814442033, -0.03744211472540877, -1.778410999950504, -0.6892087536621391, -0.2385350486172311, 0.019730054488734897, 1.6716799790383337, 1.3566170705713458, 0.8873773894586302, -2.0888727474034563, -0.41046309299992867, -0.5549572208662424, -1.5861279398806762, -0.3540634750924586, 0.6090614019865381, 1.2372628555021594, -0.3429623623702404, -0.1606326504345451, 1.622631579628323, 1.0736460288414729, -0.7629319166489795, -0.5029453305115006, 0.1671892839193268, -1.488441025936215, -0.27038751087145, 0.855741339941454, -0.16881176419721813, -0.16170217362603542, 0.9173449807873943], \"y\": [0.3907902707269141, 0.6943603904272828, -0.5795978735730865, 0.813526262604139, 0.7839931065000858, -0.46753196417464715, 1.0359830523535647, -0.00108728024401313, -0.8081899074223791, -1.7047006560220002, -1.2500075128534878, 0.22565379843725744, 0.8538877104205691, -0.010769431923218427, -0.16471091416661995, 1.1532806339771444, -0.3057147481342851, -0.4072257391625898, 0.33177364843814655, -1.9259607592803352, 0.6328208279632327, 0.09822037368245887, 0.22575815059781187, 0.3342337338883107, 0.20918911354792807, 0.7884841767921292, -1.777038244279568, -0.8943194078336356, 0.7836857923081855, 0.6141031111803202, 0.5733925432595015, -0.049455510335339334, 0.9530936899389951, -1.4516704869032073, 0.5115887243863995, 0.6530646533442895, -0.23318159386226586, -1.319150131657982, 0.09463672775412493, 0.23313384209217008, -0.2983196316579245, -0.5678273244648308, 0.16437722381798814, -0.9296545964289905, 1.0922975549754237, -0.38336998654816523, 0.9051218108852752, 0.14618559623315341, 0.31466443511763487, 0.3879173171179358, -0.13602702775758238, -0.20229107248405542, 0.1312551692725429, 0.7657452778482757, -1.2969540759673137, -0.7525532691354485, 0.3375024417733412, -2.152534835068167, -1.2672607327528433, 1.240409131065859, 1.1770976240664932, -1.603010773610958, -0.237769129998576, -0.897073434357532, -0.9488046371465231, 0.6581283215809342, -0.06199463793937336, -0.8913999214397087, 0.4416057732101811, 0.6416648824250734, 1.4767731563075561, -0.8614378000150077, 1.0656352143878887, -1.145896856232693, -0.4880349854953325, 0.5836904660158005, 0.7939388605800349, 1.4499445941855056, 0.9854561681177022, 0.34020877181506953, 0.7235608805617902, 0.5377245985934934, 0.3493967640908654, 1.7702394754577686, -0.03111817077616619, 1.0432325635583046, -0.06443575244437817, -1.1069474415167795, 1.7477037930677306, 1.1762878474972331, 0.29762924979802713, -0.1934011522487943, -1.1299835327263392, 0.25635755789500264, -1.401477366719103, -1.3245095525725623, 0.29160187861069464, 0.6029746174004685, -0.308557547221511, 0.4159428841252249]}],                        {\"legend\": {\"bgcolor\": \"#F5F6F9\", \"font\": {\"color\": \"#4D5663\"}}, \"paper_bgcolor\": \"#F5F6F9\", \"plot_bgcolor\": \"#F5F6F9\", \"template\": {\"data\": {\"bar\": [{\"error_x\": {\"color\": \"#2a3f5f\"}, \"error_y\": {\"color\": \"#2a3f5f\"}, \"marker\": {\"line\": {\"color\": \"#E5ECF6\", \"width\": 0.5}}, \"type\": \"bar\"}], \"barpolar\": [{\"marker\": {\"line\": {\"color\": \"#E5ECF6\", \"width\": 0.5}}, \"type\": \"barpolar\"}], \"carpet\": [{\"aaxis\": {\"endlinecolor\": \"#2a3f5f\", \"gridcolor\": \"white\", \"linecolor\": \"white\", \"minorgridcolor\": \"white\", \"startlinecolor\": \"#2a3f5f\"}, \"baxis\": {\"endlinecolor\": \"#2a3f5f\", \"gridcolor\": \"white\", \"linecolor\": \"white\", \"minorgridcolor\": \"white\", \"startlinecolor\": \"#2a3f5f\"}, \"type\": \"carpet\"}], \"choropleth\": [{\"colorbar\": {\"outlinewidth\": 0, \"ticks\": \"\"}, \"type\": \"choropleth\"}], \"contour\": [{\"colorbar\": {\"outlinewidth\": 0, \"ticks\": \"\"}, \"colorscale\": [[0.0, \"#0d0887\"], [0.1111111111111111, \"#46039f\"], [0.2222222222222222, \"#7201a8\"], [0.3333333333333333, \"#9c179e\"], [0.4444444444444444, \"#bd3786\"], [0.5555555555555556, \"#d8576b\"], [0.6666666666666666, \"#ed7953\"], [0.7777777777777778, \"#fb9f3a\"], [0.8888888888888888, \"#fdca26\"], [1.0, \"#f0f921\"]], \"type\": \"contour\"}], \"contourcarpet\": [{\"colorbar\": {\"outlinewidth\": 0, \"ticks\": \"\"}, \"type\": \"contourcarpet\"}], \"heatmap\": [{\"colorbar\": {\"outlinewidth\": 0, \"ticks\": \"\"}, \"colorscale\": [[0.0, \"#0d0887\"], [0.1111111111111111, \"#46039f\"], [0.2222222222222222, \"#7201a8\"], [0.3333333333333333, \"#9c179e\"], [0.4444444444444444, \"#bd3786\"], [0.5555555555555556, \"#d8576b\"], [0.6666666666666666, \"#ed7953\"], [0.7777777777777778, \"#fb9f3a\"], [0.8888888888888888, \"#fdca26\"], [1.0, \"#f0f921\"]], \"type\": \"heatmap\"}], \"heatmapgl\": [{\"colorbar\": {\"outlinewidth\": 0, \"ticks\": \"\"}, \"colorscale\": [[0.0, \"#0d0887\"], [0.1111111111111111, \"#46039f\"], [0.2222222222222222, \"#7201a8\"], [0.3333333333333333, \"#9c179e\"], [0.4444444444444444, \"#bd3786\"], [0.5555555555555556, \"#d8576b\"], [0.6666666666666666, \"#ed7953\"], [0.7777777777777778, \"#fb9f3a\"], [0.8888888888888888, \"#fdca26\"], [1.0, \"#f0f921\"]], \"type\": \"heatmapgl\"}], \"histogram\": [{\"marker\": {\"colorbar\": {\"outlinewidth\": 0, \"ticks\": \"\"}}, \"type\": \"histogram\"}], \"histogram2d\": [{\"colorbar\": {\"outlinewidth\": 0, \"ticks\": \"\"}, \"colorscale\": [[0.0, \"#0d0887\"], [0.1111111111111111, \"#46039f\"], [0.2222222222222222, \"#7201a8\"], [0.3333333333333333, \"#9c179e\"], [0.4444444444444444, \"#bd3786\"], [0.5555555555555556, \"#d8576b\"], [0.6666666666666666, \"#ed7953\"], [0.7777777777777778, \"#fb9f3a\"], [0.8888888888888888, \"#fdca26\"], [1.0, \"#f0f921\"]], \"type\": \"histogram2d\"}], \"histogram2dcontour\": [{\"colorbar\": {\"outlinewidth\": 0, \"ticks\": \"\"}, \"colorscale\": [[0.0, \"#0d0887\"], [0.1111111111111111, \"#46039f\"], [0.2222222222222222, \"#7201a8\"], [0.3333333333333333, \"#9c179e\"], [0.4444444444444444, \"#bd3786\"], [0.5555555555555556, \"#d8576b\"], [0.6666666666666666, \"#ed7953\"], [0.7777777777777778, \"#fb9f3a\"], [0.8888888888888888, \"#fdca26\"], [1.0, \"#f0f921\"]], \"type\": \"histogram2dcontour\"}], \"mesh3d\": [{\"colorbar\": {\"outlinewidth\": 0, \"ticks\": \"\"}, \"type\": \"mesh3d\"}], \"parcoords\": [{\"line\": {\"colorbar\": {\"outlinewidth\": 0, \"ticks\": \"\"}}, \"type\": \"parcoords\"}], \"pie\": [{\"automargin\": true, \"type\": \"pie\"}], \"scatter\": [{\"marker\": {\"colorbar\": {\"outlinewidth\": 0, \"ticks\": \"\"}}, \"type\": \"scatter\"}], \"scatter3d\": [{\"line\": {\"colorbar\": {\"outlinewidth\": 0, \"ticks\": \"\"}}, \"marker\": {\"colorbar\": {\"outlinewidth\": 0, \"ticks\": \"\"}}, \"type\": \"scatter3d\"}], \"scattercarpet\": [{\"marker\": {\"colorbar\": {\"outlinewidth\": 0, \"ticks\": \"\"}}, \"type\": \"scattercarpet\"}], \"scattergeo\": [{\"marker\": {\"colorbar\": {\"outlinewidth\": 0, \"ticks\": \"\"}}, \"type\": \"scattergeo\"}], \"scattergl\": [{\"marker\": {\"colorbar\": {\"outlinewidth\": 0, \"ticks\": \"\"}}, \"type\": \"scattergl\"}], \"scattermapbox\": [{\"marker\": {\"colorbar\": {\"outlinewidth\": 0, \"ticks\": \"\"}}, \"type\": \"scattermapbox\"}], \"scatterpolar\": [{\"marker\": {\"colorbar\": {\"outlinewidth\": 0, \"ticks\": \"\"}}, \"type\": \"scatterpolar\"}], \"scatterpolargl\": [{\"marker\": {\"colorbar\": {\"outlinewidth\": 0, \"ticks\": \"\"}}, \"type\": \"scatterpolargl\"}], \"scatterternary\": [{\"marker\": {\"colorbar\": {\"outlinewidth\": 0, \"ticks\": \"\"}}, \"type\": \"scatterternary\"}], \"surface\": [{\"colorbar\": {\"outlinewidth\": 0, \"ticks\": \"\"}, \"colorscale\": [[0.0, \"#0d0887\"], [0.1111111111111111, \"#46039f\"], [0.2222222222222222, \"#7201a8\"], [0.3333333333333333, \"#9c179e\"], [0.4444444444444444, \"#bd3786\"], [0.5555555555555556, \"#d8576b\"], [0.6666666666666666, \"#ed7953\"], [0.7777777777777778, \"#fb9f3a\"], [0.8888888888888888, \"#fdca26\"], [1.0, \"#f0f921\"]], \"type\": \"surface\"}], \"table\": [{\"cells\": {\"fill\": {\"color\": \"#EBF0F8\"}, \"line\": {\"color\": \"white\"}}, \"header\": {\"fill\": {\"color\": \"#C8D4E3\"}, \"line\": {\"color\": \"white\"}}, \"type\": \"table\"}]}, \"layout\": {\"annotationdefaults\": {\"arrowcolor\": \"#2a3f5f\", \"arrowhead\": 0, \"arrowwidth\": 1}, \"autotypenumbers\": \"strict\", \"coloraxis\": {\"colorbar\": {\"outlinewidth\": 0, \"ticks\": \"\"}}, \"colorscale\": {\"diverging\": [[0, \"#8e0152\"], [0.1, \"#c51b7d\"], [0.2, \"#de77ae\"], [0.3, \"#f1b6da\"], [0.4, \"#fde0ef\"], [0.5, \"#f7f7f7\"], [0.6, \"#e6f5d0\"], [0.7, \"#b8e186\"], [0.8, \"#7fbc41\"], [0.9, \"#4d9221\"], [1, \"#276419\"]], \"sequential\": [[0.0, \"#0d0887\"], [0.1111111111111111, \"#46039f\"], [0.2222222222222222, \"#7201a8\"], [0.3333333333333333, \"#9c179e\"], [0.4444444444444444, \"#bd3786\"], [0.5555555555555556, \"#d8576b\"], [0.6666666666666666, \"#ed7953\"], [0.7777777777777778, \"#fb9f3a\"], [0.8888888888888888, \"#fdca26\"], [1.0, \"#f0f921\"]], \"sequentialminus\": [[0.0, \"#0d0887\"], [0.1111111111111111, \"#46039f\"], [0.2222222222222222, \"#7201a8\"], [0.3333333333333333, \"#9c179e\"], [0.4444444444444444, \"#bd3786\"], [0.5555555555555556, \"#d8576b\"], [0.6666666666666666, \"#ed7953\"], [0.7777777777777778, \"#fb9f3a\"], [0.8888888888888888, \"#fdca26\"], [1.0, \"#f0f921\"]]}, \"colorway\": [\"#636efa\", \"#EF553B\", \"#00cc96\", \"#ab63fa\", \"#FFA15A\", \"#19d3f3\", \"#FF6692\", \"#B6E880\", \"#FF97FF\", \"#FECB52\"], \"font\": {\"color\": \"#2a3f5f\"}, \"geo\": {\"bgcolor\": \"white\", \"lakecolor\": \"white\", \"landcolor\": \"#E5ECF6\", \"showlakes\": true, \"showland\": true, \"subunitcolor\": \"white\"}, \"hoverlabel\": {\"align\": \"left\"}, \"hovermode\": \"closest\", \"mapbox\": {\"style\": \"light\"}, \"paper_bgcolor\": \"white\", \"plot_bgcolor\": \"#E5ECF6\", \"polar\": {\"angularaxis\": {\"gridcolor\": \"white\", \"linecolor\": \"white\", \"ticks\": \"\"}, \"bgcolor\": \"#E5ECF6\", \"radialaxis\": {\"gridcolor\": \"white\", \"linecolor\": \"white\", \"ticks\": \"\"}}, \"scene\": {\"xaxis\": {\"backgroundcolor\": \"#E5ECF6\", \"gridcolor\": \"white\", \"gridwidth\": 2, \"linecolor\": \"white\", \"showbackground\": true, \"ticks\": \"\", \"zerolinecolor\": \"white\"}, \"yaxis\": {\"backgroundcolor\": \"#E5ECF6\", \"gridcolor\": \"white\", \"gridwidth\": 2, \"linecolor\": \"white\", \"showbackground\": true, \"ticks\": \"\", \"zerolinecolor\": \"white\"}, \"zaxis\": {\"backgroundcolor\": \"#E5ECF6\", \"gridcolor\": \"white\", \"gridwidth\": 2, \"linecolor\": \"white\", \"showbackground\": true, \"ticks\": \"\", \"zerolinecolor\": \"white\"}}, \"shapedefaults\": {\"line\": {\"color\": \"#2a3f5f\"}}, \"ternary\": {\"aaxis\": {\"gridcolor\": \"white\", \"linecolor\": \"white\", \"ticks\": \"\"}, \"baxis\": {\"gridcolor\": \"white\", \"linecolor\": \"white\", \"ticks\": \"\"}, \"bgcolor\": \"#E5ECF6\", \"caxis\": {\"gridcolor\": \"white\", \"linecolor\": \"white\", \"ticks\": \"\"}}, \"title\": {\"x\": 0.05}, \"xaxis\": {\"automargin\": true, \"gridcolor\": \"white\", \"linecolor\": \"white\", \"ticks\": \"\", \"title\": {\"standoff\": 15}, \"zerolinecolor\": \"white\", \"zerolinewidth\": 2}, \"yaxis\": {\"automargin\": true, \"gridcolor\": \"white\", \"linecolor\": \"white\", \"ticks\": \"\", \"title\": {\"standoff\": 15}, \"zerolinecolor\": \"white\", \"zerolinewidth\": 2}}}, \"title\": {\"font\": {\"color\": \"#4D5663\"}}, \"xaxis\": {\"gridcolor\": \"#E1E5ED\", \"showgrid\": true, \"tickfont\": {\"color\": \"#4D5663\"}, \"title\": {\"font\": {\"color\": \"#4D5663\"}, \"text\": \"\"}, \"zerolinecolor\": \"#E1E5ED\"}, \"yaxis\": {\"gridcolor\": \"#E1E5ED\", \"showgrid\": true, \"tickfont\": {\"color\": \"#4D5663\"}, \"title\": {\"font\": {\"color\": \"#4D5663\"}, \"text\": \"\"}, \"zerolinecolor\": \"#E1E5ED\"}},                        {\"showLink\": true, \"linkText\": \"Export to plot.ly\", \"plotlyServerURL\": \"https://plot.ly\", \"responsive\": true}                    ).then(function(){\n",
       "                            \n",
       "var gd = document.getElementById('ae31eb8f-4666-45ed-85c9-45e37d99cdcb');\n",
       "var x = new MutationObserver(function (mutations, observer) {{\n",
       "        var display = window.getComputedStyle(gd).display;\n",
       "        if (!display || display === 'none') {{\n",
       "            console.log([gd, 'removed!']);\n",
       "            Plotly.purge(gd);\n",
       "            observer.disconnect();\n",
       "        }}\n",
       "}});\n",
       "\n",
       "// Listen for the removal of the full notebook cells\n",
       "var notebookContainer = gd.closest('#notebook-container');\n",
       "if (notebookContainer) {{\n",
       "    x.observe(notebookContainer, {childList: true});\n",
       "}}\n",
       "\n",
       "// Listen for the clearing of the current output cell\n",
       "var outputEl = gd.closest('.output');\n",
       "if (outputEl) {{\n",
       "    x.observe(outputEl, {childList: true});\n",
       "}}\n",
       "\n",
       "                        })                };                });            </script>        </div>"
      ]
     },
     "metadata": {},
     "output_type": "display_data"
    }
   ],
   "source": [
    "df.iplot(kind = 'bubble', x = 'A', y = 'B', size = 'C')"
   ]
  },
  {
   "cell_type": "markdown",
   "metadata": {},
   "source": [
    "### Scatter Matrix"
   ]
  },
  {
   "cell_type": "code",
   "execution_count": 15,
   "metadata": {},
   "outputs": [
    {
     "data": {
      "application/vnd.plotly.v1+json": {
       "config": {
        "linkText": "Export to plot.ly",
        "plotlyServerURL": "https://plot.ly",
        "showLink": true
       },
       "data": [
        {
         "histfunc": "count",
         "histnorm": "",
         "marker": {
          "color": "rgba(255, 153, 51, 1.0)",
          "line": {
           "color": "#4D5663",
           "width": 1.3
          }
         },
         "name": "A",
         "nbinsx": 10,
         "opacity": 0.8,
         "orientation": "v",
         "type": "histogram",
         "x": [
          -1.4610241031401339,
          0.09525150167714372,
          -0.029203584395679657,
          -0.014015621374794238,
          1.3061216714143065,
          -0.31702307455461454,
          -1.1289839361958052,
          -0.13699963759455056,
          -0.6639938504440216,
          0.9470923910686199,
          1.553358059937682,
          0.05045164189835665,
          0.05751000634937235,
          2.1315144223408105,
          0.46274757495098084,
          -0.17673927911072126,
          -0.4606921426908111,
          -0.43086281676434296,
          -2.1264803113550594,
          0.001056488752819712,
          -0.3059598987663699,
          0.9662890754859629,
          0.2510262672230263,
          -0.9617278560791738,
          0.048995145654571845,
          -1.0209156821548113,
          -0.5691472839815525,
          0.4996248117695914,
          0.4464570983716666,
          -0.16336359024926198,
          1.262599325533162,
          -0.38117396654870617,
          0.6470503045744972,
          1.98286394042055,
          0.3984834505594768,
          0.7771765568436815,
          0.6232338000739429,
          1.167642598764409,
          -0.6183478391013726,
          1.2230733527522957,
          0.502339193606301,
          -1.1320171943548307,
          -0.7080909329004074,
          1.2718460327483254,
          -1.485782893035162,
          0.4319773772095389,
          0.362675989804671,
          1.4424577308111275,
          0.32319678124815143,
          -1.1700283154363498,
          1.8634674399731277,
          1.3157150735096061,
          -1.0097525209274345,
          -1.8188977326440103,
          0.32593373911336543,
          0.5229234346569209,
          -0.11081787742866657,
          -0.4975140914807007,
          -1.2059467191465185,
          -1.498419024882172,
          2.255904266090674,
          -0.2302591959967517,
          -0.6209322962615502,
          0.49579609306554884,
          -0.16989586521007646,
          0.46588198032360506,
          -0.909141855445599,
          -0.0009026500043386546,
          0.48123916040588277,
          1.118792923213792,
          -0.4420688885202043,
          0.9751416814442033,
          -0.03744211472540877,
          -1.778410999950504,
          -0.6892087536621391,
          -0.2385350486172311,
          0.019730054488734897,
          1.6716799790383337,
          1.3566170705713458,
          0.8873773894586302,
          -2.0888727474034563,
          -0.41046309299992867,
          -0.5549572208662424,
          -1.5861279398806762,
          -0.3540634750924586,
          0.6090614019865381,
          1.2372628555021594,
          -0.3429623623702404,
          -0.1606326504345451,
          1.622631579628323,
          1.0736460288414729,
          -0.7629319166489795,
          -0.5029453305115006,
          0.1671892839193268,
          -1.488441025936215,
          -0.27038751087145,
          0.855741339941454,
          -0.16881176419721813,
          -0.16170217362603542,
          0.9173449807873943
         ],
         "xaxis": "x",
         "yaxis": "y"
        },
        {
         "line": {
          "color": "rgba(128, 128, 128, 1.0)",
          "dash": "solid",
          "shape": "linear",
          "width": 1.3
         },
         "marker": {
          "size": 2,
          "symbol": "circle"
         },
         "mode": "markers",
         "name": "A",
         "text": "",
         "type": "scatter",
         "x": [
          0.3907902707269141,
          0.6943603904272828,
          -0.5795978735730865,
          0.813526262604139,
          0.7839931065000858,
          -0.46753196417464715,
          1.0359830523535647,
          -0.00108728024401313,
          -0.8081899074223791,
          -1.7047006560220002,
          -1.2500075128534878,
          0.22565379843725744,
          0.8538877104205691,
          -0.010769431923218427,
          -0.16471091416661995,
          1.1532806339771444,
          -0.3057147481342851,
          -0.4072257391625898,
          0.33177364843814655,
          -1.9259607592803352,
          0.6328208279632327,
          0.09822037368245887,
          0.22575815059781187,
          0.3342337338883107,
          0.20918911354792807,
          0.7884841767921292,
          -1.777038244279568,
          -0.8943194078336356,
          0.7836857923081855,
          0.6141031111803202,
          0.5733925432595015,
          -0.049455510335339334,
          0.9530936899389951,
          -1.4516704869032073,
          0.5115887243863995,
          0.6530646533442895,
          -0.23318159386226586,
          -1.319150131657982,
          0.09463672775412493,
          0.23313384209217008,
          -0.2983196316579245,
          -0.5678273244648308,
          0.16437722381798814,
          -0.9296545964289905,
          1.0922975549754237,
          -0.38336998654816523,
          0.9051218108852752,
          0.14618559623315341,
          0.31466443511763487,
          0.3879173171179358,
          -0.13602702775758238,
          -0.20229107248405542,
          0.1312551692725429,
          0.7657452778482757,
          -1.2969540759673137,
          -0.7525532691354485,
          0.3375024417733412,
          -2.152534835068167,
          -1.2672607327528433,
          1.240409131065859,
          1.1770976240664932,
          -1.603010773610958,
          -0.237769129998576,
          -0.897073434357532,
          -0.9488046371465231,
          0.6581283215809342,
          -0.06199463793937336,
          -0.8913999214397087,
          0.4416057732101811,
          0.6416648824250734,
          1.4767731563075561,
          -0.8614378000150077,
          1.0656352143878887,
          -1.145896856232693,
          -0.4880349854953325,
          0.5836904660158005,
          0.7939388605800349,
          1.4499445941855056,
          0.9854561681177022,
          0.34020877181506953,
          0.7235608805617902,
          0.5377245985934934,
          0.3493967640908654,
          1.7702394754577686,
          -0.03111817077616619,
          1.0432325635583046,
          -0.06443575244437817,
          -1.1069474415167795,
          1.7477037930677306,
          1.1762878474972331,
          0.29762924979802713,
          -0.1934011522487943,
          -1.1299835327263392,
          0.25635755789500264,
          -1.401477366719103,
          -1.3245095525725623,
          0.29160187861069464,
          0.6029746174004685,
          -0.308557547221511,
          0.4159428841252249
         ],
         "xaxis": "x2",
         "y": [
          -1.4610241031401339,
          0.09525150167714372,
          -0.029203584395679657,
          -0.014015621374794238,
          1.3061216714143065,
          -0.31702307455461454,
          -1.1289839361958052,
          -0.13699963759455056,
          -0.6639938504440216,
          0.9470923910686199,
          1.553358059937682,
          0.05045164189835665,
          0.05751000634937235,
          2.1315144223408105,
          0.46274757495098084,
          -0.17673927911072126,
          -0.4606921426908111,
          -0.43086281676434296,
          -2.1264803113550594,
          0.001056488752819712,
          -0.3059598987663699,
          0.9662890754859629,
          0.2510262672230263,
          -0.9617278560791738,
          0.048995145654571845,
          -1.0209156821548113,
          -0.5691472839815525,
          0.4996248117695914,
          0.4464570983716666,
          -0.16336359024926198,
          1.262599325533162,
          -0.38117396654870617,
          0.6470503045744972,
          1.98286394042055,
          0.3984834505594768,
          0.7771765568436815,
          0.6232338000739429,
          1.167642598764409,
          -0.6183478391013726,
          1.2230733527522957,
          0.502339193606301,
          -1.1320171943548307,
          -0.7080909329004074,
          1.2718460327483254,
          -1.485782893035162,
          0.4319773772095389,
          0.362675989804671,
          1.4424577308111275,
          0.32319678124815143,
          -1.1700283154363498,
          1.8634674399731277,
          1.3157150735096061,
          -1.0097525209274345,
          -1.8188977326440103,
          0.32593373911336543,
          0.5229234346569209,
          -0.11081787742866657,
          -0.4975140914807007,
          -1.2059467191465185,
          -1.498419024882172,
          2.255904266090674,
          -0.2302591959967517,
          -0.6209322962615502,
          0.49579609306554884,
          -0.16989586521007646,
          0.46588198032360506,
          -0.909141855445599,
          -0.0009026500043386546,
          0.48123916040588277,
          1.118792923213792,
          -0.4420688885202043,
          0.9751416814442033,
          -0.03744211472540877,
          -1.778410999950504,
          -0.6892087536621391,
          -0.2385350486172311,
          0.019730054488734897,
          1.6716799790383337,
          1.3566170705713458,
          0.8873773894586302,
          -2.0888727474034563,
          -0.41046309299992867,
          -0.5549572208662424,
          -1.5861279398806762,
          -0.3540634750924586,
          0.6090614019865381,
          1.2372628555021594,
          -0.3429623623702404,
          -0.1606326504345451,
          1.622631579628323,
          1.0736460288414729,
          -0.7629319166489795,
          -0.5029453305115006,
          0.1671892839193268,
          -1.488441025936215,
          -0.27038751087145,
          0.855741339941454,
          -0.16881176419721813,
          -0.16170217362603542,
          0.9173449807873943
         ],
         "yaxis": "y2"
        },
        {
         "line": {
          "color": "rgba(128, 128, 128, 1.0)",
          "dash": "solid",
          "shape": "linear",
          "width": 1.3
         },
         "marker": {
          "size": 2,
          "symbol": "circle"
         },
         "mode": "markers",
         "name": "A",
         "text": "",
         "type": "scatter",
         "x": [
          -1.588518383084947,
          -0.25510529051838327,
          0.07843303965625309,
          0.3864557819134835,
          -1.09744143252163,
          1.1804110069207534,
          -0.7433800204601851,
          0.5753073643150647,
          -0.46313790316926323,
          0.6543869181485661,
          0.6265824877282654,
          -0.4539417662001653,
          0.6696234450850123,
          0.13069696307258144,
          -0.8867305435232409,
          -0.6250839491644894,
          1.0097934384872906,
          1.9023000035376307,
          1.7009009639164385,
          -1.8411330536034713,
          -0.47464795002036747,
          -0.9982558219884498,
          1.8344684902582309,
          0.8192994654140996,
          -0.8335570745722221,
          -0.23972422219611114,
          0.1689960648817115,
          0.4698304057186679,
          -0.013340480348581244,
          -0.028051963281221937,
          0.38398107818510635,
          0.3937260257823908,
          -0.8123063459709408,
          -0.9993012029697024,
          -0.4152564075921749,
          0.3655373303202848,
          -0.043408441663682476,
          -1.0443853502640081,
          -0.9698020566137836,
          0.12256429336064191,
          0.7356745185567378,
          0.575392072982969,
          -0.33123080036967556,
          -1.185948457910172,
          -0.6111894681016925,
          -0.7945882795982716,
          0.5020861788162949,
          -0.1578308254726711,
          -0.9869183983562312,
          1.746200868438099,
          -0.37595688343323813,
          0.13280117462258295,
          1.2265259236048744,
          0.2244340472116479,
          -1.8036664717250686,
          -0.29766457443473365,
          0.5642521475493323,
          -0.5371447741300974,
          -1.1965527481693412,
          1.1718385463743948,
          -0.3213005093326319,
          2.4843766032829118,
          2.3103908916350133,
          -0.9451710303787467,
          0.6571154746001218,
          1.316173218583312,
          0.8330088624591149,
          1.13092757585928,
          -0.27272341394384453,
          0.4644537032765058,
          0.07189971278123376,
          -0.9570518724398468,
          0.44241242036356343,
          0.005593809973949465,
          -1.0127649251581823,
          0.3006123624304811,
          1.3744735827062333,
          0.038622245321359334,
          -0.9452780090729435,
          2.0136519003518596,
          -0.004495202845143408,
          -0.25759335648309745,
          -1.1260013746246536,
          -0.5944480194050978,
          1.6056735328339102,
          1.19511407121231,
          1.6153785450405376,
          -1.6932136658370074,
          -1.42390606086027,
          -0.4094603926470258,
          1.0082761168261307,
          0.2867048729727579,
          -0.4317049721677748,
          -1.7372064120191864,
          -0.10308707131192661,
          -0.46464036309498136,
          0.8341943684669411,
          -1.9737194064119694,
          -1.99139390644937,
          1.2455026058183056
         ],
         "xaxis": "x3",
         "y": [
          -1.4610241031401339,
          0.09525150167714372,
          -0.029203584395679657,
          -0.014015621374794238,
          1.3061216714143065,
          -0.31702307455461454,
          -1.1289839361958052,
          -0.13699963759455056,
          -0.6639938504440216,
          0.9470923910686199,
          1.553358059937682,
          0.05045164189835665,
          0.05751000634937235,
          2.1315144223408105,
          0.46274757495098084,
          -0.17673927911072126,
          -0.4606921426908111,
          -0.43086281676434296,
          -2.1264803113550594,
          0.001056488752819712,
          -0.3059598987663699,
          0.9662890754859629,
          0.2510262672230263,
          -0.9617278560791738,
          0.048995145654571845,
          -1.0209156821548113,
          -0.5691472839815525,
          0.4996248117695914,
          0.4464570983716666,
          -0.16336359024926198,
          1.262599325533162,
          -0.38117396654870617,
          0.6470503045744972,
          1.98286394042055,
          0.3984834505594768,
          0.7771765568436815,
          0.6232338000739429,
          1.167642598764409,
          -0.6183478391013726,
          1.2230733527522957,
          0.502339193606301,
          -1.1320171943548307,
          -0.7080909329004074,
          1.2718460327483254,
          -1.485782893035162,
          0.4319773772095389,
          0.362675989804671,
          1.4424577308111275,
          0.32319678124815143,
          -1.1700283154363498,
          1.8634674399731277,
          1.3157150735096061,
          -1.0097525209274345,
          -1.8188977326440103,
          0.32593373911336543,
          0.5229234346569209,
          -0.11081787742866657,
          -0.4975140914807007,
          -1.2059467191465185,
          -1.498419024882172,
          2.255904266090674,
          -0.2302591959967517,
          -0.6209322962615502,
          0.49579609306554884,
          -0.16989586521007646,
          0.46588198032360506,
          -0.909141855445599,
          -0.0009026500043386546,
          0.48123916040588277,
          1.118792923213792,
          -0.4420688885202043,
          0.9751416814442033,
          -0.03744211472540877,
          -1.778410999950504,
          -0.6892087536621391,
          -0.2385350486172311,
          0.019730054488734897,
          1.6716799790383337,
          1.3566170705713458,
          0.8873773894586302,
          -2.0888727474034563,
          -0.41046309299992867,
          -0.5549572208662424,
          -1.5861279398806762,
          -0.3540634750924586,
          0.6090614019865381,
          1.2372628555021594,
          -0.3429623623702404,
          -0.1606326504345451,
          1.622631579628323,
          1.0736460288414729,
          -0.7629319166489795,
          -0.5029453305115006,
          0.1671892839193268,
          -1.488441025936215,
          -0.27038751087145,
          0.855741339941454,
          -0.16881176419721813,
          -0.16170217362603542,
          0.9173449807873943
         ],
         "yaxis": "y3"
        },
        {
         "line": {
          "color": "rgba(128, 128, 128, 1.0)",
          "dash": "solid",
          "shape": "linear",
          "width": 1.3
         },
         "marker": {
          "size": 2,
          "symbol": "circle"
         },
         "mode": "markers",
         "name": "A",
         "text": "",
         "type": "scatter",
         "x": [
          -0.20308556376547537,
          0.19762469288020745,
          0.6704321743135898,
          -0.5986241735582623,
          -0.25759095692230527,
          -0.05747054214033602,
          -0.932710350273873,
          -1.0441315195474943,
          0.1128314687479193,
          0.7892422787785415,
          0.0852285295692371,
          0.35126214936583744,
          1.8544165399332506,
          -1.4673580200808247,
          -1.7083706335257736,
          -1.272795966352538,
          0.13657404929718472,
          1.1088686376416257,
          1.0360806444077852,
          -0.07457436081638934,
          -0.8044809295312358,
          -0.04828532842693859,
          0.6593850434257252,
          -0.5658765585099089,
          0.3423078664072504,
          -0.003085031082305999,
          2.018187586743007,
          0.6185980152915729,
          1.7584542986691818,
          -1.5477793170953247,
          0.8468774185788381,
          1.2440610988793863,
          0.7117036625565885,
          1.240570040540003,
          0.45794955761531136,
          1.0647416762047635,
          -1.062620249089035,
          -0.6239492223248511,
          1.6340455586893559,
          -0.46932216668858123,
          0.10982913026295896,
          -2.606475104184327,
          0.661850506062008,
          -0.811975012976815,
          -0.31238136540442235,
          -0.9920729069399843,
          -0.8151321623577781,
          -1.0660483059432084,
          -1.3513103796811499,
          -0.5096993775872938,
          -0.3423963630383938,
          1.0890607235567875,
          1.412582216775854,
          -0.5745153951129882,
          -0.09471548014551695,
          -1.2274900693742057,
          0.9913406461115387,
          1.2857250242618052,
          -1.4220485699165202,
          -0.20751562677718327,
          1.269516515414513,
          1.7630631587377619,
          -0.3405730854733291,
          -0.6243236780693461,
          1.7062622406008303,
          -0.009716789825434882,
          0.18580110459527216,
          0.6066014190421658,
          -0.21684318444156456,
          0.8902856548059778,
          1.0594853835375297,
          -1.3427659913083283,
          -0.9249466420264154,
          -0.4736042418071167,
          0.5978483667104654,
          0.303287016773075,
          -1.5996703832688668,
          -0.4497857200657572,
          -1.8590951581175674,
          0.38249787592501855,
          0.43651573957238776,
          -0.6695674403809402,
          1.032013861089123,
          1.035662317354519,
          -0.016073852149997993,
          -0.564809977687965,
          -0.7205227740745791,
          -0.2209884244788965,
          -0.7201406209581277,
          -0.02057371877325681,
          -1.8582243694386562,
          0.1733246814087179,
          -0.7227674162352797,
          0.2981652039556083,
          -1.921240770994483,
          0.9118896914002779,
          0.6163142733027049,
          0.02393141056674211,
          1.186154597115317,
          0.580847168673218
         ],
         "xaxis": "x4",
         "y": [
          -1.4610241031401339,
          0.09525150167714372,
          -0.029203584395679657,
          -0.014015621374794238,
          1.3061216714143065,
          -0.31702307455461454,
          -1.1289839361958052,
          -0.13699963759455056,
          -0.6639938504440216,
          0.9470923910686199,
          1.553358059937682,
          0.05045164189835665,
          0.05751000634937235,
          2.1315144223408105,
          0.46274757495098084,
          -0.17673927911072126,
          -0.4606921426908111,
          -0.43086281676434296,
          -2.1264803113550594,
          0.001056488752819712,
          -0.3059598987663699,
          0.9662890754859629,
          0.2510262672230263,
          -0.9617278560791738,
          0.048995145654571845,
          -1.0209156821548113,
          -0.5691472839815525,
          0.4996248117695914,
          0.4464570983716666,
          -0.16336359024926198,
          1.262599325533162,
          -0.38117396654870617,
          0.6470503045744972,
          1.98286394042055,
          0.3984834505594768,
          0.7771765568436815,
          0.6232338000739429,
          1.167642598764409,
          -0.6183478391013726,
          1.2230733527522957,
          0.502339193606301,
          -1.1320171943548307,
          -0.7080909329004074,
          1.2718460327483254,
          -1.485782893035162,
          0.4319773772095389,
          0.362675989804671,
          1.4424577308111275,
          0.32319678124815143,
          -1.1700283154363498,
          1.8634674399731277,
          1.3157150735096061,
          -1.0097525209274345,
          -1.8188977326440103,
          0.32593373911336543,
          0.5229234346569209,
          -0.11081787742866657,
          -0.4975140914807007,
          -1.2059467191465185,
          -1.498419024882172,
          2.255904266090674,
          -0.2302591959967517,
          -0.6209322962615502,
          0.49579609306554884,
          -0.16989586521007646,
          0.46588198032360506,
          -0.909141855445599,
          -0.0009026500043386546,
          0.48123916040588277,
          1.118792923213792,
          -0.4420688885202043,
          0.9751416814442033,
          -0.03744211472540877,
          -1.778410999950504,
          -0.6892087536621391,
          -0.2385350486172311,
          0.019730054488734897,
          1.6716799790383337,
          1.3566170705713458,
          0.8873773894586302,
          -2.0888727474034563,
          -0.41046309299992867,
          -0.5549572208662424,
          -1.5861279398806762,
          -0.3540634750924586,
          0.6090614019865381,
          1.2372628555021594,
          -0.3429623623702404,
          -0.1606326504345451,
          1.622631579628323,
          1.0736460288414729,
          -0.7629319166489795,
          -0.5029453305115006,
          0.1671892839193268,
          -1.488441025936215,
          -0.27038751087145,
          0.855741339941454,
          -0.16881176419721813,
          -0.16170217362603542,
          0.9173449807873943
         ],
         "yaxis": "y4"
        },
        {
         "line": {
          "color": "rgba(128, 128, 128, 1.0)",
          "dash": "solid",
          "shape": "linear",
          "width": 1.3
         },
         "marker": {
          "size": 2,
          "symbol": "circle"
         },
         "mode": "markers",
         "name": "B",
         "text": "",
         "type": "scatter",
         "x": [
          -1.4610241031401339,
          0.09525150167714372,
          -0.029203584395679657,
          -0.014015621374794238,
          1.3061216714143065,
          -0.31702307455461454,
          -1.1289839361958052,
          -0.13699963759455056,
          -0.6639938504440216,
          0.9470923910686199,
          1.553358059937682,
          0.05045164189835665,
          0.05751000634937235,
          2.1315144223408105,
          0.46274757495098084,
          -0.17673927911072126,
          -0.4606921426908111,
          -0.43086281676434296,
          -2.1264803113550594,
          0.001056488752819712,
          -0.3059598987663699,
          0.9662890754859629,
          0.2510262672230263,
          -0.9617278560791738,
          0.048995145654571845,
          -1.0209156821548113,
          -0.5691472839815525,
          0.4996248117695914,
          0.4464570983716666,
          -0.16336359024926198,
          1.262599325533162,
          -0.38117396654870617,
          0.6470503045744972,
          1.98286394042055,
          0.3984834505594768,
          0.7771765568436815,
          0.6232338000739429,
          1.167642598764409,
          -0.6183478391013726,
          1.2230733527522957,
          0.502339193606301,
          -1.1320171943548307,
          -0.7080909329004074,
          1.2718460327483254,
          -1.485782893035162,
          0.4319773772095389,
          0.362675989804671,
          1.4424577308111275,
          0.32319678124815143,
          -1.1700283154363498,
          1.8634674399731277,
          1.3157150735096061,
          -1.0097525209274345,
          -1.8188977326440103,
          0.32593373911336543,
          0.5229234346569209,
          -0.11081787742866657,
          -0.4975140914807007,
          -1.2059467191465185,
          -1.498419024882172,
          2.255904266090674,
          -0.2302591959967517,
          -0.6209322962615502,
          0.49579609306554884,
          -0.16989586521007646,
          0.46588198032360506,
          -0.909141855445599,
          -0.0009026500043386546,
          0.48123916040588277,
          1.118792923213792,
          -0.4420688885202043,
          0.9751416814442033,
          -0.03744211472540877,
          -1.778410999950504,
          -0.6892087536621391,
          -0.2385350486172311,
          0.019730054488734897,
          1.6716799790383337,
          1.3566170705713458,
          0.8873773894586302,
          -2.0888727474034563,
          -0.41046309299992867,
          -0.5549572208662424,
          -1.5861279398806762,
          -0.3540634750924586,
          0.6090614019865381,
          1.2372628555021594,
          -0.3429623623702404,
          -0.1606326504345451,
          1.622631579628323,
          1.0736460288414729,
          -0.7629319166489795,
          -0.5029453305115006,
          0.1671892839193268,
          -1.488441025936215,
          -0.27038751087145,
          0.855741339941454,
          -0.16881176419721813,
          -0.16170217362603542,
          0.9173449807873943
         ],
         "xaxis": "x5",
         "y": [
          0.3907902707269141,
          0.6943603904272828,
          -0.5795978735730865,
          0.813526262604139,
          0.7839931065000858,
          -0.46753196417464715,
          1.0359830523535647,
          -0.00108728024401313,
          -0.8081899074223791,
          -1.7047006560220002,
          -1.2500075128534878,
          0.22565379843725744,
          0.8538877104205691,
          -0.010769431923218427,
          -0.16471091416661995,
          1.1532806339771444,
          -0.3057147481342851,
          -0.4072257391625898,
          0.33177364843814655,
          -1.9259607592803352,
          0.6328208279632327,
          0.09822037368245887,
          0.22575815059781187,
          0.3342337338883107,
          0.20918911354792807,
          0.7884841767921292,
          -1.777038244279568,
          -0.8943194078336356,
          0.7836857923081855,
          0.6141031111803202,
          0.5733925432595015,
          -0.049455510335339334,
          0.9530936899389951,
          -1.4516704869032073,
          0.5115887243863995,
          0.6530646533442895,
          -0.23318159386226586,
          -1.319150131657982,
          0.09463672775412493,
          0.23313384209217008,
          -0.2983196316579245,
          -0.5678273244648308,
          0.16437722381798814,
          -0.9296545964289905,
          1.0922975549754237,
          -0.38336998654816523,
          0.9051218108852752,
          0.14618559623315341,
          0.31466443511763487,
          0.3879173171179358,
          -0.13602702775758238,
          -0.20229107248405542,
          0.1312551692725429,
          0.7657452778482757,
          -1.2969540759673137,
          -0.7525532691354485,
          0.3375024417733412,
          -2.152534835068167,
          -1.2672607327528433,
          1.240409131065859,
          1.1770976240664932,
          -1.603010773610958,
          -0.237769129998576,
          -0.897073434357532,
          -0.9488046371465231,
          0.6581283215809342,
          -0.06199463793937336,
          -0.8913999214397087,
          0.4416057732101811,
          0.6416648824250734,
          1.4767731563075561,
          -0.8614378000150077,
          1.0656352143878887,
          -1.145896856232693,
          -0.4880349854953325,
          0.5836904660158005,
          0.7939388605800349,
          1.4499445941855056,
          0.9854561681177022,
          0.34020877181506953,
          0.7235608805617902,
          0.5377245985934934,
          0.3493967640908654,
          1.7702394754577686,
          -0.03111817077616619,
          1.0432325635583046,
          -0.06443575244437817,
          -1.1069474415167795,
          1.7477037930677306,
          1.1762878474972331,
          0.29762924979802713,
          -0.1934011522487943,
          -1.1299835327263392,
          0.25635755789500264,
          -1.401477366719103,
          -1.3245095525725623,
          0.29160187861069464,
          0.6029746174004685,
          -0.308557547221511,
          0.4159428841252249
         ],
         "yaxis": "y5"
        },
        {
         "histfunc": "count",
         "histnorm": "",
         "marker": {
          "color": "rgba(55, 128, 191, 1.0)",
          "line": {
           "color": "#4D5663",
           "width": 1.3
          }
         },
         "name": "B",
         "nbinsx": 10,
         "opacity": 0.8,
         "orientation": "v",
         "type": "histogram",
         "x": [
          0.3907902707269141,
          0.6943603904272828,
          -0.5795978735730865,
          0.813526262604139,
          0.7839931065000858,
          -0.46753196417464715,
          1.0359830523535647,
          -0.00108728024401313,
          -0.8081899074223791,
          -1.7047006560220002,
          -1.2500075128534878,
          0.22565379843725744,
          0.8538877104205691,
          -0.010769431923218427,
          -0.16471091416661995,
          1.1532806339771444,
          -0.3057147481342851,
          -0.4072257391625898,
          0.33177364843814655,
          -1.9259607592803352,
          0.6328208279632327,
          0.09822037368245887,
          0.22575815059781187,
          0.3342337338883107,
          0.20918911354792807,
          0.7884841767921292,
          -1.777038244279568,
          -0.8943194078336356,
          0.7836857923081855,
          0.6141031111803202,
          0.5733925432595015,
          -0.049455510335339334,
          0.9530936899389951,
          -1.4516704869032073,
          0.5115887243863995,
          0.6530646533442895,
          -0.23318159386226586,
          -1.319150131657982,
          0.09463672775412493,
          0.23313384209217008,
          -0.2983196316579245,
          -0.5678273244648308,
          0.16437722381798814,
          -0.9296545964289905,
          1.0922975549754237,
          -0.38336998654816523,
          0.9051218108852752,
          0.14618559623315341,
          0.31466443511763487,
          0.3879173171179358,
          -0.13602702775758238,
          -0.20229107248405542,
          0.1312551692725429,
          0.7657452778482757,
          -1.2969540759673137,
          -0.7525532691354485,
          0.3375024417733412,
          -2.152534835068167,
          -1.2672607327528433,
          1.240409131065859,
          1.1770976240664932,
          -1.603010773610958,
          -0.237769129998576,
          -0.897073434357532,
          -0.9488046371465231,
          0.6581283215809342,
          -0.06199463793937336,
          -0.8913999214397087,
          0.4416057732101811,
          0.6416648824250734,
          1.4767731563075561,
          -0.8614378000150077,
          1.0656352143878887,
          -1.145896856232693,
          -0.4880349854953325,
          0.5836904660158005,
          0.7939388605800349,
          1.4499445941855056,
          0.9854561681177022,
          0.34020877181506953,
          0.7235608805617902,
          0.5377245985934934,
          0.3493967640908654,
          1.7702394754577686,
          -0.03111817077616619,
          1.0432325635583046,
          -0.06443575244437817,
          -1.1069474415167795,
          1.7477037930677306,
          1.1762878474972331,
          0.29762924979802713,
          -0.1934011522487943,
          -1.1299835327263392,
          0.25635755789500264,
          -1.401477366719103,
          -1.3245095525725623,
          0.29160187861069464,
          0.6029746174004685,
          -0.308557547221511,
          0.4159428841252249
         ],
         "xaxis": "x6",
         "yaxis": "y6"
        },
        {
         "line": {
          "color": "rgba(128, 128, 128, 1.0)",
          "dash": "solid",
          "shape": "linear",
          "width": 1.3
         },
         "marker": {
          "size": 2,
          "symbol": "circle"
         },
         "mode": "markers",
         "name": "B",
         "text": "",
         "type": "scatter",
         "x": [
          -1.588518383084947,
          -0.25510529051838327,
          0.07843303965625309,
          0.3864557819134835,
          -1.09744143252163,
          1.1804110069207534,
          -0.7433800204601851,
          0.5753073643150647,
          -0.46313790316926323,
          0.6543869181485661,
          0.6265824877282654,
          -0.4539417662001653,
          0.6696234450850123,
          0.13069696307258144,
          -0.8867305435232409,
          -0.6250839491644894,
          1.0097934384872906,
          1.9023000035376307,
          1.7009009639164385,
          -1.8411330536034713,
          -0.47464795002036747,
          -0.9982558219884498,
          1.8344684902582309,
          0.8192994654140996,
          -0.8335570745722221,
          -0.23972422219611114,
          0.1689960648817115,
          0.4698304057186679,
          -0.013340480348581244,
          -0.028051963281221937,
          0.38398107818510635,
          0.3937260257823908,
          -0.8123063459709408,
          -0.9993012029697024,
          -0.4152564075921749,
          0.3655373303202848,
          -0.043408441663682476,
          -1.0443853502640081,
          -0.9698020566137836,
          0.12256429336064191,
          0.7356745185567378,
          0.575392072982969,
          -0.33123080036967556,
          -1.185948457910172,
          -0.6111894681016925,
          -0.7945882795982716,
          0.5020861788162949,
          -0.1578308254726711,
          -0.9869183983562312,
          1.746200868438099,
          -0.37595688343323813,
          0.13280117462258295,
          1.2265259236048744,
          0.2244340472116479,
          -1.8036664717250686,
          -0.29766457443473365,
          0.5642521475493323,
          -0.5371447741300974,
          -1.1965527481693412,
          1.1718385463743948,
          -0.3213005093326319,
          2.4843766032829118,
          2.3103908916350133,
          -0.9451710303787467,
          0.6571154746001218,
          1.316173218583312,
          0.8330088624591149,
          1.13092757585928,
          -0.27272341394384453,
          0.4644537032765058,
          0.07189971278123376,
          -0.9570518724398468,
          0.44241242036356343,
          0.005593809973949465,
          -1.0127649251581823,
          0.3006123624304811,
          1.3744735827062333,
          0.038622245321359334,
          -0.9452780090729435,
          2.0136519003518596,
          -0.004495202845143408,
          -0.25759335648309745,
          -1.1260013746246536,
          -0.5944480194050978,
          1.6056735328339102,
          1.19511407121231,
          1.6153785450405376,
          -1.6932136658370074,
          -1.42390606086027,
          -0.4094603926470258,
          1.0082761168261307,
          0.2867048729727579,
          -0.4317049721677748,
          -1.7372064120191864,
          -0.10308707131192661,
          -0.46464036309498136,
          0.8341943684669411,
          -1.9737194064119694,
          -1.99139390644937,
          1.2455026058183056
         ],
         "xaxis": "x7",
         "y": [
          0.3907902707269141,
          0.6943603904272828,
          -0.5795978735730865,
          0.813526262604139,
          0.7839931065000858,
          -0.46753196417464715,
          1.0359830523535647,
          -0.00108728024401313,
          -0.8081899074223791,
          -1.7047006560220002,
          -1.2500075128534878,
          0.22565379843725744,
          0.8538877104205691,
          -0.010769431923218427,
          -0.16471091416661995,
          1.1532806339771444,
          -0.3057147481342851,
          -0.4072257391625898,
          0.33177364843814655,
          -1.9259607592803352,
          0.6328208279632327,
          0.09822037368245887,
          0.22575815059781187,
          0.3342337338883107,
          0.20918911354792807,
          0.7884841767921292,
          -1.777038244279568,
          -0.8943194078336356,
          0.7836857923081855,
          0.6141031111803202,
          0.5733925432595015,
          -0.049455510335339334,
          0.9530936899389951,
          -1.4516704869032073,
          0.5115887243863995,
          0.6530646533442895,
          -0.23318159386226586,
          -1.319150131657982,
          0.09463672775412493,
          0.23313384209217008,
          -0.2983196316579245,
          -0.5678273244648308,
          0.16437722381798814,
          -0.9296545964289905,
          1.0922975549754237,
          -0.38336998654816523,
          0.9051218108852752,
          0.14618559623315341,
          0.31466443511763487,
          0.3879173171179358,
          -0.13602702775758238,
          -0.20229107248405542,
          0.1312551692725429,
          0.7657452778482757,
          -1.2969540759673137,
          -0.7525532691354485,
          0.3375024417733412,
          -2.152534835068167,
          -1.2672607327528433,
          1.240409131065859,
          1.1770976240664932,
          -1.603010773610958,
          -0.237769129998576,
          -0.897073434357532,
          -0.9488046371465231,
          0.6581283215809342,
          -0.06199463793937336,
          -0.8913999214397087,
          0.4416057732101811,
          0.6416648824250734,
          1.4767731563075561,
          -0.8614378000150077,
          1.0656352143878887,
          -1.145896856232693,
          -0.4880349854953325,
          0.5836904660158005,
          0.7939388605800349,
          1.4499445941855056,
          0.9854561681177022,
          0.34020877181506953,
          0.7235608805617902,
          0.5377245985934934,
          0.3493967640908654,
          1.7702394754577686,
          -0.03111817077616619,
          1.0432325635583046,
          -0.06443575244437817,
          -1.1069474415167795,
          1.7477037930677306,
          1.1762878474972331,
          0.29762924979802713,
          -0.1934011522487943,
          -1.1299835327263392,
          0.25635755789500264,
          -1.401477366719103,
          -1.3245095525725623,
          0.29160187861069464,
          0.6029746174004685,
          -0.308557547221511,
          0.4159428841252249
         ],
         "yaxis": "y7"
        },
        {
         "line": {
          "color": "rgba(128, 128, 128, 1.0)",
          "dash": "solid",
          "shape": "linear",
          "width": 1.3
         },
         "marker": {
          "size": 2,
          "symbol": "circle"
         },
         "mode": "markers",
         "name": "B",
         "text": "",
         "type": "scatter",
         "x": [
          -0.20308556376547537,
          0.19762469288020745,
          0.6704321743135898,
          -0.5986241735582623,
          -0.25759095692230527,
          -0.05747054214033602,
          -0.932710350273873,
          -1.0441315195474943,
          0.1128314687479193,
          0.7892422787785415,
          0.0852285295692371,
          0.35126214936583744,
          1.8544165399332506,
          -1.4673580200808247,
          -1.7083706335257736,
          -1.272795966352538,
          0.13657404929718472,
          1.1088686376416257,
          1.0360806444077852,
          -0.07457436081638934,
          -0.8044809295312358,
          -0.04828532842693859,
          0.6593850434257252,
          -0.5658765585099089,
          0.3423078664072504,
          -0.003085031082305999,
          2.018187586743007,
          0.6185980152915729,
          1.7584542986691818,
          -1.5477793170953247,
          0.8468774185788381,
          1.2440610988793863,
          0.7117036625565885,
          1.240570040540003,
          0.45794955761531136,
          1.0647416762047635,
          -1.062620249089035,
          -0.6239492223248511,
          1.6340455586893559,
          -0.46932216668858123,
          0.10982913026295896,
          -2.606475104184327,
          0.661850506062008,
          -0.811975012976815,
          -0.31238136540442235,
          -0.9920729069399843,
          -0.8151321623577781,
          -1.0660483059432084,
          -1.3513103796811499,
          -0.5096993775872938,
          -0.3423963630383938,
          1.0890607235567875,
          1.412582216775854,
          -0.5745153951129882,
          -0.09471548014551695,
          -1.2274900693742057,
          0.9913406461115387,
          1.2857250242618052,
          -1.4220485699165202,
          -0.20751562677718327,
          1.269516515414513,
          1.7630631587377619,
          -0.3405730854733291,
          -0.6243236780693461,
          1.7062622406008303,
          -0.009716789825434882,
          0.18580110459527216,
          0.6066014190421658,
          -0.21684318444156456,
          0.8902856548059778,
          1.0594853835375297,
          -1.3427659913083283,
          -0.9249466420264154,
          -0.4736042418071167,
          0.5978483667104654,
          0.303287016773075,
          -1.5996703832688668,
          -0.4497857200657572,
          -1.8590951581175674,
          0.38249787592501855,
          0.43651573957238776,
          -0.6695674403809402,
          1.032013861089123,
          1.035662317354519,
          -0.016073852149997993,
          -0.564809977687965,
          -0.7205227740745791,
          -0.2209884244788965,
          -0.7201406209581277,
          -0.02057371877325681,
          -1.8582243694386562,
          0.1733246814087179,
          -0.7227674162352797,
          0.2981652039556083,
          -1.921240770994483,
          0.9118896914002779,
          0.6163142733027049,
          0.02393141056674211,
          1.186154597115317,
          0.580847168673218
         ],
         "xaxis": "x8",
         "y": [
          0.3907902707269141,
          0.6943603904272828,
          -0.5795978735730865,
          0.813526262604139,
          0.7839931065000858,
          -0.46753196417464715,
          1.0359830523535647,
          -0.00108728024401313,
          -0.8081899074223791,
          -1.7047006560220002,
          -1.2500075128534878,
          0.22565379843725744,
          0.8538877104205691,
          -0.010769431923218427,
          -0.16471091416661995,
          1.1532806339771444,
          -0.3057147481342851,
          -0.4072257391625898,
          0.33177364843814655,
          -1.9259607592803352,
          0.6328208279632327,
          0.09822037368245887,
          0.22575815059781187,
          0.3342337338883107,
          0.20918911354792807,
          0.7884841767921292,
          -1.777038244279568,
          -0.8943194078336356,
          0.7836857923081855,
          0.6141031111803202,
          0.5733925432595015,
          -0.049455510335339334,
          0.9530936899389951,
          -1.4516704869032073,
          0.5115887243863995,
          0.6530646533442895,
          -0.23318159386226586,
          -1.319150131657982,
          0.09463672775412493,
          0.23313384209217008,
          -0.2983196316579245,
          -0.5678273244648308,
          0.16437722381798814,
          -0.9296545964289905,
          1.0922975549754237,
          -0.38336998654816523,
          0.9051218108852752,
          0.14618559623315341,
          0.31466443511763487,
          0.3879173171179358,
          -0.13602702775758238,
          -0.20229107248405542,
          0.1312551692725429,
          0.7657452778482757,
          -1.2969540759673137,
          -0.7525532691354485,
          0.3375024417733412,
          -2.152534835068167,
          -1.2672607327528433,
          1.240409131065859,
          1.1770976240664932,
          -1.603010773610958,
          -0.237769129998576,
          -0.897073434357532,
          -0.9488046371465231,
          0.6581283215809342,
          -0.06199463793937336,
          -0.8913999214397087,
          0.4416057732101811,
          0.6416648824250734,
          1.4767731563075561,
          -0.8614378000150077,
          1.0656352143878887,
          -1.145896856232693,
          -0.4880349854953325,
          0.5836904660158005,
          0.7939388605800349,
          1.4499445941855056,
          0.9854561681177022,
          0.34020877181506953,
          0.7235608805617902,
          0.5377245985934934,
          0.3493967640908654,
          1.7702394754577686,
          -0.03111817077616619,
          1.0432325635583046,
          -0.06443575244437817,
          -1.1069474415167795,
          1.7477037930677306,
          1.1762878474972331,
          0.29762924979802713,
          -0.1934011522487943,
          -1.1299835327263392,
          0.25635755789500264,
          -1.401477366719103,
          -1.3245095525725623,
          0.29160187861069464,
          0.6029746174004685,
          -0.308557547221511,
          0.4159428841252249
         ],
         "yaxis": "y8"
        },
        {
         "line": {
          "color": "rgba(128, 128, 128, 1.0)",
          "dash": "solid",
          "shape": "linear",
          "width": 1.3
         },
         "marker": {
          "size": 2,
          "symbol": "circle"
         },
         "mode": "markers",
         "name": "C",
         "text": "",
         "type": "scatter",
         "x": [
          -1.4610241031401339,
          0.09525150167714372,
          -0.029203584395679657,
          -0.014015621374794238,
          1.3061216714143065,
          -0.31702307455461454,
          -1.1289839361958052,
          -0.13699963759455056,
          -0.6639938504440216,
          0.9470923910686199,
          1.553358059937682,
          0.05045164189835665,
          0.05751000634937235,
          2.1315144223408105,
          0.46274757495098084,
          -0.17673927911072126,
          -0.4606921426908111,
          -0.43086281676434296,
          -2.1264803113550594,
          0.001056488752819712,
          -0.3059598987663699,
          0.9662890754859629,
          0.2510262672230263,
          -0.9617278560791738,
          0.048995145654571845,
          -1.0209156821548113,
          -0.5691472839815525,
          0.4996248117695914,
          0.4464570983716666,
          -0.16336359024926198,
          1.262599325533162,
          -0.38117396654870617,
          0.6470503045744972,
          1.98286394042055,
          0.3984834505594768,
          0.7771765568436815,
          0.6232338000739429,
          1.167642598764409,
          -0.6183478391013726,
          1.2230733527522957,
          0.502339193606301,
          -1.1320171943548307,
          -0.7080909329004074,
          1.2718460327483254,
          -1.485782893035162,
          0.4319773772095389,
          0.362675989804671,
          1.4424577308111275,
          0.32319678124815143,
          -1.1700283154363498,
          1.8634674399731277,
          1.3157150735096061,
          -1.0097525209274345,
          -1.8188977326440103,
          0.32593373911336543,
          0.5229234346569209,
          -0.11081787742866657,
          -0.4975140914807007,
          -1.2059467191465185,
          -1.498419024882172,
          2.255904266090674,
          -0.2302591959967517,
          -0.6209322962615502,
          0.49579609306554884,
          -0.16989586521007646,
          0.46588198032360506,
          -0.909141855445599,
          -0.0009026500043386546,
          0.48123916040588277,
          1.118792923213792,
          -0.4420688885202043,
          0.9751416814442033,
          -0.03744211472540877,
          -1.778410999950504,
          -0.6892087536621391,
          -0.2385350486172311,
          0.019730054488734897,
          1.6716799790383337,
          1.3566170705713458,
          0.8873773894586302,
          -2.0888727474034563,
          -0.41046309299992867,
          -0.5549572208662424,
          -1.5861279398806762,
          -0.3540634750924586,
          0.6090614019865381,
          1.2372628555021594,
          -0.3429623623702404,
          -0.1606326504345451,
          1.622631579628323,
          1.0736460288414729,
          -0.7629319166489795,
          -0.5029453305115006,
          0.1671892839193268,
          -1.488441025936215,
          -0.27038751087145,
          0.855741339941454,
          -0.16881176419721813,
          -0.16170217362603542,
          0.9173449807873943
         ],
         "xaxis": "x9",
         "y": [
          -1.588518383084947,
          -0.25510529051838327,
          0.07843303965625309,
          0.3864557819134835,
          -1.09744143252163,
          1.1804110069207534,
          -0.7433800204601851,
          0.5753073643150647,
          -0.46313790316926323,
          0.6543869181485661,
          0.6265824877282654,
          -0.4539417662001653,
          0.6696234450850123,
          0.13069696307258144,
          -0.8867305435232409,
          -0.6250839491644894,
          1.0097934384872906,
          1.9023000035376307,
          1.7009009639164385,
          -1.8411330536034713,
          -0.47464795002036747,
          -0.9982558219884498,
          1.8344684902582309,
          0.8192994654140996,
          -0.8335570745722221,
          -0.23972422219611114,
          0.1689960648817115,
          0.4698304057186679,
          -0.013340480348581244,
          -0.028051963281221937,
          0.38398107818510635,
          0.3937260257823908,
          -0.8123063459709408,
          -0.9993012029697024,
          -0.4152564075921749,
          0.3655373303202848,
          -0.043408441663682476,
          -1.0443853502640081,
          -0.9698020566137836,
          0.12256429336064191,
          0.7356745185567378,
          0.575392072982969,
          -0.33123080036967556,
          -1.185948457910172,
          -0.6111894681016925,
          -0.7945882795982716,
          0.5020861788162949,
          -0.1578308254726711,
          -0.9869183983562312,
          1.746200868438099,
          -0.37595688343323813,
          0.13280117462258295,
          1.2265259236048744,
          0.2244340472116479,
          -1.8036664717250686,
          -0.29766457443473365,
          0.5642521475493323,
          -0.5371447741300974,
          -1.1965527481693412,
          1.1718385463743948,
          -0.3213005093326319,
          2.4843766032829118,
          2.3103908916350133,
          -0.9451710303787467,
          0.6571154746001218,
          1.316173218583312,
          0.8330088624591149,
          1.13092757585928,
          -0.27272341394384453,
          0.4644537032765058,
          0.07189971278123376,
          -0.9570518724398468,
          0.44241242036356343,
          0.005593809973949465,
          -1.0127649251581823,
          0.3006123624304811,
          1.3744735827062333,
          0.038622245321359334,
          -0.9452780090729435,
          2.0136519003518596,
          -0.004495202845143408,
          -0.25759335648309745,
          -1.1260013746246536,
          -0.5944480194050978,
          1.6056735328339102,
          1.19511407121231,
          1.6153785450405376,
          -1.6932136658370074,
          -1.42390606086027,
          -0.4094603926470258,
          1.0082761168261307,
          0.2867048729727579,
          -0.4317049721677748,
          -1.7372064120191864,
          -0.10308707131192661,
          -0.46464036309498136,
          0.8341943684669411,
          -1.9737194064119694,
          -1.99139390644937,
          1.2455026058183056
         ],
         "yaxis": "y9"
        },
        {
         "line": {
          "color": "rgba(128, 128, 128, 1.0)",
          "dash": "solid",
          "shape": "linear",
          "width": 1.3
         },
         "marker": {
          "size": 2,
          "symbol": "circle"
         },
         "mode": "markers",
         "name": "C",
         "text": "",
         "type": "scatter",
         "x": [
          0.3907902707269141,
          0.6943603904272828,
          -0.5795978735730865,
          0.813526262604139,
          0.7839931065000858,
          -0.46753196417464715,
          1.0359830523535647,
          -0.00108728024401313,
          -0.8081899074223791,
          -1.7047006560220002,
          -1.2500075128534878,
          0.22565379843725744,
          0.8538877104205691,
          -0.010769431923218427,
          -0.16471091416661995,
          1.1532806339771444,
          -0.3057147481342851,
          -0.4072257391625898,
          0.33177364843814655,
          -1.9259607592803352,
          0.6328208279632327,
          0.09822037368245887,
          0.22575815059781187,
          0.3342337338883107,
          0.20918911354792807,
          0.7884841767921292,
          -1.777038244279568,
          -0.8943194078336356,
          0.7836857923081855,
          0.6141031111803202,
          0.5733925432595015,
          -0.049455510335339334,
          0.9530936899389951,
          -1.4516704869032073,
          0.5115887243863995,
          0.6530646533442895,
          -0.23318159386226586,
          -1.319150131657982,
          0.09463672775412493,
          0.23313384209217008,
          -0.2983196316579245,
          -0.5678273244648308,
          0.16437722381798814,
          -0.9296545964289905,
          1.0922975549754237,
          -0.38336998654816523,
          0.9051218108852752,
          0.14618559623315341,
          0.31466443511763487,
          0.3879173171179358,
          -0.13602702775758238,
          -0.20229107248405542,
          0.1312551692725429,
          0.7657452778482757,
          -1.2969540759673137,
          -0.7525532691354485,
          0.3375024417733412,
          -2.152534835068167,
          -1.2672607327528433,
          1.240409131065859,
          1.1770976240664932,
          -1.603010773610958,
          -0.237769129998576,
          -0.897073434357532,
          -0.9488046371465231,
          0.6581283215809342,
          -0.06199463793937336,
          -0.8913999214397087,
          0.4416057732101811,
          0.6416648824250734,
          1.4767731563075561,
          -0.8614378000150077,
          1.0656352143878887,
          -1.145896856232693,
          -0.4880349854953325,
          0.5836904660158005,
          0.7939388605800349,
          1.4499445941855056,
          0.9854561681177022,
          0.34020877181506953,
          0.7235608805617902,
          0.5377245985934934,
          0.3493967640908654,
          1.7702394754577686,
          -0.03111817077616619,
          1.0432325635583046,
          -0.06443575244437817,
          -1.1069474415167795,
          1.7477037930677306,
          1.1762878474972331,
          0.29762924979802713,
          -0.1934011522487943,
          -1.1299835327263392,
          0.25635755789500264,
          -1.401477366719103,
          -1.3245095525725623,
          0.29160187861069464,
          0.6029746174004685,
          -0.308557547221511,
          0.4159428841252249
         ],
         "xaxis": "x10",
         "y": [
          -1.588518383084947,
          -0.25510529051838327,
          0.07843303965625309,
          0.3864557819134835,
          -1.09744143252163,
          1.1804110069207534,
          -0.7433800204601851,
          0.5753073643150647,
          -0.46313790316926323,
          0.6543869181485661,
          0.6265824877282654,
          -0.4539417662001653,
          0.6696234450850123,
          0.13069696307258144,
          -0.8867305435232409,
          -0.6250839491644894,
          1.0097934384872906,
          1.9023000035376307,
          1.7009009639164385,
          -1.8411330536034713,
          -0.47464795002036747,
          -0.9982558219884498,
          1.8344684902582309,
          0.8192994654140996,
          -0.8335570745722221,
          -0.23972422219611114,
          0.1689960648817115,
          0.4698304057186679,
          -0.013340480348581244,
          -0.028051963281221937,
          0.38398107818510635,
          0.3937260257823908,
          -0.8123063459709408,
          -0.9993012029697024,
          -0.4152564075921749,
          0.3655373303202848,
          -0.043408441663682476,
          -1.0443853502640081,
          -0.9698020566137836,
          0.12256429336064191,
          0.7356745185567378,
          0.575392072982969,
          -0.33123080036967556,
          -1.185948457910172,
          -0.6111894681016925,
          -0.7945882795982716,
          0.5020861788162949,
          -0.1578308254726711,
          -0.9869183983562312,
          1.746200868438099,
          -0.37595688343323813,
          0.13280117462258295,
          1.2265259236048744,
          0.2244340472116479,
          -1.8036664717250686,
          -0.29766457443473365,
          0.5642521475493323,
          -0.5371447741300974,
          -1.1965527481693412,
          1.1718385463743948,
          -0.3213005093326319,
          2.4843766032829118,
          2.3103908916350133,
          -0.9451710303787467,
          0.6571154746001218,
          1.316173218583312,
          0.8330088624591149,
          1.13092757585928,
          -0.27272341394384453,
          0.4644537032765058,
          0.07189971278123376,
          -0.9570518724398468,
          0.44241242036356343,
          0.005593809973949465,
          -1.0127649251581823,
          0.3006123624304811,
          1.3744735827062333,
          0.038622245321359334,
          -0.9452780090729435,
          2.0136519003518596,
          -0.004495202845143408,
          -0.25759335648309745,
          -1.1260013746246536,
          -0.5944480194050978,
          1.6056735328339102,
          1.19511407121231,
          1.6153785450405376,
          -1.6932136658370074,
          -1.42390606086027,
          -0.4094603926470258,
          1.0082761168261307,
          0.2867048729727579,
          -0.4317049721677748,
          -1.7372064120191864,
          -0.10308707131192661,
          -0.46464036309498136,
          0.8341943684669411,
          -1.9737194064119694,
          -1.99139390644937,
          1.2455026058183056
         ],
         "yaxis": "y10"
        },
        {
         "histfunc": "count",
         "histnorm": "",
         "marker": {
          "color": "rgba(50, 171, 96, 1.0)",
          "line": {
           "color": "#4D5663",
           "width": 1.3
          }
         },
         "name": "C",
         "nbinsx": 10,
         "opacity": 0.8,
         "orientation": "v",
         "type": "histogram",
         "x": [
          -1.588518383084947,
          -0.25510529051838327,
          0.07843303965625309,
          0.3864557819134835,
          -1.09744143252163,
          1.1804110069207534,
          -0.7433800204601851,
          0.5753073643150647,
          -0.46313790316926323,
          0.6543869181485661,
          0.6265824877282654,
          -0.4539417662001653,
          0.6696234450850123,
          0.13069696307258144,
          -0.8867305435232409,
          -0.6250839491644894,
          1.0097934384872906,
          1.9023000035376307,
          1.7009009639164385,
          -1.8411330536034713,
          -0.47464795002036747,
          -0.9982558219884498,
          1.8344684902582309,
          0.8192994654140996,
          -0.8335570745722221,
          -0.23972422219611114,
          0.1689960648817115,
          0.4698304057186679,
          -0.013340480348581244,
          -0.028051963281221937,
          0.38398107818510635,
          0.3937260257823908,
          -0.8123063459709408,
          -0.9993012029697024,
          -0.4152564075921749,
          0.3655373303202848,
          -0.043408441663682476,
          -1.0443853502640081,
          -0.9698020566137836,
          0.12256429336064191,
          0.7356745185567378,
          0.575392072982969,
          -0.33123080036967556,
          -1.185948457910172,
          -0.6111894681016925,
          -0.7945882795982716,
          0.5020861788162949,
          -0.1578308254726711,
          -0.9869183983562312,
          1.746200868438099,
          -0.37595688343323813,
          0.13280117462258295,
          1.2265259236048744,
          0.2244340472116479,
          -1.8036664717250686,
          -0.29766457443473365,
          0.5642521475493323,
          -0.5371447741300974,
          -1.1965527481693412,
          1.1718385463743948,
          -0.3213005093326319,
          2.4843766032829118,
          2.3103908916350133,
          -0.9451710303787467,
          0.6571154746001218,
          1.316173218583312,
          0.8330088624591149,
          1.13092757585928,
          -0.27272341394384453,
          0.4644537032765058,
          0.07189971278123376,
          -0.9570518724398468,
          0.44241242036356343,
          0.005593809973949465,
          -1.0127649251581823,
          0.3006123624304811,
          1.3744735827062333,
          0.038622245321359334,
          -0.9452780090729435,
          2.0136519003518596,
          -0.004495202845143408,
          -0.25759335648309745,
          -1.1260013746246536,
          -0.5944480194050978,
          1.6056735328339102,
          1.19511407121231,
          1.6153785450405376,
          -1.6932136658370074,
          -1.42390606086027,
          -0.4094603926470258,
          1.0082761168261307,
          0.2867048729727579,
          -0.4317049721677748,
          -1.7372064120191864,
          -0.10308707131192661,
          -0.46464036309498136,
          0.8341943684669411,
          -1.9737194064119694,
          -1.99139390644937,
          1.2455026058183056
         ],
         "xaxis": "x11",
         "yaxis": "y11"
        },
        {
         "line": {
          "color": "rgba(128, 128, 128, 1.0)",
          "dash": "solid",
          "shape": "linear",
          "width": 1.3
         },
         "marker": {
          "size": 2,
          "symbol": "circle"
         },
         "mode": "markers",
         "name": "C",
         "text": "",
         "type": "scatter",
         "x": [
          -0.20308556376547537,
          0.19762469288020745,
          0.6704321743135898,
          -0.5986241735582623,
          -0.25759095692230527,
          -0.05747054214033602,
          -0.932710350273873,
          -1.0441315195474943,
          0.1128314687479193,
          0.7892422787785415,
          0.0852285295692371,
          0.35126214936583744,
          1.8544165399332506,
          -1.4673580200808247,
          -1.7083706335257736,
          -1.272795966352538,
          0.13657404929718472,
          1.1088686376416257,
          1.0360806444077852,
          -0.07457436081638934,
          -0.8044809295312358,
          -0.04828532842693859,
          0.6593850434257252,
          -0.5658765585099089,
          0.3423078664072504,
          -0.003085031082305999,
          2.018187586743007,
          0.6185980152915729,
          1.7584542986691818,
          -1.5477793170953247,
          0.8468774185788381,
          1.2440610988793863,
          0.7117036625565885,
          1.240570040540003,
          0.45794955761531136,
          1.0647416762047635,
          -1.062620249089035,
          -0.6239492223248511,
          1.6340455586893559,
          -0.46932216668858123,
          0.10982913026295896,
          -2.606475104184327,
          0.661850506062008,
          -0.811975012976815,
          -0.31238136540442235,
          -0.9920729069399843,
          -0.8151321623577781,
          -1.0660483059432084,
          -1.3513103796811499,
          -0.5096993775872938,
          -0.3423963630383938,
          1.0890607235567875,
          1.412582216775854,
          -0.5745153951129882,
          -0.09471548014551695,
          -1.2274900693742057,
          0.9913406461115387,
          1.2857250242618052,
          -1.4220485699165202,
          -0.20751562677718327,
          1.269516515414513,
          1.7630631587377619,
          -0.3405730854733291,
          -0.6243236780693461,
          1.7062622406008303,
          -0.009716789825434882,
          0.18580110459527216,
          0.6066014190421658,
          -0.21684318444156456,
          0.8902856548059778,
          1.0594853835375297,
          -1.3427659913083283,
          -0.9249466420264154,
          -0.4736042418071167,
          0.5978483667104654,
          0.303287016773075,
          -1.5996703832688668,
          -0.4497857200657572,
          -1.8590951581175674,
          0.38249787592501855,
          0.43651573957238776,
          -0.6695674403809402,
          1.032013861089123,
          1.035662317354519,
          -0.016073852149997993,
          -0.564809977687965,
          -0.7205227740745791,
          -0.2209884244788965,
          -0.7201406209581277,
          -0.02057371877325681,
          -1.8582243694386562,
          0.1733246814087179,
          -0.7227674162352797,
          0.2981652039556083,
          -1.921240770994483,
          0.9118896914002779,
          0.6163142733027049,
          0.02393141056674211,
          1.186154597115317,
          0.580847168673218
         ],
         "xaxis": "x12",
         "y": [
          -1.588518383084947,
          -0.25510529051838327,
          0.07843303965625309,
          0.3864557819134835,
          -1.09744143252163,
          1.1804110069207534,
          -0.7433800204601851,
          0.5753073643150647,
          -0.46313790316926323,
          0.6543869181485661,
          0.6265824877282654,
          -0.4539417662001653,
          0.6696234450850123,
          0.13069696307258144,
          -0.8867305435232409,
          -0.6250839491644894,
          1.0097934384872906,
          1.9023000035376307,
          1.7009009639164385,
          -1.8411330536034713,
          -0.47464795002036747,
          -0.9982558219884498,
          1.8344684902582309,
          0.8192994654140996,
          -0.8335570745722221,
          -0.23972422219611114,
          0.1689960648817115,
          0.4698304057186679,
          -0.013340480348581244,
          -0.028051963281221937,
          0.38398107818510635,
          0.3937260257823908,
          -0.8123063459709408,
          -0.9993012029697024,
          -0.4152564075921749,
          0.3655373303202848,
          -0.043408441663682476,
          -1.0443853502640081,
          -0.9698020566137836,
          0.12256429336064191,
          0.7356745185567378,
          0.575392072982969,
          -0.33123080036967556,
          -1.185948457910172,
          -0.6111894681016925,
          -0.7945882795982716,
          0.5020861788162949,
          -0.1578308254726711,
          -0.9869183983562312,
          1.746200868438099,
          -0.37595688343323813,
          0.13280117462258295,
          1.2265259236048744,
          0.2244340472116479,
          -1.8036664717250686,
          -0.29766457443473365,
          0.5642521475493323,
          -0.5371447741300974,
          -1.1965527481693412,
          1.1718385463743948,
          -0.3213005093326319,
          2.4843766032829118,
          2.3103908916350133,
          -0.9451710303787467,
          0.6571154746001218,
          1.316173218583312,
          0.8330088624591149,
          1.13092757585928,
          -0.27272341394384453,
          0.4644537032765058,
          0.07189971278123376,
          -0.9570518724398468,
          0.44241242036356343,
          0.005593809973949465,
          -1.0127649251581823,
          0.3006123624304811,
          1.3744735827062333,
          0.038622245321359334,
          -0.9452780090729435,
          2.0136519003518596,
          -0.004495202845143408,
          -0.25759335648309745,
          -1.1260013746246536,
          -0.5944480194050978,
          1.6056735328339102,
          1.19511407121231,
          1.6153785450405376,
          -1.6932136658370074,
          -1.42390606086027,
          -0.4094603926470258,
          1.0082761168261307,
          0.2867048729727579,
          -0.4317049721677748,
          -1.7372064120191864,
          -0.10308707131192661,
          -0.46464036309498136,
          0.8341943684669411,
          -1.9737194064119694,
          -1.99139390644937,
          1.2455026058183056
         ],
         "yaxis": "y12"
        },
        {
         "line": {
          "color": "rgba(128, 128, 128, 1.0)",
          "dash": "solid",
          "shape": "linear",
          "width": 1.3
         },
         "marker": {
          "size": 2,
          "symbol": "circle"
         },
         "mode": "markers",
         "name": "D",
         "text": "",
         "type": "scatter",
         "x": [
          -1.4610241031401339,
          0.09525150167714372,
          -0.029203584395679657,
          -0.014015621374794238,
          1.3061216714143065,
          -0.31702307455461454,
          -1.1289839361958052,
          -0.13699963759455056,
          -0.6639938504440216,
          0.9470923910686199,
          1.553358059937682,
          0.05045164189835665,
          0.05751000634937235,
          2.1315144223408105,
          0.46274757495098084,
          -0.17673927911072126,
          -0.4606921426908111,
          -0.43086281676434296,
          -2.1264803113550594,
          0.001056488752819712,
          -0.3059598987663699,
          0.9662890754859629,
          0.2510262672230263,
          -0.9617278560791738,
          0.048995145654571845,
          -1.0209156821548113,
          -0.5691472839815525,
          0.4996248117695914,
          0.4464570983716666,
          -0.16336359024926198,
          1.262599325533162,
          -0.38117396654870617,
          0.6470503045744972,
          1.98286394042055,
          0.3984834505594768,
          0.7771765568436815,
          0.6232338000739429,
          1.167642598764409,
          -0.6183478391013726,
          1.2230733527522957,
          0.502339193606301,
          -1.1320171943548307,
          -0.7080909329004074,
          1.2718460327483254,
          -1.485782893035162,
          0.4319773772095389,
          0.362675989804671,
          1.4424577308111275,
          0.32319678124815143,
          -1.1700283154363498,
          1.8634674399731277,
          1.3157150735096061,
          -1.0097525209274345,
          -1.8188977326440103,
          0.32593373911336543,
          0.5229234346569209,
          -0.11081787742866657,
          -0.4975140914807007,
          -1.2059467191465185,
          -1.498419024882172,
          2.255904266090674,
          -0.2302591959967517,
          -0.6209322962615502,
          0.49579609306554884,
          -0.16989586521007646,
          0.46588198032360506,
          -0.909141855445599,
          -0.0009026500043386546,
          0.48123916040588277,
          1.118792923213792,
          -0.4420688885202043,
          0.9751416814442033,
          -0.03744211472540877,
          -1.778410999950504,
          -0.6892087536621391,
          -0.2385350486172311,
          0.019730054488734897,
          1.6716799790383337,
          1.3566170705713458,
          0.8873773894586302,
          -2.0888727474034563,
          -0.41046309299992867,
          -0.5549572208662424,
          -1.5861279398806762,
          -0.3540634750924586,
          0.6090614019865381,
          1.2372628555021594,
          -0.3429623623702404,
          -0.1606326504345451,
          1.622631579628323,
          1.0736460288414729,
          -0.7629319166489795,
          -0.5029453305115006,
          0.1671892839193268,
          -1.488441025936215,
          -0.27038751087145,
          0.855741339941454,
          -0.16881176419721813,
          -0.16170217362603542,
          0.9173449807873943
         ],
         "xaxis": "x13",
         "y": [
          -0.20308556376547537,
          0.19762469288020745,
          0.6704321743135898,
          -0.5986241735582623,
          -0.25759095692230527,
          -0.05747054214033602,
          -0.932710350273873,
          -1.0441315195474943,
          0.1128314687479193,
          0.7892422787785415,
          0.0852285295692371,
          0.35126214936583744,
          1.8544165399332506,
          -1.4673580200808247,
          -1.7083706335257736,
          -1.272795966352538,
          0.13657404929718472,
          1.1088686376416257,
          1.0360806444077852,
          -0.07457436081638934,
          -0.8044809295312358,
          -0.04828532842693859,
          0.6593850434257252,
          -0.5658765585099089,
          0.3423078664072504,
          -0.003085031082305999,
          2.018187586743007,
          0.6185980152915729,
          1.7584542986691818,
          -1.5477793170953247,
          0.8468774185788381,
          1.2440610988793863,
          0.7117036625565885,
          1.240570040540003,
          0.45794955761531136,
          1.0647416762047635,
          -1.062620249089035,
          -0.6239492223248511,
          1.6340455586893559,
          -0.46932216668858123,
          0.10982913026295896,
          -2.606475104184327,
          0.661850506062008,
          -0.811975012976815,
          -0.31238136540442235,
          -0.9920729069399843,
          -0.8151321623577781,
          -1.0660483059432084,
          -1.3513103796811499,
          -0.5096993775872938,
          -0.3423963630383938,
          1.0890607235567875,
          1.412582216775854,
          -0.5745153951129882,
          -0.09471548014551695,
          -1.2274900693742057,
          0.9913406461115387,
          1.2857250242618052,
          -1.4220485699165202,
          -0.20751562677718327,
          1.269516515414513,
          1.7630631587377619,
          -0.3405730854733291,
          -0.6243236780693461,
          1.7062622406008303,
          -0.009716789825434882,
          0.18580110459527216,
          0.6066014190421658,
          -0.21684318444156456,
          0.8902856548059778,
          1.0594853835375297,
          -1.3427659913083283,
          -0.9249466420264154,
          -0.4736042418071167,
          0.5978483667104654,
          0.303287016773075,
          -1.5996703832688668,
          -0.4497857200657572,
          -1.8590951581175674,
          0.38249787592501855,
          0.43651573957238776,
          -0.6695674403809402,
          1.032013861089123,
          1.035662317354519,
          -0.016073852149997993,
          -0.564809977687965,
          -0.7205227740745791,
          -0.2209884244788965,
          -0.7201406209581277,
          -0.02057371877325681,
          -1.8582243694386562,
          0.1733246814087179,
          -0.7227674162352797,
          0.2981652039556083,
          -1.921240770994483,
          0.9118896914002779,
          0.6163142733027049,
          0.02393141056674211,
          1.186154597115317,
          0.580847168673218
         ],
         "yaxis": "y13"
        },
        {
         "line": {
          "color": "rgba(128, 128, 128, 1.0)",
          "dash": "solid",
          "shape": "linear",
          "width": 1.3
         },
         "marker": {
          "size": 2,
          "symbol": "circle"
         },
         "mode": "markers",
         "name": "D",
         "text": "",
         "type": "scatter",
         "x": [
          0.3907902707269141,
          0.6943603904272828,
          -0.5795978735730865,
          0.813526262604139,
          0.7839931065000858,
          -0.46753196417464715,
          1.0359830523535647,
          -0.00108728024401313,
          -0.8081899074223791,
          -1.7047006560220002,
          -1.2500075128534878,
          0.22565379843725744,
          0.8538877104205691,
          -0.010769431923218427,
          -0.16471091416661995,
          1.1532806339771444,
          -0.3057147481342851,
          -0.4072257391625898,
          0.33177364843814655,
          -1.9259607592803352,
          0.6328208279632327,
          0.09822037368245887,
          0.22575815059781187,
          0.3342337338883107,
          0.20918911354792807,
          0.7884841767921292,
          -1.777038244279568,
          -0.8943194078336356,
          0.7836857923081855,
          0.6141031111803202,
          0.5733925432595015,
          -0.049455510335339334,
          0.9530936899389951,
          -1.4516704869032073,
          0.5115887243863995,
          0.6530646533442895,
          -0.23318159386226586,
          -1.319150131657982,
          0.09463672775412493,
          0.23313384209217008,
          -0.2983196316579245,
          -0.5678273244648308,
          0.16437722381798814,
          -0.9296545964289905,
          1.0922975549754237,
          -0.38336998654816523,
          0.9051218108852752,
          0.14618559623315341,
          0.31466443511763487,
          0.3879173171179358,
          -0.13602702775758238,
          -0.20229107248405542,
          0.1312551692725429,
          0.7657452778482757,
          -1.2969540759673137,
          -0.7525532691354485,
          0.3375024417733412,
          -2.152534835068167,
          -1.2672607327528433,
          1.240409131065859,
          1.1770976240664932,
          -1.603010773610958,
          -0.237769129998576,
          -0.897073434357532,
          -0.9488046371465231,
          0.6581283215809342,
          -0.06199463793937336,
          -0.8913999214397087,
          0.4416057732101811,
          0.6416648824250734,
          1.4767731563075561,
          -0.8614378000150077,
          1.0656352143878887,
          -1.145896856232693,
          -0.4880349854953325,
          0.5836904660158005,
          0.7939388605800349,
          1.4499445941855056,
          0.9854561681177022,
          0.34020877181506953,
          0.7235608805617902,
          0.5377245985934934,
          0.3493967640908654,
          1.7702394754577686,
          -0.03111817077616619,
          1.0432325635583046,
          -0.06443575244437817,
          -1.1069474415167795,
          1.7477037930677306,
          1.1762878474972331,
          0.29762924979802713,
          -0.1934011522487943,
          -1.1299835327263392,
          0.25635755789500264,
          -1.401477366719103,
          -1.3245095525725623,
          0.29160187861069464,
          0.6029746174004685,
          -0.308557547221511,
          0.4159428841252249
         ],
         "xaxis": "x14",
         "y": [
          -0.20308556376547537,
          0.19762469288020745,
          0.6704321743135898,
          -0.5986241735582623,
          -0.25759095692230527,
          -0.05747054214033602,
          -0.932710350273873,
          -1.0441315195474943,
          0.1128314687479193,
          0.7892422787785415,
          0.0852285295692371,
          0.35126214936583744,
          1.8544165399332506,
          -1.4673580200808247,
          -1.7083706335257736,
          -1.272795966352538,
          0.13657404929718472,
          1.1088686376416257,
          1.0360806444077852,
          -0.07457436081638934,
          -0.8044809295312358,
          -0.04828532842693859,
          0.6593850434257252,
          -0.5658765585099089,
          0.3423078664072504,
          -0.003085031082305999,
          2.018187586743007,
          0.6185980152915729,
          1.7584542986691818,
          -1.5477793170953247,
          0.8468774185788381,
          1.2440610988793863,
          0.7117036625565885,
          1.240570040540003,
          0.45794955761531136,
          1.0647416762047635,
          -1.062620249089035,
          -0.6239492223248511,
          1.6340455586893559,
          -0.46932216668858123,
          0.10982913026295896,
          -2.606475104184327,
          0.661850506062008,
          -0.811975012976815,
          -0.31238136540442235,
          -0.9920729069399843,
          -0.8151321623577781,
          -1.0660483059432084,
          -1.3513103796811499,
          -0.5096993775872938,
          -0.3423963630383938,
          1.0890607235567875,
          1.412582216775854,
          -0.5745153951129882,
          -0.09471548014551695,
          -1.2274900693742057,
          0.9913406461115387,
          1.2857250242618052,
          -1.4220485699165202,
          -0.20751562677718327,
          1.269516515414513,
          1.7630631587377619,
          -0.3405730854733291,
          -0.6243236780693461,
          1.7062622406008303,
          -0.009716789825434882,
          0.18580110459527216,
          0.6066014190421658,
          -0.21684318444156456,
          0.8902856548059778,
          1.0594853835375297,
          -1.3427659913083283,
          -0.9249466420264154,
          -0.4736042418071167,
          0.5978483667104654,
          0.303287016773075,
          -1.5996703832688668,
          -0.4497857200657572,
          -1.8590951581175674,
          0.38249787592501855,
          0.43651573957238776,
          -0.6695674403809402,
          1.032013861089123,
          1.035662317354519,
          -0.016073852149997993,
          -0.564809977687965,
          -0.7205227740745791,
          -0.2209884244788965,
          -0.7201406209581277,
          -0.02057371877325681,
          -1.8582243694386562,
          0.1733246814087179,
          -0.7227674162352797,
          0.2981652039556083,
          -1.921240770994483,
          0.9118896914002779,
          0.6163142733027049,
          0.02393141056674211,
          1.186154597115317,
          0.580847168673218
         ],
         "yaxis": "y14"
        },
        {
         "line": {
          "color": "rgba(128, 128, 128, 1.0)",
          "dash": "solid",
          "shape": "linear",
          "width": 1.3
         },
         "marker": {
          "size": 2,
          "symbol": "circle"
         },
         "mode": "markers",
         "name": "D",
         "text": "",
         "type": "scatter",
         "x": [
          -1.588518383084947,
          -0.25510529051838327,
          0.07843303965625309,
          0.3864557819134835,
          -1.09744143252163,
          1.1804110069207534,
          -0.7433800204601851,
          0.5753073643150647,
          -0.46313790316926323,
          0.6543869181485661,
          0.6265824877282654,
          -0.4539417662001653,
          0.6696234450850123,
          0.13069696307258144,
          -0.8867305435232409,
          -0.6250839491644894,
          1.0097934384872906,
          1.9023000035376307,
          1.7009009639164385,
          -1.8411330536034713,
          -0.47464795002036747,
          -0.9982558219884498,
          1.8344684902582309,
          0.8192994654140996,
          -0.8335570745722221,
          -0.23972422219611114,
          0.1689960648817115,
          0.4698304057186679,
          -0.013340480348581244,
          -0.028051963281221937,
          0.38398107818510635,
          0.3937260257823908,
          -0.8123063459709408,
          -0.9993012029697024,
          -0.4152564075921749,
          0.3655373303202848,
          -0.043408441663682476,
          -1.0443853502640081,
          -0.9698020566137836,
          0.12256429336064191,
          0.7356745185567378,
          0.575392072982969,
          -0.33123080036967556,
          -1.185948457910172,
          -0.6111894681016925,
          -0.7945882795982716,
          0.5020861788162949,
          -0.1578308254726711,
          -0.9869183983562312,
          1.746200868438099,
          -0.37595688343323813,
          0.13280117462258295,
          1.2265259236048744,
          0.2244340472116479,
          -1.8036664717250686,
          -0.29766457443473365,
          0.5642521475493323,
          -0.5371447741300974,
          -1.1965527481693412,
          1.1718385463743948,
          -0.3213005093326319,
          2.4843766032829118,
          2.3103908916350133,
          -0.9451710303787467,
          0.6571154746001218,
          1.316173218583312,
          0.8330088624591149,
          1.13092757585928,
          -0.27272341394384453,
          0.4644537032765058,
          0.07189971278123376,
          -0.9570518724398468,
          0.44241242036356343,
          0.005593809973949465,
          -1.0127649251581823,
          0.3006123624304811,
          1.3744735827062333,
          0.038622245321359334,
          -0.9452780090729435,
          2.0136519003518596,
          -0.004495202845143408,
          -0.25759335648309745,
          -1.1260013746246536,
          -0.5944480194050978,
          1.6056735328339102,
          1.19511407121231,
          1.6153785450405376,
          -1.6932136658370074,
          -1.42390606086027,
          -0.4094603926470258,
          1.0082761168261307,
          0.2867048729727579,
          -0.4317049721677748,
          -1.7372064120191864,
          -0.10308707131192661,
          -0.46464036309498136,
          0.8341943684669411,
          -1.9737194064119694,
          -1.99139390644937,
          1.2455026058183056
         ],
         "xaxis": "x15",
         "y": [
          -0.20308556376547537,
          0.19762469288020745,
          0.6704321743135898,
          -0.5986241735582623,
          -0.25759095692230527,
          -0.05747054214033602,
          -0.932710350273873,
          -1.0441315195474943,
          0.1128314687479193,
          0.7892422787785415,
          0.0852285295692371,
          0.35126214936583744,
          1.8544165399332506,
          -1.4673580200808247,
          -1.7083706335257736,
          -1.272795966352538,
          0.13657404929718472,
          1.1088686376416257,
          1.0360806444077852,
          -0.07457436081638934,
          -0.8044809295312358,
          -0.04828532842693859,
          0.6593850434257252,
          -0.5658765585099089,
          0.3423078664072504,
          -0.003085031082305999,
          2.018187586743007,
          0.6185980152915729,
          1.7584542986691818,
          -1.5477793170953247,
          0.8468774185788381,
          1.2440610988793863,
          0.7117036625565885,
          1.240570040540003,
          0.45794955761531136,
          1.0647416762047635,
          -1.062620249089035,
          -0.6239492223248511,
          1.6340455586893559,
          -0.46932216668858123,
          0.10982913026295896,
          -2.606475104184327,
          0.661850506062008,
          -0.811975012976815,
          -0.31238136540442235,
          -0.9920729069399843,
          -0.8151321623577781,
          -1.0660483059432084,
          -1.3513103796811499,
          -0.5096993775872938,
          -0.3423963630383938,
          1.0890607235567875,
          1.412582216775854,
          -0.5745153951129882,
          -0.09471548014551695,
          -1.2274900693742057,
          0.9913406461115387,
          1.2857250242618052,
          -1.4220485699165202,
          -0.20751562677718327,
          1.269516515414513,
          1.7630631587377619,
          -0.3405730854733291,
          -0.6243236780693461,
          1.7062622406008303,
          -0.009716789825434882,
          0.18580110459527216,
          0.6066014190421658,
          -0.21684318444156456,
          0.8902856548059778,
          1.0594853835375297,
          -1.3427659913083283,
          -0.9249466420264154,
          -0.4736042418071167,
          0.5978483667104654,
          0.303287016773075,
          -1.5996703832688668,
          -0.4497857200657572,
          -1.8590951581175674,
          0.38249787592501855,
          0.43651573957238776,
          -0.6695674403809402,
          1.032013861089123,
          1.035662317354519,
          -0.016073852149997993,
          -0.564809977687965,
          -0.7205227740745791,
          -0.2209884244788965,
          -0.7201406209581277,
          -0.02057371877325681,
          -1.8582243694386562,
          0.1733246814087179,
          -0.7227674162352797,
          0.2981652039556083,
          -1.921240770994483,
          0.9118896914002779,
          0.6163142733027049,
          0.02393141056674211,
          1.186154597115317,
          0.580847168673218
         ],
         "yaxis": "y15"
        },
        {
         "histfunc": "count",
         "histnorm": "",
         "marker": {
          "color": "rgba(128, 0, 128, 1.0)",
          "line": {
           "color": "#4D5663",
           "width": 1.3
          }
         },
         "name": "D",
         "nbinsx": 10,
         "opacity": 0.8,
         "orientation": "v",
         "type": "histogram",
         "x": [
          -0.20308556376547537,
          0.19762469288020745,
          0.6704321743135898,
          -0.5986241735582623,
          -0.25759095692230527,
          -0.05747054214033602,
          -0.932710350273873,
          -1.0441315195474943,
          0.1128314687479193,
          0.7892422787785415,
          0.0852285295692371,
          0.35126214936583744,
          1.8544165399332506,
          -1.4673580200808247,
          -1.7083706335257736,
          -1.272795966352538,
          0.13657404929718472,
          1.1088686376416257,
          1.0360806444077852,
          -0.07457436081638934,
          -0.8044809295312358,
          -0.04828532842693859,
          0.6593850434257252,
          -0.5658765585099089,
          0.3423078664072504,
          -0.003085031082305999,
          2.018187586743007,
          0.6185980152915729,
          1.7584542986691818,
          -1.5477793170953247,
          0.8468774185788381,
          1.2440610988793863,
          0.7117036625565885,
          1.240570040540003,
          0.45794955761531136,
          1.0647416762047635,
          -1.062620249089035,
          -0.6239492223248511,
          1.6340455586893559,
          -0.46932216668858123,
          0.10982913026295896,
          -2.606475104184327,
          0.661850506062008,
          -0.811975012976815,
          -0.31238136540442235,
          -0.9920729069399843,
          -0.8151321623577781,
          -1.0660483059432084,
          -1.3513103796811499,
          -0.5096993775872938,
          -0.3423963630383938,
          1.0890607235567875,
          1.412582216775854,
          -0.5745153951129882,
          -0.09471548014551695,
          -1.2274900693742057,
          0.9913406461115387,
          1.2857250242618052,
          -1.4220485699165202,
          -0.20751562677718327,
          1.269516515414513,
          1.7630631587377619,
          -0.3405730854733291,
          -0.6243236780693461,
          1.7062622406008303,
          -0.009716789825434882,
          0.18580110459527216,
          0.6066014190421658,
          -0.21684318444156456,
          0.8902856548059778,
          1.0594853835375297,
          -1.3427659913083283,
          -0.9249466420264154,
          -0.4736042418071167,
          0.5978483667104654,
          0.303287016773075,
          -1.5996703832688668,
          -0.4497857200657572,
          -1.8590951581175674,
          0.38249787592501855,
          0.43651573957238776,
          -0.6695674403809402,
          1.032013861089123,
          1.035662317354519,
          -0.016073852149997993,
          -0.564809977687965,
          -0.7205227740745791,
          -0.2209884244788965,
          -0.7201406209581277,
          -0.02057371877325681,
          -1.8582243694386562,
          0.1733246814087179,
          -0.7227674162352797,
          0.2981652039556083,
          -1.921240770994483,
          0.9118896914002779,
          0.6163142733027049,
          0.02393141056674211,
          1.186154597115317,
          0.580847168673218
         ],
         "xaxis": "x16",
         "yaxis": "y16"
        }
       ],
       "layout": {
        "bargap": 0.02,
        "legend": {
         "bgcolor": "#F5F6F9",
         "font": {
          "color": "#4D5663"
         }
        },
        "paper_bgcolor": "#F5F6F9",
        "plot_bgcolor": "#F5F6F9",
        "showlegend": false,
        "template": {
         "data": {
          "bar": [
           {
            "error_x": {
             "color": "#2a3f5f"
            },
            "error_y": {
             "color": "#2a3f5f"
            },
            "marker": {
             "line": {
              "color": "#E5ECF6",
              "width": 0.5
             }
            },
            "type": "bar"
           }
          ],
          "barpolar": [
           {
            "marker": {
             "line": {
              "color": "#E5ECF6",
              "width": 0.5
             }
            },
            "type": "barpolar"
           }
          ],
          "carpet": [
           {
            "aaxis": {
             "endlinecolor": "#2a3f5f",
             "gridcolor": "white",
             "linecolor": "white",
             "minorgridcolor": "white",
             "startlinecolor": "#2a3f5f"
            },
            "baxis": {
             "endlinecolor": "#2a3f5f",
             "gridcolor": "white",
             "linecolor": "white",
             "minorgridcolor": "white",
             "startlinecolor": "#2a3f5f"
            },
            "type": "carpet"
           }
          ],
          "choropleth": [
           {
            "colorbar": {
             "outlinewidth": 0,
             "ticks": ""
            },
            "type": "choropleth"
           }
          ],
          "contour": [
           {
            "colorbar": {
             "outlinewidth": 0,
             "ticks": ""
            },
            "colorscale": [
             [
              0,
              "#0d0887"
             ],
             [
              0.1111111111111111,
              "#46039f"
             ],
             [
              0.2222222222222222,
              "#7201a8"
             ],
             [
              0.3333333333333333,
              "#9c179e"
             ],
             [
              0.4444444444444444,
              "#bd3786"
             ],
             [
              0.5555555555555556,
              "#d8576b"
             ],
             [
              0.6666666666666666,
              "#ed7953"
             ],
             [
              0.7777777777777778,
              "#fb9f3a"
             ],
             [
              0.8888888888888888,
              "#fdca26"
             ],
             [
              1,
              "#f0f921"
             ]
            ],
            "type": "contour"
           }
          ],
          "contourcarpet": [
           {
            "colorbar": {
             "outlinewidth": 0,
             "ticks": ""
            },
            "type": "contourcarpet"
           }
          ],
          "heatmap": [
           {
            "colorbar": {
             "outlinewidth": 0,
             "ticks": ""
            },
            "colorscale": [
             [
              0,
              "#0d0887"
             ],
             [
              0.1111111111111111,
              "#46039f"
             ],
             [
              0.2222222222222222,
              "#7201a8"
             ],
             [
              0.3333333333333333,
              "#9c179e"
             ],
             [
              0.4444444444444444,
              "#bd3786"
             ],
             [
              0.5555555555555556,
              "#d8576b"
             ],
             [
              0.6666666666666666,
              "#ed7953"
             ],
             [
              0.7777777777777778,
              "#fb9f3a"
             ],
             [
              0.8888888888888888,
              "#fdca26"
             ],
             [
              1,
              "#f0f921"
             ]
            ],
            "type": "heatmap"
           }
          ],
          "heatmapgl": [
           {
            "colorbar": {
             "outlinewidth": 0,
             "ticks": ""
            },
            "colorscale": [
             [
              0,
              "#0d0887"
             ],
             [
              0.1111111111111111,
              "#46039f"
             ],
             [
              0.2222222222222222,
              "#7201a8"
             ],
             [
              0.3333333333333333,
              "#9c179e"
             ],
             [
              0.4444444444444444,
              "#bd3786"
             ],
             [
              0.5555555555555556,
              "#d8576b"
             ],
             [
              0.6666666666666666,
              "#ed7953"
             ],
             [
              0.7777777777777778,
              "#fb9f3a"
             ],
             [
              0.8888888888888888,
              "#fdca26"
             ],
             [
              1,
              "#f0f921"
             ]
            ],
            "type": "heatmapgl"
           }
          ],
          "histogram": [
           {
            "marker": {
             "colorbar": {
              "outlinewidth": 0,
              "ticks": ""
             }
            },
            "type": "histogram"
           }
          ],
          "histogram2d": [
           {
            "colorbar": {
             "outlinewidth": 0,
             "ticks": ""
            },
            "colorscale": [
             [
              0,
              "#0d0887"
             ],
             [
              0.1111111111111111,
              "#46039f"
             ],
             [
              0.2222222222222222,
              "#7201a8"
             ],
             [
              0.3333333333333333,
              "#9c179e"
             ],
             [
              0.4444444444444444,
              "#bd3786"
             ],
             [
              0.5555555555555556,
              "#d8576b"
             ],
             [
              0.6666666666666666,
              "#ed7953"
             ],
             [
              0.7777777777777778,
              "#fb9f3a"
             ],
             [
              0.8888888888888888,
              "#fdca26"
             ],
             [
              1,
              "#f0f921"
             ]
            ],
            "type": "histogram2d"
           }
          ],
          "histogram2dcontour": [
           {
            "colorbar": {
             "outlinewidth": 0,
             "ticks": ""
            },
            "colorscale": [
             [
              0,
              "#0d0887"
             ],
             [
              0.1111111111111111,
              "#46039f"
             ],
             [
              0.2222222222222222,
              "#7201a8"
             ],
             [
              0.3333333333333333,
              "#9c179e"
             ],
             [
              0.4444444444444444,
              "#bd3786"
             ],
             [
              0.5555555555555556,
              "#d8576b"
             ],
             [
              0.6666666666666666,
              "#ed7953"
             ],
             [
              0.7777777777777778,
              "#fb9f3a"
             ],
             [
              0.8888888888888888,
              "#fdca26"
             ],
             [
              1,
              "#f0f921"
             ]
            ],
            "type": "histogram2dcontour"
           }
          ],
          "mesh3d": [
           {
            "colorbar": {
             "outlinewidth": 0,
             "ticks": ""
            },
            "type": "mesh3d"
           }
          ],
          "parcoords": [
           {
            "line": {
             "colorbar": {
              "outlinewidth": 0,
              "ticks": ""
             }
            },
            "type": "parcoords"
           }
          ],
          "pie": [
           {
            "automargin": true,
            "type": "pie"
           }
          ],
          "scatter": [
           {
            "marker": {
             "colorbar": {
              "outlinewidth": 0,
              "ticks": ""
             }
            },
            "type": "scatter"
           }
          ],
          "scatter3d": [
           {
            "line": {
             "colorbar": {
              "outlinewidth": 0,
              "ticks": ""
             }
            },
            "marker": {
             "colorbar": {
              "outlinewidth": 0,
              "ticks": ""
             }
            },
            "type": "scatter3d"
           }
          ],
          "scattercarpet": [
           {
            "marker": {
             "colorbar": {
              "outlinewidth": 0,
              "ticks": ""
             }
            },
            "type": "scattercarpet"
           }
          ],
          "scattergeo": [
           {
            "marker": {
             "colorbar": {
              "outlinewidth": 0,
              "ticks": ""
             }
            },
            "type": "scattergeo"
           }
          ],
          "scattergl": [
           {
            "marker": {
             "colorbar": {
              "outlinewidth": 0,
              "ticks": ""
             }
            },
            "type": "scattergl"
           }
          ],
          "scattermapbox": [
           {
            "marker": {
             "colorbar": {
              "outlinewidth": 0,
              "ticks": ""
             }
            },
            "type": "scattermapbox"
           }
          ],
          "scatterpolar": [
           {
            "marker": {
             "colorbar": {
              "outlinewidth": 0,
              "ticks": ""
             }
            },
            "type": "scatterpolar"
           }
          ],
          "scatterpolargl": [
           {
            "marker": {
             "colorbar": {
              "outlinewidth": 0,
              "ticks": ""
             }
            },
            "type": "scatterpolargl"
           }
          ],
          "scatterternary": [
           {
            "marker": {
             "colorbar": {
              "outlinewidth": 0,
              "ticks": ""
             }
            },
            "type": "scatterternary"
           }
          ],
          "surface": [
           {
            "colorbar": {
             "outlinewidth": 0,
             "ticks": ""
            },
            "colorscale": [
             [
              0,
              "#0d0887"
             ],
             [
              0.1111111111111111,
              "#46039f"
             ],
             [
              0.2222222222222222,
              "#7201a8"
             ],
             [
              0.3333333333333333,
              "#9c179e"
             ],
             [
              0.4444444444444444,
              "#bd3786"
             ],
             [
              0.5555555555555556,
              "#d8576b"
             ],
             [
              0.6666666666666666,
              "#ed7953"
             ],
             [
              0.7777777777777778,
              "#fb9f3a"
             ],
             [
              0.8888888888888888,
              "#fdca26"
             ],
             [
              1,
              "#f0f921"
             ]
            ],
            "type": "surface"
           }
          ],
          "table": [
           {
            "cells": {
             "fill": {
              "color": "#EBF0F8"
             },
             "line": {
              "color": "white"
             }
            },
            "header": {
             "fill": {
              "color": "#C8D4E3"
             },
             "line": {
              "color": "white"
             }
            },
            "type": "table"
           }
          ]
         },
         "layout": {
          "annotationdefaults": {
           "arrowcolor": "#2a3f5f",
           "arrowhead": 0,
           "arrowwidth": 1
          },
          "autotypenumbers": "strict",
          "coloraxis": {
           "colorbar": {
            "outlinewidth": 0,
            "ticks": ""
           }
          },
          "colorscale": {
           "diverging": [
            [
             0,
             "#8e0152"
            ],
            [
             0.1,
             "#c51b7d"
            ],
            [
             0.2,
             "#de77ae"
            ],
            [
             0.3,
             "#f1b6da"
            ],
            [
             0.4,
             "#fde0ef"
            ],
            [
             0.5,
             "#f7f7f7"
            ],
            [
             0.6,
             "#e6f5d0"
            ],
            [
             0.7,
             "#b8e186"
            ],
            [
             0.8,
             "#7fbc41"
            ],
            [
             0.9,
             "#4d9221"
            ],
            [
             1,
             "#276419"
            ]
           ],
           "sequential": [
            [
             0,
             "#0d0887"
            ],
            [
             0.1111111111111111,
             "#46039f"
            ],
            [
             0.2222222222222222,
             "#7201a8"
            ],
            [
             0.3333333333333333,
             "#9c179e"
            ],
            [
             0.4444444444444444,
             "#bd3786"
            ],
            [
             0.5555555555555556,
             "#d8576b"
            ],
            [
             0.6666666666666666,
             "#ed7953"
            ],
            [
             0.7777777777777778,
             "#fb9f3a"
            ],
            [
             0.8888888888888888,
             "#fdca26"
            ],
            [
             1,
             "#f0f921"
            ]
           ],
           "sequentialminus": [
            [
             0,
             "#0d0887"
            ],
            [
             0.1111111111111111,
             "#46039f"
            ],
            [
             0.2222222222222222,
             "#7201a8"
            ],
            [
             0.3333333333333333,
             "#9c179e"
            ],
            [
             0.4444444444444444,
             "#bd3786"
            ],
            [
             0.5555555555555556,
             "#d8576b"
            ],
            [
             0.6666666666666666,
             "#ed7953"
            ],
            [
             0.7777777777777778,
             "#fb9f3a"
            ],
            [
             0.8888888888888888,
             "#fdca26"
            ],
            [
             1,
             "#f0f921"
            ]
           ]
          },
          "colorway": [
           "#636efa",
           "#EF553B",
           "#00cc96",
           "#ab63fa",
           "#FFA15A",
           "#19d3f3",
           "#FF6692",
           "#B6E880",
           "#FF97FF",
           "#FECB52"
          ],
          "font": {
           "color": "#2a3f5f"
          },
          "geo": {
           "bgcolor": "white",
           "lakecolor": "white",
           "landcolor": "#E5ECF6",
           "showlakes": true,
           "showland": true,
           "subunitcolor": "white"
          },
          "hoverlabel": {
           "align": "left"
          },
          "hovermode": "closest",
          "mapbox": {
           "style": "light"
          },
          "paper_bgcolor": "white",
          "plot_bgcolor": "#E5ECF6",
          "polar": {
           "angularaxis": {
            "gridcolor": "white",
            "linecolor": "white",
            "ticks": ""
           },
           "bgcolor": "#E5ECF6",
           "radialaxis": {
            "gridcolor": "white",
            "linecolor": "white",
            "ticks": ""
           }
          },
          "scene": {
           "xaxis": {
            "backgroundcolor": "#E5ECF6",
            "gridcolor": "white",
            "gridwidth": 2,
            "linecolor": "white",
            "showbackground": true,
            "ticks": "",
            "zerolinecolor": "white"
           },
           "yaxis": {
            "backgroundcolor": "#E5ECF6",
            "gridcolor": "white",
            "gridwidth": 2,
            "linecolor": "white",
            "showbackground": true,
            "ticks": "",
            "zerolinecolor": "white"
           },
           "zaxis": {
            "backgroundcolor": "#E5ECF6",
            "gridcolor": "white",
            "gridwidth": 2,
            "linecolor": "white",
            "showbackground": true,
            "ticks": "",
            "zerolinecolor": "white"
           }
          },
          "shapedefaults": {
           "line": {
            "color": "#2a3f5f"
           }
          },
          "ternary": {
           "aaxis": {
            "gridcolor": "white",
            "linecolor": "white",
            "ticks": ""
           },
           "baxis": {
            "gridcolor": "white",
            "linecolor": "white",
            "ticks": ""
           },
           "bgcolor": "#E5ECF6",
           "caxis": {
            "gridcolor": "white",
            "linecolor": "white",
            "ticks": ""
           }
          },
          "title": {
           "x": 0.05
          },
          "xaxis": {
           "automargin": true,
           "gridcolor": "white",
           "linecolor": "white",
           "ticks": "",
           "title": {
            "standoff": 15
           },
           "zerolinecolor": "white",
           "zerolinewidth": 2
          },
          "yaxis": {
           "automargin": true,
           "gridcolor": "white",
           "linecolor": "white",
           "ticks": "",
           "title": {
            "standoff": 15
           },
           "zerolinecolor": "white",
           "zerolinewidth": 2
          }
         }
        },
        "title": {
         "font": {
          "color": "#4D5663"
         }
        },
        "xaxis": {
         "anchor": "y",
         "domain": [
          0,
          0.2125
         ],
         "gridcolor": "#E1E5ED",
         "showgrid": false,
         "tickfont": {
          "color": "#4D5663"
         },
         "title": {
          "font": {
           "color": "#4D5663"
          },
          "text": ""
         },
         "zerolinecolor": "#E1E5ED"
        },
        "xaxis10": {
         "anchor": "y10",
         "domain": [
          0.2625,
          0.475
         ],
         "gridcolor": "#E1E5ED",
         "showgrid": false,
         "tickfont": {
          "color": "#4D5663"
         },
         "title": {
          "font": {
           "color": "#4D5663"
          },
          "text": ""
         },
         "zerolinecolor": "#E1E5ED"
        },
        "xaxis11": {
         "anchor": "y11",
         "domain": [
          0.525,
          0.7375
         ],
         "gridcolor": "#E1E5ED",
         "showgrid": false,
         "tickfont": {
          "color": "#4D5663"
         },
         "title": {
          "font": {
           "color": "#4D5663"
          },
          "text": ""
         },
         "zerolinecolor": "#E1E5ED"
        },
        "xaxis12": {
         "anchor": "y12",
         "domain": [
          0.7875,
          1
         ],
         "gridcolor": "#E1E5ED",
         "showgrid": false,
         "tickfont": {
          "color": "#4D5663"
         },
         "title": {
          "font": {
           "color": "#4D5663"
          },
          "text": ""
         },
         "zerolinecolor": "#E1E5ED"
        },
        "xaxis13": {
         "anchor": "y13",
         "domain": [
          0,
          0.2125
         ],
         "gridcolor": "#E1E5ED",
         "showgrid": false,
         "tickfont": {
          "color": "#4D5663"
         },
         "title": {
          "font": {
           "color": "#4D5663"
          },
          "text": ""
         },
         "zerolinecolor": "#E1E5ED"
        },
        "xaxis14": {
         "anchor": "y14",
         "domain": [
          0.2625,
          0.475
         ],
         "gridcolor": "#E1E5ED",
         "showgrid": false,
         "tickfont": {
          "color": "#4D5663"
         },
         "title": {
          "font": {
           "color": "#4D5663"
          },
          "text": ""
         },
         "zerolinecolor": "#E1E5ED"
        },
        "xaxis15": {
         "anchor": "y15",
         "domain": [
          0.525,
          0.7375
         ],
         "gridcolor": "#E1E5ED",
         "showgrid": false,
         "tickfont": {
          "color": "#4D5663"
         },
         "title": {
          "font": {
           "color": "#4D5663"
          },
          "text": ""
         },
         "zerolinecolor": "#E1E5ED"
        },
        "xaxis16": {
         "anchor": "y16",
         "domain": [
          0.7875,
          1
         ],
         "gridcolor": "#E1E5ED",
         "showgrid": false,
         "tickfont": {
          "color": "#4D5663"
         },
         "title": {
          "font": {
           "color": "#4D5663"
          },
          "text": ""
         },
         "zerolinecolor": "#E1E5ED"
        },
        "xaxis2": {
         "anchor": "y2",
         "domain": [
          0.2625,
          0.475
         ],
         "gridcolor": "#E1E5ED",
         "showgrid": false,
         "tickfont": {
          "color": "#4D5663"
         },
         "title": {
          "font": {
           "color": "#4D5663"
          },
          "text": ""
         },
         "zerolinecolor": "#E1E5ED"
        },
        "xaxis3": {
         "anchor": "y3",
         "domain": [
          0.525,
          0.7375
         ],
         "gridcolor": "#E1E5ED",
         "showgrid": false,
         "tickfont": {
          "color": "#4D5663"
         },
         "title": {
          "font": {
           "color": "#4D5663"
          },
          "text": ""
         },
         "zerolinecolor": "#E1E5ED"
        },
        "xaxis4": {
         "anchor": "y4",
         "domain": [
          0.7875,
          1
         ],
         "gridcolor": "#E1E5ED",
         "showgrid": false,
         "tickfont": {
          "color": "#4D5663"
         },
         "title": {
          "font": {
           "color": "#4D5663"
          },
          "text": ""
         },
         "zerolinecolor": "#E1E5ED"
        },
        "xaxis5": {
         "anchor": "y5",
         "domain": [
          0,
          0.2125
         ],
         "gridcolor": "#E1E5ED",
         "showgrid": false,
         "tickfont": {
          "color": "#4D5663"
         },
         "title": {
          "font": {
           "color": "#4D5663"
          },
          "text": ""
         },
         "zerolinecolor": "#E1E5ED"
        },
        "xaxis6": {
         "anchor": "y6",
         "domain": [
          0.2625,
          0.475
         ],
         "gridcolor": "#E1E5ED",
         "showgrid": false,
         "tickfont": {
          "color": "#4D5663"
         },
         "title": {
          "font": {
           "color": "#4D5663"
          },
          "text": ""
         },
         "zerolinecolor": "#E1E5ED"
        },
        "xaxis7": {
         "anchor": "y7",
         "domain": [
          0.525,
          0.7375
         ],
         "gridcolor": "#E1E5ED",
         "showgrid": false,
         "tickfont": {
          "color": "#4D5663"
         },
         "title": {
          "font": {
           "color": "#4D5663"
          },
          "text": ""
         },
         "zerolinecolor": "#E1E5ED"
        },
        "xaxis8": {
         "anchor": "y8",
         "domain": [
          0.7875,
          1
         ],
         "gridcolor": "#E1E5ED",
         "showgrid": false,
         "tickfont": {
          "color": "#4D5663"
         },
         "title": {
          "font": {
           "color": "#4D5663"
          },
          "text": ""
         },
         "zerolinecolor": "#E1E5ED"
        },
        "xaxis9": {
         "anchor": "y9",
         "domain": [
          0,
          0.2125
         ],
         "gridcolor": "#E1E5ED",
         "showgrid": false,
         "tickfont": {
          "color": "#4D5663"
         },
         "title": {
          "font": {
           "color": "#4D5663"
          },
          "text": ""
         },
         "zerolinecolor": "#E1E5ED"
        },
        "yaxis": {
         "anchor": "x",
         "domain": [
          0.8025,
          1
         ],
         "gridcolor": "#E1E5ED",
         "showgrid": false,
         "tickfont": {
          "color": "#4D5663"
         },
         "title": {
          "font": {
           "color": "#4D5663"
          },
          "text": ""
         },
         "zerolinecolor": "#E1E5ED"
        },
        "yaxis10": {
         "anchor": "x10",
         "domain": [
          0.2675,
          0.465
         ],
         "gridcolor": "#E1E5ED",
         "showgrid": false,
         "tickfont": {
          "color": "#4D5663"
         },
         "title": {
          "font": {
           "color": "#4D5663"
          },
          "text": ""
         },
         "zerolinecolor": "#E1E5ED"
        },
        "yaxis11": {
         "anchor": "x11",
         "domain": [
          0.2675,
          0.465
         ],
         "gridcolor": "#E1E5ED",
         "showgrid": false,
         "tickfont": {
          "color": "#4D5663"
         },
         "title": {
          "font": {
           "color": "#4D5663"
          },
          "text": ""
         },
         "zerolinecolor": "#E1E5ED"
        },
        "yaxis12": {
         "anchor": "x12",
         "domain": [
          0.2675,
          0.465
         ],
         "gridcolor": "#E1E5ED",
         "showgrid": false,
         "tickfont": {
          "color": "#4D5663"
         },
         "title": {
          "font": {
           "color": "#4D5663"
          },
          "text": ""
         },
         "zerolinecolor": "#E1E5ED"
        },
        "yaxis13": {
         "anchor": "x13",
         "domain": [
          0,
          0.1975
         ],
         "gridcolor": "#E1E5ED",
         "showgrid": false,
         "tickfont": {
          "color": "#4D5663"
         },
         "title": {
          "font": {
           "color": "#4D5663"
          },
          "text": ""
         },
         "zerolinecolor": "#E1E5ED"
        },
        "yaxis14": {
         "anchor": "x14",
         "domain": [
          0,
          0.1975
         ],
         "gridcolor": "#E1E5ED",
         "showgrid": false,
         "tickfont": {
          "color": "#4D5663"
         },
         "title": {
          "font": {
           "color": "#4D5663"
          },
          "text": ""
         },
         "zerolinecolor": "#E1E5ED"
        },
        "yaxis15": {
         "anchor": "x15",
         "domain": [
          0,
          0.1975
         ],
         "gridcolor": "#E1E5ED",
         "showgrid": false,
         "tickfont": {
          "color": "#4D5663"
         },
         "title": {
          "font": {
           "color": "#4D5663"
          },
          "text": ""
         },
         "zerolinecolor": "#E1E5ED"
        },
        "yaxis16": {
         "anchor": "x16",
         "domain": [
          0,
          0.1975
         ],
         "gridcolor": "#E1E5ED",
         "showgrid": false,
         "tickfont": {
          "color": "#4D5663"
         },
         "title": {
          "font": {
           "color": "#4D5663"
          },
          "text": ""
         },
         "zerolinecolor": "#E1E5ED"
        },
        "yaxis2": {
         "anchor": "x2",
         "domain": [
          0.8025,
          1
         ],
         "gridcolor": "#E1E5ED",
         "showgrid": false,
         "tickfont": {
          "color": "#4D5663"
         },
         "title": {
          "font": {
           "color": "#4D5663"
          },
          "text": ""
         },
         "zerolinecolor": "#E1E5ED"
        },
        "yaxis3": {
         "anchor": "x3",
         "domain": [
          0.8025,
          1
         ],
         "gridcolor": "#E1E5ED",
         "showgrid": false,
         "tickfont": {
          "color": "#4D5663"
         },
         "title": {
          "font": {
           "color": "#4D5663"
          },
          "text": ""
         },
         "zerolinecolor": "#E1E5ED"
        },
        "yaxis4": {
         "anchor": "x4",
         "domain": [
          0.8025,
          1
         ],
         "gridcolor": "#E1E5ED",
         "showgrid": false,
         "tickfont": {
          "color": "#4D5663"
         },
         "title": {
          "font": {
           "color": "#4D5663"
          },
          "text": ""
         },
         "zerolinecolor": "#E1E5ED"
        },
        "yaxis5": {
         "anchor": "x5",
         "domain": [
          0.535,
          0.7325
         ],
         "gridcolor": "#E1E5ED",
         "showgrid": false,
         "tickfont": {
          "color": "#4D5663"
         },
         "title": {
          "font": {
           "color": "#4D5663"
          },
          "text": ""
         },
         "zerolinecolor": "#E1E5ED"
        },
        "yaxis6": {
         "anchor": "x6",
         "domain": [
          0.535,
          0.7325
         ],
         "gridcolor": "#E1E5ED",
         "showgrid": false,
         "tickfont": {
          "color": "#4D5663"
         },
         "title": {
          "font": {
           "color": "#4D5663"
          },
          "text": ""
         },
         "zerolinecolor": "#E1E5ED"
        },
        "yaxis7": {
         "anchor": "x7",
         "domain": [
          0.535,
          0.7325
         ],
         "gridcolor": "#E1E5ED",
         "showgrid": false,
         "tickfont": {
          "color": "#4D5663"
         },
         "title": {
          "font": {
           "color": "#4D5663"
          },
          "text": ""
         },
         "zerolinecolor": "#E1E5ED"
        },
        "yaxis8": {
         "anchor": "x8",
         "domain": [
          0.535,
          0.7325
         ],
         "gridcolor": "#E1E5ED",
         "showgrid": false,
         "tickfont": {
          "color": "#4D5663"
         },
         "title": {
          "font": {
           "color": "#4D5663"
          },
          "text": ""
         },
         "zerolinecolor": "#E1E5ED"
        },
        "yaxis9": {
         "anchor": "x9",
         "domain": [
          0.2675,
          0.465
         ],
         "gridcolor": "#E1E5ED",
         "showgrid": false,
         "tickfont": {
          "color": "#4D5663"
         },
         "title": {
          "font": {
           "color": "#4D5663"
          },
          "text": ""
         },
         "zerolinecolor": "#E1E5ED"
        }
       }
      },
      "text/html": [
       "<div>                            <div id=\"810f890c-82d2-4407-a41d-c3b57b7adab5\" class=\"plotly-graph-div\" style=\"height:525px; width:100%;\"></div>            <script type=\"text/javascript\">                require([\"plotly\"], function(Plotly) {                    window.PLOTLYENV=window.PLOTLYENV || {};\n",
       "                    window.PLOTLYENV.BASE_URL='https://plot.ly';                                    if (document.getElementById(\"810f890c-82d2-4407-a41d-c3b57b7adab5\")) {                    Plotly.newPlot(                        \"810f890c-82d2-4407-a41d-c3b57b7adab5\",                        [{\"histfunc\": \"count\", \"histnorm\": \"\", \"marker\": {\"color\": \"rgba(255, 153, 51, 1.0)\", \"line\": {\"color\": \"#4D5663\", \"width\": 1.3}}, \"name\": \"A\", \"nbinsx\": 10, \"opacity\": 0.8, \"orientation\": \"v\", \"type\": \"histogram\", \"x\": [-1.4610241031401339, 0.09525150167714372, -0.029203584395679657, -0.014015621374794238, 1.3061216714143065, -0.31702307455461454, -1.1289839361958052, -0.13699963759455056, -0.6639938504440216, 0.9470923910686199, 1.553358059937682, 0.05045164189835665, 0.05751000634937235, 2.1315144223408105, 0.46274757495098084, -0.17673927911072126, -0.4606921426908111, -0.43086281676434296, -2.1264803113550594, 0.001056488752819712, -0.3059598987663699, 0.9662890754859629, 0.2510262672230263, -0.9617278560791738, 0.048995145654571845, -1.0209156821548113, -0.5691472839815525, 0.4996248117695914, 0.4464570983716666, -0.16336359024926198, 1.262599325533162, -0.38117396654870617, 0.6470503045744972, 1.98286394042055, 0.3984834505594768, 0.7771765568436815, 0.6232338000739429, 1.167642598764409, -0.6183478391013726, 1.2230733527522957, 0.502339193606301, -1.1320171943548307, -0.7080909329004074, 1.2718460327483254, -1.485782893035162, 0.4319773772095389, 0.362675989804671, 1.4424577308111275, 0.32319678124815143, -1.1700283154363498, 1.8634674399731277, 1.3157150735096061, -1.0097525209274345, -1.8188977326440103, 0.32593373911336543, 0.5229234346569209, -0.11081787742866657, -0.4975140914807007, -1.2059467191465185, -1.498419024882172, 2.255904266090674, -0.2302591959967517, -0.6209322962615502, 0.49579609306554884, -0.16989586521007646, 0.46588198032360506, -0.909141855445599, -0.0009026500043386546, 0.48123916040588277, 1.118792923213792, -0.4420688885202043, 0.9751416814442033, -0.03744211472540877, -1.778410999950504, -0.6892087536621391, -0.2385350486172311, 0.019730054488734897, 1.6716799790383337, 1.3566170705713458, 0.8873773894586302, -2.0888727474034563, -0.41046309299992867, -0.5549572208662424, -1.5861279398806762, -0.3540634750924586, 0.6090614019865381, 1.2372628555021594, -0.3429623623702404, -0.1606326504345451, 1.622631579628323, 1.0736460288414729, -0.7629319166489795, -0.5029453305115006, 0.1671892839193268, -1.488441025936215, -0.27038751087145, 0.855741339941454, -0.16881176419721813, -0.16170217362603542, 0.9173449807873943], \"xaxis\": \"x\", \"yaxis\": \"y\"}, {\"line\": {\"color\": \"rgba(128, 128, 128, 1.0)\", \"dash\": \"solid\", \"shape\": \"linear\", \"width\": 1.3}, \"marker\": {\"size\": 2, \"symbol\": \"circle\"}, \"mode\": \"markers\", \"name\": \"A\", \"text\": \"\", \"type\": \"scatter\", \"x\": [0.3907902707269141, 0.6943603904272828, -0.5795978735730865, 0.813526262604139, 0.7839931065000858, -0.46753196417464715, 1.0359830523535647, -0.00108728024401313, -0.8081899074223791, -1.7047006560220002, -1.2500075128534878, 0.22565379843725744, 0.8538877104205691, -0.010769431923218427, -0.16471091416661995, 1.1532806339771444, -0.3057147481342851, -0.4072257391625898, 0.33177364843814655, -1.9259607592803352, 0.6328208279632327, 0.09822037368245887, 0.22575815059781187, 0.3342337338883107, 0.20918911354792807, 0.7884841767921292, -1.777038244279568, -0.8943194078336356, 0.7836857923081855, 0.6141031111803202, 0.5733925432595015, -0.049455510335339334, 0.9530936899389951, -1.4516704869032073, 0.5115887243863995, 0.6530646533442895, -0.23318159386226586, -1.319150131657982, 0.09463672775412493, 0.23313384209217008, -0.2983196316579245, -0.5678273244648308, 0.16437722381798814, -0.9296545964289905, 1.0922975549754237, -0.38336998654816523, 0.9051218108852752, 0.14618559623315341, 0.31466443511763487, 0.3879173171179358, -0.13602702775758238, -0.20229107248405542, 0.1312551692725429, 0.7657452778482757, -1.2969540759673137, -0.7525532691354485, 0.3375024417733412, -2.152534835068167, -1.2672607327528433, 1.240409131065859, 1.1770976240664932, -1.603010773610958, -0.237769129998576, -0.897073434357532, -0.9488046371465231, 0.6581283215809342, -0.06199463793937336, -0.8913999214397087, 0.4416057732101811, 0.6416648824250734, 1.4767731563075561, -0.8614378000150077, 1.0656352143878887, -1.145896856232693, -0.4880349854953325, 0.5836904660158005, 0.7939388605800349, 1.4499445941855056, 0.9854561681177022, 0.34020877181506953, 0.7235608805617902, 0.5377245985934934, 0.3493967640908654, 1.7702394754577686, -0.03111817077616619, 1.0432325635583046, -0.06443575244437817, -1.1069474415167795, 1.7477037930677306, 1.1762878474972331, 0.29762924979802713, -0.1934011522487943, -1.1299835327263392, 0.25635755789500264, -1.401477366719103, -1.3245095525725623, 0.29160187861069464, 0.6029746174004685, -0.308557547221511, 0.4159428841252249], \"xaxis\": \"x2\", \"y\": [-1.4610241031401339, 0.09525150167714372, -0.029203584395679657, -0.014015621374794238, 1.3061216714143065, -0.31702307455461454, -1.1289839361958052, -0.13699963759455056, -0.6639938504440216, 0.9470923910686199, 1.553358059937682, 0.05045164189835665, 0.05751000634937235, 2.1315144223408105, 0.46274757495098084, -0.17673927911072126, -0.4606921426908111, -0.43086281676434296, -2.1264803113550594, 0.001056488752819712, -0.3059598987663699, 0.9662890754859629, 0.2510262672230263, -0.9617278560791738, 0.048995145654571845, -1.0209156821548113, -0.5691472839815525, 0.4996248117695914, 0.4464570983716666, -0.16336359024926198, 1.262599325533162, -0.38117396654870617, 0.6470503045744972, 1.98286394042055, 0.3984834505594768, 0.7771765568436815, 0.6232338000739429, 1.167642598764409, -0.6183478391013726, 1.2230733527522957, 0.502339193606301, -1.1320171943548307, -0.7080909329004074, 1.2718460327483254, -1.485782893035162, 0.4319773772095389, 0.362675989804671, 1.4424577308111275, 0.32319678124815143, -1.1700283154363498, 1.8634674399731277, 1.3157150735096061, -1.0097525209274345, -1.8188977326440103, 0.32593373911336543, 0.5229234346569209, -0.11081787742866657, -0.4975140914807007, -1.2059467191465185, -1.498419024882172, 2.255904266090674, -0.2302591959967517, -0.6209322962615502, 0.49579609306554884, -0.16989586521007646, 0.46588198032360506, -0.909141855445599, -0.0009026500043386546, 0.48123916040588277, 1.118792923213792, -0.4420688885202043, 0.9751416814442033, -0.03744211472540877, -1.778410999950504, -0.6892087536621391, -0.2385350486172311, 0.019730054488734897, 1.6716799790383337, 1.3566170705713458, 0.8873773894586302, -2.0888727474034563, -0.41046309299992867, -0.5549572208662424, -1.5861279398806762, -0.3540634750924586, 0.6090614019865381, 1.2372628555021594, -0.3429623623702404, -0.1606326504345451, 1.622631579628323, 1.0736460288414729, -0.7629319166489795, -0.5029453305115006, 0.1671892839193268, -1.488441025936215, -0.27038751087145, 0.855741339941454, -0.16881176419721813, -0.16170217362603542, 0.9173449807873943], \"yaxis\": \"y2\"}, {\"line\": {\"color\": \"rgba(128, 128, 128, 1.0)\", \"dash\": \"solid\", \"shape\": \"linear\", \"width\": 1.3}, \"marker\": {\"size\": 2, \"symbol\": \"circle\"}, \"mode\": \"markers\", \"name\": \"A\", \"text\": \"\", \"type\": \"scatter\", \"x\": [-1.588518383084947, -0.25510529051838327, 0.07843303965625309, 0.3864557819134835, -1.09744143252163, 1.1804110069207534, -0.7433800204601851, 0.5753073643150647, -0.46313790316926323, 0.6543869181485661, 0.6265824877282654, -0.4539417662001653, 0.6696234450850123, 0.13069696307258144, -0.8867305435232409, -0.6250839491644894, 1.0097934384872906, 1.9023000035376307, 1.7009009639164385, -1.8411330536034713, -0.47464795002036747, -0.9982558219884498, 1.8344684902582309, 0.8192994654140996, -0.8335570745722221, -0.23972422219611114, 0.1689960648817115, 0.4698304057186679, -0.013340480348581244, -0.028051963281221937, 0.38398107818510635, 0.3937260257823908, -0.8123063459709408, -0.9993012029697024, -0.4152564075921749, 0.3655373303202848, -0.043408441663682476, -1.0443853502640081, -0.9698020566137836, 0.12256429336064191, 0.7356745185567378, 0.575392072982969, -0.33123080036967556, -1.185948457910172, -0.6111894681016925, -0.7945882795982716, 0.5020861788162949, -0.1578308254726711, -0.9869183983562312, 1.746200868438099, -0.37595688343323813, 0.13280117462258295, 1.2265259236048744, 0.2244340472116479, -1.8036664717250686, -0.29766457443473365, 0.5642521475493323, -0.5371447741300974, -1.1965527481693412, 1.1718385463743948, -0.3213005093326319, 2.4843766032829118, 2.3103908916350133, -0.9451710303787467, 0.6571154746001218, 1.316173218583312, 0.8330088624591149, 1.13092757585928, -0.27272341394384453, 0.4644537032765058, 0.07189971278123376, -0.9570518724398468, 0.44241242036356343, 0.005593809973949465, -1.0127649251581823, 0.3006123624304811, 1.3744735827062333, 0.038622245321359334, -0.9452780090729435, 2.0136519003518596, -0.004495202845143408, -0.25759335648309745, -1.1260013746246536, -0.5944480194050978, 1.6056735328339102, 1.19511407121231, 1.6153785450405376, -1.6932136658370074, -1.42390606086027, -0.4094603926470258, 1.0082761168261307, 0.2867048729727579, -0.4317049721677748, -1.7372064120191864, -0.10308707131192661, -0.46464036309498136, 0.8341943684669411, -1.9737194064119694, -1.99139390644937, 1.2455026058183056], \"xaxis\": \"x3\", \"y\": [-1.4610241031401339, 0.09525150167714372, -0.029203584395679657, -0.014015621374794238, 1.3061216714143065, -0.31702307455461454, -1.1289839361958052, -0.13699963759455056, -0.6639938504440216, 0.9470923910686199, 1.553358059937682, 0.05045164189835665, 0.05751000634937235, 2.1315144223408105, 0.46274757495098084, -0.17673927911072126, -0.4606921426908111, -0.43086281676434296, -2.1264803113550594, 0.001056488752819712, -0.3059598987663699, 0.9662890754859629, 0.2510262672230263, -0.9617278560791738, 0.048995145654571845, -1.0209156821548113, -0.5691472839815525, 0.4996248117695914, 0.4464570983716666, -0.16336359024926198, 1.262599325533162, -0.38117396654870617, 0.6470503045744972, 1.98286394042055, 0.3984834505594768, 0.7771765568436815, 0.6232338000739429, 1.167642598764409, -0.6183478391013726, 1.2230733527522957, 0.502339193606301, -1.1320171943548307, -0.7080909329004074, 1.2718460327483254, -1.485782893035162, 0.4319773772095389, 0.362675989804671, 1.4424577308111275, 0.32319678124815143, -1.1700283154363498, 1.8634674399731277, 1.3157150735096061, -1.0097525209274345, -1.8188977326440103, 0.32593373911336543, 0.5229234346569209, -0.11081787742866657, -0.4975140914807007, -1.2059467191465185, -1.498419024882172, 2.255904266090674, -0.2302591959967517, -0.6209322962615502, 0.49579609306554884, -0.16989586521007646, 0.46588198032360506, -0.909141855445599, -0.0009026500043386546, 0.48123916040588277, 1.118792923213792, -0.4420688885202043, 0.9751416814442033, -0.03744211472540877, -1.778410999950504, -0.6892087536621391, -0.2385350486172311, 0.019730054488734897, 1.6716799790383337, 1.3566170705713458, 0.8873773894586302, -2.0888727474034563, -0.41046309299992867, -0.5549572208662424, -1.5861279398806762, -0.3540634750924586, 0.6090614019865381, 1.2372628555021594, -0.3429623623702404, -0.1606326504345451, 1.622631579628323, 1.0736460288414729, -0.7629319166489795, -0.5029453305115006, 0.1671892839193268, -1.488441025936215, -0.27038751087145, 0.855741339941454, -0.16881176419721813, -0.16170217362603542, 0.9173449807873943], \"yaxis\": \"y3\"}, {\"line\": {\"color\": \"rgba(128, 128, 128, 1.0)\", \"dash\": \"solid\", \"shape\": \"linear\", \"width\": 1.3}, \"marker\": {\"size\": 2, \"symbol\": \"circle\"}, \"mode\": \"markers\", \"name\": \"A\", \"text\": \"\", \"type\": \"scatter\", \"x\": [-0.20308556376547537, 0.19762469288020745, 0.6704321743135898, -0.5986241735582623, -0.25759095692230527, -0.05747054214033602, -0.932710350273873, -1.0441315195474943, 0.1128314687479193, 0.7892422787785415, 0.0852285295692371, 0.35126214936583744, 1.8544165399332506, -1.4673580200808247, -1.7083706335257736, -1.272795966352538, 0.13657404929718472, 1.1088686376416257, 1.0360806444077852, -0.07457436081638934, -0.8044809295312358, -0.04828532842693859, 0.6593850434257252, -0.5658765585099089, 0.3423078664072504, -0.003085031082305999, 2.018187586743007, 0.6185980152915729, 1.7584542986691818, -1.5477793170953247, 0.8468774185788381, 1.2440610988793863, 0.7117036625565885, 1.240570040540003, 0.45794955761531136, 1.0647416762047635, -1.062620249089035, -0.6239492223248511, 1.6340455586893559, -0.46932216668858123, 0.10982913026295896, -2.606475104184327, 0.661850506062008, -0.811975012976815, -0.31238136540442235, -0.9920729069399843, -0.8151321623577781, -1.0660483059432084, -1.3513103796811499, -0.5096993775872938, -0.3423963630383938, 1.0890607235567875, 1.412582216775854, -0.5745153951129882, -0.09471548014551695, -1.2274900693742057, 0.9913406461115387, 1.2857250242618052, -1.4220485699165202, -0.20751562677718327, 1.269516515414513, 1.7630631587377619, -0.3405730854733291, -0.6243236780693461, 1.7062622406008303, -0.009716789825434882, 0.18580110459527216, 0.6066014190421658, -0.21684318444156456, 0.8902856548059778, 1.0594853835375297, -1.3427659913083283, -0.9249466420264154, -0.4736042418071167, 0.5978483667104654, 0.303287016773075, -1.5996703832688668, -0.4497857200657572, -1.8590951581175674, 0.38249787592501855, 0.43651573957238776, -0.6695674403809402, 1.032013861089123, 1.035662317354519, -0.016073852149997993, -0.564809977687965, -0.7205227740745791, -0.2209884244788965, -0.7201406209581277, -0.02057371877325681, -1.8582243694386562, 0.1733246814087179, -0.7227674162352797, 0.2981652039556083, -1.921240770994483, 0.9118896914002779, 0.6163142733027049, 0.02393141056674211, 1.186154597115317, 0.580847168673218], \"xaxis\": \"x4\", \"y\": [-1.4610241031401339, 0.09525150167714372, -0.029203584395679657, -0.014015621374794238, 1.3061216714143065, -0.31702307455461454, -1.1289839361958052, -0.13699963759455056, -0.6639938504440216, 0.9470923910686199, 1.553358059937682, 0.05045164189835665, 0.05751000634937235, 2.1315144223408105, 0.46274757495098084, -0.17673927911072126, -0.4606921426908111, -0.43086281676434296, -2.1264803113550594, 0.001056488752819712, -0.3059598987663699, 0.9662890754859629, 0.2510262672230263, -0.9617278560791738, 0.048995145654571845, -1.0209156821548113, -0.5691472839815525, 0.4996248117695914, 0.4464570983716666, -0.16336359024926198, 1.262599325533162, -0.38117396654870617, 0.6470503045744972, 1.98286394042055, 0.3984834505594768, 0.7771765568436815, 0.6232338000739429, 1.167642598764409, -0.6183478391013726, 1.2230733527522957, 0.502339193606301, -1.1320171943548307, -0.7080909329004074, 1.2718460327483254, -1.485782893035162, 0.4319773772095389, 0.362675989804671, 1.4424577308111275, 0.32319678124815143, -1.1700283154363498, 1.8634674399731277, 1.3157150735096061, -1.0097525209274345, -1.8188977326440103, 0.32593373911336543, 0.5229234346569209, -0.11081787742866657, -0.4975140914807007, -1.2059467191465185, -1.498419024882172, 2.255904266090674, -0.2302591959967517, -0.6209322962615502, 0.49579609306554884, -0.16989586521007646, 0.46588198032360506, -0.909141855445599, -0.0009026500043386546, 0.48123916040588277, 1.118792923213792, -0.4420688885202043, 0.9751416814442033, -0.03744211472540877, -1.778410999950504, -0.6892087536621391, -0.2385350486172311, 0.019730054488734897, 1.6716799790383337, 1.3566170705713458, 0.8873773894586302, -2.0888727474034563, -0.41046309299992867, -0.5549572208662424, -1.5861279398806762, -0.3540634750924586, 0.6090614019865381, 1.2372628555021594, -0.3429623623702404, -0.1606326504345451, 1.622631579628323, 1.0736460288414729, -0.7629319166489795, -0.5029453305115006, 0.1671892839193268, -1.488441025936215, -0.27038751087145, 0.855741339941454, -0.16881176419721813, -0.16170217362603542, 0.9173449807873943], \"yaxis\": \"y4\"}, {\"line\": {\"color\": \"rgba(128, 128, 128, 1.0)\", \"dash\": \"solid\", \"shape\": \"linear\", \"width\": 1.3}, \"marker\": {\"size\": 2, \"symbol\": \"circle\"}, \"mode\": \"markers\", \"name\": \"B\", \"text\": \"\", \"type\": \"scatter\", \"x\": [-1.4610241031401339, 0.09525150167714372, -0.029203584395679657, -0.014015621374794238, 1.3061216714143065, -0.31702307455461454, -1.1289839361958052, -0.13699963759455056, -0.6639938504440216, 0.9470923910686199, 1.553358059937682, 0.05045164189835665, 0.05751000634937235, 2.1315144223408105, 0.46274757495098084, -0.17673927911072126, -0.4606921426908111, -0.43086281676434296, -2.1264803113550594, 0.001056488752819712, -0.3059598987663699, 0.9662890754859629, 0.2510262672230263, -0.9617278560791738, 0.048995145654571845, -1.0209156821548113, -0.5691472839815525, 0.4996248117695914, 0.4464570983716666, -0.16336359024926198, 1.262599325533162, -0.38117396654870617, 0.6470503045744972, 1.98286394042055, 0.3984834505594768, 0.7771765568436815, 0.6232338000739429, 1.167642598764409, -0.6183478391013726, 1.2230733527522957, 0.502339193606301, -1.1320171943548307, -0.7080909329004074, 1.2718460327483254, -1.485782893035162, 0.4319773772095389, 0.362675989804671, 1.4424577308111275, 0.32319678124815143, -1.1700283154363498, 1.8634674399731277, 1.3157150735096061, -1.0097525209274345, -1.8188977326440103, 0.32593373911336543, 0.5229234346569209, -0.11081787742866657, -0.4975140914807007, -1.2059467191465185, -1.498419024882172, 2.255904266090674, -0.2302591959967517, -0.6209322962615502, 0.49579609306554884, -0.16989586521007646, 0.46588198032360506, -0.909141855445599, -0.0009026500043386546, 0.48123916040588277, 1.118792923213792, -0.4420688885202043, 0.9751416814442033, -0.03744211472540877, -1.778410999950504, -0.6892087536621391, -0.2385350486172311, 0.019730054488734897, 1.6716799790383337, 1.3566170705713458, 0.8873773894586302, -2.0888727474034563, -0.41046309299992867, -0.5549572208662424, -1.5861279398806762, -0.3540634750924586, 0.6090614019865381, 1.2372628555021594, -0.3429623623702404, -0.1606326504345451, 1.622631579628323, 1.0736460288414729, -0.7629319166489795, -0.5029453305115006, 0.1671892839193268, -1.488441025936215, -0.27038751087145, 0.855741339941454, -0.16881176419721813, -0.16170217362603542, 0.9173449807873943], \"xaxis\": \"x5\", \"y\": [0.3907902707269141, 0.6943603904272828, -0.5795978735730865, 0.813526262604139, 0.7839931065000858, -0.46753196417464715, 1.0359830523535647, -0.00108728024401313, -0.8081899074223791, -1.7047006560220002, -1.2500075128534878, 0.22565379843725744, 0.8538877104205691, -0.010769431923218427, -0.16471091416661995, 1.1532806339771444, -0.3057147481342851, -0.4072257391625898, 0.33177364843814655, -1.9259607592803352, 0.6328208279632327, 0.09822037368245887, 0.22575815059781187, 0.3342337338883107, 0.20918911354792807, 0.7884841767921292, -1.777038244279568, -0.8943194078336356, 0.7836857923081855, 0.6141031111803202, 0.5733925432595015, -0.049455510335339334, 0.9530936899389951, -1.4516704869032073, 0.5115887243863995, 0.6530646533442895, -0.23318159386226586, -1.319150131657982, 0.09463672775412493, 0.23313384209217008, -0.2983196316579245, -0.5678273244648308, 0.16437722381798814, -0.9296545964289905, 1.0922975549754237, -0.38336998654816523, 0.9051218108852752, 0.14618559623315341, 0.31466443511763487, 0.3879173171179358, -0.13602702775758238, -0.20229107248405542, 0.1312551692725429, 0.7657452778482757, -1.2969540759673137, -0.7525532691354485, 0.3375024417733412, -2.152534835068167, -1.2672607327528433, 1.240409131065859, 1.1770976240664932, -1.603010773610958, -0.237769129998576, -0.897073434357532, -0.9488046371465231, 0.6581283215809342, -0.06199463793937336, -0.8913999214397087, 0.4416057732101811, 0.6416648824250734, 1.4767731563075561, -0.8614378000150077, 1.0656352143878887, -1.145896856232693, -0.4880349854953325, 0.5836904660158005, 0.7939388605800349, 1.4499445941855056, 0.9854561681177022, 0.34020877181506953, 0.7235608805617902, 0.5377245985934934, 0.3493967640908654, 1.7702394754577686, -0.03111817077616619, 1.0432325635583046, -0.06443575244437817, -1.1069474415167795, 1.7477037930677306, 1.1762878474972331, 0.29762924979802713, -0.1934011522487943, -1.1299835327263392, 0.25635755789500264, -1.401477366719103, -1.3245095525725623, 0.29160187861069464, 0.6029746174004685, -0.308557547221511, 0.4159428841252249], \"yaxis\": \"y5\"}, {\"histfunc\": \"count\", \"histnorm\": \"\", \"marker\": {\"color\": \"rgba(55, 128, 191, 1.0)\", \"line\": {\"color\": \"#4D5663\", \"width\": 1.3}}, \"name\": \"B\", \"nbinsx\": 10, \"opacity\": 0.8, \"orientation\": \"v\", \"type\": \"histogram\", \"x\": [0.3907902707269141, 0.6943603904272828, -0.5795978735730865, 0.813526262604139, 0.7839931065000858, -0.46753196417464715, 1.0359830523535647, -0.00108728024401313, -0.8081899074223791, -1.7047006560220002, -1.2500075128534878, 0.22565379843725744, 0.8538877104205691, -0.010769431923218427, -0.16471091416661995, 1.1532806339771444, -0.3057147481342851, -0.4072257391625898, 0.33177364843814655, -1.9259607592803352, 0.6328208279632327, 0.09822037368245887, 0.22575815059781187, 0.3342337338883107, 0.20918911354792807, 0.7884841767921292, -1.777038244279568, -0.8943194078336356, 0.7836857923081855, 0.6141031111803202, 0.5733925432595015, -0.049455510335339334, 0.9530936899389951, -1.4516704869032073, 0.5115887243863995, 0.6530646533442895, -0.23318159386226586, -1.319150131657982, 0.09463672775412493, 0.23313384209217008, -0.2983196316579245, -0.5678273244648308, 0.16437722381798814, -0.9296545964289905, 1.0922975549754237, -0.38336998654816523, 0.9051218108852752, 0.14618559623315341, 0.31466443511763487, 0.3879173171179358, -0.13602702775758238, -0.20229107248405542, 0.1312551692725429, 0.7657452778482757, -1.2969540759673137, -0.7525532691354485, 0.3375024417733412, -2.152534835068167, -1.2672607327528433, 1.240409131065859, 1.1770976240664932, -1.603010773610958, -0.237769129998576, -0.897073434357532, -0.9488046371465231, 0.6581283215809342, -0.06199463793937336, -0.8913999214397087, 0.4416057732101811, 0.6416648824250734, 1.4767731563075561, -0.8614378000150077, 1.0656352143878887, -1.145896856232693, -0.4880349854953325, 0.5836904660158005, 0.7939388605800349, 1.4499445941855056, 0.9854561681177022, 0.34020877181506953, 0.7235608805617902, 0.5377245985934934, 0.3493967640908654, 1.7702394754577686, -0.03111817077616619, 1.0432325635583046, -0.06443575244437817, -1.1069474415167795, 1.7477037930677306, 1.1762878474972331, 0.29762924979802713, -0.1934011522487943, -1.1299835327263392, 0.25635755789500264, -1.401477366719103, -1.3245095525725623, 0.29160187861069464, 0.6029746174004685, -0.308557547221511, 0.4159428841252249], \"xaxis\": \"x6\", \"yaxis\": \"y6\"}, {\"line\": {\"color\": \"rgba(128, 128, 128, 1.0)\", \"dash\": \"solid\", \"shape\": \"linear\", \"width\": 1.3}, \"marker\": {\"size\": 2, \"symbol\": \"circle\"}, \"mode\": \"markers\", \"name\": \"B\", \"text\": \"\", \"type\": \"scatter\", \"x\": [-1.588518383084947, -0.25510529051838327, 0.07843303965625309, 0.3864557819134835, -1.09744143252163, 1.1804110069207534, -0.7433800204601851, 0.5753073643150647, -0.46313790316926323, 0.6543869181485661, 0.6265824877282654, -0.4539417662001653, 0.6696234450850123, 0.13069696307258144, -0.8867305435232409, -0.6250839491644894, 1.0097934384872906, 1.9023000035376307, 1.7009009639164385, -1.8411330536034713, -0.47464795002036747, -0.9982558219884498, 1.8344684902582309, 0.8192994654140996, -0.8335570745722221, -0.23972422219611114, 0.1689960648817115, 0.4698304057186679, -0.013340480348581244, -0.028051963281221937, 0.38398107818510635, 0.3937260257823908, -0.8123063459709408, -0.9993012029697024, -0.4152564075921749, 0.3655373303202848, -0.043408441663682476, -1.0443853502640081, -0.9698020566137836, 0.12256429336064191, 0.7356745185567378, 0.575392072982969, -0.33123080036967556, -1.185948457910172, -0.6111894681016925, -0.7945882795982716, 0.5020861788162949, -0.1578308254726711, -0.9869183983562312, 1.746200868438099, -0.37595688343323813, 0.13280117462258295, 1.2265259236048744, 0.2244340472116479, -1.8036664717250686, -0.29766457443473365, 0.5642521475493323, -0.5371447741300974, -1.1965527481693412, 1.1718385463743948, -0.3213005093326319, 2.4843766032829118, 2.3103908916350133, -0.9451710303787467, 0.6571154746001218, 1.316173218583312, 0.8330088624591149, 1.13092757585928, -0.27272341394384453, 0.4644537032765058, 0.07189971278123376, -0.9570518724398468, 0.44241242036356343, 0.005593809973949465, -1.0127649251581823, 0.3006123624304811, 1.3744735827062333, 0.038622245321359334, -0.9452780090729435, 2.0136519003518596, -0.004495202845143408, -0.25759335648309745, -1.1260013746246536, -0.5944480194050978, 1.6056735328339102, 1.19511407121231, 1.6153785450405376, -1.6932136658370074, -1.42390606086027, -0.4094603926470258, 1.0082761168261307, 0.2867048729727579, -0.4317049721677748, -1.7372064120191864, -0.10308707131192661, -0.46464036309498136, 0.8341943684669411, -1.9737194064119694, -1.99139390644937, 1.2455026058183056], \"xaxis\": \"x7\", \"y\": [0.3907902707269141, 0.6943603904272828, -0.5795978735730865, 0.813526262604139, 0.7839931065000858, -0.46753196417464715, 1.0359830523535647, -0.00108728024401313, -0.8081899074223791, -1.7047006560220002, -1.2500075128534878, 0.22565379843725744, 0.8538877104205691, -0.010769431923218427, -0.16471091416661995, 1.1532806339771444, -0.3057147481342851, -0.4072257391625898, 0.33177364843814655, -1.9259607592803352, 0.6328208279632327, 0.09822037368245887, 0.22575815059781187, 0.3342337338883107, 0.20918911354792807, 0.7884841767921292, -1.777038244279568, -0.8943194078336356, 0.7836857923081855, 0.6141031111803202, 0.5733925432595015, -0.049455510335339334, 0.9530936899389951, -1.4516704869032073, 0.5115887243863995, 0.6530646533442895, -0.23318159386226586, -1.319150131657982, 0.09463672775412493, 0.23313384209217008, -0.2983196316579245, -0.5678273244648308, 0.16437722381798814, -0.9296545964289905, 1.0922975549754237, -0.38336998654816523, 0.9051218108852752, 0.14618559623315341, 0.31466443511763487, 0.3879173171179358, -0.13602702775758238, -0.20229107248405542, 0.1312551692725429, 0.7657452778482757, -1.2969540759673137, -0.7525532691354485, 0.3375024417733412, -2.152534835068167, -1.2672607327528433, 1.240409131065859, 1.1770976240664932, -1.603010773610958, -0.237769129998576, -0.897073434357532, -0.9488046371465231, 0.6581283215809342, -0.06199463793937336, -0.8913999214397087, 0.4416057732101811, 0.6416648824250734, 1.4767731563075561, -0.8614378000150077, 1.0656352143878887, -1.145896856232693, -0.4880349854953325, 0.5836904660158005, 0.7939388605800349, 1.4499445941855056, 0.9854561681177022, 0.34020877181506953, 0.7235608805617902, 0.5377245985934934, 0.3493967640908654, 1.7702394754577686, -0.03111817077616619, 1.0432325635583046, -0.06443575244437817, -1.1069474415167795, 1.7477037930677306, 1.1762878474972331, 0.29762924979802713, -0.1934011522487943, -1.1299835327263392, 0.25635755789500264, -1.401477366719103, -1.3245095525725623, 0.29160187861069464, 0.6029746174004685, -0.308557547221511, 0.4159428841252249], \"yaxis\": \"y7\"}, {\"line\": {\"color\": \"rgba(128, 128, 128, 1.0)\", \"dash\": \"solid\", \"shape\": \"linear\", \"width\": 1.3}, \"marker\": {\"size\": 2, \"symbol\": \"circle\"}, \"mode\": \"markers\", \"name\": \"B\", \"text\": \"\", \"type\": \"scatter\", \"x\": [-0.20308556376547537, 0.19762469288020745, 0.6704321743135898, -0.5986241735582623, -0.25759095692230527, -0.05747054214033602, -0.932710350273873, -1.0441315195474943, 0.1128314687479193, 0.7892422787785415, 0.0852285295692371, 0.35126214936583744, 1.8544165399332506, -1.4673580200808247, -1.7083706335257736, -1.272795966352538, 0.13657404929718472, 1.1088686376416257, 1.0360806444077852, -0.07457436081638934, -0.8044809295312358, -0.04828532842693859, 0.6593850434257252, -0.5658765585099089, 0.3423078664072504, -0.003085031082305999, 2.018187586743007, 0.6185980152915729, 1.7584542986691818, -1.5477793170953247, 0.8468774185788381, 1.2440610988793863, 0.7117036625565885, 1.240570040540003, 0.45794955761531136, 1.0647416762047635, -1.062620249089035, -0.6239492223248511, 1.6340455586893559, -0.46932216668858123, 0.10982913026295896, -2.606475104184327, 0.661850506062008, -0.811975012976815, -0.31238136540442235, -0.9920729069399843, -0.8151321623577781, -1.0660483059432084, -1.3513103796811499, -0.5096993775872938, -0.3423963630383938, 1.0890607235567875, 1.412582216775854, -0.5745153951129882, -0.09471548014551695, -1.2274900693742057, 0.9913406461115387, 1.2857250242618052, -1.4220485699165202, -0.20751562677718327, 1.269516515414513, 1.7630631587377619, -0.3405730854733291, -0.6243236780693461, 1.7062622406008303, -0.009716789825434882, 0.18580110459527216, 0.6066014190421658, -0.21684318444156456, 0.8902856548059778, 1.0594853835375297, -1.3427659913083283, -0.9249466420264154, -0.4736042418071167, 0.5978483667104654, 0.303287016773075, -1.5996703832688668, -0.4497857200657572, -1.8590951581175674, 0.38249787592501855, 0.43651573957238776, -0.6695674403809402, 1.032013861089123, 1.035662317354519, -0.016073852149997993, -0.564809977687965, -0.7205227740745791, -0.2209884244788965, -0.7201406209581277, -0.02057371877325681, -1.8582243694386562, 0.1733246814087179, -0.7227674162352797, 0.2981652039556083, -1.921240770994483, 0.9118896914002779, 0.6163142733027049, 0.02393141056674211, 1.186154597115317, 0.580847168673218], \"xaxis\": \"x8\", \"y\": [0.3907902707269141, 0.6943603904272828, -0.5795978735730865, 0.813526262604139, 0.7839931065000858, -0.46753196417464715, 1.0359830523535647, -0.00108728024401313, -0.8081899074223791, -1.7047006560220002, -1.2500075128534878, 0.22565379843725744, 0.8538877104205691, -0.010769431923218427, -0.16471091416661995, 1.1532806339771444, -0.3057147481342851, -0.4072257391625898, 0.33177364843814655, -1.9259607592803352, 0.6328208279632327, 0.09822037368245887, 0.22575815059781187, 0.3342337338883107, 0.20918911354792807, 0.7884841767921292, -1.777038244279568, -0.8943194078336356, 0.7836857923081855, 0.6141031111803202, 0.5733925432595015, -0.049455510335339334, 0.9530936899389951, -1.4516704869032073, 0.5115887243863995, 0.6530646533442895, -0.23318159386226586, -1.319150131657982, 0.09463672775412493, 0.23313384209217008, -0.2983196316579245, -0.5678273244648308, 0.16437722381798814, -0.9296545964289905, 1.0922975549754237, -0.38336998654816523, 0.9051218108852752, 0.14618559623315341, 0.31466443511763487, 0.3879173171179358, -0.13602702775758238, -0.20229107248405542, 0.1312551692725429, 0.7657452778482757, -1.2969540759673137, -0.7525532691354485, 0.3375024417733412, -2.152534835068167, -1.2672607327528433, 1.240409131065859, 1.1770976240664932, -1.603010773610958, -0.237769129998576, -0.897073434357532, -0.9488046371465231, 0.6581283215809342, -0.06199463793937336, -0.8913999214397087, 0.4416057732101811, 0.6416648824250734, 1.4767731563075561, -0.8614378000150077, 1.0656352143878887, -1.145896856232693, -0.4880349854953325, 0.5836904660158005, 0.7939388605800349, 1.4499445941855056, 0.9854561681177022, 0.34020877181506953, 0.7235608805617902, 0.5377245985934934, 0.3493967640908654, 1.7702394754577686, -0.03111817077616619, 1.0432325635583046, -0.06443575244437817, -1.1069474415167795, 1.7477037930677306, 1.1762878474972331, 0.29762924979802713, -0.1934011522487943, -1.1299835327263392, 0.25635755789500264, -1.401477366719103, -1.3245095525725623, 0.29160187861069464, 0.6029746174004685, -0.308557547221511, 0.4159428841252249], \"yaxis\": \"y8\"}, {\"line\": {\"color\": \"rgba(128, 128, 128, 1.0)\", \"dash\": \"solid\", \"shape\": \"linear\", \"width\": 1.3}, \"marker\": {\"size\": 2, \"symbol\": \"circle\"}, \"mode\": \"markers\", \"name\": \"C\", \"text\": \"\", \"type\": \"scatter\", \"x\": [-1.4610241031401339, 0.09525150167714372, -0.029203584395679657, -0.014015621374794238, 1.3061216714143065, -0.31702307455461454, -1.1289839361958052, -0.13699963759455056, -0.6639938504440216, 0.9470923910686199, 1.553358059937682, 0.05045164189835665, 0.05751000634937235, 2.1315144223408105, 0.46274757495098084, -0.17673927911072126, -0.4606921426908111, -0.43086281676434296, -2.1264803113550594, 0.001056488752819712, -0.3059598987663699, 0.9662890754859629, 0.2510262672230263, -0.9617278560791738, 0.048995145654571845, -1.0209156821548113, -0.5691472839815525, 0.4996248117695914, 0.4464570983716666, -0.16336359024926198, 1.262599325533162, -0.38117396654870617, 0.6470503045744972, 1.98286394042055, 0.3984834505594768, 0.7771765568436815, 0.6232338000739429, 1.167642598764409, -0.6183478391013726, 1.2230733527522957, 0.502339193606301, -1.1320171943548307, -0.7080909329004074, 1.2718460327483254, -1.485782893035162, 0.4319773772095389, 0.362675989804671, 1.4424577308111275, 0.32319678124815143, -1.1700283154363498, 1.8634674399731277, 1.3157150735096061, -1.0097525209274345, -1.8188977326440103, 0.32593373911336543, 0.5229234346569209, -0.11081787742866657, -0.4975140914807007, -1.2059467191465185, -1.498419024882172, 2.255904266090674, -0.2302591959967517, -0.6209322962615502, 0.49579609306554884, -0.16989586521007646, 0.46588198032360506, -0.909141855445599, -0.0009026500043386546, 0.48123916040588277, 1.118792923213792, -0.4420688885202043, 0.9751416814442033, -0.03744211472540877, -1.778410999950504, -0.6892087536621391, -0.2385350486172311, 0.019730054488734897, 1.6716799790383337, 1.3566170705713458, 0.8873773894586302, -2.0888727474034563, -0.41046309299992867, -0.5549572208662424, -1.5861279398806762, -0.3540634750924586, 0.6090614019865381, 1.2372628555021594, -0.3429623623702404, -0.1606326504345451, 1.622631579628323, 1.0736460288414729, -0.7629319166489795, -0.5029453305115006, 0.1671892839193268, -1.488441025936215, -0.27038751087145, 0.855741339941454, -0.16881176419721813, -0.16170217362603542, 0.9173449807873943], \"xaxis\": \"x9\", \"y\": [-1.588518383084947, -0.25510529051838327, 0.07843303965625309, 0.3864557819134835, -1.09744143252163, 1.1804110069207534, -0.7433800204601851, 0.5753073643150647, -0.46313790316926323, 0.6543869181485661, 0.6265824877282654, -0.4539417662001653, 0.6696234450850123, 0.13069696307258144, -0.8867305435232409, -0.6250839491644894, 1.0097934384872906, 1.9023000035376307, 1.7009009639164385, -1.8411330536034713, -0.47464795002036747, -0.9982558219884498, 1.8344684902582309, 0.8192994654140996, -0.8335570745722221, -0.23972422219611114, 0.1689960648817115, 0.4698304057186679, -0.013340480348581244, -0.028051963281221937, 0.38398107818510635, 0.3937260257823908, -0.8123063459709408, -0.9993012029697024, -0.4152564075921749, 0.3655373303202848, -0.043408441663682476, -1.0443853502640081, -0.9698020566137836, 0.12256429336064191, 0.7356745185567378, 0.575392072982969, -0.33123080036967556, -1.185948457910172, -0.6111894681016925, -0.7945882795982716, 0.5020861788162949, -0.1578308254726711, -0.9869183983562312, 1.746200868438099, -0.37595688343323813, 0.13280117462258295, 1.2265259236048744, 0.2244340472116479, -1.8036664717250686, -0.29766457443473365, 0.5642521475493323, -0.5371447741300974, -1.1965527481693412, 1.1718385463743948, -0.3213005093326319, 2.4843766032829118, 2.3103908916350133, -0.9451710303787467, 0.6571154746001218, 1.316173218583312, 0.8330088624591149, 1.13092757585928, -0.27272341394384453, 0.4644537032765058, 0.07189971278123376, -0.9570518724398468, 0.44241242036356343, 0.005593809973949465, -1.0127649251581823, 0.3006123624304811, 1.3744735827062333, 0.038622245321359334, -0.9452780090729435, 2.0136519003518596, -0.004495202845143408, -0.25759335648309745, -1.1260013746246536, -0.5944480194050978, 1.6056735328339102, 1.19511407121231, 1.6153785450405376, -1.6932136658370074, -1.42390606086027, -0.4094603926470258, 1.0082761168261307, 0.2867048729727579, -0.4317049721677748, -1.7372064120191864, -0.10308707131192661, -0.46464036309498136, 0.8341943684669411, -1.9737194064119694, -1.99139390644937, 1.2455026058183056], \"yaxis\": \"y9\"}, {\"line\": {\"color\": \"rgba(128, 128, 128, 1.0)\", \"dash\": \"solid\", \"shape\": \"linear\", \"width\": 1.3}, \"marker\": {\"size\": 2, \"symbol\": \"circle\"}, \"mode\": \"markers\", \"name\": \"C\", \"text\": \"\", \"type\": \"scatter\", \"x\": [0.3907902707269141, 0.6943603904272828, -0.5795978735730865, 0.813526262604139, 0.7839931065000858, -0.46753196417464715, 1.0359830523535647, -0.00108728024401313, -0.8081899074223791, -1.7047006560220002, -1.2500075128534878, 0.22565379843725744, 0.8538877104205691, -0.010769431923218427, -0.16471091416661995, 1.1532806339771444, -0.3057147481342851, -0.4072257391625898, 0.33177364843814655, -1.9259607592803352, 0.6328208279632327, 0.09822037368245887, 0.22575815059781187, 0.3342337338883107, 0.20918911354792807, 0.7884841767921292, -1.777038244279568, -0.8943194078336356, 0.7836857923081855, 0.6141031111803202, 0.5733925432595015, -0.049455510335339334, 0.9530936899389951, -1.4516704869032073, 0.5115887243863995, 0.6530646533442895, -0.23318159386226586, -1.319150131657982, 0.09463672775412493, 0.23313384209217008, -0.2983196316579245, -0.5678273244648308, 0.16437722381798814, -0.9296545964289905, 1.0922975549754237, -0.38336998654816523, 0.9051218108852752, 0.14618559623315341, 0.31466443511763487, 0.3879173171179358, -0.13602702775758238, -0.20229107248405542, 0.1312551692725429, 0.7657452778482757, -1.2969540759673137, -0.7525532691354485, 0.3375024417733412, -2.152534835068167, -1.2672607327528433, 1.240409131065859, 1.1770976240664932, -1.603010773610958, -0.237769129998576, -0.897073434357532, -0.9488046371465231, 0.6581283215809342, -0.06199463793937336, -0.8913999214397087, 0.4416057732101811, 0.6416648824250734, 1.4767731563075561, -0.8614378000150077, 1.0656352143878887, -1.145896856232693, -0.4880349854953325, 0.5836904660158005, 0.7939388605800349, 1.4499445941855056, 0.9854561681177022, 0.34020877181506953, 0.7235608805617902, 0.5377245985934934, 0.3493967640908654, 1.7702394754577686, -0.03111817077616619, 1.0432325635583046, -0.06443575244437817, -1.1069474415167795, 1.7477037930677306, 1.1762878474972331, 0.29762924979802713, -0.1934011522487943, -1.1299835327263392, 0.25635755789500264, -1.401477366719103, -1.3245095525725623, 0.29160187861069464, 0.6029746174004685, -0.308557547221511, 0.4159428841252249], \"xaxis\": \"x10\", \"y\": [-1.588518383084947, -0.25510529051838327, 0.07843303965625309, 0.3864557819134835, -1.09744143252163, 1.1804110069207534, -0.7433800204601851, 0.5753073643150647, -0.46313790316926323, 0.6543869181485661, 0.6265824877282654, -0.4539417662001653, 0.6696234450850123, 0.13069696307258144, -0.8867305435232409, -0.6250839491644894, 1.0097934384872906, 1.9023000035376307, 1.7009009639164385, -1.8411330536034713, -0.47464795002036747, -0.9982558219884498, 1.8344684902582309, 0.8192994654140996, -0.8335570745722221, -0.23972422219611114, 0.1689960648817115, 0.4698304057186679, -0.013340480348581244, -0.028051963281221937, 0.38398107818510635, 0.3937260257823908, -0.8123063459709408, -0.9993012029697024, -0.4152564075921749, 0.3655373303202848, -0.043408441663682476, -1.0443853502640081, -0.9698020566137836, 0.12256429336064191, 0.7356745185567378, 0.575392072982969, -0.33123080036967556, -1.185948457910172, -0.6111894681016925, -0.7945882795982716, 0.5020861788162949, -0.1578308254726711, -0.9869183983562312, 1.746200868438099, -0.37595688343323813, 0.13280117462258295, 1.2265259236048744, 0.2244340472116479, -1.8036664717250686, -0.29766457443473365, 0.5642521475493323, -0.5371447741300974, -1.1965527481693412, 1.1718385463743948, -0.3213005093326319, 2.4843766032829118, 2.3103908916350133, -0.9451710303787467, 0.6571154746001218, 1.316173218583312, 0.8330088624591149, 1.13092757585928, -0.27272341394384453, 0.4644537032765058, 0.07189971278123376, -0.9570518724398468, 0.44241242036356343, 0.005593809973949465, -1.0127649251581823, 0.3006123624304811, 1.3744735827062333, 0.038622245321359334, -0.9452780090729435, 2.0136519003518596, -0.004495202845143408, -0.25759335648309745, -1.1260013746246536, -0.5944480194050978, 1.6056735328339102, 1.19511407121231, 1.6153785450405376, -1.6932136658370074, -1.42390606086027, -0.4094603926470258, 1.0082761168261307, 0.2867048729727579, -0.4317049721677748, -1.7372064120191864, -0.10308707131192661, -0.46464036309498136, 0.8341943684669411, -1.9737194064119694, -1.99139390644937, 1.2455026058183056], \"yaxis\": \"y10\"}, {\"histfunc\": \"count\", \"histnorm\": \"\", \"marker\": {\"color\": \"rgba(50, 171, 96, 1.0)\", \"line\": {\"color\": \"#4D5663\", \"width\": 1.3}}, \"name\": \"C\", \"nbinsx\": 10, \"opacity\": 0.8, \"orientation\": \"v\", \"type\": \"histogram\", \"x\": [-1.588518383084947, -0.25510529051838327, 0.07843303965625309, 0.3864557819134835, -1.09744143252163, 1.1804110069207534, -0.7433800204601851, 0.5753073643150647, -0.46313790316926323, 0.6543869181485661, 0.6265824877282654, -0.4539417662001653, 0.6696234450850123, 0.13069696307258144, -0.8867305435232409, -0.6250839491644894, 1.0097934384872906, 1.9023000035376307, 1.7009009639164385, -1.8411330536034713, -0.47464795002036747, -0.9982558219884498, 1.8344684902582309, 0.8192994654140996, -0.8335570745722221, -0.23972422219611114, 0.1689960648817115, 0.4698304057186679, -0.013340480348581244, -0.028051963281221937, 0.38398107818510635, 0.3937260257823908, -0.8123063459709408, -0.9993012029697024, -0.4152564075921749, 0.3655373303202848, -0.043408441663682476, -1.0443853502640081, -0.9698020566137836, 0.12256429336064191, 0.7356745185567378, 0.575392072982969, -0.33123080036967556, -1.185948457910172, -0.6111894681016925, -0.7945882795982716, 0.5020861788162949, -0.1578308254726711, -0.9869183983562312, 1.746200868438099, -0.37595688343323813, 0.13280117462258295, 1.2265259236048744, 0.2244340472116479, -1.8036664717250686, -0.29766457443473365, 0.5642521475493323, -0.5371447741300974, -1.1965527481693412, 1.1718385463743948, -0.3213005093326319, 2.4843766032829118, 2.3103908916350133, -0.9451710303787467, 0.6571154746001218, 1.316173218583312, 0.8330088624591149, 1.13092757585928, -0.27272341394384453, 0.4644537032765058, 0.07189971278123376, -0.9570518724398468, 0.44241242036356343, 0.005593809973949465, -1.0127649251581823, 0.3006123624304811, 1.3744735827062333, 0.038622245321359334, -0.9452780090729435, 2.0136519003518596, -0.004495202845143408, -0.25759335648309745, -1.1260013746246536, -0.5944480194050978, 1.6056735328339102, 1.19511407121231, 1.6153785450405376, -1.6932136658370074, -1.42390606086027, -0.4094603926470258, 1.0082761168261307, 0.2867048729727579, -0.4317049721677748, -1.7372064120191864, -0.10308707131192661, -0.46464036309498136, 0.8341943684669411, -1.9737194064119694, -1.99139390644937, 1.2455026058183056], \"xaxis\": \"x11\", \"yaxis\": \"y11\"}, {\"line\": {\"color\": \"rgba(128, 128, 128, 1.0)\", \"dash\": \"solid\", \"shape\": \"linear\", \"width\": 1.3}, \"marker\": {\"size\": 2, \"symbol\": \"circle\"}, \"mode\": \"markers\", \"name\": \"C\", \"text\": \"\", \"type\": \"scatter\", \"x\": [-0.20308556376547537, 0.19762469288020745, 0.6704321743135898, -0.5986241735582623, -0.25759095692230527, -0.05747054214033602, -0.932710350273873, -1.0441315195474943, 0.1128314687479193, 0.7892422787785415, 0.0852285295692371, 0.35126214936583744, 1.8544165399332506, -1.4673580200808247, -1.7083706335257736, -1.272795966352538, 0.13657404929718472, 1.1088686376416257, 1.0360806444077852, -0.07457436081638934, -0.8044809295312358, -0.04828532842693859, 0.6593850434257252, -0.5658765585099089, 0.3423078664072504, -0.003085031082305999, 2.018187586743007, 0.6185980152915729, 1.7584542986691818, -1.5477793170953247, 0.8468774185788381, 1.2440610988793863, 0.7117036625565885, 1.240570040540003, 0.45794955761531136, 1.0647416762047635, -1.062620249089035, -0.6239492223248511, 1.6340455586893559, -0.46932216668858123, 0.10982913026295896, -2.606475104184327, 0.661850506062008, -0.811975012976815, -0.31238136540442235, -0.9920729069399843, -0.8151321623577781, -1.0660483059432084, -1.3513103796811499, -0.5096993775872938, -0.3423963630383938, 1.0890607235567875, 1.412582216775854, -0.5745153951129882, -0.09471548014551695, -1.2274900693742057, 0.9913406461115387, 1.2857250242618052, -1.4220485699165202, -0.20751562677718327, 1.269516515414513, 1.7630631587377619, -0.3405730854733291, -0.6243236780693461, 1.7062622406008303, -0.009716789825434882, 0.18580110459527216, 0.6066014190421658, -0.21684318444156456, 0.8902856548059778, 1.0594853835375297, -1.3427659913083283, -0.9249466420264154, -0.4736042418071167, 0.5978483667104654, 0.303287016773075, -1.5996703832688668, -0.4497857200657572, -1.8590951581175674, 0.38249787592501855, 0.43651573957238776, -0.6695674403809402, 1.032013861089123, 1.035662317354519, -0.016073852149997993, -0.564809977687965, -0.7205227740745791, -0.2209884244788965, -0.7201406209581277, -0.02057371877325681, -1.8582243694386562, 0.1733246814087179, -0.7227674162352797, 0.2981652039556083, -1.921240770994483, 0.9118896914002779, 0.6163142733027049, 0.02393141056674211, 1.186154597115317, 0.580847168673218], \"xaxis\": \"x12\", \"y\": [-1.588518383084947, -0.25510529051838327, 0.07843303965625309, 0.3864557819134835, -1.09744143252163, 1.1804110069207534, -0.7433800204601851, 0.5753073643150647, -0.46313790316926323, 0.6543869181485661, 0.6265824877282654, -0.4539417662001653, 0.6696234450850123, 0.13069696307258144, -0.8867305435232409, -0.6250839491644894, 1.0097934384872906, 1.9023000035376307, 1.7009009639164385, -1.8411330536034713, -0.47464795002036747, -0.9982558219884498, 1.8344684902582309, 0.8192994654140996, -0.8335570745722221, -0.23972422219611114, 0.1689960648817115, 0.4698304057186679, -0.013340480348581244, -0.028051963281221937, 0.38398107818510635, 0.3937260257823908, -0.8123063459709408, -0.9993012029697024, -0.4152564075921749, 0.3655373303202848, -0.043408441663682476, -1.0443853502640081, -0.9698020566137836, 0.12256429336064191, 0.7356745185567378, 0.575392072982969, -0.33123080036967556, -1.185948457910172, -0.6111894681016925, -0.7945882795982716, 0.5020861788162949, -0.1578308254726711, -0.9869183983562312, 1.746200868438099, -0.37595688343323813, 0.13280117462258295, 1.2265259236048744, 0.2244340472116479, -1.8036664717250686, -0.29766457443473365, 0.5642521475493323, -0.5371447741300974, -1.1965527481693412, 1.1718385463743948, -0.3213005093326319, 2.4843766032829118, 2.3103908916350133, -0.9451710303787467, 0.6571154746001218, 1.316173218583312, 0.8330088624591149, 1.13092757585928, -0.27272341394384453, 0.4644537032765058, 0.07189971278123376, -0.9570518724398468, 0.44241242036356343, 0.005593809973949465, -1.0127649251581823, 0.3006123624304811, 1.3744735827062333, 0.038622245321359334, -0.9452780090729435, 2.0136519003518596, -0.004495202845143408, -0.25759335648309745, -1.1260013746246536, -0.5944480194050978, 1.6056735328339102, 1.19511407121231, 1.6153785450405376, -1.6932136658370074, -1.42390606086027, -0.4094603926470258, 1.0082761168261307, 0.2867048729727579, -0.4317049721677748, -1.7372064120191864, -0.10308707131192661, -0.46464036309498136, 0.8341943684669411, -1.9737194064119694, -1.99139390644937, 1.2455026058183056], \"yaxis\": \"y12\"}, {\"line\": {\"color\": \"rgba(128, 128, 128, 1.0)\", \"dash\": \"solid\", \"shape\": \"linear\", \"width\": 1.3}, \"marker\": {\"size\": 2, \"symbol\": \"circle\"}, \"mode\": \"markers\", \"name\": \"D\", \"text\": \"\", \"type\": \"scatter\", \"x\": [-1.4610241031401339, 0.09525150167714372, -0.029203584395679657, -0.014015621374794238, 1.3061216714143065, -0.31702307455461454, -1.1289839361958052, -0.13699963759455056, -0.6639938504440216, 0.9470923910686199, 1.553358059937682, 0.05045164189835665, 0.05751000634937235, 2.1315144223408105, 0.46274757495098084, -0.17673927911072126, -0.4606921426908111, -0.43086281676434296, -2.1264803113550594, 0.001056488752819712, -0.3059598987663699, 0.9662890754859629, 0.2510262672230263, -0.9617278560791738, 0.048995145654571845, -1.0209156821548113, -0.5691472839815525, 0.4996248117695914, 0.4464570983716666, -0.16336359024926198, 1.262599325533162, -0.38117396654870617, 0.6470503045744972, 1.98286394042055, 0.3984834505594768, 0.7771765568436815, 0.6232338000739429, 1.167642598764409, -0.6183478391013726, 1.2230733527522957, 0.502339193606301, -1.1320171943548307, -0.7080909329004074, 1.2718460327483254, -1.485782893035162, 0.4319773772095389, 0.362675989804671, 1.4424577308111275, 0.32319678124815143, -1.1700283154363498, 1.8634674399731277, 1.3157150735096061, -1.0097525209274345, -1.8188977326440103, 0.32593373911336543, 0.5229234346569209, -0.11081787742866657, -0.4975140914807007, -1.2059467191465185, -1.498419024882172, 2.255904266090674, -0.2302591959967517, -0.6209322962615502, 0.49579609306554884, -0.16989586521007646, 0.46588198032360506, -0.909141855445599, -0.0009026500043386546, 0.48123916040588277, 1.118792923213792, -0.4420688885202043, 0.9751416814442033, -0.03744211472540877, -1.778410999950504, -0.6892087536621391, -0.2385350486172311, 0.019730054488734897, 1.6716799790383337, 1.3566170705713458, 0.8873773894586302, -2.0888727474034563, -0.41046309299992867, -0.5549572208662424, -1.5861279398806762, -0.3540634750924586, 0.6090614019865381, 1.2372628555021594, -0.3429623623702404, -0.1606326504345451, 1.622631579628323, 1.0736460288414729, -0.7629319166489795, -0.5029453305115006, 0.1671892839193268, -1.488441025936215, -0.27038751087145, 0.855741339941454, -0.16881176419721813, -0.16170217362603542, 0.9173449807873943], \"xaxis\": \"x13\", \"y\": [-0.20308556376547537, 0.19762469288020745, 0.6704321743135898, -0.5986241735582623, -0.25759095692230527, -0.05747054214033602, -0.932710350273873, -1.0441315195474943, 0.1128314687479193, 0.7892422787785415, 0.0852285295692371, 0.35126214936583744, 1.8544165399332506, -1.4673580200808247, -1.7083706335257736, -1.272795966352538, 0.13657404929718472, 1.1088686376416257, 1.0360806444077852, -0.07457436081638934, -0.8044809295312358, -0.04828532842693859, 0.6593850434257252, -0.5658765585099089, 0.3423078664072504, -0.003085031082305999, 2.018187586743007, 0.6185980152915729, 1.7584542986691818, -1.5477793170953247, 0.8468774185788381, 1.2440610988793863, 0.7117036625565885, 1.240570040540003, 0.45794955761531136, 1.0647416762047635, -1.062620249089035, -0.6239492223248511, 1.6340455586893559, -0.46932216668858123, 0.10982913026295896, -2.606475104184327, 0.661850506062008, -0.811975012976815, -0.31238136540442235, -0.9920729069399843, -0.8151321623577781, -1.0660483059432084, -1.3513103796811499, -0.5096993775872938, -0.3423963630383938, 1.0890607235567875, 1.412582216775854, -0.5745153951129882, -0.09471548014551695, -1.2274900693742057, 0.9913406461115387, 1.2857250242618052, -1.4220485699165202, -0.20751562677718327, 1.269516515414513, 1.7630631587377619, -0.3405730854733291, -0.6243236780693461, 1.7062622406008303, -0.009716789825434882, 0.18580110459527216, 0.6066014190421658, -0.21684318444156456, 0.8902856548059778, 1.0594853835375297, -1.3427659913083283, -0.9249466420264154, -0.4736042418071167, 0.5978483667104654, 0.303287016773075, -1.5996703832688668, -0.4497857200657572, -1.8590951581175674, 0.38249787592501855, 0.43651573957238776, -0.6695674403809402, 1.032013861089123, 1.035662317354519, -0.016073852149997993, -0.564809977687965, -0.7205227740745791, -0.2209884244788965, -0.7201406209581277, -0.02057371877325681, -1.8582243694386562, 0.1733246814087179, -0.7227674162352797, 0.2981652039556083, -1.921240770994483, 0.9118896914002779, 0.6163142733027049, 0.02393141056674211, 1.186154597115317, 0.580847168673218], \"yaxis\": \"y13\"}, {\"line\": {\"color\": \"rgba(128, 128, 128, 1.0)\", \"dash\": \"solid\", \"shape\": \"linear\", \"width\": 1.3}, \"marker\": {\"size\": 2, \"symbol\": \"circle\"}, \"mode\": \"markers\", \"name\": \"D\", \"text\": \"\", \"type\": \"scatter\", \"x\": [0.3907902707269141, 0.6943603904272828, -0.5795978735730865, 0.813526262604139, 0.7839931065000858, -0.46753196417464715, 1.0359830523535647, -0.00108728024401313, -0.8081899074223791, -1.7047006560220002, -1.2500075128534878, 0.22565379843725744, 0.8538877104205691, -0.010769431923218427, -0.16471091416661995, 1.1532806339771444, -0.3057147481342851, -0.4072257391625898, 0.33177364843814655, -1.9259607592803352, 0.6328208279632327, 0.09822037368245887, 0.22575815059781187, 0.3342337338883107, 0.20918911354792807, 0.7884841767921292, -1.777038244279568, -0.8943194078336356, 0.7836857923081855, 0.6141031111803202, 0.5733925432595015, -0.049455510335339334, 0.9530936899389951, -1.4516704869032073, 0.5115887243863995, 0.6530646533442895, -0.23318159386226586, -1.319150131657982, 0.09463672775412493, 0.23313384209217008, -0.2983196316579245, -0.5678273244648308, 0.16437722381798814, -0.9296545964289905, 1.0922975549754237, -0.38336998654816523, 0.9051218108852752, 0.14618559623315341, 0.31466443511763487, 0.3879173171179358, -0.13602702775758238, -0.20229107248405542, 0.1312551692725429, 0.7657452778482757, -1.2969540759673137, -0.7525532691354485, 0.3375024417733412, -2.152534835068167, -1.2672607327528433, 1.240409131065859, 1.1770976240664932, -1.603010773610958, -0.237769129998576, -0.897073434357532, -0.9488046371465231, 0.6581283215809342, -0.06199463793937336, -0.8913999214397087, 0.4416057732101811, 0.6416648824250734, 1.4767731563075561, -0.8614378000150077, 1.0656352143878887, -1.145896856232693, -0.4880349854953325, 0.5836904660158005, 0.7939388605800349, 1.4499445941855056, 0.9854561681177022, 0.34020877181506953, 0.7235608805617902, 0.5377245985934934, 0.3493967640908654, 1.7702394754577686, -0.03111817077616619, 1.0432325635583046, -0.06443575244437817, -1.1069474415167795, 1.7477037930677306, 1.1762878474972331, 0.29762924979802713, -0.1934011522487943, -1.1299835327263392, 0.25635755789500264, -1.401477366719103, -1.3245095525725623, 0.29160187861069464, 0.6029746174004685, -0.308557547221511, 0.4159428841252249], \"xaxis\": \"x14\", \"y\": [-0.20308556376547537, 0.19762469288020745, 0.6704321743135898, -0.5986241735582623, -0.25759095692230527, -0.05747054214033602, -0.932710350273873, -1.0441315195474943, 0.1128314687479193, 0.7892422787785415, 0.0852285295692371, 0.35126214936583744, 1.8544165399332506, -1.4673580200808247, -1.7083706335257736, -1.272795966352538, 0.13657404929718472, 1.1088686376416257, 1.0360806444077852, -0.07457436081638934, -0.8044809295312358, -0.04828532842693859, 0.6593850434257252, -0.5658765585099089, 0.3423078664072504, -0.003085031082305999, 2.018187586743007, 0.6185980152915729, 1.7584542986691818, -1.5477793170953247, 0.8468774185788381, 1.2440610988793863, 0.7117036625565885, 1.240570040540003, 0.45794955761531136, 1.0647416762047635, -1.062620249089035, -0.6239492223248511, 1.6340455586893559, -0.46932216668858123, 0.10982913026295896, -2.606475104184327, 0.661850506062008, -0.811975012976815, -0.31238136540442235, -0.9920729069399843, -0.8151321623577781, -1.0660483059432084, -1.3513103796811499, -0.5096993775872938, -0.3423963630383938, 1.0890607235567875, 1.412582216775854, -0.5745153951129882, -0.09471548014551695, -1.2274900693742057, 0.9913406461115387, 1.2857250242618052, -1.4220485699165202, -0.20751562677718327, 1.269516515414513, 1.7630631587377619, -0.3405730854733291, -0.6243236780693461, 1.7062622406008303, -0.009716789825434882, 0.18580110459527216, 0.6066014190421658, -0.21684318444156456, 0.8902856548059778, 1.0594853835375297, -1.3427659913083283, -0.9249466420264154, -0.4736042418071167, 0.5978483667104654, 0.303287016773075, -1.5996703832688668, -0.4497857200657572, -1.8590951581175674, 0.38249787592501855, 0.43651573957238776, -0.6695674403809402, 1.032013861089123, 1.035662317354519, -0.016073852149997993, -0.564809977687965, -0.7205227740745791, -0.2209884244788965, -0.7201406209581277, -0.02057371877325681, -1.8582243694386562, 0.1733246814087179, -0.7227674162352797, 0.2981652039556083, -1.921240770994483, 0.9118896914002779, 0.6163142733027049, 0.02393141056674211, 1.186154597115317, 0.580847168673218], \"yaxis\": \"y14\"}, {\"line\": {\"color\": \"rgba(128, 128, 128, 1.0)\", \"dash\": \"solid\", \"shape\": \"linear\", \"width\": 1.3}, \"marker\": {\"size\": 2, \"symbol\": \"circle\"}, \"mode\": \"markers\", \"name\": \"D\", \"text\": \"\", \"type\": \"scatter\", \"x\": [-1.588518383084947, -0.25510529051838327, 0.07843303965625309, 0.3864557819134835, -1.09744143252163, 1.1804110069207534, -0.7433800204601851, 0.5753073643150647, -0.46313790316926323, 0.6543869181485661, 0.6265824877282654, -0.4539417662001653, 0.6696234450850123, 0.13069696307258144, -0.8867305435232409, -0.6250839491644894, 1.0097934384872906, 1.9023000035376307, 1.7009009639164385, -1.8411330536034713, -0.47464795002036747, -0.9982558219884498, 1.8344684902582309, 0.8192994654140996, -0.8335570745722221, -0.23972422219611114, 0.1689960648817115, 0.4698304057186679, -0.013340480348581244, -0.028051963281221937, 0.38398107818510635, 0.3937260257823908, -0.8123063459709408, -0.9993012029697024, -0.4152564075921749, 0.3655373303202848, -0.043408441663682476, -1.0443853502640081, -0.9698020566137836, 0.12256429336064191, 0.7356745185567378, 0.575392072982969, -0.33123080036967556, -1.185948457910172, -0.6111894681016925, -0.7945882795982716, 0.5020861788162949, -0.1578308254726711, -0.9869183983562312, 1.746200868438099, -0.37595688343323813, 0.13280117462258295, 1.2265259236048744, 0.2244340472116479, -1.8036664717250686, -0.29766457443473365, 0.5642521475493323, -0.5371447741300974, -1.1965527481693412, 1.1718385463743948, -0.3213005093326319, 2.4843766032829118, 2.3103908916350133, -0.9451710303787467, 0.6571154746001218, 1.316173218583312, 0.8330088624591149, 1.13092757585928, -0.27272341394384453, 0.4644537032765058, 0.07189971278123376, -0.9570518724398468, 0.44241242036356343, 0.005593809973949465, -1.0127649251581823, 0.3006123624304811, 1.3744735827062333, 0.038622245321359334, -0.9452780090729435, 2.0136519003518596, -0.004495202845143408, -0.25759335648309745, -1.1260013746246536, -0.5944480194050978, 1.6056735328339102, 1.19511407121231, 1.6153785450405376, -1.6932136658370074, -1.42390606086027, -0.4094603926470258, 1.0082761168261307, 0.2867048729727579, -0.4317049721677748, -1.7372064120191864, -0.10308707131192661, -0.46464036309498136, 0.8341943684669411, -1.9737194064119694, -1.99139390644937, 1.2455026058183056], \"xaxis\": \"x15\", \"y\": [-0.20308556376547537, 0.19762469288020745, 0.6704321743135898, -0.5986241735582623, -0.25759095692230527, -0.05747054214033602, -0.932710350273873, -1.0441315195474943, 0.1128314687479193, 0.7892422787785415, 0.0852285295692371, 0.35126214936583744, 1.8544165399332506, -1.4673580200808247, -1.7083706335257736, -1.272795966352538, 0.13657404929718472, 1.1088686376416257, 1.0360806444077852, -0.07457436081638934, -0.8044809295312358, -0.04828532842693859, 0.6593850434257252, -0.5658765585099089, 0.3423078664072504, -0.003085031082305999, 2.018187586743007, 0.6185980152915729, 1.7584542986691818, -1.5477793170953247, 0.8468774185788381, 1.2440610988793863, 0.7117036625565885, 1.240570040540003, 0.45794955761531136, 1.0647416762047635, -1.062620249089035, -0.6239492223248511, 1.6340455586893559, -0.46932216668858123, 0.10982913026295896, -2.606475104184327, 0.661850506062008, -0.811975012976815, -0.31238136540442235, -0.9920729069399843, -0.8151321623577781, -1.0660483059432084, -1.3513103796811499, -0.5096993775872938, -0.3423963630383938, 1.0890607235567875, 1.412582216775854, -0.5745153951129882, -0.09471548014551695, -1.2274900693742057, 0.9913406461115387, 1.2857250242618052, -1.4220485699165202, -0.20751562677718327, 1.269516515414513, 1.7630631587377619, -0.3405730854733291, -0.6243236780693461, 1.7062622406008303, -0.009716789825434882, 0.18580110459527216, 0.6066014190421658, -0.21684318444156456, 0.8902856548059778, 1.0594853835375297, -1.3427659913083283, -0.9249466420264154, -0.4736042418071167, 0.5978483667104654, 0.303287016773075, -1.5996703832688668, -0.4497857200657572, -1.8590951581175674, 0.38249787592501855, 0.43651573957238776, -0.6695674403809402, 1.032013861089123, 1.035662317354519, -0.016073852149997993, -0.564809977687965, -0.7205227740745791, -0.2209884244788965, -0.7201406209581277, -0.02057371877325681, -1.8582243694386562, 0.1733246814087179, -0.7227674162352797, 0.2981652039556083, -1.921240770994483, 0.9118896914002779, 0.6163142733027049, 0.02393141056674211, 1.186154597115317, 0.580847168673218], \"yaxis\": \"y15\"}, {\"histfunc\": \"count\", \"histnorm\": \"\", \"marker\": {\"color\": \"rgba(128, 0, 128, 1.0)\", \"line\": {\"color\": \"#4D5663\", \"width\": 1.3}}, \"name\": \"D\", \"nbinsx\": 10, \"opacity\": 0.8, \"orientation\": \"v\", \"type\": \"histogram\", \"x\": [-0.20308556376547537, 0.19762469288020745, 0.6704321743135898, -0.5986241735582623, -0.25759095692230527, -0.05747054214033602, -0.932710350273873, -1.0441315195474943, 0.1128314687479193, 0.7892422787785415, 0.0852285295692371, 0.35126214936583744, 1.8544165399332506, -1.4673580200808247, -1.7083706335257736, -1.272795966352538, 0.13657404929718472, 1.1088686376416257, 1.0360806444077852, -0.07457436081638934, -0.8044809295312358, -0.04828532842693859, 0.6593850434257252, -0.5658765585099089, 0.3423078664072504, -0.003085031082305999, 2.018187586743007, 0.6185980152915729, 1.7584542986691818, -1.5477793170953247, 0.8468774185788381, 1.2440610988793863, 0.7117036625565885, 1.240570040540003, 0.45794955761531136, 1.0647416762047635, -1.062620249089035, -0.6239492223248511, 1.6340455586893559, -0.46932216668858123, 0.10982913026295896, -2.606475104184327, 0.661850506062008, -0.811975012976815, -0.31238136540442235, -0.9920729069399843, -0.8151321623577781, -1.0660483059432084, -1.3513103796811499, -0.5096993775872938, -0.3423963630383938, 1.0890607235567875, 1.412582216775854, -0.5745153951129882, -0.09471548014551695, -1.2274900693742057, 0.9913406461115387, 1.2857250242618052, -1.4220485699165202, -0.20751562677718327, 1.269516515414513, 1.7630631587377619, -0.3405730854733291, -0.6243236780693461, 1.7062622406008303, -0.009716789825434882, 0.18580110459527216, 0.6066014190421658, -0.21684318444156456, 0.8902856548059778, 1.0594853835375297, -1.3427659913083283, -0.9249466420264154, -0.4736042418071167, 0.5978483667104654, 0.303287016773075, -1.5996703832688668, -0.4497857200657572, -1.8590951581175674, 0.38249787592501855, 0.43651573957238776, -0.6695674403809402, 1.032013861089123, 1.035662317354519, -0.016073852149997993, -0.564809977687965, -0.7205227740745791, -0.2209884244788965, -0.7201406209581277, -0.02057371877325681, -1.8582243694386562, 0.1733246814087179, -0.7227674162352797, 0.2981652039556083, -1.921240770994483, 0.9118896914002779, 0.6163142733027049, 0.02393141056674211, 1.186154597115317, 0.580847168673218], \"xaxis\": \"x16\", \"yaxis\": \"y16\"}],                        {\"bargap\": 0.02, \"legend\": {\"bgcolor\": \"#F5F6F9\", \"font\": {\"color\": \"#4D5663\"}}, \"paper_bgcolor\": \"#F5F6F9\", \"plot_bgcolor\": \"#F5F6F9\", \"showlegend\": false, \"template\": {\"data\": {\"bar\": [{\"error_x\": {\"color\": \"#2a3f5f\"}, \"error_y\": {\"color\": \"#2a3f5f\"}, \"marker\": {\"line\": {\"color\": \"#E5ECF6\", \"width\": 0.5}}, \"type\": \"bar\"}], \"barpolar\": [{\"marker\": {\"line\": {\"color\": \"#E5ECF6\", \"width\": 0.5}}, \"type\": \"barpolar\"}], \"carpet\": [{\"aaxis\": {\"endlinecolor\": \"#2a3f5f\", \"gridcolor\": \"white\", \"linecolor\": \"white\", \"minorgridcolor\": \"white\", \"startlinecolor\": \"#2a3f5f\"}, \"baxis\": {\"endlinecolor\": \"#2a3f5f\", \"gridcolor\": \"white\", \"linecolor\": \"white\", \"minorgridcolor\": \"white\", \"startlinecolor\": \"#2a3f5f\"}, \"type\": \"carpet\"}], \"choropleth\": [{\"colorbar\": {\"outlinewidth\": 0, \"ticks\": \"\"}, \"type\": \"choropleth\"}], \"contour\": [{\"colorbar\": {\"outlinewidth\": 0, \"ticks\": \"\"}, \"colorscale\": [[0.0, \"#0d0887\"], [0.1111111111111111, \"#46039f\"], [0.2222222222222222, \"#7201a8\"], [0.3333333333333333, \"#9c179e\"], [0.4444444444444444, \"#bd3786\"], [0.5555555555555556, \"#d8576b\"], [0.6666666666666666, \"#ed7953\"], [0.7777777777777778, \"#fb9f3a\"], [0.8888888888888888, \"#fdca26\"], [1.0, \"#f0f921\"]], \"type\": \"contour\"}], \"contourcarpet\": [{\"colorbar\": {\"outlinewidth\": 0, \"ticks\": \"\"}, \"type\": \"contourcarpet\"}], \"heatmap\": [{\"colorbar\": {\"outlinewidth\": 0, \"ticks\": \"\"}, \"colorscale\": [[0.0, \"#0d0887\"], [0.1111111111111111, \"#46039f\"], [0.2222222222222222, \"#7201a8\"], [0.3333333333333333, \"#9c179e\"], [0.4444444444444444, \"#bd3786\"], [0.5555555555555556, \"#d8576b\"], [0.6666666666666666, \"#ed7953\"], [0.7777777777777778, \"#fb9f3a\"], [0.8888888888888888, \"#fdca26\"], [1.0, \"#f0f921\"]], \"type\": \"heatmap\"}], \"heatmapgl\": [{\"colorbar\": {\"outlinewidth\": 0, \"ticks\": \"\"}, \"colorscale\": [[0.0, \"#0d0887\"], [0.1111111111111111, \"#46039f\"], [0.2222222222222222, \"#7201a8\"], [0.3333333333333333, \"#9c179e\"], [0.4444444444444444, \"#bd3786\"], [0.5555555555555556, \"#d8576b\"], [0.6666666666666666, \"#ed7953\"], [0.7777777777777778, \"#fb9f3a\"], [0.8888888888888888, \"#fdca26\"], [1.0, \"#f0f921\"]], \"type\": \"heatmapgl\"}], \"histogram\": [{\"marker\": {\"colorbar\": {\"outlinewidth\": 0, \"ticks\": \"\"}}, \"type\": \"histogram\"}], \"histogram2d\": [{\"colorbar\": {\"outlinewidth\": 0, \"ticks\": \"\"}, \"colorscale\": [[0.0, \"#0d0887\"], [0.1111111111111111, \"#46039f\"], [0.2222222222222222, \"#7201a8\"], [0.3333333333333333, \"#9c179e\"], [0.4444444444444444, \"#bd3786\"], [0.5555555555555556, \"#d8576b\"], [0.6666666666666666, \"#ed7953\"], [0.7777777777777778, \"#fb9f3a\"], [0.8888888888888888, \"#fdca26\"], [1.0, \"#f0f921\"]], \"type\": \"histogram2d\"}], \"histogram2dcontour\": [{\"colorbar\": {\"outlinewidth\": 0, \"ticks\": \"\"}, \"colorscale\": [[0.0, \"#0d0887\"], [0.1111111111111111, \"#46039f\"], [0.2222222222222222, \"#7201a8\"], [0.3333333333333333, \"#9c179e\"], [0.4444444444444444, \"#bd3786\"], [0.5555555555555556, \"#d8576b\"], [0.6666666666666666, \"#ed7953\"], [0.7777777777777778, \"#fb9f3a\"], [0.8888888888888888, \"#fdca26\"], [1.0, \"#f0f921\"]], \"type\": \"histogram2dcontour\"}], \"mesh3d\": [{\"colorbar\": {\"outlinewidth\": 0, \"ticks\": \"\"}, \"type\": \"mesh3d\"}], \"parcoords\": [{\"line\": {\"colorbar\": {\"outlinewidth\": 0, \"ticks\": \"\"}}, \"type\": \"parcoords\"}], \"pie\": [{\"automargin\": true, \"type\": \"pie\"}], \"scatter\": [{\"marker\": {\"colorbar\": {\"outlinewidth\": 0, \"ticks\": \"\"}}, \"type\": \"scatter\"}], \"scatter3d\": [{\"line\": {\"colorbar\": {\"outlinewidth\": 0, \"ticks\": \"\"}}, \"marker\": {\"colorbar\": {\"outlinewidth\": 0, \"ticks\": \"\"}}, \"type\": \"scatter3d\"}], \"scattercarpet\": [{\"marker\": {\"colorbar\": {\"outlinewidth\": 0, \"ticks\": \"\"}}, \"type\": \"scattercarpet\"}], \"scattergeo\": [{\"marker\": {\"colorbar\": {\"outlinewidth\": 0, \"ticks\": \"\"}}, \"type\": \"scattergeo\"}], \"scattergl\": [{\"marker\": {\"colorbar\": {\"outlinewidth\": 0, \"ticks\": \"\"}}, \"type\": \"scattergl\"}], \"scattermapbox\": [{\"marker\": {\"colorbar\": {\"outlinewidth\": 0, \"ticks\": \"\"}}, \"type\": \"scattermapbox\"}], \"scatterpolar\": [{\"marker\": {\"colorbar\": {\"outlinewidth\": 0, \"ticks\": \"\"}}, \"type\": \"scatterpolar\"}], \"scatterpolargl\": [{\"marker\": {\"colorbar\": {\"outlinewidth\": 0, \"ticks\": \"\"}}, \"type\": \"scatterpolargl\"}], \"scatterternary\": [{\"marker\": {\"colorbar\": {\"outlinewidth\": 0, \"ticks\": \"\"}}, \"type\": \"scatterternary\"}], \"surface\": [{\"colorbar\": {\"outlinewidth\": 0, \"ticks\": \"\"}, \"colorscale\": [[0.0, \"#0d0887\"], [0.1111111111111111, \"#46039f\"], [0.2222222222222222, \"#7201a8\"], [0.3333333333333333, \"#9c179e\"], [0.4444444444444444, \"#bd3786\"], [0.5555555555555556, \"#d8576b\"], [0.6666666666666666, \"#ed7953\"], [0.7777777777777778, \"#fb9f3a\"], [0.8888888888888888, \"#fdca26\"], [1.0, \"#f0f921\"]], \"type\": \"surface\"}], \"table\": [{\"cells\": {\"fill\": {\"color\": \"#EBF0F8\"}, \"line\": {\"color\": \"white\"}}, \"header\": {\"fill\": {\"color\": \"#C8D4E3\"}, \"line\": {\"color\": \"white\"}}, \"type\": \"table\"}]}, \"layout\": {\"annotationdefaults\": {\"arrowcolor\": \"#2a3f5f\", \"arrowhead\": 0, \"arrowwidth\": 1}, \"autotypenumbers\": \"strict\", \"coloraxis\": {\"colorbar\": {\"outlinewidth\": 0, \"ticks\": \"\"}}, \"colorscale\": {\"diverging\": [[0, \"#8e0152\"], [0.1, \"#c51b7d\"], [0.2, \"#de77ae\"], [0.3, \"#f1b6da\"], [0.4, \"#fde0ef\"], [0.5, \"#f7f7f7\"], [0.6, \"#e6f5d0\"], [0.7, \"#b8e186\"], [0.8, \"#7fbc41\"], [0.9, \"#4d9221\"], [1, \"#276419\"]], \"sequential\": [[0.0, \"#0d0887\"], [0.1111111111111111, \"#46039f\"], [0.2222222222222222, \"#7201a8\"], [0.3333333333333333, \"#9c179e\"], [0.4444444444444444, \"#bd3786\"], [0.5555555555555556, \"#d8576b\"], [0.6666666666666666, \"#ed7953\"], [0.7777777777777778, \"#fb9f3a\"], [0.8888888888888888, \"#fdca26\"], [1.0, \"#f0f921\"]], \"sequentialminus\": [[0.0, \"#0d0887\"], [0.1111111111111111, \"#46039f\"], [0.2222222222222222, \"#7201a8\"], [0.3333333333333333, \"#9c179e\"], [0.4444444444444444, \"#bd3786\"], [0.5555555555555556, \"#d8576b\"], [0.6666666666666666, \"#ed7953\"], [0.7777777777777778, \"#fb9f3a\"], [0.8888888888888888, \"#fdca26\"], [1.0, \"#f0f921\"]]}, \"colorway\": [\"#636efa\", \"#EF553B\", \"#00cc96\", \"#ab63fa\", \"#FFA15A\", \"#19d3f3\", \"#FF6692\", \"#B6E880\", \"#FF97FF\", \"#FECB52\"], \"font\": {\"color\": \"#2a3f5f\"}, \"geo\": {\"bgcolor\": \"white\", \"lakecolor\": \"white\", \"landcolor\": \"#E5ECF6\", \"showlakes\": true, \"showland\": true, \"subunitcolor\": \"white\"}, \"hoverlabel\": {\"align\": \"left\"}, \"hovermode\": \"closest\", \"mapbox\": {\"style\": \"light\"}, \"paper_bgcolor\": \"white\", \"plot_bgcolor\": \"#E5ECF6\", \"polar\": {\"angularaxis\": {\"gridcolor\": \"white\", \"linecolor\": \"white\", \"ticks\": \"\"}, \"bgcolor\": \"#E5ECF6\", \"radialaxis\": {\"gridcolor\": \"white\", \"linecolor\": \"white\", \"ticks\": \"\"}}, \"scene\": {\"xaxis\": {\"backgroundcolor\": \"#E5ECF6\", \"gridcolor\": \"white\", \"gridwidth\": 2, \"linecolor\": \"white\", \"showbackground\": true, \"ticks\": \"\", \"zerolinecolor\": \"white\"}, \"yaxis\": {\"backgroundcolor\": \"#E5ECF6\", \"gridcolor\": \"white\", \"gridwidth\": 2, \"linecolor\": \"white\", \"showbackground\": true, \"ticks\": \"\", \"zerolinecolor\": \"white\"}, \"zaxis\": {\"backgroundcolor\": \"#E5ECF6\", \"gridcolor\": \"white\", \"gridwidth\": 2, \"linecolor\": \"white\", \"showbackground\": true, \"ticks\": \"\", \"zerolinecolor\": \"white\"}}, \"shapedefaults\": {\"line\": {\"color\": \"#2a3f5f\"}}, \"ternary\": {\"aaxis\": {\"gridcolor\": \"white\", \"linecolor\": \"white\", \"ticks\": \"\"}, \"baxis\": {\"gridcolor\": \"white\", \"linecolor\": \"white\", \"ticks\": \"\"}, \"bgcolor\": \"#E5ECF6\", \"caxis\": {\"gridcolor\": \"white\", \"linecolor\": \"white\", \"ticks\": \"\"}}, \"title\": {\"x\": 0.05}, \"xaxis\": {\"automargin\": true, \"gridcolor\": \"white\", \"linecolor\": \"white\", \"ticks\": \"\", \"title\": {\"standoff\": 15}, \"zerolinecolor\": \"white\", \"zerolinewidth\": 2}, \"yaxis\": {\"automargin\": true, \"gridcolor\": \"white\", \"linecolor\": \"white\", \"ticks\": \"\", \"title\": {\"standoff\": 15}, \"zerolinecolor\": \"white\", \"zerolinewidth\": 2}}}, \"title\": {\"font\": {\"color\": \"#4D5663\"}}, \"xaxis\": {\"anchor\": \"y\", \"domain\": [0.0, 0.2125], \"gridcolor\": \"#E1E5ED\", \"showgrid\": false, \"tickfont\": {\"color\": \"#4D5663\"}, \"title\": {\"font\": {\"color\": \"#4D5663\"}, \"text\": \"\"}, \"zerolinecolor\": \"#E1E5ED\"}, \"xaxis10\": {\"anchor\": \"y10\", \"domain\": [0.2625, 0.475], \"gridcolor\": \"#E1E5ED\", \"showgrid\": false, \"tickfont\": {\"color\": \"#4D5663\"}, \"title\": {\"font\": {\"color\": \"#4D5663\"}, \"text\": \"\"}, \"zerolinecolor\": \"#E1E5ED\"}, \"xaxis11\": {\"anchor\": \"y11\", \"domain\": [0.525, 0.7375], \"gridcolor\": \"#E1E5ED\", \"showgrid\": false, \"tickfont\": {\"color\": \"#4D5663\"}, \"title\": {\"font\": {\"color\": \"#4D5663\"}, \"text\": \"\"}, \"zerolinecolor\": \"#E1E5ED\"}, \"xaxis12\": {\"anchor\": \"y12\", \"domain\": [0.7875, 1.0], \"gridcolor\": \"#E1E5ED\", \"showgrid\": false, \"tickfont\": {\"color\": \"#4D5663\"}, \"title\": {\"font\": {\"color\": \"#4D5663\"}, \"text\": \"\"}, \"zerolinecolor\": \"#E1E5ED\"}, \"xaxis13\": {\"anchor\": \"y13\", \"domain\": [0.0, 0.2125], \"gridcolor\": \"#E1E5ED\", \"showgrid\": false, \"tickfont\": {\"color\": \"#4D5663\"}, \"title\": {\"font\": {\"color\": \"#4D5663\"}, \"text\": \"\"}, \"zerolinecolor\": \"#E1E5ED\"}, \"xaxis14\": {\"anchor\": \"y14\", \"domain\": [0.2625, 0.475], \"gridcolor\": \"#E1E5ED\", \"showgrid\": false, \"tickfont\": {\"color\": \"#4D5663\"}, \"title\": {\"font\": {\"color\": \"#4D5663\"}, \"text\": \"\"}, \"zerolinecolor\": \"#E1E5ED\"}, \"xaxis15\": {\"anchor\": \"y15\", \"domain\": [0.525, 0.7375], \"gridcolor\": \"#E1E5ED\", \"showgrid\": false, \"tickfont\": {\"color\": \"#4D5663\"}, \"title\": {\"font\": {\"color\": \"#4D5663\"}, \"text\": \"\"}, \"zerolinecolor\": \"#E1E5ED\"}, \"xaxis16\": {\"anchor\": \"y16\", \"domain\": [0.7875, 1.0], \"gridcolor\": \"#E1E5ED\", \"showgrid\": false, \"tickfont\": {\"color\": \"#4D5663\"}, \"title\": {\"font\": {\"color\": \"#4D5663\"}, \"text\": \"\"}, \"zerolinecolor\": \"#E1E5ED\"}, \"xaxis2\": {\"anchor\": \"y2\", \"domain\": [0.2625, 0.475], \"gridcolor\": \"#E1E5ED\", \"showgrid\": false, \"tickfont\": {\"color\": \"#4D5663\"}, \"title\": {\"font\": {\"color\": \"#4D5663\"}, \"text\": \"\"}, \"zerolinecolor\": \"#E1E5ED\"}, \"xaxis3\": {\"anchor\": \"y3\", \"domain\": [0.525, 0.7375], \"gridcolor\": \"#E1E5ED\", \"showgrid\": false, \"tickfont\": {\"color\": \"#4D5663\"}, \"title\": {\"font\": {\"color\": \"#4D5663\"}, \"text\": \"\"}, \"zerolinecolor\": \"#E1E5ED\"}, \"xaxis4\": {\"anchor\": \"y4\", \"domain\": [0.7875, 1.0], \"gridcolor\": \"#E1E5ED\", \"showgrid\": false, \"tickfont\": {\"color\": \"#4D5663\"}, \"title\": {\"font\": {\"color\": \"#4D5663\"}, \"text\": \"\"}, \"zerolinecolor\": \"#E1E5ED\"}, \"xaxis5\": {\"anchor\": \"y5\", \"domain\": [0.0, 0.2125], \"gridcolor\": \"#E1E5ED\", \"showgrid\": false, \"tickfont\": {\"color\": \"#4D5663\"}, \"title\": {\"font\": {\"color\": \"#4D5663\"}, \"text\": \"\"}, \"zerolinecolor\": \"#E1E5ED\"}, \"xaxis6\": {\"anchor\": \"y6\", \"domain\": [0.2625, 0.475], \"gridcolor\": \"#E1E5ED\", \"showgrid\": false, \"tickfont\": {\"color\": \"#4D5663\"}, \"title\": {\"font\": {\"color\": \"#4D5663\"}, \"text\": \"\"}, \"zerolinecolor\": \"#E1E5ED\"}, \"xaxis7\": {\"anchor\": \"y7\", \"domain\": [0.525, 0.7375], \"gridcolor\": \"#E1E5ED\", \"showgrid\": false, \"tickfont\": {\"color\": \"#4D5663\"}, \"title\": {\"font\": {\"color\": \"#4D5663\"}, \"text\": \"\"}, \"zerolinecolor\": \"#E1E5ED\"}, \"xaxis8\": {\"anchor\": \"y8\", \"domain\": [0.7875, 1.0], \"gridcolor\": \"#E1E5ED\", \"showgrid\": false, \"tickfont\": {\"color\": \"#4D5663\"}, \"title\": {\"font\": {\"color\": \"#4D5663\"}, \"text\": \"\"}, \"zerolinecolor\": \"#E1E5ED\"}, \"xaxis9\": {\"anchor\": \"y9\", \"domain\": [0.0, 0.2125], \"gridcolor\": \"#E1E5ED\", \"showgrid\": false, \"tickfont\": {\"color\": \"#4D5663\"}, \"title\": {\"font\": {\"color\": \"#4D5663\"}, \"text\": \"\"}, \"zerolinecolor\": \"#E1E5ED\"}, \"yaxis\": {\"anchor\": \"x\", \"domain\": [0.8025, 1.0], \"gridcolor\": \"#E1E5ED\", \"showgrid\": false, \"tickfont\": {\"color\": \"#4D5663\"}, \"title\": {\"font\": {\"color\": \"#4D5663\"}, \"text\": \"\"}, \"zerolinecolor\": \"#E1E5ED\"}, \"yaxis10\": {\"anchor\": \"x10\", \"domain\": [0.2675, 0.465], \"gridcolor\": \"#E1E5ED\", \"showgrid\": false, \"tickfont\": {\"color\": \"#4D5663\"}, \"title\": {\"font\": {\"color\": \"#4D5663\"}, \"text\": \"\"}, \"zerolinecolor\": \"#E1E5ED\"}, \"yaxis11\": {\"anchor\": \"x11\", \"domain\": [0.2675, 0.465], \"gridcolor\": \"#E1E5ED\", \"showgrid\": false, \"tickfont\": {\"color\": \"#4D5663\"}, \"title\": {\"font\": {\"color\": \"#4D5663\"}, \"text\": \"\"}, \"zerolinecolor\": \"#E1E5ED\"}, \"yaxis12\": {\"anchor\": \"x12\", \"domain\": [0.2675, 0.465], \"gridcolor\": \"#E1E5ED\", \"showgrid\": false, \"tickfont\": {\"color\": \"#4D5663\"}, \"title\": {\"font\": {\"color\": \"#4D5663\"}, \"text\": \"\"}, \"zerolinecolor\": \"#E1E5ED\"}, \"yaxis13\": {\"anchor\": \"x13\", \"domain\": [0.0, 0.1975], \"gridcolor\": \"#E1E5ED\", \"showgrid\": false, \"tickfont\": {\"color\": \"#4D5663\"}, \"title\": {\"font\": {\"color\": \"#4D5663\"}, \"text\": \"\"}, \"zerolinecolor\": \"#E1E5ED\"}, \"yaxis14\": {\"anchor\": \"x14\", \"domain\": [0.0, 0.1975], \"gridcolor\": \"#E1E5ED\", \"showgrid\": false, \"tickfont\": {\"color\": \"#4D5663\"}, \"title\": {\"font\": {\"color\": \"#4D5663\"}, \"text\": \"\"}, \"zerolinecolor\": \"#E1E5ED\"}, \"yaxis15\": {\"anchor\": \"x15\", \"domain\": [0.0, 0.1975], \"gridcolor\": \"#E1E5ED\", \"showgrid\": false, \"tickfont\": {\"color\": \"#4D5663\"}, \"title\": {\"font\": {\"color\": \"#4D5663\"}, \"text\": \"\"}, \"zerolinecolor\": \"#E1E5ED\"}, \"yaxis16\": {\"anchor\": \"x16\", \"domain\": [0.0, 0.1975], \"gridcolor\": \"#E1E5ED\", \"showgrid\": false, \"tickfont\": {\"color\": \"#4D5663\"}, \"title\": {\"font\": {\"color\": \"#4D5663\"}, \"text\": \"\"}, \"zerolinecolor\": \"#E1E5ED\"}, \"yaxis2\": {\"anchor\": \"x2\", \"domain\": [0.8025, 1.0], \"gridcolor\": \"#E1E5ED\", \"showgrid\": false, \"tickfont\": {\"color\": \"#4D5663\"}, \"title\": {\"font\": {\"color\": \"#4D5663\"}, \"text\": \"\"}, \"zerolinecolor\": \"#E1E5ED\"}, \"yaxis3\": {\"anchor\": \"x3\", \"domain\": [0.8025, 1.0], \"gridcolor\": \"#E1E5ED\", \"showgrid\": false, \"tickfont\": {\"color\": \"#4D5663\"}, \"title\": {\"font\": {\"color\": \"#4D5663\"}, \"text\": \"\"}, \"zerolinecolor\": \"#E1E5ED\"}, \"yaxis4\": {\"anchor\": \"x4\", \"domain\": [0.8025, 1.0], \"gridcolor\": \"#E1E5ED\", \"showgrid\": false, \"tickfont\": {\"color\": \"#4D5663\"}, \"title\": {\"font\": {\"color\": \"#4D5663\"}, \"text\": \"\"}, \"zerolinecolor\": \"#E1E5ED\"}, \"yaxis5\": {\"anchor\": \"x5\", \"domain\": [0.535, 0.7325], \"gridcolor\": \"#E1E5ED\", \"showgrid\": false, \"tickfont\": {\"color\": \"#4D5663\"}, \"title\": {\"font\": {\"color\": \"#4D5663\"}, \"text\": \"\"}, \"zerolinecolor\": \"#E1E5ED\"}, \"yaxis6\": {\"anchor\": \"x6\", \"domain\": [0.535, 0.7325], \"gridcolor\": \"#E1E5ED\", \"showgrid\": false, \"tickfont\": {\"color\": \"#4D5663\"}, \"title\": {\"font\": {\"color\": \"#4D5663\"}, \"text\": \"\"}, \"zerolinecolor\": \"#E1E5ED\"}, \"yaxis7\": {\"anchor\": \"x7\", \"domain\": [0.535, 0.7325], \"gridcolor\": \"#E1E5ED\", \"showgrid\": false, \"tickfont\": {\"color\": \"#4D5663\"}, \"title\": {\"font\": {\"color\": \"#4D5663\"}, \"text\": \"\"}, \"zerolinecolor\": \"#E1E5ED\"}, \"yaxis8\": {\"anchor\": \"x8\", \"domain\": [0.535, 0.7325], \"gridcolor\": \"#E1E5ED\", \"showgrid\": false, \"tickfont\": {\"color\": \"#4D5663\"}, \"title\": {\"font\": {\"color\": \"#4D5663\"}, \"text\": \"\"}, \"zerolinecolor\": \"#E1E5ED\"}, \"yaxis9\": {\"anchor\": \"x9\", \"domain\": [0.2675, 0.465], \"gridcolor\": \"#E1E5ED\", \"showgrid\": false, \"tickfont\": {\"color\": \"#4D5663\"}, \"title\": {\"font\": {\"color\": \"#4D5663\"}, \"text\": \"\"}, \"zerolinecolor\": \"#E1E5ED\"}},                        {\"showLink\": true, \"linkText\": \"Export to plot.ly\", \"plotlyServerURL\": \"https://plot.ly\", \"responsive\": true}                    ).then(function(){\n",
       "                            \n",
       "var gd = document.getElementById('810f890c-82d2-4407-a41d-c3b57b7adab5');\n",
       "var x = new MutationObserver(function (mutations, observer) {{\n",
       "        var display = window.getComputedStyle(gd).display;\n",
       "        if (!display || display === 'none') {{\n",
       "            console.log([gd, 'removed!']);\n",
       "            Plotly.purge(gd);\n",
       "            observer.disconnect();\n",
       "        }}\n",
       "}});\n",
       "\n",
       "// Listen for the removal of the full notebook cells\n",
       "var notebookContainer = gd.closest('#notebook-container');\n",
       "if (notebookContainer) {{\n",
       "    x.observe(notebookContainer, {childList: true});\n",
       "}}\n",
       "\n",
       "// Listen for the clearing of the current output cell\n",
       "var outputEl = gd.closest('.output');\n",
       "if (outputEl) {{\n",
       "    x.observe(outputEl, {childList: true});\n",
       "}}\n",
       "\n",
       "                        })                };                });            </script>        </div>"
      ]
     },
     "metadata": {},
     "output_type": "display_data"
    }
   ],
   "source": [
    "## Similar ao 'pairplot()' do Seaborn.\n",
    "df.scatter_matrix()"
   ]
  }
 ],
 "metadata": {
  "kernelspec": {
   "display_name": "Python 3",
   "language": "python",
   "name": "python3"
  },
  "language_info": {
   "codemirror_mode": {
    "name": "ipython",
    "version": 3
   },
   "file_extension": ".py",
   "mimetype": "text/x-python",
   "name": "python",
   "nbconvert_exporter": "python",
   "pygments_lexer": "ipython3",
   "version": "3.7.6"
  }
 },
 "nbformat": 4,
 "nbformat_minor": 4
}
